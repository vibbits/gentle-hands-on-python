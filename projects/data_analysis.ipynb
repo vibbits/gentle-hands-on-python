{
 "cells": [
  {
   "cell_type": "markdown",
   "id": "0f4a337b",
   "metadata": {},
   "source": [
    "# Course Project: Data Analysis\n",
    "\n",
    "In this project you will perform data analysis on a sample containing data from 100000 people. Data analysis often involves grouping, aggregating, and computing descriptive statistics on sub-sets of your data. In this project you will answer the question: what variables are most important in predicting the prevalence of diabetes in your sample? Does this change based on gender or age-group? The data used in this project comes from [here](https://www.kaggle.com/datasets/priyamchoksi/100000-diabetes-clinical-dataset).\n",
    "\n",
    "During this project you will apply all that you have learned during the course. You can already start making useful progress after the first few lessons. During the course you will have opportunity to work on the project.\n",
    "\n",
    "---\n",
    "\n",
    "## Software prerequisites\n",
    "\n",
    "This project involves plotting so you will need to install a plotting library.\n",
    " * [Matplotlib](https://matplotlib.org/) A general purpose visualisation library for Python\n",
    "\n",
    "Please ask your instructors for help installing this with the `pip` command.\n",
    "\n",
    "---"
   ]
  },
  {
   "cell_type": "markdown",
   "id": "acc58016",
   "metadata": {},
   "source": [
    "## Part 1: The understanding the data\n",
    "\n",
    "The dataset you will analyse is a table containing 100000 rows (each row is data measured from one person at a single time-point) and 6 columns (variables for each person in your sample). Those columns are:\n",
    "\n",
    "* `gender`: Either \"Other\",\"Female\", or \"Male\".\n",
    "* `age`: The age of the person in years.\n",
    "* `bmi`: Body Mass Index, a measure of body fat based on height and weight (kg/m²)\n",
    "* `hbA1c_level`: Hemoglobin A1c level, a measure of blood sugar control over the past 2-3 months (%)\n",
    "* `blood_glucose_level`: Fasting blood glucose level (mg/dL)\n",
    "* `diabetes`: Whether the individual has been diagnosed with diabetes (0 = No, 1 = Yes)\n",
    "\n",
    "Let's start by just looking at the data. In the following code cell, read all of the text from the file and inspect the first 2 lines."
   ]
  },
  {
   "cell_type": "code",
   "execution_count": null,
   "id": "c4a77370",
   "metadata": {},
   "outputs": [
    {
     "data": {
      "text/plain": [
       "['gender,age,bmi,hbA1c_level,blood_glucose_level,diabetes',\n",
       " 'Female,32,27.32,5,100,0']"
      ]
     },
     "execution_count": 2,
     "metadata": {},
     "output_type": "execute_result"
    }
   ],
   "source": [
    "from pathlib import Path\n",
    "data = Path(\"diabetes/diabetes_dataset.csv\").read_text().splitlines()\n",
    "data[:2]"
   ]
  },
  {
   "cell_type": "markdown",
   "id": "9c4a8e1c",
   "metadata": {},
   "source": [
    "You should see a list containing 2 strings. Before you can dive into your data analysis you will need to write some functions to prepare the data for analysis. Your first task is to write a function to convert the strings \"0\" and \"1\" into boolean values and return `None` when the function argument is not \"0\" or \"1\"."
   ]
  },
  {
   "cell_type": "code",
   "execution_count": 5,
   "id": "df94eb75",
   "metadata": {},
   "outputs": [],
   "source": [
    "def str_to_bool(string: str) -> bool | None:\n",
    "    if string == \"0\":\n",
    "        return False\n",
    "    elif string == \"1\":\n",
    "        return True\n",
    "    else:\n",
    "        return None\n",
    "        \n",
    "assert str_to_bool(\"0\") == False\n",
    "assert str_to_bool(\"1\") == True\n",
    "assert str_to_bool(\"2\") == None\n",
    "assert str_to_bool(\"a\") == None\n",
    "assert str_to_bool(\"\") == None"
   ]
  },
  {
   "cell_type": "markdown",
   "id": "217871ff",
   "metadata": {},
   "source": [
    "Next you will need a function that can recognise an individual character, (e.g. `'7'` or `'a'`) as a digit or not. Write a function called, `is_character_a_digit` that accepts a string and returns `True` only if the string only contains a single character and that character is a decimal digit."
   ]
  },
  {
   "cell_type": "code",
   "execution_count": 1,
   "id": "af80ad4a",
   "metadata": {},
   "outputs": [],
   "source": [
    "def is_character_a_digit(char: str) -> bool:\n",
    "    \"\"\"Check that the input string contains a single digit.\"\"\"\n",
    "    return char.isdigit()\n",
    "\n",
    "assert is_character_a_digit(\"0\") == True\n",
    "assert is_character_a_digit(\"1\") == True\n",
    "assert is_character_a_digit(\"2\") == True\n",
    "assert is_character_a_digit(\"a\") == False\n",
    "assert is_character_a_digit(\"\") == False"
   ]
  },
  {
   "cell_type": "markdown",
   "id": "b5c5f952",
   "metadata": {},
   "source": [
    "Some the the values in each row is text (e.g. \"Female\"), others are numbers. Next, write a function to check if your input string can be safely converted into a number. If it cannot be converted into a number return `False`, otherwise return `True`."
   ]
  },
  {
   "cell_type": "code",
   "execution_count": 2,
   "id": "8709302c",
   "metadata": {},
   "outputs": [],
   "source": [
    "def is_str_a_number(string: str) -> bool:\n",
    "    data = string.strip()\n",
    "    if len(data) == 0:\n",
    "        return False\n",
    "    count_dot = 0\n",
    "    for char in range(len(data)):\n",
    "        if data[char] == \"-\":\n",
    "            if char > 0:\n",
    "                return False\n",
    "        elif data[char] == \".\":\n",
    "            count_dot += 1\n",
    "            if count_dot > 1:\n",
    "                return False\n",
    "        elif not is_character_a_digit(data[char]):\n",
    "            return False\n",
    "    return True\n",
    "\n",
    "assert is_str_a_number(\"0\") == True\n",
    "assert is_str_a_number(\"1\") == True\n",
    "assert is_str_a_number(\"2\") == True\n",
    "assert is_str_a_number(\"a\") == False\n",
    "assert is_str_a_number(\"\") == False\n",
    "assert is_str_a_number(\"1.0\") == True\n",
    "assert is_str_a_number(\"-1.0\") == True\n",
    "assert is_str_a_number(\"1-1\") == False\n",
    "assert is_str_a_number(\"1.1.1\") == False\n",
    "assert is_str_a_number(\"-1.1\") == True\n",
    "assert is_str_a_number(\"1.\") == True\n",
    "assert is_str_a_number(\".1\") == True\n",
    "assert is_str_a_number(\" \") == False"
   ]
  },
  {
   "cell_type": "markdown",
   "id": "7c6d4fee",
   "metadata": {},
   "source": [
    "### Reading and validating rows of data\n",
    "\n",
    "When you read rows from the table of data, each row will be represented as a dictionary. The keys will be `\"gender\", \"age\", \"bmi\"` etc. Unfortunately the values will also be strings. So your next task will be to use the `str_to_bool` and `is_str_a_number` functions you wrote above to clean up the row dictionaries."
   ]
  },
  {
   "cell_type": "code",
   "execution_count": 7,
   "id": "43af597b",
   "metadata": {},
   "outputs": [],
   "source": [
    "# Write a function to clean up a dictionary of demographic data\n",
    "def clean_row(datum: dict[str, str]) -> dict[str, str | float | bool] | None:\n",
    "    result = {}\n",
    "    for key in datum:\n",
    "        value = datum[key]\n",
    "        if str_to_bool(value) is not None:\n",
    "            result[key] = str_to_bool(value)\n",
    "        elif is_str_a_number(value):\n",
    "            result[key] = float(value)\n",
    "        else:\n",
    "            result[key] = value\n",
    "    return result"
   ]
  },
  {
   "cell_type": "markdown",
   "id": "ab169d52",
   "metadata": {},
   "source": [
    "In order to correctly extract the sample data from the file you will use Python's built-in `csv` library."
   ]
  },
  {
   "cell_type": "code",
   "execution_count": null,
   "id": "f8b111af",
   "metadata": {},
   "outputs": [
    {
     "data": {
      "text/plain": [
       "[{'gender': 'Female',\n",
       "  'age': 32.0,\n",
       "  'bmi': 27.32,\n",
       "  'hbA1c_level': 5.0,\n",
       "  'blood_glucose_level': 100.0,\n",
       "  'diabetes': False},\n",
       " {'gender': 'Female',\n",
       "  'age': 29.0,\n",
       "  'bmi': 19.95,\n",
       "  'hbA1c_level': 5.0,\n",
       "  'blood_glucose_level': 90.0,\n",
       "  'diabetes': False}]"
      ]
     },
     "execution_count": 14,
     "metadata": {},
     "output_type": "execute_result"
    }
   ],
   "source": [
    "import csv\n",
    "\n",
    "with Path(\"diabetes/diabetes_dataset.csv\").open() as resource:\n",
    "    reader = csv.DictReader(resource)\n",
    "    data = []\n",
    "    for row in reader:\n",
    "        data.append(clean_row(row))\n",
    "\n",
    "data[:2]"
   ]
  },
  {
   "cell_type": "markdown",
   "id": "5def5830",
   "metadata": {},
   "source": [
    "## Part 2: Analysing the data\n",
    "\n",
    "Now that you have processed the data into a useful Python data structure (of type `list[dict[str, str | float | bool]]`), you can begin analysing the data. Let's start by writing some useful filtering and statistics functions. Assuming the data is normally distributed, here are the equations for sample mean and variance, write functions implementing these equations:\n",
    "\n",
    "$$\\overline{\\mathbf{x}} = \\mu = \\frac{1}{n} \\sum_i^n x_i$$\n",
    "\n",
    "$$\\mathrm{Var}(\\mathbf{x}) = \\frac{1}{n} \\sum_i^n (x_i - \\mu)^2$$"
   ]
  },
  {
   "cell_type": "code",
   "execution_count": 8,
   "id": "5a9a2af4",
   "metadata": {},
   "outputs": [],
   "source": [
    "def mean(data: list[float]) -> float:\n",
    "    return sum(data) / len(data)"
   ]
  },
  {
   "cell_type": "code",
   "execution_count": 9,
   "id": "5f6def2e",
   "metadata": {},
   "outputs": [],
   "source": [
    "def variance(data: list[float]) -> float:\n",
    "    mean_value = mean(data)\n",
    "    summed = 0\n",
    "    for datum in data:\n",
    "        summed += (datum - mean_value) ** 2\n",
    "    return summed / len(data)"
   ]
  },
  {
   "cell_type": "markdown",
   "id": "c2d9d158",
   "metadata": {},
   "source": [
    "In order to understand how (a subset of) the data is dictributed it is useful to be able to describe the range of values in a column. Write a function called `describe` that accepts (a subset of) the dataset as a parameter and computes the mean and variance of each numeric column and all possible unique values in each text column. For example, if the input is:\n",
    "\n",
    "```python\n",
    "[{\"gender\": \"Male\", \"age\": 25.0, \"diabetes\": True},{\"gender\": \"Female\", \"age\": 30.0, \"diabetes\": False}]\n",
    "```\n",
    "\n",
    "Your function should print:\n",
    "\n",
    "```python\n",
    "variables: \"gender\", \"age\", \"diabetes\"\n",
    "values: [\"Male\", \"Female\"], [25.0, 30.0], [False, True]\n",
    "mean: N/A, 27.5, 0.5\n",
    "variance: N/A, 6.25, 0.25\n",
    "```\n",
    "\n",
    "Notice that the variables that only contain text values display the text \"N/A\" (short for \"Not Applicable\") for mean and variance. Variables that have numeric values display [minimum, maximum] in the \"values\" row. Boolean values can be treated as numeric for the purposes of \"mean\" and \"variance\" since `False == 0` and `True == 1`."
   ]
  },
  {
   "cell_type": "code",
   "execution_count": 12,
   "id": "2cb6f6f3",
   "metadata": {},
   "outputs": [],
   "source": [
    "import math\n",
    "\n",
    "def describe(data: list[dict[str, str | float | bool]]) -> None:\n",
    "    print(\"variables:\", \", \".join(list(data[0].keys())))\n",
    "    # Now print the range of values\n",
    "    all_values = []\n",
    "    for variable in data[0].keys():\n",
    "        values = []\n",
    "        for datum in data:\n",
    "            if type(datum[variable]) in [bool, float]:\n",
    "                if len(values) == 0:\n",
    "                    values = [datum[variable], datum[variable]]\n",
    "                elif datum[variable] < values[0]:\n",
    "                    values[0] = datum[variable]\n",
    "                elif datum[variable] > values[1]:\n",
    "                    values[1] = datum[variable]\n",
    "            elif datum[variable] not in values:\n",
    "                values.append(datum[variable])\n",
    "\n",
    "        all_values.append(str(values))\n",
    "    print(\"values:\", \", \".join(all_values))\n",
    "    \n",
    "    # Now print the mean for each variable\n",
    "    means = []\n",
    "    for variable in data[0].keys():\n",
    "        values = []\n",
    "        for datum in data:\n",
    "            if type(datum[variable]) in [bool, float]:\n",
    "                values.append(datum[variable])\n",
    "        if len(values) > 0:\n",
    "            means.append(str(mean(values)))\n",
    "        else:\n",
    "            means.append(\"N/A\")\n",
    "    print(\"means:\", \", \".join(means))\n",
    "\n",
    "    # Now print the variance for each variable\n",
    "    variances = []\n",
    "    for variable in data[0].keys():\n",
    "        values = []\n",
    "        for datum in data:\n",
    "            if type(datum[variable]) in [bool, float]:\n",
    "                values.append(datum[variable])\n",
    "        if len(values) > 0:\n",
    "            variances.append(str(variance(values)))\n",
    "        else:\n",
    "            variances.append(\"N/A\")\n",
    "    print(\"variances:\", \", \".join(variances))"
   ]
  },
  {
   "cell_type": "code",
   "execution_count": 13,
   "id": "ec80e0df",
   "metadata": {},
   "outputs": [
    {
     "name": "stdout",
     "output_type": "stream",
     "text": [
      "variables: gender, age, diabetes\n",
      "values: ['Male', 'Female'], [25.0, 30.0], [False, True]\n",
      "means: N/A, 27.5, 0.5\n",
      "variances: N/A, 6.25, 0.25\n"
     ]
    }
   ],
   "source": [
    "describe([{\"gender\": \"Male\", \"age\": 25.0, \"diabetes\": True},{\"gender\": \"Female\", \"age\": 30.0, \"diabetes\": False}])"
   ]
  },
  {
   "cell_type": "markdown",
   "id": "32372988",
   "metadata": {},
   "source": [
    "Let's use this on the real sample data now:"
   ]
  },
  {
   "cell_type": "code",
   "execution_count": 15,
   "id": "0b9138d9",
   "metadata": {},
   "outputs": [
    {
     "name": "stdout",
     "output_type": "stream",
     "text": [
      "variables: gender, age, bmi, hbA1c_level, blood_glucose_level, diabetes\n",
      "values: ['Female', 'Male', 'Other'], [0.08, 80.0], [10.01, 95.69], [3.5, 9.0], [80.0, 300.0], [False, True]\n",
      "means: N/A, 41.885856000000004, 27.3207671, 5.527507, 138.05806, 0.085\n",
      "variances: N/A, 507.00300772317325, 44.04645365057337, 1.1463272649502552, 1657.1357690361572, 0.07777500000010536\n"
     ]
    }
   ],
   "source": [
    "describe(data)"
   ]
  },
  {
   "cell_type": "markdown",
   "id": "0f9c98b9",
   "metadata": {},
   "source": [
    "What does this tell you about the number of people with and without diabetes in this dataset?\n",
    "\n",
    "Before being able to fully explore the dataset you will need one more tool. Visualisation is another useful tool to explore data, so let's make some plots. Using the `matplotlib` library, you can make box and whisker plots. Here is an example:"
   ]
  },
  {
   "cell_type": "code",
   "execution_count": 24,
   "id": "6e8400d7",
   "metadata": {},
   "outputs": [
    {
     "data": {
      "image/png": "[encoded data removed]",
      "text/plain": [
       "<Figure size 640x480 with 1 Axes>"
      ]
     },
     "metadata": {},
     "output_type": "display_data"
    }
   ],
   "source": [
    "import matplotlib.pyplot as plt\n",
    "\n",
    "def filter_gender(datum: list[dict[str, str | bool | float]], gender: str) -> list[dict[str, str | float | bool]]:\n",
    "    filtered = []\n",
    "    for datum in data:\n",
    "        if datum[\"gender\"] == gender:\n",
    "            filtered.append(datum)\n",
    "    return filtered\n",
    "\n",
    "def extract_variable(data: list[dict[str, str | float | bool]], variable: str) -> list[float | str | bool]:\n",
    "    values = []\n",
    "    for datum in data:\n",
    "        values.append(datum[variable])\n",
    "    return values\n",
    "\n",
    "data_to_plot = {\n",
    "    \"Male\": extract_variable(filter_gender(data, \"Male\"), \"age\"),\n",
    "    \"Female\": extract_variable(filter_gender(data, \"Female\"), \"age\"),\n",
    "    \"Other\": extract_variable(filter_gender(data, \"Other\"), \"age\"),\n",
    "}\n",
    "\n",
    "_ = plt.boxplot(list(data_to_plot.values()), tick_labels=list(data_to_plot.keys()))"
   ]
  },
  {
   "cell_type": "markdown",
   "id": "d2e3f192",
   "metadata": {},
   "source": [
    "Now you should use these tools to explore the sampled data. Here are some questions you could try to answer to start you off:\n",
    "\n",
    "* What is the average age of the entire sample? Females? Males?\n",
    "* What is the average age of all people with diabetes? Females only? Males only?\n",
    "* What is the distribution of blood glucose level between those with and without diabetes?"
   ]
  },
  {
   "cell_type": "code",
   "execution_count": null,
   "id": "db2585f0",
   "metadata": {},
   "outputs": [],
   "source": []
  },
  {
   "cell_type": "markdown",
   "id": "264d4105",
   "metadata": {},
   "source": [
    "## Part 3: What predicts a diabetes diagnosis?\n",
    "\n",
    "Finally! Now that you have a good understanding of your data you can try to correlate the variables. One way of computing (linear) correlation between variables is the [Pearson Correlation Coefficient](https://en.wikipedia.org/wiki/Pearson_correlation_coefficient) ($r$).\n",
    "\n",
    "$$r_{xy} = \\frac{\\sum_i^n (x_i - \\overline{x})(y_i - \\overline{y})}{\\sqrt{\\sum_i^n (x_i - \\overline{x})^2} \\sqrt{\\sum_i^n (y_i - \\overline{y})^2}}$$\n",
    "\n",
    "Write a function to compute the correlation coefficient ($r$) for a pair of variables ($x$ and $y$ in the above equation)."
   ]
  },
  {
   "cell_type": "code",
   "execution_count": 26,
   "id": "1864c725",
   "metadata": {},
   "outputs": [],
   "source": [
    "import math\n",
    "\n",
    "def pearson_correlation(x: list[float], y: list[float]) -> float:\n",
    "    x_mean = mean(x)\n",
    "    y_mean = mean(y)\n",
    "    numerator = 0\n",
    "    denominator_x = 0\n",
    "    denominator_y = 0\n",
    "    for i in range(len(x)):\n",
    "        numerator += (x[i] - x_mean) * (y[i] - y_mean)\n",
    "        denominator_x += (x[i] - x_mean) ** 2\n",
    "        denominator_y += (y[i] - y_mean) ** 2\n",
    "    return numerator / math.sqrt(denominator_x * denominator_y)\n"
   ]
  },
  {
   "cell_type": "markdown",
   "id": "e71867dd",
   "metadata": {},
   "source": [
    "Now you can compute the linear correlation between the pairs of variables you consider important based on your explorations in part 2. Once you do this, plot a heatmap of the correlation coefficients. What variable(s) best predict a diabetes diagnosis?"
   ]
  },
  {
   "cell_type": "code",
   "execution_count": 35,
   "id": "e3bdcafa",
   "metadata": {},
   "outputs": [
    {
     "data": {
      "image/png": "[encoded data removed]",
      "text/plain": [
       "<Figure size 640x480 with 2 Axes>"
      ]
     },
     "metadata": {},
     "output_type": "display_data"
    }
   ],
   "source": [
    "correlation_matrix = []\n",
    "interesting_variables = [\"age\", \"bmi\", \"hbA1c_level\", \"blood_glucose_level\", \"diabetes\"]\n",
    "for i in range(len(interesting_variables)):\n",
    "    i_data = extract_variable(data, interesting_variables[i])\n",
    "    row = []\n",
    "    for j in range(len(interesting_variables)):\n",
    "        j_data = extract_variable(data, interesting_variables[j])\n",
    "        row.append(pearson_correlation(i_data, j_data))\n",
    "    correlation_matrix.append(row)\n",
    "\n",
    "plt.imshow(correlation_matrix, cmap=\"cool\", interpolation=\"none\")\n",
    "plt.xticks(range(len(interesting_variables)), labels=interesting_variables,\n",
    "              rotation=45, ha=\"right\", rotation_mode=\"anchor\")\n",
    "plt.yticks(range(len(interesting_variables)), labels=interesting_variables)\n",
    "_ = plt.colorbar()\n",
    "for i in range(len(interesting_variables)):\n",
    "    for j in range(len(interesting_variables)):\n",
    "        text = plt.text(j, i, round(correlation_matrix[i][j], 2),\n",
    "                       ha=\"center\", va=\"center\", color=\"w\")\n",
    "\n",
    "plt.show()"
   ]
  }
 ],
 "metadata": {
  "kernelspec": {
   "display_name": "ghop-542gSJRW-py3.13",
   "language": "python",
   "name": "python3"
  },
  "language_info": {
   "codemirror_mode": {
    "name": "ipython",
    "version": 3
   },
   "file_extension": ".py",
   "mimetype": "text/x-python",
   "name": "python",
   "nbconvert_exporter": "python",
   "pygments_lexer": "ipython3",
   "version": "3.13.2"
  }
 },
 "nbformat": 4,
 "nbformat_minor": 5
}
