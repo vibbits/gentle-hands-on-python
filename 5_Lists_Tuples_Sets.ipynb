{
 "cells": [
  {
   "cell_type": "markdown",
   "metadata": {},
   "source": [
    "## 5. Lists, Tuples & Sets\n",
    "\n",
    "> _\"Simple is better than complex.\"_\n",
    "\n",
    "### 5.1 Introduction\n",
    "\n",
    "So far we've seen variables where you essentially assign a value to a name that you can use in the program. It is also possible to assign a _collection_ of values to a name. In Python *lists* and *tuples* are examples of such collections.\n",
    "The _order_ of values in a `list()` or `tuple()` is well defined.\n",
    "Python also has *sets*, which are also collections of multiple values, but are _unordered_.\n",
    "\n",
    "| Python Collection | Representation | Ordered? | Mutable? | Duplicate members? |\n",
    "|:------------|:---------------|:--------:|:--------:|:------------------:|\n",
    "| `List` | `[]` | ✔ | ✔ | ✔ |\n",
    "| `Tuple` | `()` | ✔ | ❌ | ✔ |\n",
    "| `Set` | `{}` | ❌ | ✔ | ❌ |\n",
    "\n",
    "Each collection is useful in different circumstances, at the end of this chapter you will have an understanding of where and when each should be used.\n"
   ]
  },
  {
   "cell_type": "markdown",
   "metadata": {},
   "source": [
    "### 5.2 Lists and range\n",
    "\n",
    "You can make your own Python list from scratch:"
   ]
  },
  {
   "cell_type": "code",
   "execution_count": null,
   "metadata": {},
   "outputs": [],
   "source": [
    "myList = [5,3,56,13,33]\n",
    "myList"
   ]
  },
  {
   "cell_type": "markdown",
   "metadata": {},
   "source": [
    "You can also use the `range()` function. Try this:\n"
   ]
  },
  {
   "cell_type": "code",
   "execution_count": null,
   "metadata": {},
   "outputs": [],
   "source": [
    "range(10)"
   ]
  },
  {
   "cell_type": "code",
   "execution_count": null,
   "metadata": {},
   "outputs": [],
   "source": [
    "myList = list(range(10))\n",
    "myList"
   ]
  },
  {
   "cell_type": "markdown",
   "metadata": {},
   "source": [
    "You should get the following output: `[0, 1, 2, 3, 4, 5, 6, 7, 8, 9]`.\n",
    "\n",
    "This is a _list of integers_ - you can recognize a list by the square `[ ]` brackets. The `range()` function above will give you a series of integers starting from 0 and stopping at the number you defined (`10` in this case), however with\n",
    "this number **not** included in the list. Hence, it stops at 9.\n",
    "\n",
    "**Note:** Python always starts counting from 0 (meaning, the beginnering of the list `+ 0` elements.\n",
    "\n",
    "You can start from a different number as well:"
   ]
  },
  {
   "cell_type": "code",
   "execution_count": null,
   "metadata": {},
   "outputs": [],
   "source": [
    "myList = list(range(3,12))\n",
    "myList"
   ]
  },
  {
   "cell_type": "markdown",
   "metadata": {},
   "source": [
    "or increase the step size (the default is step size is `1`):\n",
    "\n"
   ]
  },
  {
   "cell_type": "code",
   "execution_count": null,
   "metadata": {},
   "outputs": [],
   "source": [
    "myList = list(range(1,12,2))\n",
    "myList"
   ]
  },
  {
   "cell_type": "markdown",
   "metadata": {},
   "source": [
    "An important feature of lists is that they are flexible - you can add and remove values, change the order, ... .\n",
    "You can do such modifications by calling a *method* on the list itself. Some examples of methods are:\n",
    "- Add elements\n",
    "    - `append()` to append an item to the end of the list\n",
    "    - `insert()` to add an item at the specified index\n",
    "    - `extend()` to extend an item\n",
    "- Delete elements\n",
    "    - `remove()` to remove the specified item\n",
    "    - `pop()` to remove the specified index (or the last item if index is not specified)\n",
    "    - `del` keyword removes the specified index\n",
    "    - `clear()` method empties the list\n",
    "- Sorting:\n",
    "    - `sort()` will sort the list in an ordered way\n",
    "    - `reverse()` will reverse the order of the list\n",
    "- Copy of a list with the `copy()` method\n"
   ]
  },
  {
   "cell_type": "markdown",
   "metadata": {},
   "source": [
    "In the cells below we will use a couple of these methods as an example. "
   ]
  },
  {
   "cell_type": "code",
   "execution_count": null,
   "metadata": {},
   "outputs": [],
   "source": [
    "myList = []             # Create an empty list\n",
    "myList.append(5)        # Add a single value to the back of the list\n",
    "myList"
   ]
  },
  {
   "cell_type": "code",
   "execution_count": null,
   "metadata": {},
   "outputs": [],
   "source": [
    "myList.insert(0,9)      # Insert a value in the list at index (element position) 0\n",
    "myList"
   ]
  },
  {
   "cell_type": "code",
   "execution_count": null,
   "metadata": {},
   "outputs": [],
   "source": [
    "myList.extend([99,3,5]) # Extend the list with another list\n",
    "myList"
   ]
  },
  {
   "cell_type": "code",
   "execution_count": null,
   "metadata": {},
   "outputs": [],
   "source": [
    "myList[0]               # Return the first element in the list (counting starts at zero) "
   ]
  },
  {
   "cell_type": "code",
   "execution_count": null,
   "metadata": {},
   "outputs": [],
   "source": [
    "myList[2]               # Return the third element in the list"
   ]
  },
  {
   "cell_type": "code",
   "execution_count": null,
   "metadata": {},
   "outputs": [],
   "source": [
    "myRemovedElement = myList.pop(3)  # Remove the fourth element in the list and return it\n",
    "print(f\"I removed {myRemovedElement}\")\n",
    "myList"
   ]
  },
  {
   "cell_type": "code",
   "execution_count": null,
   "metadata": {},
   "outputs": [],
   "source": [
    "myList.sort()           # You can sort the elements in a list - this will change their order\n",
    "myList"
   ]
  },
  {
   "cell_type": "code",
   "execution_count": null,
   "metadata": {},
   "outputs": [],
   "source": [
    "myList.reverse()        # Or reverse the order of the list\n",
    "myList"
   ]
  },
  {
   "cell_type": "markdown",
   "metadata": {},
   "source": [
    "You can also _slice_ a list - this will give you a new list:"
   ]
  },
  {
   "cell_type": "code",
   "execution_count": null,
   "metadata": {},
   "outputs": [],
   "source": [
    "myList = list(range(15))\n",
    " \n",
    "myListSlice = myList[3:6]\n",
    "myListSlice"
   ]
  },
  {
   "cell_type": "code",
   "execution_count": null,
   "metadata": {},
   "outputs": [],
   "source": [
    "# Make a copy of the list as we're slicing all elements of the list.\n",
    "myListCopy = myList[:]\n",
    "myListCopy"
   ]
  },
  {
   "cell_type": "code",
   "execution_count": null,
   "metadata": {},
   "outputs": [],
   "source": [
    "# Another way of making a copy of a list:\n",
    "myListCopy = myList.copy()"
   ]
  },
  {
   "cell_type": "code",
   "execution_count": null,
   "metadata": {},
   "outputs": [],
   "source": [
    "# This will select the four last elements of the list\n",
    "print(myList[-4:])     "
   ]
  },
  {
   "cell_type": "markdown",
   "metadata": {},
   "source": [
    "There are two other methods you can use on lists:\n",
    "- `index()` returns the index of the first element with the specified value\n",
    "- `count()` returns the number of elements with the specified value"
   ]
  },
  {
   "cell_type": "code",
   "execution_count": null,
   "metadata": {},
   "outputs": [],
   "source": [
    "myList = list(range(1,15))\n",
    "myList"
   ]
  },
  {
   "cell_type": "code",
   "execution_count": null,
   "metadata": {},
   "outputs": [],
   "source": [
    "myList.count(10)   # Will count the amount of times the value 10 occurs in this list"
   ]
  },
  {
   "cell_type": "code",
   "execution_count": null,
   "metadata": {},
   "outputs": [],
   "source": [
    "myList.count(\"A\")  # This always works, and will return 0 if nothing is found"
   ]
  },
  {
   "cell_type": "code",
   "execution_count": null,
   "metadata": {},
   "outputs": [],
   "source": [
    "myList.index(10)   # Will give the index of the element with value 10 - in this case 9 because the list index starts at 0."
   ]
  },
  {
   "cell_type": "code",
   "execution_count": null,
   "metadata": {},
   "outputs": [],
   "source": [
    "#print(myList.index(\"A\"))  # This will crash the program - the value to look for has to be present in the list!!!"
   ]
  },
  {
   "cell_type": "markdown",
   "metadata": {},
   "source": [
    "The function `dir()` will list all the methods that you can use on a variable (list, string, dictionary), functions etc. It allows us to extract information on which operations we can perform on an available object, however also lets us discover new methods. "
   ]
  },
  {
   "cell_type": "code",
   "execution_count": null,
   "metadata": {},
   "outputs": [],
   "source": [
    "dir(myList)"
   ]
  },
  {
   "cell_type": "markdown",
   "metadata": {},
   "source": [
    "---\n",
    "### 5.2.1 Exercise\n",
    "\n",
    "Take the list [54,56,2,1,5223,6,23,57,3,7,3344], sort it in reverse order (largest value first) and print out the third value.\n",
    "\n",
    "---"
   ]
  },
  {
   "cell_type": "code",
   "execution_count": null,
   "metadata": {},
   "outputs": [],
   "source": []
  },
  {
   "cell_type": "markdown",
   "metadata": {},
   "source": [
    "## 5.3 Tuples  \n",
    "Similar to *lists* are *tuples* - essentially they are the same, except that a tuple cannot be modified.\n",
    "Once created a tuple is _immutable_. This can be useful for _reasoning_ about your program.\n",
    "\n",
    "Let's start by making a new tuple by putting values between parentheses `()`: "
   ]
  },
  {
   "cell_type": "code",
   "execution_count": null,
   "metadata": {},
   "outputs": [],
   "source": [
    "myTuple = (\"A\",\"B\",\"C\",\"D\",\"E\",\"F\")\n",
    "myTuple"
   ]
  },
  {
   "cell_type": "markdown",
   "metadata": {},
   "source": [
    "We can extract values from a tuple the same way as with lists:"
   ]
  },
  {
   "cell_type": "code",
   "execution_count": null,
   "metadata": {},
   "outputs": [],
   "source": [
    "myTuple[3]"
   ]
  },
  {
   "cell_type": "markdown",
   "metadata": {},
   "source": [
    "But we can't modify a value in the tuple:"
   ]
  },
  {
   "cell_type": "code",
   "execution_count": null,
   "metadata": {},
   "outputs": [],
   "source": [
    "myTuple[3] = \"A\""
   ]
  },
  {
   "cell_type": "markdown",
   "metadata": {},
   "source": [
    "We can verify its immutability by listing the available operations that we can perform on a tuple with `dir()`. You will notice that you can only count the occurrence of values with `count` and extract indeces of a value with `index`.  "
   ]
  },
  {
   "cell_type": "code",
   "execution_count": null,
   "metadata": {},
   "outputs": [],
   "source": [
    "dir(myTuple)"
   ]
  },
  {
   "cell_type": "markdown",
   "metadata": {},
   "source": [
    "**Warning note!!** It is important to remember that if you create a tuple with one value you have to use a comma after\n",
    "your first value. This is to distinguish a tuple from mathematical grouping parentheses."
   ]
  },
  {
   "cell_type": "code",
   "execution_count": null,
   "metadata": {},
   "outputs": [],
   "source": [
    "myTuple = (\"My string\",)\n",
    "myTuple"
   ]
  },
  {
   "cell_type": "code",
   "execution_count": null,
   "metadata": {},
   "outputs": [],
   "source": [
    "myWrongTuple = (\"My string\")  # The brackets here don't do anything.\n",
    "myWrongTuple"
   ]
  },
  {
   "cell_type": "markdown",
   "metadata": {},
   "source": [
    "You can convert between lists and tuples by using `list()` and `tuple()` functions:"
   ]
  },
  {
   "cell_type": "code",
   "execution_count": null,
   "metadata": {
    "scrolled": true
   },
   "outputs": [],
   "source": [
    "myTuple = (\"A\",\"B\",\"C\",\"D\",\"E\",\"F\")\n",
    "myList = [0, 1, 2, 3, 4, 5, 6, 7, 8, 9]\n",
    " \n",
    "myNewTuple = tuple(myList)\n",
    "myNewList = list(myTuple)\n",
    " \n",
    "print(f\"{myList=} and {myNewTuple=}\")\n"
   ]
  },
  {
   "cell_type": "markdown",
   "metadata": {},
   "source": [
    "You can find out the length (number of elements) in a list or tuple with `len()`:"
   ]
  },
  {
   "cell_type": "code",
   "execution_count": null,
   "metadata": {},
   "outputs": [],
   "source": [
    "myTuple = (\"A\",\"B\",\"C\",\"D\",\"E\",\"F\")\n",
    "len(myTuple)"
   ]
  },
  {
   "cell_type": "markdown",
   "metadata": {},
   "source": [
    "---\n",
    "### 5.3.1 Exercise\n",
    "\n",
    "Start with the tuple ('a','B','c','D','e','F'), sort it, take the fourth value out, and print the result.\n",
    "\n",
    "---"
   ]
  },
  {
   "cell_type": "code",
   "execution_count": null,
   "metadata": {},
   "outputs": [],
   "source": []
  },
  {
   "cell_type": "markdown",
   "metadata": {},
   "source": [
    "## 5.4 Strings\n",
    "\n",
    "Strings are a sequence of characters, and they behave similar to lists:"
   ]
  },
  {
   "cell_type": "code",
   "execution_count": null,
   "metadata": {},
   "outputs": [],
   "source": [
    "myString = \"This is a sentence.\"\n",
    "\n",
    "myString[0:5]          # Take the first five characters"
   ]
  },
  {
   "cell_type": "code",
   "execution_count": null,
   "metadata": {},
   "outputs": [],
   "source": [
    "myString.count(\"e\")    # Count the number of 'e' characters"
   ]
  },
  {
   "cell_type": "code",
   "execution_count": null,
   "metadata": {},
   "outputs": [],
   "source": [
    "myString.index(\"i\")    # Give the index of the first 'i' character"
   ]
  },
  {
   "cell_type": "markdown",
   "metadata": {},
   "source": [
    "You cannot re-assign strings as you do with lists though, the following example does not work:"
   ]
  },
  {
   "cell_type": "code",
   "execution_count": null,
   "metadata": {},
   "outputs": [],
   "source": [
    "myString = \"   This is a sentence.  \""
   ]
  },
  {
   "cell_type": "code",
   "execution_count": null,
   "metadata": {},
   "outputs": [],
   "source": [
    "print(myString.upper())       # Upper-case all characters"
   ]
  },
  {
   "cell_type": "code",
   "execution_count": null,
   "metadata": {},
   "outputs": [],
   "source": [
    "print(myString.lower())       # Lower-case all characters"
   ]
  },
  {
   "cell_type": "code",
   "execution_count": null,
   "metadata": {},
   "outputs": [],
   "source": [
    "print(myString.strip())       # Strip leading and trailing spaces/tabs/newlines"
   ]
  },
  {
   "cell_type": "code",
   "execution_count": null,
   "metadata": {},
   "outputs": [],
   "source": [
    "print(myString.split())       # Split the line into elements - default is splitting by whitespace characters"
   ]
  },
  {
   "cell_type": "code",
   "execution_count": null,
   "metadata": {},
   "outputs": [],
   "source": [
    "print(myString.replace(' is ',' was '))  # Replace ' is ' by ' was '. Spaces are necessary, otherwise the 'is' in 'This' will be replaced!"
   ]
  },
  {
   "cell_type": "markdown",
   "metadata": {},
   "source": [
    "These are the methods that we will use the most during this course. A list with all string methods and a full description can be found in the [Python documentation](https://docs.python.org/3/library/stdtypes.html#string-methods), or simply type `help(myString)`"
   ]
  },
  {
   "cell_type": "code",
   "execution_count": null,
   "metadata": {},
   "outputs": [],
   "source": [
    "dir(myString)"
   ]
  },
  {
   "cell_type": "markdown",
   "metadata": {},
   "source": [
    "---\n",
    "### 5.4.1 Exercise\n",
    "\n",
    "Ask the user for two words, then check whether they are the same (upper or lower case should not matter),if not check whether they have the same first letter (again case should not matter). If not, then print their length. \n",
    "\n",
    "---"
   ]
  },
  {
   "cell_type": "code",
   "execution_count": null,
   "metadata": {},
   "outputs": [],
   "source": []
  },
  {
   "cell_type": "markdown",
   "metadata": {},
   "source": [
    "## 5.5 Sets  \n",
    "Very useful as well are sets. These are unordered and unindexed (so the order in which you put in elements doesn't matter), and it is much easier to compare them to each other. Because sets cannot have multiple occurrences of the same element, it makes sets highly useful to efficiently remove duplicate values from a list or tuple and to perform common math operations like unions and intersections.\n",
    "\n",
    "![sets](images/Python-Set-Operatioons.png)\n",
    "Source: https://www.learnbyexample.org/python-set/\n",
    "\n",
    "You initialise them by using **set()** on a list or tuple:"
   ]
  },
  {
   "cell_type": "code",
   "execution_count": null,
   "metadata": {},
   "outputs": [],
   "source": [
    "myList = [1 , 3, 5, 6, 6]\n",
    "mySet = set(myList)\n",
    "mySet"
   ]
  },
  {
   "cell_type": "markdown",
   "metadata": {},
   "source": [
    "How would you create an empty `set()`?"
   ]
  },
  {
   "cell_type": "code",
   "execution_count": null,
   "metadata": {},
   "outputs": [],
   "source": [
    "mySet1 = set(range(10))\n",
    "mySet2 = set(range(5,20))\n",
    " \n",
    "print(f\"{mySet1=}\")\n",
    "print(f\"{mySet2=}\")\n",
    " \n",
    "mySet2.add(5)  # Elements in a set are unique - the set will not change because it already has a 5\n",
    " \n",
    "print(mySet1.intersection(mySet2))\n",
    "print(mySet1.union(mySet2))"
   ]
  },
  {
   "cell_type": "code",
   "execution_count": null,
   "metadata": {},
   "outputs": [],
   "source": [
    "dir(mySet)"
   ]
  },
  {
   "cell_type": "markdown",
   "metadata": {},
   "source": [
    "The principle of using intersection and union is the same as the Venn diagrams you probably saw in school... You can also make a set out of a string:"
   ]
  },
  {
   "cell_type": "code",
   "execution_count": null,
   "metadata": {},
   "outputs": [],
   "source": [
    "myString = \"This is a sentence.\"\n",
    " \n",
    "myLetters = set(myString)\n",
    "myLetters    # Note that an upper case T and lower case t are not the same!"
   ]
  },
  {
   "cell_type": "markdown",
   "metadata": {},
   "source": [
    "There are more things you can do with sets which we will not go into here, see the [Python sets](https://docs.python.org/3/library/stdtypes.html#types-set) documentation for more information."
   ]
  },
  {
   "cell_type": "markdown",
   "metadata": {},
   "source": [
    "---\n",
    "### 5.5.1 Exercise\n",
    "\n",
    "Which letters are shared between the words \"perspicacious\" and \"circumlocution\"?\n",
    "\n",
    "---"
   ]
  },
  {
   "cell_type": "code",
   "execution_count": null,
   "metadata": {},
   "outputs": [],
   "source": []
  },
  {
   "cell_type": "markdown",
   "metadata": {},
   "source": [
    "## 5.6 De-structuring or Unpacking\n",
    "There are times when you will want \"pull values out of\" a list, tuple, or set and give individual values a name.\n",
    "You can of course achieve this like so:\n",
    "```python\n",
    "myList = ['a', 'b', 'c', 'd']\n",
    "first = myList[0]\n",
    "second = myList[1]\n",
    "rest = myList[2:]\n",
    "```\n",
    "\n",
    "This is perfectly fine in many situations. But, as we will see later, it doesn't work in situation where you cannot\n",
    "perform assignment. But fear not! Python to the rescue! You can de-structure collection structures to name individual\n",
    "elements. Using this technique, the above example becomes:"
   ]
  },
  {
   "cell_type": "code",
   "execution_count": null,
   "metadata": {},
   "outputs": [],
   "source": [
    "myList = ['a', 'b', 'c', 'd']\n",
    "first, second, *rest = myList\n",
    "print(f\"{first=} {second=} {rest=}\")"
   ]
  },
  {
   "cell_type": "markdown",
   "metadata": {},
   "source": [
    "The first thing you will notice is the `*` before the name `rest`. This is the _unpacking operator_, it's a catch-all\n",
    "for everything _else_ in the structure being unpacked. You'll also notice that I lied, I'm _doing assignment_!\n",
    "That's for demonstration only, you will see unpacking without explicit assignment in the next chapter."
   ]
  },
  {
   "cell_type": "markdown",
   "metadata": {},
   "source": [
    "## 5.7 Next session\n",
    "\n",
    "Go to our [next chapter](6_Loops.ipynb). "
   ]
  }
 ],
 "metadata": {
  "kernelspec": {
   "display_name": "Python 3",
   "language": "python",
   "name": "python3"
  },
  "language_info": {
   "codemirror_mode": {
    "name": "ipython",
    "version": 3
   },
   "file_extension": ".py",
   "mimetype": "text/x-python",
   "name": "python",
   "nbconvert_exporter": "python",
   "pygments_lexer": "ipython3",
   "version": "3.8.3"
  }
 },
 "nbformat": 4,
 "nbformat_minor": 2
}
