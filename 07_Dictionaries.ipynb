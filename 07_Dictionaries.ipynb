{
 "cells": [
  {
   "cell_type": "markdown",
   "metadata": {},
   "source": [
    "# Dictionaries\n",
    "\n",
    "> *“Complex is better than\n",
    "> complicated.”*<sup><a href=\"#References\">1</a></sup>\n",
    "\n",
    "What you might refer to as a *dictionary* is often a book in which you\n",
    "can quickly lookup the definition of a word. You can generalise this\n",
    "notion of a dictionary to anything that allows you to quickly lookup a\n",
    "*key* (the word) to find the *associated value* (the definition).\n",
    "\n",
    "It is best to think of a dictionary as a set of `key: value` pairs. The\n",
    "keys in a dictionary are *unique* and\n",
    "<abbr title=\"This is not strictly true\">*unordered*</abbr>. The syntax\n",
    "for creating dictionaries is: `{}`, and each `key:value` pair is\n",
    "separated with a comma. You will often see strings as keys, but many\n",
    "other values can also be keys, as long as they’re\n",
    "<abbr title=\"You cannot change the value\">*immutable*</abbr>.\n",
    "\n",
    "![A Python dictionary](images/myDictionary-cropped.png)"
   ],
   "attachments": {
    "images/myDictionary-cropped.png": {
     "image/png": "[encoded data removed]"
    }
   },
   "id": "c4b2c828-2d8e-45e6-b37a-b29f285d1ef1"
  },
  {
   "cell_type": "code",
   "execution_count": null,
   "metadata": {},
   "outputs": [],
   "source": [
    "three_letter_codes = {\n",
    "    'A': 'Ala',\n",
    "    'C': 'Cys',\n",
    "    'D': 'Asp',\n",
    "    'E': 'Glu',\n",
    "    'F': 'Phe',\n",
    "    'G': 'Gly',\n",
    "    'H': 'His',\n",
    "    'I': 'Ile',\n",
    "    'K': 'Lys',\n",
    "    'L': 'Leu',\n",
    "    'M': 'Met',\n",
    "    'N': 'Asn',\n",
    "    'P': 'Pro',\n",
    "    'Q': 'Gln',\n",
    "    'R': 'Arg',\n",
    "    'S': 'Ser',\n",
    "    'T': 'Thr',\n",
    "    'V': 'Val',\n",
    "    'W': 'Trp',\n",
    "    'Y': 'Tyr'\n",
    "}\n",
    "three_letter_codes"
   ],
   "id": "4e3c46a5-a146-45b3-bd04-03e0149a9fc5"
  },
  {
   "cell_type": "markdown",
   "metadata": {},
   "source": [
    "There are 3 major *operations* that you might want to perform on a\n",
    "**Dictionary**:\n",
    "\n",
    "1.  Lookup a definition, given a word (lookup a value, given a key),\n",
    "2.  Check if a word is in the dictionary (check if a key exists in the\n",
    "    dictionary), and\n",
    "3.  Add a new word with a definition to the dictionary (add a new key\n",
    "    and associated value to the dictionary).\n",
    "\n",
    "To lookup a value you can use a familiar operator: `[]` the indexing\n",
    "operator. Instead of giving it a numeric index, though, you must give it\n",
    "a key that you know exists in the dictionary. Like so,"
   ],
   "id": "1ff5b19b-afa2-466d-afca-58641643acf2"
  },
  {
   "cell_type": "code",
   "execution_count": null,
   "metadata": {},
   "outputs": [],
   "source": [
    "three_letter_codes['A']"
   ],
   "id": "72ce657a-6891-4f26-b1c1-3a457289f653"
  },
  {
   "cell_type": "markdown",
   "metadata": {},
   "source": [
    "If you try to lookup a key that does not exist in the dictionary then\n",
    "this happens:"
   ],
   "id": "4ac13d8b-5bf1-4a49-88e6-4a8cefc444ec"
  },
  {
   "cell_type": "code",
   "execution_count": null,
   "metadata": {},
   "outputs": [],
   "source": [
    "three_letter_codes['X']"
   ],
   "id": "723f9c86-9011-48fe-8327-ac9ace18d70b"
  },
  {
   "cell_type": "markdown",
   "metadata": {},
   "source": [
    "Therefore, it is often a very good idea to *check* that a key exists in\n",
    "your dictionary before trying to lookup the associated value:"
   ],
   "id": "2464428b-1951-4ccf-928a-594f4d078d5c"
  },
  {
   "cell_type": "code",
   "execution_count": null,
   "metadata": {},
   "outputs": [],
   "source": [
    "'A' in three_letter_codes"
   ],
   "id": "122d12a0-edab-457a-8476-b45656054829"
  },
  {
   "cell_type": "code",
   "execution_count": null,
   "metadata": {},
   "outputs": [],
   "source": [
    "if 'X' in three_letter_codes:\n",
    "    print(\"The associated value for X is: \" + three_letter_codes['X'])\n",
    "else:\n",
    "    print(\"The key X does not exist in the dictionary\")"
   ],
   "id": "cf59b8af-1b37-4d94-813a-63bdb2e95aa6"
  },
  {
   "cell_type": "markdown",
   "metadata": {},
   "source": [
    "Finally, you can *update* a dictionary by assigning to a lookup with the\n",
    "index operator. For instance, if we want to add the key `'X'` with the\n",
    "value, `\"Unknown\"` to out `three_letter_codes` dictionary:"
   ],
   "id": "5e55e644-1ed4-482a-a2bb-25c40f283ee8"
  },
  {
   "cell_type": "code",
   "execution_count": null,
   "metadata": {},
   "outputs": [],
   "source": [
    "three_letter_codes['X'] = \"Unknown\"\n",
    "three_letter_codes"
   ],
   "id": "0aff232e-aea4-4988-acf6-f834c4e91c65"
  },
  {
   "cell_type": "markdown",
   "metadata": {},
   "source": [
    "You can also use this pattern to modify an existing value:"
   ],
   "id": "c9b50b43-395e-4e91-806c-f2c03e5e578e"
  },
  {
   "cell_type": "code",
   "execution_count": null,
   "metadata": {},
   "outputs": [],
   "source": [
    "three_letter_codes['A'] = \"This has been modified\"\n",
    "three_letter_codes"
   ],
   "id": "6011a3b9-8499-4891-8580-c8d131d9ad74"
  },
  {
   "cell_type": "markdown",
   "metadata": {},
   "source": [
    "But let us change this back to `\"Ala\"` for now…"
   ],
   "id": "46ed1499-fad3-48dd-9403-785673bb9b92"
  },
  {
   "cell_type": "code",
   "execution_count": null,
   "metadata": {},
   "outputs": [],
   "source": [
    "three_letter_codes['A'] = \"Ala\"\n",
    "three_letter_codes"
   ],
   "id": "db40f380-034b-449d-a8ef-14cd8ab8b879"
  },
  {
   "cell_type": "markdown",
   "metadata": {},
   "source": [
    "## A new project\n",
    "\n",
    "During the course of the previous chapters we wrote a program to play\n",
    "the childrens “Fizz Buzz” game. Now that you’re more familiar with\n",
    "Python we can write a more interesting program together. This time,\n",
    "imagine that you’ve been commisioned to generate plots from temperature\n",
    "data for 3 countries and a global plot to compare against:\n",
    "\n",
    "-   Belgium\n",
    "-   Russia\n",
    "-   Australia\n",
    "\n",
    "You have some data sources:\n",
    "\n",
    "-   [Global](https://hadleyserver.metoffice.gov.uk/hadcrut5/data/current/download.html)\n",
    "-   [Belgium](https://gist.github.com/MaybeJustJames/4a604c9d9dcff2c999496ec5def1d6ce/raw/caf3df0d47b1523e347df01ed8db2cc3726b1bdc/bel_data_orig.csv)\n",
    "-   [Russia](https://gist.github.com/MaybeJustJames/4a604c9d9dcff2c999496ec5def1d6ce/raw/caf3df0d47b1523e347df01ed8db2cc3726b1bdc/rus_data_orig.csv)\n",
    "-   [Australia](https://gist.github.com/MaybeJustJames/4a604c9d9dcff2c999496ec5def1d6ce/raw/caf3df0d47b1523e347df01ed8db2cc3726b1bdc/aus_data_orig.csv)\n",
    "\n",
    "<!-- Original country data source: https://climateknowledgeportal.worldbank.org -->\n",
    "\n",
    "<img src=\"images/global_climate_plot.png\" alt=\"Global temperature anomally 1961-90\" style=\"width: 600px\">\n",
    "\n",
    "The task essentially breaks down into these high-level steps:\n",
    "\n",
    "1.  Model the data\n",
    "2.  Fetch the data\n",
    "3.  Clean the data\n",
    "4.  Align the data\n",
    "5.  Average/smooth the data\n",
    "6.  Plot the data\n",
    "\n",
    "Today, you will perform all of these steps in Python. You will use this\n",
    "scenario to explore some other useful aspects of Python. Your first task\n",
    "is to model the data.\n",
    "\n",
    "------------------------------------------------------------------------\n",
    "\n",
    "### Exercise 7-1: A climate observation\n",
    "\n",
    "Construct a dictionary containing the keys, “BEL”, “RUS’,”AUS”, and\n",
    "“GLO” and decimal numbers for values (You can pick any number you like)."
   ],
   "id": "783c92f2-d071-423f-8575-c51fdc684e7c"
  },
  {
   "cell_type": "code",
   "execution_count": null,
   "metadata": {},
   "outputs": [],
   "source": [],
   "id": "354c1c7b-f3fa-4e40-97be-1e8ed8c1f27e"
  },
  {
   "cell_type": "markdown",
   "metadata": {},
   "source": [
    "A list of these dictionaries could represent a time-series of\n",
    "observations for each of the territories we need to eventually plot.\n",
    "\n",
    "------------------------------------------------------------------------\n",
    "\n",
    "Now that you are comfortable with the syntax for defining a dictionary\n",
    "in Python it is time to start practising the common operations:\n",
    "\n",
    "------------------------------------------------------------------------\n",
    "\n",
    "### Exercise 7-2: Look it up in a dictionary\n",
    "\n",
    "Write a function that takes a single letter amino acid code as an\n",
    "argument and returns a three letter code. If the argument is not a valid\n",
    "single letter code then you should return the string `\"Unknown\"`. **You\n",
    "should use the `three_letter_codes` dictionary we defined earlier\n",
    "without modifying it.**"
   ],
   "id": "a1ff78fd-5511-46fc-ac3e-b541d40aff8b"
  },
  {
   "cell_type": "code",
   "execution_count": null,
   "metadata": {},
   "outputs": [],
   "source": [
    "def lookup_three_letter_code(code: str) -> str:\n",
    "    ...\n",
    "\n",
    "assert \"Ala\" == lookup_three_letter_code(\"A\"), \"Expected 'Ala', got: \" + str(lookup_three_letter_code(\"A\"))\n",
    "assert \"Unknown\" == lookup_three_letter_code(\"X\"), \"Expected 'Unknown', got: \" + str(lookup_three_letter_code(\"X\"))\n",
    "assert \"Unknown\" == lookup_three_letter_code(\"Belgium\"), \"Expected 'Unknown', got: \" + str(lookup_three_letter_code(\"Belgium\"))\n",
    "assert \"Unknown\" == lookup_three_letter_code(\"m\"), \"Expected 'Unknown', got: \" + str(lookup_three_letter_code(\"m\"))\n",
    "assert \"Met\" == lookup_three_letter_code(\"M\"), \"Expected 'Met', got: \" + str(lookup_three_letter_code(\"M\"))"
   ],
   "id": "21d29c16-c917-4329-b3bd-ce74fcce2f75"
  },
  {
   "cell_type": "markdown",
   "metadata": {},
   "source": [
    "[Advanced question](Advanced%20Exercises.ipynb#7-2)\n",
    "\n",
    "------------------------------------------------------------------------\n",
    "\n",
    "### Exercise 7-3: Amino-acid sequence\n",
    "\n",
    "Write a function that takes a sequence of amino-acids represented by\n",
    "their single letter code. Return a list of three-letter-codes. For\n",
    "example, given the input: `\"EIKGGQ\"` return\n",
    "`['Glu', 'Ile', 'Lys', 'Gly', 'Gly', 'Gln']`. **You should use the\n",
    "`three_letter_codes` dictionary we defined earlier without modifying\n",
    "it.**"
   ],
   "id": "900eef45-2fc4-4a73-a956-c533520b49dd"
  },
  {
   "cell_type": "code",
   "execution_count": null,
   "metadata": {},
   "outputs": [],
   "source": [
    "def one_to_three_letter_code(sequence):\n",
    "    ...\n",
    "\n",
    "assert one_to_three_letter_code(\"\") == [], \"Did not expect \" + str(one_to_three_letter_code(\"\"))\n",
    "assert one_to_three_letter_code(\"EIKGGQ\") == ['Glu', 'Ile', 'Lys', 'Gly', 'Gly', 'Gln'], \"Did not expect \" + str(one_to_three_letter_code('EIKGGQ'))\n",
    "assert one_to_three_letter_code(\"PRAPY\") == ['Pro', 'Arg', 'Ala', 'Pro', 'Tyr'], \"Did not expect \" + str(one_to_three_letter_code('PRAPY'))"
   ],
   "id": "1adccb22-d383-4cfb-9d65-4cac30be0882"
  },
  {
   "cell_type": "markdown",
   "metadata": {},
   "source": [
    "------------------------------------------------------------------------\n",
    "\n",
    "### Exercise 7-4: Frequency\n",
    "\n",
    "Write a function that accepts an amino-acid sequence and returns a\n",
    "dictionary keyed by the amino-acid single-letter-code and the value is\n",
    "the frequency of observation (number of times that letter appears) of\n",
    "that amino-acid in the sequence."
   ],
   "id": "30e2c81d-d8cb-4e9b-9529-1216e9e006c6"
  },
  {
   "cell_type": "code",
   "execution_count": null,
   "metadata": {},
   "outputs": [],
   "source": [
    "def frequencies(sequence: str):\n",
    "    ...\n",
    "\n",
    "assert frequencies(\"AACD\") == {\"A\": 2, \"C\": 1, \"D\": 1}, \"Unexpected \" + str(frequencies('AACD'))\n",
    "\n",
    "sequence = \"SFTMHGTPVVNQVKVLTESNRISHHKILAIVGTAESNSEHPLGTAITKYCKQELDTETLGTCIDFQVVPGCGISCKVTNIEGLLHKNNWNIEDNNIKNASLVQIDASNEQSSTSSSMIIDAQISNALNAQQYKVLIGNREWMIRNGLVINNDVNDFMTEHERKGRTAVLVAVDDELCGLIAIADT\"\n",
    "expected = {'A': 12, 'C': 5, 'D': 10, 'E': 12, 'F': 3, 'G': 11, 'H': 6, 'I': 18, 'K': 9, 'L': 14, 'M': 4, 'N': 18, 'P': 3, 'Q': 8, 'R': 5, 'S': 14, 'T': 14, 'V': 15, 'W': 2, 'Y': 2}\n",
    "assert frequencies(sequence) == expected, \"Unexpected \" + str(frequencies(sequence))"
   ],
   "id": "3badd7d6-ccda-447c-86b0-4dc675146458"
  },
  {
   "cell_type": "markdown",
   "metadata": {},
   "source": [
    "------------------------------------------------------------------------\n",
    "\n",
    "The final operation that you will often perform on dictionaries is to\n",
    "loop over them. Thankfully this operation will feel very familiar to\n",
    "you.\n",
    "\n",
    "------------------------------------------------------------------------\n",
    "\n",
    "### Exercise 7-5: Weather, averaged over time, is climate\n",
    "\n",
    "Write a function that accepts a list of observations (See the dictionary\n",
    "you created in Exercise 7-1) and returns a dictionary with the same\n",
    "structure but the values are the averages of the input. For example,\n",
    "consider these input observations:\n",
    "\n",
    "``` python\n",
    "[\n",
    "    {\"BEL\": 5.7, \"RUS\": -12.8, \"AUS\": 42.6, \"GLO\": 22.1},\n",
    "    {\"BEL\": 10.2, \"RUS\": -2.0, \"AUS\": 37.8, \"GLO\": 21.2},\n",
    "    {\"BEL\": 14.7, \"RUS\": 1.3, \"AUS\": 18.3, \"GLO\": 23.6}\n",
    "]\n",
    "```\n",
    "\n",
    "The output of your function should be:\n",
    "\n",
    "``` python\n",
    "{\"BEL\": 10.2, \"RUS\": -4.5, \"AUS\": 32.9, \"GLO\": 22.3}\n",
    "```"
   ],
   "id": "212e9d2f-adce-4135-8604-00671d344449"
  },
  {
   "cell_type": "code",
   "execution_count": null,
   "metadata": {},
   "outputs": [],
   "source": [
    "def average_temperature(observations):\n",
    "    ...\n",
    "\n",
    "example = [\n",
    "    {\"BEL\": 5.7, \"RUS\": -12.8, \"AUS\": 42.6, \"GLO\": 22.1},\n",
    "    {\"BEL\": 10.2, \"RUS\": -2.0, \"AUS\": 37.8, \"GLO\": 21.2},\n",
    "    {\"BEL\": 14.7, \"RUS\": 1.3, \"AUS\": 18.3, \"GLO\": 23.6}\n",
    "]\n",
    "\n",
    "assert average_temperature([]) == {}, \"Expected {}, got: \" + str(average_temperature([]))\n",
    "assert average_temperature(example) == {\"BEL\": 10.2, \"RUS\": -4.5, \"AUS\": 32.9, \"GLO\": 22.3}, \"Got \" + str(average_temperature(example))"
   ],
   "id": "dc12e441-9daf-4d4c-8e3e-76195ac8dc12"
  },
  {
   "cell_type": "markdown",
   "metadata": {},
   "source": [
    "[Advanced question](Advanced%20Exercises.ipynb#7-5)\n",
    "\n",
    "------------------------------------------------------------------------\n",
    "\n",
    "## Chapter Review\n",
    "\n",
    "In this chapter you’ve learned about the Python *dictionary*. It’s a\n",
    "special collection that stores an association (or mapping) between\n",
    "*keys* and *values*. Due to this, the keys must be unique.\n",
    "\n",
    "### Review Questions\n",
    "\n",
    "1.  How is an empty dictionary written?\n",
    "    <details>\n",
    "    <summary>\n",
    "    Answer\n",
    "    </summary>\n",
    "    <code>{}</code> or <code>dict()</code>\n",
    "    </details>\n",
    "2.  Can any data type be a value in a dictionary?\n",
    "    <details>\n",
    "    <summary>\n",
    "    Answer\n",
    "    </summary>\n",
    "    Yes!\n",
    "    </details>\n",
    "3.  When you loop over a dictionary, what does the loop variable\n",
    "    contain?\n",
    "    <details>\n",
    "    <summary>\n",
    "    Answer\n",
    "    </summary>\n",
    "    The <em>key</em>, not the <em>value</em>.\n",
    "    </details>\n",
    "4.  Can a list be a key in a dictionary?\n",
    "    <details>\n",
    "    <summary>\n",
    "    Answer\n",
    "    </summary>\n",
    "    No. Lists are <em>mutable</em> (they can be modified after you\n",
    "    create them) so they cannot be stable keys.\n",
    "    </details>\n",
    "5.  How can you access a key you’re not sure is in the dictionary?\n",
    "    <details>\n",
    "    <summary>\n",
    "    Answer\n",
    "    </summary>\n",
    "    If the key is not in the dictionary you cannot access it. But you\n",
    "    can check that it is <code>in</code> the dictionary first.\n",
    "    </details>\n",
    "\n",
    "## References\n",
    "\n",
    "1.  Zen of Python: https://www.python.org/dev/peps/pep-0020/\n",
    "\n",
    "## Supporting material\n",
    "\n",
    "-   [Automate the Boring Stuff with Python, Chapter\n",
    "    5](http://automatetheboringstuff.com/2e/chapter5/)\n",
    "-   [Real Python: Dictionaries](https://realpython.com/python-dicts/)\n",
    "\n",
    "Click [here](08_Files.ipynb) to go to the next chapter."
   ],
   "id": "63ba16cb-593b-4cce-884f-cfdd4df15d68"
  }
 ],
 "nbformat": 4,
 "nbformat_minor": 5,
 "metadata": {
  "kernelspec": {
   "name": "python3",
   "display_name": "Python 3 (ipykernel)",
   "language": "python"
  },
  "language_info": {
   "name": "python",
   "codemirror_mode": {
    "name": "ipython",
    "version": "3"
   },
   "file_extension": ".py",
   "mimetype": "text/x-python",
   "nbconvert_exporter": "python",
   "pygments_lexer": "ipython3",
   "version": "3.11.0"
  }
 }
}
