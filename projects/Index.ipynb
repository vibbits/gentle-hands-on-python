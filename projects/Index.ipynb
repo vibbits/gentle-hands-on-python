{
 "cells": [
  {
   "cell_type": "markdown",
   "id": "basic-document",
   "metadata": {},
   "source": [
    "# Project Index\n",
    "\n",
    "### Easy projects\n",
    "*\n",
    "\n",
    "### Intermediate projects\n",
    "*\n",
    "\n",
    "### Hard projects\n",
    "* [Sequence assembly](sequence_assembly.ipynb)"
   ]
  },
  {
   "cell_type": "code",
   "execution_count": null,
   "id": "automotive-unknown",
   "metadata": {},
   "outputs": [],
   "source": []
  }
 ],
 "metadata": {
  "kernelspec": {
   "display_name": "Python 3",
   "language": "python",
   "name": "python3"
  },
  "language_info": {
   "codemirror_mode": {
    "name": "ipython",
    "version": 3
   },
   "file_extension": ".py",
   "mimetype": "text/x-python",
   "name": "python",
   "nbconvert_exporter": "python",
   "pygments_lexer": "ipython3",
   "version": "3.9.2"
  }
 },
 "nbformat": 4,
 "nbformat_minor": 5
}
