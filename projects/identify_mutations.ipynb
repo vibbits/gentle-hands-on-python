{
 "cells": [
  {
   "cell_type": "markdown",
   "metadata": {},
   "source": [
    "# Project exercise\n",
    "*Practice makes perfect*  \n",
    "\n",
    "As we introduced a lot of new concepts it is important to practice them so we can build on this knowledge.\n",
    "\n",
    "----"
   ]
  },
  {
   "cell_type": "markdown",
   "metadata": {},
   "source": [
    "## Situation\n",
    "Mutations in the *BRCA* genes are known to increase the susceptibility of developing cancer. The *BRCA* gene test is a blood test that uses DNA analysis to identify harmful changes (mutations) in either one of the two breast cancer susceptibility genes — BRCA1 and BRCA2 [[1]](https://www.cancer.gov/about-cancer/causes-prevention/genetics/brca-fact-sheet). In this project exercise, we will mimic this test (or at least how it could look like). \n",
    "\n",
    "## Goal\n",
    "We've obtained a [coding sequence](https://en.wikipedia.org/wiki/Coding_region) (DNA) from two patients and we also have the functional protein sequence of BRCA2. Our goal is to identify [non-silent mutations](https://en.wikipedia.org/wiki/Silent_mutation) in the sequence. \n",
    "\n",
    "We will write a program that reads in a fasta file, extracts the sequence, transcribes and translates it into protein sequences. As it is possible that there are sequencing errors in the beginning, we will take into account that there are [frameshifts](https://www.genome.gov/genetics-glossary/Frameshift-Mutation) and therefore also different [ORFs](https://en.wikipedia.org/wiki/Open_reading_frame#:~:text=In%20molecular%20genetics%2C%20an%20open,UAA%2C%20UAG%20or%20UGA). We will assess all ORFs in the sequence, store all possible proteins and then compare them with the reference protein sequence of a functional BRCA2 protein. \n",
    "\n",
    "Here are the different steps:\n",
    "- Read in the fasta file, extract the sequence\n",
    "- Transcribe the sequence to RNA sequence\n",
    "- Translate the RNA sequence depending on the frameshift\n",
    "- A valid peptide/protein starts with a Methionine and ends at a stop sequence. Extract all valid peptides from a protein sequence. \n",
    "- For each peptide/protein, check if the length is equal to the reference BRCA2 protein sequence and if so, calculate the [hamming distance](https://en.wikipedia.org/wiki/Hamming_distance) and extract the location as well as the mutation itself if there was any. "
   ]
  },
  {
   "cell_type": "markdown",
   "metadata": {},
   "source": [
    "The following steps are dividing the exercise into different subexercises. \n",
    "- Given the following python-code that reads in a file. Inspect the result of the cell below, how is the information stored (which data types)?"
   ]
  },
  {
   "cell_type": "code",
   "execution_count": null,
   "metadata": {},
   "outputs": [],
   "source": [
    "# These lines of code will read in the file 'gene.fa' and store it in the variable fileInLines.\n",
    "with open('data/patientA.fa') as fconnect:\n",
    "    fileInLines = fconnect.readlines()\n",
    "fileInLines"
   ]
  },
  {
   "cell_type": "markdown",
   "metadata": {},
   "source": [
    "- Extract the first line of the file, store the geneID in a variable and the description in another one. Tip: use slicing in combination with the methods `.split()`, `.join()` or `.replace()` could be helpful here. "
   ]
  },
  {
   "cell_type": "code",
   "execution_count": null,
   "metadata": {},
   "outputs": [],
   "source": []
  },
  {
   "cell_type": "markdown",
   "metadata": {},
   "source": [
    "- Similarly, store the first line of the sequence in a variable named `firstSequence`, make sure to strip (trailing) whitespaces from the string. During day 2 we will learn how we can store the full sequence. "
   ]
  },
  {
   "cell_type": "code",
   "execution_count": null,
   "metadata": {},
   "outputs": [],
   "source": []
  },
  {
   "cell_type": "markdown",
   "metadata": {},
   "source": [
    "- The following python-code stores all of the possible RNA codons in a list. Inspect the result of this operation. How is the information stored?"
   ]
  },
  {
   "cell_type": "code",
   "execution_count": null,
   "metadata": {},
   "outputs": [],
   "source": [
    "from modules.SequenceDicts import standardRnaToProtein\n",
    "rnaCodons = list(standardRnaToProtein.keys())\n",
    "rnaCodons"
   ]
  },
  {
   "cell_type": "markdown",
   "metadata": {},
   "source": [
    "- Slice the first three codons from the `firstSequence` and check whether they are valid codons. Use an `if-else` statement and inform the user about its validity. Spoiler alert! You should find that the third codon is not a valid codon. Why is that? What should you do to fix this? "
   ]
  },
  {
   "cell_type": "code",
   "execution_count": null,
   "metadata": {},
   "outputs": [],
   "source": []
  },
  {
   "cell_type": "markdown",
   "metadata": {},
   "source": [
    "- RNA is translated per group of 3 nucleotides A, C, G, T/U, called codons. Hence, in order to extract three-letter fragments from a string we will need to iterate over the string per groups of three letters. We will learn how to do this in the [Loops chapter](06_Loops.ipynb). However, we already know how to create a list with different ranges. Create `range()`-objects that start at a specific frameshift and ends at the the last three-letter codon in steps of three. Examples:\n",
    "\n",
    "```\n",
    "# Frameshift 0\n",
    "ACG-UGC-UTC-AAC-GTA-U\n",
    "Range object: 0, 3, 6, 9, 12.\n",
    "\n",
    "# Frameshift 1\n",
    "A-CGU-GCU-TCA-ACG-TAU\n",
    "Range object: 1, 4, 7, 10, 13\n",
    "\n",
    "# Frameshift 2\n",
    "AC-GUG-CUT-CAA-CGT-AU\n",
    "Range object: 2, 5, 8, 11\n",
    "```\n"
   ]
  },
  {
   "cell_type": "code",
   "execution_count": null,
   "metadata": {},
   "outputs": [],
   "source": [
    "# Test sequence:\n",
    "codonSequence = \"ACGUGCUTCAACGTAU\""
   ]
  },
  {
   "cell_type": "code",
   "execution_count": null,
   "metadata": {},
   "outputs": [],
   "source": []
  },
  {
   "cell_type": "markdown",
   "metadata": {},
   "source": [
    "- Read in the file `data/patientA.fa` and store the complete sequence in a new string `fullDNASequence`. Extract the geneID and the description as well, remember that you already found a solution to this problem!"
   ]
  },
  {
   "cell_type": "code",
   "execution_count": null,
   "metadata": {},
   "outputs": [],
   "source": []
  },
  {
   "cell_type": "markdown",
   "metadata": {},
   "source": [
    "- Transcribe the `fullSequence` (from DNA to RNA) and store it in `fullRNASequence`"
   ]
  },
  {
   "cell_type": "code",
   "execution_count": null,
   "metadata": {},
   "outputs": [],
   "source": []
  },
  {
   "cell_type": "markdown",
   "metadata": {},
   "source": [
    "- Given the following dictionary `standardRnaToProtein` containing the information to translate a RNA-codon to a one-letter amino-acid."
   ]
  },
  {
   "cell_type": "code",
   "execution_count": null,
   "metadata": {},
   "outputs": [],
   "source": [
    "from modules.SequenceDicts import standardRnaToProtein\n",
    "print(standardRnaToProtein)"
   ]
  },
  {
   "cell_type": "markdown",
   "metadata": {},
   "source": [
    "- Create a `for`-loop that iterates over the RNA sequence per codon and stores each translated AA from in a new string `peptideSeq`.  Tip: use the `range()`-function from day 1."
   ]
  },
  {
   "cell_type": "code",
   "execution_count": null,
   "metadata": {},
   "outputs": [],
   "source": [
    "# Given a frameshift\n",
    "frameshift = 0\n",
    "# Initialise empty string\n",
    "peptideSeq = \"\""
   ]
  },
  {
   "cell_type": "code",
   "execution_count": null,
   "metadata": {},
   "outputs": [],
   "source": []
  },
  {
   "cell_type": "markdown",
   "metadata": {},
   "source": [
    "- Extract all the valid peptides from the peptide sequence and store all of them in a list. \n",
    "  - A valid peptide starts from a Methionine amino-acid,\n",
    "  - A valid peptide stops at its first encounter of a stop codon (here: `*`) or at the end of the sequence, don't include the '\\*' symbol in the resulting peptide. \n",
    "  \n",
    "Extra difficulty: it is possible that the first Methionine is skipped, hence the peptide starts at the second occurrence of a Methionine. Result was for me 45 potential translated and functional proteins. "
   ]
  },
  {
   "cell_type": "code",
   "execution_count": null,
   "metadata": {},
   "outputs": [],
   "source": []
  },
  {
   "cell_type": "markdown",
   "metadata": {},
   "source": [
    "In the previous section we created all the relevant code. Let's now write functions of the code blocks. \n",
    "- Write a function that accepts a fasta fileand has the following outputs:\n",
    "  - geneID, description and the fullSequence.\n",
    "- Let the function check whether the file exists."
   ]
  },
  {
   "cell_type": "code",
   "execution_count": null,
   "metadata": {},
   "outputs": [],
   "source": []
  },
  {
   "cell_type": "markdown",
   "metadata": {},
   "source": [
    "- Write a function that transcribes a DNA sequence to an RNA sequence. "
   ]
  },
  {
   "cell_type": "code",
   "execution_count": null,
   "metadata": {},
   "outputs": [],
   "source": []
  },
  {
   "cell_type": "markdown",
   "metadata": {},
   "source": [
    "- Write a function that translates the RNA into a protein sequence. It accepts two arguments: the sequence and a frameshift. Hence, depending on the value of the frameshift (0, 1 or 2), the translation will result in a different protein. The output is a protein sequence (string format)."
   ]
  },
  {
   "cell_type": "code",
   "execution_count": null,
   "metadata": {},
   "outputs": [],
   "source": []
  },
  {
   "cell_type": "markdown",
   "metadata": {},
   "source": [
    "- Write a function that extracts the valid proteins from a protein sequence. The output should be a list of all potential peptides.  "
   ]
  },
  {
   "cell_type": "code",
   "execution_count": null,
   "metadata": {},
   "outputs": [],
   "source": []
  },
  {
   "cell_type": "markdown",
   "metadata": {},
   "source": [
    "- Write a function that compares two (protein) sequences with each other. Use the Hamming distance function as a starting point. You can assume that the sequences are of equal length. So one sequence will be the to-be-tested sequence, the other one is a reference sequence. The output consists of three parts:\n",
    "  - The Hamming distance\n",
    "  - A list with the locations where a mutation appeared\n",
    "  - A list with all the mutations that happened. "
   ]
  },
  {
   "cell_type": "code",
   "execution_count": null,
   "metadata": {},
   "outputs": [],
   "source": []
  },
  {
   "cell_type": "markdown",
   "metadata": {},
   "source": [
    "- Now use all of the above functions to extract all valid protein sequences starting from a fasta file containing the DNA sequence. "
   ]
  },
  {
   "cell_type": "code",
   "execution_count": null,
   "metadata": {},
   "outputs": [],
   "source": []
  },
  {
   "cell_type": "markdown",
   "metadata": {},
   "source": [
    "\n",
    "---\n",
    "### Project exercise: extra\n",
    "\n",
    "Write a program that does the following:\n",
    "\n",
    "1. Ask the user for a full DNA sequence\n",
    "    - Make sure the sequence contains only GACT\n",
    "2. Once you have a valid sequence\n",
    "    - For each DNA fragment the user enters:\n",
    "        - Check if it occurs in the full sequence\n",
    "        - Print out the sequence position if so\n",
    "        - Track each fragment\n",
    "    - Keep on asking the user for DNA fragments, stop if they just press return\n",
    "3. As a summary, print out all fragments with their position that you tracked"
   ]
  },
  {
   "cell_type": "markdown",
   "metadata": {},
   "source": [
    "**Tips** to complete this exercise in case you get stuck.\n",
    "- Use while loops: you can use the condition to decide when to end the loop depending on the user input\n",
    "- Track the sequence fragment and position data using a list\n",
    "- Use string methods!\n",
    "- To check the full DNA sequence, you can count how many times each GACT letter occurs, add up these counts, and compare this value to the total length of the full DNA sequence"
   ]
  },
  {
   "cell_type": "code",
   "execution_count": null,
   "metadata": {},
   "outputs": [],
   "source": []
  }
 ],
 "metadata": {
  "kernelspec": {
   "display_name": "Python 3",
   "language": "python",
   "name": "python3"
  },
  "language_info": {
   "codemirror_mode": {
    "name": "ipython",
    "version": 3
   },
   "file_extension": ".py",
   "mimetype": "text/x-python",
   "name": "python",
   "nbconvert_exporter": "python",
   "pygments_lexer": "ipython3",
   "version": "3.9.2"
  }
 },
 "nbformat": 4,
 "nbformat_minor": 4
}
