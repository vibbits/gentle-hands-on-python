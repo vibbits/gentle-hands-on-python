{
 "cells": [
  {
   "cell_type": "markdown",
   "id": "interested-colors",
   "metadata": {},
   "source": [
    "# Course Project: Draw a protein structure in 3D\n",
    "\n",
    "In this project you will plot the backbone structure of proteins in 3D. To do this you will fetch atomic coordinate data from the Protein Data Bank (PDB), parse the data, and use the [matplotlib](https://matplotlib.org/) library to plot the backbone structure from $C_{\\alpha}$ atoms.\n",
    "\n",
    "Along the way, you will use all of the techniques you learned during the course, but don't worry: the project progresses at the same pace as the course. You can already start making useful progress after the first day. During the course you will have the opportunity to work on the project.\n",
    "\n",
    "---\n",
    "\n",
    "## Software prerequisites\n",
    "\n",
    "This project involves plotting so we need a couple of plotting related libraries to be installed.\n",
    " * [Matplotlib](https://matplotlib.org/) A general purpose visualisation library for Python\n",
    " * [ipympl](https://github.com/matplotlib/ipympl) Matplotlib Jupyter integration\n",
    "\n",
    "Please ask your instructors for help installing these with Anaconda Navigator or the `pip` command.\n",
    "\n",
    "---\n",
    "\n",
    "## Background\n",
    "\n",
    "[Proteins](https://en.wikipedia.org/wiki/Protein) are made from _chains_ of amino acids. Each amino acid is distinguished by a _side chain_ but share a common, repeating [_backbone_](https://foldit.fandom.com/wiki/Protein_backbone) structure. The central carbon atom (labeled $C_{\\alpha}$ in the diagram below) of each amino acid backbone can be taken as representative of that amino acid and used to draw line segments between the amino acids that make up a folded protein chain. This is what you will do in this project.\n",
    "\n",
    "![Amino acid structure](https://bio.libretexts.org/@api/deki/files/16705/peptide_bond.png)\n",
    "Source: https://bio.libretexts.org/Courses/University_of_California_Davis/BIS_2A%3A_Introductory_Biology_-_Molecules_to_Cell/MASTER_RESOURCES/Proteins\n",
    "\n",
    "There are now several formats used for storage and interchange of protein structure data, the oldest (and easiest to parse) is the [Brookhaven Protein Data Bank](https://www.wwpdb.org/documentation/file-format-content/format33/v3.3.html) file format. This format was designed in the 1970's for use with paper punched cards.\n",
    "\n",
    "![Punched card](https://swift.cmbi.umcn.nl/teach/B1M/IMAGE/pc1.jpg)\n",
    "Source: https://swift.cmbi.umcn.nl/teach/B1M/BIOINF_4.html\n",
    "\n",
    "\n",
    "Here (on the second line) is an example of a PDB record for a single atom. The first line labels culumn numbers (these numbers are not part of a PDB file).\n",
    "\n",
    "> ```\n",
    "> 1   5    10        20         30        40        50        60        70\n",
    "> ATOM    278  CA  THR A  38       6.008  -5.254 -13.600  1.00 33.49           C  \n",
    "> ```\n",
    "\n",
    "You can read this letter-by-letter (or actually column-by-column). Above the PDB record I've lebeled some column numbers.\n",
    "* Columns 1-6 contain the record name, in this case `ATOM`.\n",
    "* Columns 13-16 contain the atom name. In this case `CA` which means this is a $C_\\alpha$ atom.\n",
    "* Columns 18-20 contain the amino acid name. In this case it is `THR` which mean this atom is in a Threonine.\n",
    "* Column 22 contains the chain name, in this case `A`.\n",
    "* Columns 23-26 contain the sequence number (where in the sequence this amino acid appears).\n",
    "* Columns 31-38 contain the `x` coordinate.\n",
    "* Columns 39-46 contain the `y` coordinate.\n",
    "* Columns 47-54 contain the `z` coordinate.\n",
    "\n",
    "The records for a whole backbone of a single amino acid might look like this:\n",
    "\n",
    "```\n",
    "ATOM    270  N   PRO A  37       9.573  -6.468 -11.879  1.00 36.70           N  \n",
    "ATOM    271  CA  PRO A  37       9.555  -6.634 -13.332  1.00 31.03           C  \n",
    "ATOM    272  C   PRO A  37       8.253  -6.068 -13.942  1.00 29.37           C  \n",
    "ATOM    273  O   PRO A  37       8.081  -5.921 -15.152  1.00 34.30           O  \n",
    "ATOM    274  CB  PRO A  37       9.656  -8.129 -13.521  1.00 25.97           C  \n",
    "```\n",
    "\n",
    "This Amino Acid is a \"Proline\", it's the 37th residue in the 'A' chain. This protein may be made up of multiple _chains_ with different names. For example, the [human haemoglobin protein](https://www.rcsb.org/structure/1HHO) is made up of 2 chains named 'A' and 'B'. You will be plotting a single chain in this project.\n",
    "\n",
    "---\n",
    "\n",
    "## Part 1: Parsing Brookhaven PDB formatted data\n",
    "\n",
    "The first step in this project is to extract coordinates from PDB formatted data. Let's start off by writing a predicate to detect \"ATOM\" records. A _predicate_ is a function that returns a boolean value: it answers a question. Here is an example of a predicate:\n",
    "\n",
    "```python\n",
    "def is_string_empty(string):\n",
    "    return len(string) == 0\n",
    "```\n",
    "\n",
    "Write a predicate function, using the template below, that takes 1 argument and returns `True` when that argument is a string that contains \"ATOM\"."
   ]
  },
  {
   "cell_type": "code",
   "execution_count": null,
   "id": "9a618f6b-dcd9-45a0-81c2-9a4259c7e267",
   "metadata": {},
   "outputs": [],
   "source": [
    "def is_atom(record_id):\n",
    "    \"Predicate: True if record_id is for an ATOM record\"\n",
    "    return _\n",
    "\n",
    "# Test your implementation here\n",
    "assert is_atom('ATOM'), \"Expected True, got \" + str(is_atom('ATOM'))\n",
    "assert not is_atom('REMARK'), \"Expected False, got \" + str(is_atom('REMARK'))\n",
    "assert is_atom('ATOM '), \"Expected True, got \" + str(is_atom('ATOM '))\n",
    "assert is_atom('ATOM  '), \"Expected True, got \" + str(is_atom('ATOM  '))\n",
    "assert not is_atom('HETATM'), \"Expected False, got \" + str(is_atom('HETATM'))"
   ]
  },
  {
   "cell_type": "markdown",
   "id": "984fda5e-7fed-4d5b-be4f-033ab8d07ce4",
   "metadata": {},
   "source": [
    "You're welcome to modify the template above if you believe you can write the function more clearly or more concisely.\n",
    "\n",
    "We also need a predicate to check if a record is a $C_\\alpha$ atom. Fill in the template for `is_ca()` below."
   ]
  },
  {
   "cell_type": "code",
   "execution_count": null,
   "id": "e3f25ed3-3e49-4380-b8ab-000663096917",
   "metadata": {},
   "outputs": [],
   "source": [
    "def is_ca(atom_name):\n",
    "    \"Predicate: True if ATOM is a CA\"\n",
    "    return _\n",
    "\n",
    "# Test your implementation here\n",
    "assert is_ca('CA'), \"Expected True, got \" + str(is_ca('CA'))\n",
    "assert not is_ca(' N  '), \"Expected False, got \" + str(is_ca(' N  '))\n",
    "assert not is_ca(''), \"Expected False, got \" + str(is_ca(''))\n",
    "assert not is_ca('    '), \"Expected False, got \" + str(is_ca('    '))\n",
    "assert is_ca(' CA '), \"Expected True, got \" + str(is_ca(' CA '))"
   ]
  },
  {
   "cell_type": "markdown",
   "id": "1407a04c-01ea-4533-9880-47f68e42e00b",
   "metadata": {},
   "source": [
    "Well done! You will also need a predicate to detect if an atom is in the chain we're interested in. This one will be a little different because now we need to accept 2 arguments: the chain we want, and the chain in the record. For example, we want chain 'A' but we're looking at a record in chain 'C'. Fill in the template below and make sure it passes the test cases."
   ]
  },
  {
   "cell_type": "code",
   "execution_count": null,
   "id": "f0d7ed8c-5f7f-458a-9876-a34e2604e8d1",
   "metadata": {},
   "outputs": [],
   "source": [
    "def is_in_chain(wanted_chain_id, observed_chain_id):\n",
    "    \"Predicate: True if observed_chain_id is the same as observed_chain_id\"\n",
    "    return _\n",
    "\n",
    "# Test your implementation here\n",
    "assert is_in_chain('A', 'A'), \"Expected True, got \" + str(is_in_chain('A', 'A'))\n",
    "assert not is_in_chain('A', 'C'), \"Expected False, got \" + str(is_in_chain('A', 'C'))\n",
    "assert is_in_chain('1', ' 1 '), \"Expected True, got \" + str(is_in_chain('1', ' 1 '))\n",
    "assert is_in_chain('D', ' D'), \"Expected True, got \" + str(is_in_chain('D', ' D'))\n",
    "assert not is_in_chain('D', ' A'), \"Expected False, got \" + str(is_in_chain('D', ' A'))"
   ]
  },
  {
   "cell_type": "markdown",
   "id": "6578419f-fdaf-49a4-b0c8-905139775ea7",
   "metadata": {},
   "source": [
    "Finally, you should combine all of the above predicates into a single function that only returns `True` when all 3 of the predicates are `True`."
   ]
  },
  {
   "cell_type": "code",
   "execution_count": null,
   "id": "d9965d24-ed26-4647-a174-3d8f3917b9d6",
   "metadata": {},
   "outputs": [],
   "source": [
    "def is_ca_atom_in_chain(chain):\n",
    "    def predicate(record):\n",
    "        record_id = record[:6]\n",
    "        chain_id = record[21]\n",
    "        atom_name = record[13:16]\n",
    "        return _\n",
    "    return predicate\n",
    "\n",
    "assert is_ca_atom_in_chain(\"A\")(\"ATOM      2  CA  VAL A   1       5.776  17.899   5.595  1.00 70.91           C  \")\n",
    "assert not is_ca_atom_in_chain(\"B\")(\"ATOM      2  CA  VAL A   1       5.776  17.899   5.595  1.00 70.91           C  \")\n",
    "assert not is_ca_atom_in_chain(\"B\")(\"HEADER    OXYGEN TRANSPORT                        10-JUN-83   1HHO              \")"
   ]
  },
  {
   "cell_type": "markdown",
   "id": "3dc2f03c-0c73-4350-adc0-1e985cc49940",
   "metadata": {},
   "source": [
    "---\n",
    "\n",
    "## Part 2: Data wrangling\n",
    "\n",
    "In the last part you wrote predicates that will allow you to _filter_ only the records you're interested in. In part 2 you will do that and extract the atomic $x$, $y$, $z$ coordinates.\n",
    "\n",
    "Here is some example data for you to parse:"
   ]
  },
  {
   "cell_type": "code",
   "execution_count": null,
   "id": "3643e630-8352-48df-9e82-2f8afe9b9e01",
   "metadata": {},
   "outputs": [],
   "source": [
    "example = \"\"\"HEADER    OXYGEN TRANSPORT                        10-JUN-83   1HHO              \n",
    "TITLE     STRUCTURE OF HUMAN OXYHAEMOGLOBIN AT 2.1 ANGSTROMS RESOLUTION         \n",
    "ATOM      1  N   VAL A   1       5.287  16.725   4.830  1.00 77.31           N  \n",
    "ATOM      2  CA  VAL A   1       5.776  17.899   5.595  1.00 70.91           C  \n",
    "ATOM      3  C   VAL A   1       7.198  18.266   5.104  1.00 81.71           C  \n",
    "ATOM      4  O   VAL A   1       7.301  19.067   4.161  1.00 77.16           O  \n",
    "ATOM      5  CB  VAL A   1       5.498  17.697   7.118  1.00 51.33           C  \n",
    "ATOM      6  CG1 VAL A   1       6.457  16.822   7.917  1.00 78.39           C  \n",
    "ATOM      7  CG2 VAL A   1       5.211  18.976   7.922  1.00 48.23           C  \n",
    "ATOM      8  N   LEU A   2       8.272  17.653   5.632  1.00 67.33           N  \n",
    "ATOM      9  CA  LEU A   2       9.698  18.050   5.442  1.00 27.11           C  \n",
    "ATOM     10  C   LEU A   2      10.047  19.267   6.283  1.00 33.71           C  \n",
    "ATOM     11  O   LEU A   2       9.566  20.404   6.099  1.00 55.97           O  \n",
    "ATOM     12  CB  LEU A   2      10.129  18.317   4.001  1.00 30.38           C  \n",
    "ATOM     13  CG  LEU A   2      10.208  17.036   3.175  1.00 29.73           C  \n",
    "ATOM     14  CD1 LEU A   2      10.270  17.355   1.684  1.00 58.48           C  \n",
    "ATOM     15  CD2 LEU A   2      11.398  16.220   3.605  1.00 47.81           C  \n",
    "TER    1070      ARG A 141                                                      \n",
    "ATOM   1071  N   VAL B   1       9.445 -18.730  -3.132  1.00 58.52           N  \n",
    "ATOM   1072  CA  VAL B   1      10.737 -18.800  -3.820  1.00 25.93           C  \n",
    "ATOM   1073  C   VAL B   1      10.769 -19.768  -5.014  1.00 38.27           C  \n",
    "ATOM   1074  O   VAL B   1       9.926 -20.653  -5.223  1.00 66.47           O  \n",
    "ATOM   1075  CB  VAL B   1      11.679 -19.318  -2.800  1.00 79.18           C  \n",
    "ATOM   1076  CG1 VAL B   1      10.768 -19.342  -1.582  1.00 62.58           C  \n",
    "ATOM   1077  CG2 VAL B   1      12.250 -20.696  -3.202  1.00 24.78           C  \n",
    "ATOM   1078  N   HIS B   2      11.763 -19.   464  -5.811  1.00 68.56           N  \n",
    "ATOM   1079  CA  HIS B   2      12.288 -20.223  -6.906  1.00 63.28           C  \n",
    "ATOM   1080  C   HIS B   2      13.768 -20.310  -6.626  1.00 75.35           C  \n",
    "ATOM   1081  O   HIS B   2      14.296 -21.361  -6.237  1.00 71.83           O  \n",
    "ATOM   1082  CB  HIS B   2      12.177 -19.327  -8.096  1.00 57.31           C  \n",
    "ATOM   1083  CG  HIS B   2      12.390 -20.089  -9.415  1.00100.00           C  \n",
    "ATOM   1084  ND1 HIS B   2      12.159 -19.476 -10.670  1.00 96.98           N  \n",
    "ATOM   1085  CD2 HIS B   2      12.796 -21.402  -9.616  1.00 80.07           C  \n",
    "ATOM   1086  CE1 HIS B   2      12.432 -20.425 -11.667  1.00 97.15           C  \n",
    "ATOM   1087  NE2 HIS B   2      12.824 -21.614 -11.003  1.00 95.62           N  \n",
    "TER    2194      HIS B 146                                                      \n",
    "HETATM 2195  P   PO4 A 142      -0.011   6.346   0.005  0.50 59.85           P  \n",
    "HETATM 2196  O1  PO4 A 142       0.239   7.341  -1.195  0.50 62.66           O  \n",
    "HETATM 2197  O2  PO4 A 142       1.222   5.424   0.381  0.50 53.79           O  \n",
    "HETATM 2198  O3  PO4 A 142      -0.259   7.347   1.196  0.50 62.61           O  \n",
    "HETATM 2199  O4  PO4 A 142      -1.250   5.403  -0.344  0.50 53.40           O  \n",
    "END                                                                             \n",
    "\"\"\""
   ]
  },
  {
   "cell_type": "code",
   "execution_count": null,
   "id": "56a70c84-2816-4d6e-bdee-ddafec609c83",
   "metadata": {},
   "outputs": [],
   "source": []
  },
  {
   "cell_type": "markdown",
   "id": "31bfbce6-c2ca-49f6-9b19-5da02c6ec497",
   "metadata": {},
   "source": [
    "Use the above code cell to explore this data a little. Do you notice that each record is smooshed together? Our first task will be to seperate the records. Thankfully records are delimited by _newline_ characters (you can write these in strings like `\"\\n\"`). Write and test a function below to split out records from the example input."
   ]
  },
  {
   "cell_type": "code",
   "execution_count": null,
   "id": "f94d2606-3a48-494a-826d-a305ee03420d",
   "metadata": {},
   "outputs": [],
   "source": [
    "def extract_records(pdb):\n",
    "    \"Take raw PDB formatted text and extract all valid records.\"\n",
    "    return _\n",
    "\n",
    "# Test your implementation here\n",
    "assert 42 == len(extract_records(example)), \"Expected: 42, got: \" + str(len(extract_records(example)))"
   ]
  },
  {
   "cell_type": "markdown",
   "id": "6795b2af-4f37-4254-8971-e31c163a2a1f",
   "metadata": {},
   "source": [
    "Excellent! Now that we can look at individual records it's time to filter the records for $C_{\\alpha}$ `ATOM` records using the predicates you wrote earlier. Write a function called `filter_records()` below that uses your predicates. This function should accept the list of records from `extract_records()` and the chain identifier you're interested in as an arguments and return a list of records that satisfy the predicates."
   ]
  },
  {
   "cell_type": "code",
   "execution_count": null,
   "id": "4c7c6228-2f36-4b37-bf00-32974154032c",
   "metadata": {},
   "outputs": [],
   "source": [
    "def filter_records(records, chain):\n",
    "    \"Filter input records for those that are CA ATOMs in chain\"\n",
    "    return _\n",
    "\n",
    "# Test your implementation here\n",
    "assert 2 == len(filter_records(extract_records(example), 'A')), \"Expected 2, got \" + str(len(filter_records(extract_records(example), 'A')))\n",
    "assert 2 == len(filter_records(extract_records(example), 'B')), \"Expected 2, got \" + str(len(filter_records(extract_records(example), 'B')))\n",
    "assert ['2', '9'] == [r[10] for r in filter_records(extract_records(example), 'A')], \"Expected [2, 9], got \" + str([r[10] for r in filter_records(extract_records(example), 'A')])\n",
    "assert ['1072', '1079'] == [''.join(r[7:11]) for r in filter_records(extract_records(example), 'B')], \"Expected [1072, 1079], got \" + str([''.join(r[7:11]) for r in filter_records(extract_records(example), 'B')])"
   ]
  },
  {
   "cell_type": "markdown",
   "id": "30b691d8-77e0-4472-81eb-0a3432113a0a",
   "metadata": {},
   "source": [
    "You've almost finished parsing the data! Only 1 thing left to do now that you have a list of only the records you're interested in: extract the coordinates :)\n",
    "\n",
    "Write a function below that takes a list of records as an argument and returns a list of tuples containing coordinates like: $[(x_1. y_1, z_1), (x_2, y_2, z_2), ..., (x_n, y_n, z_n)]$"
   ]
  },
  {
   "cell_type": "code",
   "execution_count": null,
   "id": "38677fae-f756-4e8a-b8af-e2a2d770c03f",
   "metadata": {},
   "outputs": [],
   "source": [
    "def extract_coordinates(records):\n",
    "    \"Extract 3D coordinate values from filtered PDB records\"\n",
    "    coords = []\n",
    "    for record in records:\n",
    "        x = _\n",
    "        y = _\n",
    "        z = _\n",
    "        coords.append([x, y, z])\n",
    "    return coords\n",
    "\n",
    "#  Test your implementation here\n",
    "from solutions.pdb import compare_coordinate_lists\n",
    "expectedA = [[5.776, 17.899, 5.595], [9.698, 18.050, 5.442]]\n",
    "expectedB = [[10.737, -18.800, -3.820], [12.288, -20.223, -6.906]]\n",
    "assert all(compare_coordinate_lists(extract_coordinates(filter_records(extract_records(example), 'A')), expectedA))\n",
    "assert all(compare_coordinate_lists(extract_coordinates(filter_records(extract_records(example), 'B')), expectedB))"
   ]
  },
  {
   "cell_type": "markdown",
   "id": "c54e66c9-61db-4978-bdb9-72d9c4609337",
   "metadata": {},
   "source": [
    "Well done! You've now finished parsing the coordinate data :) And given you've passed all of the test cases you can be reasonably confident that your code is correct.\n",
    "\n",
    "---\n",
    "\n",
    "## Part 3: Plotting the 3D coordinates\n",
    "\n",
    "Finally! You've finished wrangling data. It's time for the pay off :) Today you'll finish up by fetching PDB data from the internet and ploting it with matplotlib. Make sure you run the following code cell without editing it so that plots will display nice and interactively in the notebook..."
   ]
  },
  {
   "cell_type": "code",
   "execution_count": null,
   "id": "ab90b866-6612-48ee-9c6a-0d2724452c20",
   "metadata": {},
   "outputs": [],
   "source": [
    "%matplotlib widget"
   ]
  },
  {
   "cell_type": "markdown",
   "id": "7d1c6412-bb8e-4532-8efd-ddb2eca2d007",
   "metadata": {},
   "source": [
    "Then we'll import the libraries we need..."
   ]
  },
  {
   "cell_type": "code",
   "execution_count": null,
   "id": "71490529-9bde-4dcf-b5a2-f049e855e1cc",
   "metadata": {},
   "outputs": [],
   "source": [
    "from urllib import request # For getting PDB data over the internet\n",
    "\n",
    "import matplotlib.pyplot as plt # For plotting"
   ]
  },
  {
   "cell_type": "markdown",
   "id": "64c8a0c2-327a-4bfb-8ece-beb14f702e5a",
   "metadata": {},
   "source": [
    "Let's start by writing the function to download PDB data over the internet. We can use the Protein Data Bank Europe repository for this. The URL Template looks like this:\n",
    "\n",
    "<pre>\n",
    "<span style=\"color:blue;\">https://www.ebi.ac.uk/pdbe/entry-files/download/pdb</span><span style=\"color:black;\">$PDBID</span><span style=\"color:blue;\">.ent</span>\n",
    "</pre>\n",
    "\n",
    "You should replace the `$PDBID` part with a valid PDB accession code in _lower case_. Here are a few examples:\n",
    "* [1HHO](https://www.ebi.ac.uk/pdbe/entry/pdb/1hho): Human Oxyhaemoglobin\n",
    "* [1MAZ](https://www.ebi.ac.uk/pdbe/entry/pdb/1maz): BCL-XL, an inhibitor of programmed cell death\n",
    "* [1CPB](https://www.ebi.ac.uk/pdbe/entry/pdb/1cpb): Bovine Carboxypeptidase B\n",
    "* [1SRX](https://www.ebi.ac.uk/pdbe/entry/pdb/1srx): E. coli Thioredoxin-S2"
   ]
  },
  {
   "cell_type": "code",
   "execution_count": null,
   "id": "7efd525e-0126-436d-8ce6-2420a6d80a1a",
   "metadata": {},
   "outputs": [],
   "source": [
    "def fetch_pdb(code):\n",
    "    \"Fetch PDB data from PDBe. Code should be e.g. '1HHO'\"\n",
    "    url = \"https://www.ebi.ac.uk/pdbe/entry-files/download/pdb\" + code.lower() + \".ent\"\n",
    "    with request.urlopen(url) as pdbfile:\n",
    "        pdb = _.read().decode() # Note the decode() is necessary. If you're not sure why, ask an instructor.\n",
    "    return _"
   ]
  },
  {
   "cell_type": "markdown",
   "id": "4b31a809-9411-41e9-a903-df7c3a0df66a",
   "metadata": {
    "tags": []
   },
   "source": [
    "Now you should be able to fetch one of the examples and extract the $C_\\alpha$ coordinates with your `extract_coordinates()` function.\n",
    "\n",
    "The final thing to do is massage our coordinate data ready for plotting and plot the coordinates! When you're finished you should have an interactive plot something like this (for 1HHO):\n",
    "\n",
    "![1HHO](images/1hho_plotted.png)"
   ]
  },
  {
   "cell_type": "code",
   "execution_count": null,
   "id": "271cee16-55b4-487d-8d16-373cfb0295be",
   "metadata": {},
   "outputs": [],
   "source": [
    "def plot_coordinates(pdb_id, chain_id):\n",
    "    coordinates = extract_coordinates(filter_records(extract_records(fetch_pdb(pdb_id)), chain_id)) # Download and extract the coordinates for a protein\n",
    "    fig = plt.figure()\n",
    "    ax = plt.axes(projection=\"3d\")\n",
    "    x, y, z = zip(*coordinates)\n",
    "    ax.plot(x, y, z, label=pdb_id+'-'+chain_id) # Fill in the label\n",
    "    ax.legend()\n",
    "    plt.show()"
   ]
  },
  {
   "cell_type": "code",
   "execution_count": null,
   "id": "e573b5d8-b340-4f69-b45b-5fbfb63cf09d",
   "metadata": {},
   "outputs": [],
   "source": [
    "plot_coordinates('1HHO', 'A')"
   ]
  }
 ],
 "metadata": {
  "kernelspec": {
   "display_name": "Python 3",
   "language": "python",
   "name": "python3"
  },
  "language_info": {
   "codemirror_mode": {
    "name": "ipython",
    "version": 3
   },
   "file_extension": ".py",
   "mimetype": "text/x-python",
   "name": "python",
   "nbconvert_exporter": "python",
   "pygments_lexer": "ipython3",
   "version": "3.9.2"
  }
 },
 "nbformat": 4,
 "nbformat_minor": 5
}
