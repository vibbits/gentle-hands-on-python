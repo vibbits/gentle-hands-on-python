{
 "cells": [
  {
   "cell_type": "markdown",
   "id": "basic-document",
   "metadata": {
    "tags": []
   },
   "source": [
    "# Project Index\n",
    "\n",
    "### Requires approx 4 hours\n",
    "* [Plot 3D protein structures](3d_protein_structure.ipynb)\n",
    "\n",
    "### Requires approx. 6 hours\n",
    "* [Sequence assembly](sequence_assembly.ipynb)\n",
    "* [Image segmentation](image_segmentation.ipynb)"
   ]
  },
  {
   "cell_type": "code",
   "execution_count": null,
   "id": "d568f120-18a2-4d85-beb9-2d0cac0185d3",
   "metadata": {},
   "outputs": [],
   "source": []
  }
 ],
 "metadata": {
  "kernelspec": {
   "display_name": "Python 3",
   "language": "python",
   "name": "python3"
  },
  "language_info": {
   "codemirror_mode": {
    "name": "ipython",
    "version": 3
   },
   "file_extension": ".py",
   "mimetype": "text/x-python",
   "name": "python",
   "nbconvert_exporter": "python",
   "pygments_lexer": "ipython3",
   "version": "3.9.2"
  }
 },
 "nbformat": 4,
 "nbformat_minor": 5
}
