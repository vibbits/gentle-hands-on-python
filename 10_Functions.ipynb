{
 "cells": [
  {
   "cell_type": "markdown",
   "metadata": {},
   "source": [
    "# 10. Functions\n",
    "\n",
    "> _\"If the implementation is hard to explain, it's a bad idea.\"_\n",
    "\n",
    "## 10.1 Introduction\n",
    "\n",
    "So far we've been writing 'sequential' code, basically following the flow of the code from the top to the bottom of the program. Sometimes, however, you want to re-use code elsewhere without copy/pasting a bit of code. You can do this with functions; a function holds a block of code that can be called from other places. Functions are essential for larger projects and code maintenance - if there's a problem with that piece of code, for example, you only have to fix it in one place.\n",
    "\n",
    "## 10.2 Functions\n",
    "\n",
    "We've already been using built-in Python functions, for example **print()** or **len()**. However, in this section we will build our own functions. Generally, the syntax when calling a function is the name of the function followed by parentheses **( )**. When you're writing your own function, in essence it would look like this\n",
    ":\n",
    "```\n",
    "def name_of_my_function(some, function, arguments):\n",
    "    \"\"\"Some information about the function\"\"\"\n",
    "    \n",
    "    print(\"This is a very simple function\")\n",
    "```\n",
    "\n",
    "A function is applied to some arguments which are defined within the parentheses and separated by commas.\n",
    "In the example above there are `3` arguments called `some`, `function`, and `arguments`. The string immediately after\n",
    "the definition is called the _docstring_ and is what the `help()` function uses.\n",
    "\n",
    "Let's have a look to an example with no arguments that always prints the same text when you call the function. "
   ]
  },
  {
   "cell_type": "code",
   "execution_count": null,
   "metadata": {},
   "outputs": [],
   "source": [
    "def silly_function():\n",
    "    \"This is some information about the silly function that will print out some silly text\"\n",
    "    text = \"Some silly text\"\n",
    "    print(text)"
   ]
  },
  {
   "cell_type": "markdown",
   "metadata": {},
   "source": [
    "Notice that nothing happened now. This is because we're not calling the function, we just defined it. In order to call the function, we use the following expression:"
   ]
  },
  {
   "cell_type": "code",
   "execution_count": null,
   "metadata": {},
   "outputs": [],
   "source": [
    "silly_function()"
   ]
  },
  {
   "cell_type": "markdown",
   "metadata": {},
   "source": [
    "Information about the function can be retrieved by using the `help()` function. "
   ]
  },
  {
   "cell_type": "code",
   "execution_count": null,
   "metadata": {},
   "outputs": [],
   "source": [
    "help(silly_function)"
   ]
  },
  {
   "cell_type": "markdown",
   "metadata": {},
   "source": [
    "The following code is an example of a function that will take some value as an argument and return the absolute value:"
   ]
  },
  {
   "cell_type": "code",
   "execution_count": null,
   "metadata": {},
   "outputs": [],
   "source": [
    "def myAbsFunc(someValue):\n",
    "    \"myAbsFunc takes a number as input and will return the absolute value\"\n",
    "    if someValue < 0:\n",
    "        someValue = -someValue\n",
    "    return someValue"
   ]
  },
  {
   "cell_type": "markdown",
   "metadata": {},
   "source": [
    "So here we've emulated the Python `abs()` function with `myAbsFunc()`. Within a function you can use **return** to 'send back' a value, which can then be used somewhere else in the code. "
   ]
  },
  {
   "cell_type": "code",
   "execution_count": null,
   "metadata": {},
   "outputs": [],
   "source": [
    "myAbsFunc(-10)"
   ]
  },
  {
   "cell_type": "markdown",
   "metadata": {},
   "source": [
    "It works exactly the same as a built-in Python function. "
   ]
  },
  {
   "cell_type": "code",
   "execution_count": null,
   "metadata": {},
   "outputs": [],
   "source": [
    "abs(-10)"
   ]
  },
  {
   "cell_type": "markdown",
   "metadata": {},
   "source": [
    "Functions can also make code more 'readable', as you can give them a name that is easy to understand so that it's clear what is happening without having to examine the code. "
   ]
  },
  {
   "cell_type": "code",
   "execution_count": null,
   "metadata": {},
   "outputs": [],
   "source": [
    "def getMeanValue(valueList):\n",
    "    \"\"\"\n",
    "    Calculate the mean (average) value from a list of values.\n",
    "    Input: list of integers/floats\n",
    "    Output: mean value\n",
    "    \"\"\"\n",
    "    meanValue = sum(valueList)/len(valueList)\n",
    "    \n",
    "    return meanValue\n",
    "\n",
    "getMeanValue([4,6,77,3,67,54,6,5])"
   ]
  },
  {
   "cell_type": "code",
   "execution_count": null,
   "metadata": {},
   "outputs": [],
   "source": [
    "getMeanValue([3443,434,34343456,32434,34,34341,23])"
   ]
  },
  {
   "cell_type": "markdown",
   "metadata": {},
   "source": [
    "Note that it's a good practice to add a _docstring_ (in this case a multi-line one) to the top of the function that describes what it does, what it takes as input and what it produces as output. This is especially important for more complex functions. You can find this information with `help(function_name)`"
   ]
  },
  {
   "cell_type": "code",
   "execution_count": null,
   "metadata": {},
   "outputs": [],
   "source": [
    "def compareMeanValueOfLists(valueList1,valueList2):\n",
    " \n",
    "    \"\"\"\n",
    "    Compare the mean values of two lists of values.\n",
    "    Input: valueList1, valueList2\n",
    "    Output: Text describing which of the valueLists has the highest average value\n",
    "    \"\"\"\n",
    " \n",
    "    meanValueList1 = getMeanValue(valueList1)\n",
    "    meanValueList2 = getMeanValue(valueList2)\n",
    " \n",
    "    if meanValueList1 == meanValueList2:\n",
    "        outputText = f\"The mean values are the same ({meanValueList1:.2f}).\"\n",
    "    elif meanValueList1 > meanValueList2:\n",
    "        outputText = f\"List1 has a higher average ({meanValueList1:.2f}) than list2 ({meanValueList2:.2f}).\"\n",
    "    else:\n",
    "        # No need to compare again, only possibility left\n",
    "        outputText = f\"List2 has a higher average ({meanValueList2:.2f}) than list1 ({meanValueList1:.2f}).\"\n",
    " \n",
    "    return outputText"
   ]
  },
  {
   "cell_type": "code",
   "execution_count": null,
   "metadata": {},
   "outputs": [],
   "source": [
    "valueList1 = [4,6,77,3,67,54,6,5]\n",
    "valueList2 = [5,5,76,5,65,56,4,5]\n",
    "compareMeanValueOfLists(valueList1,valueList2)\n"
   ]
  },
  {
   "cell_type": "markdown",
   "metadata": {},
   "source": [
    "You can call functions within functions, or basically anywhere in your code, even in conditions, ...:"
   ]
  },
  {
   "cell_type": "code",
   "execution_count": null,
   "metadata": {},
   "outputs": [],
   "source": [
    "if getMeanValue(valueList1) > 26 :\n",
    "    print(\"The mean value of list 1 is greater than 26.\")"
   ]
  },
  {
   "cell_type": "markdown",
   "metadata": {},
   "source": [
    "---\n",
    "### 10.2.1 Exercise\n",
    "\n",
    "The Hamming distance between two strings of equal length is the number of positions at which the corresponding character are different. In a more general context, the Hamming distance is one of several string metrics for measuring the edit distance between two sequences. \n",
    "\n",
    "The Hamming distance between:\n",
    "\n",
    "\"karolin\" and \"kathrin\" is 3.\n",
    "\n",
    "Write a function called \"hamming_distance\":\n",
    "- which accepts two strings, and \n",
    "- raises an error if the lengths are unequal. \n",
    "- Furthermore the function will return an integer that represents the number of mismatches between the two sequences. \n",
    "\n",
    "---"
   ]
  },
  {
   "cell_type": "code",
   "execution_count": null,
   "metadata": {},
   "outputs": [],
   "source": []
  },
  {
   "cell_type": "code",
   "execution_count": null,
   "metadata": {},
   "outputs": [],
   "source": []
  },
  {
   "cell_type": "markdown",
   "metadata": {},
   "source": [
    "---\n",
    "### 10.2.2 Exercise\n",
    "\n",
    "Write a function that calculates the GC content of the sequence in a fasta file. For this example you can use [this fasta file](data/gene.fa) which contains the genetic sequence of a bone gla protein. The function must accept a fasta file as input file and will print the following:\n",
    "\n",
    "```\n",
    "The GC content of HSBGPG Human gene for bone gla protein (BGP) is\t 63.53%\n",
    "```\n",
    "\n",
    "The method [.startswith()](https://www.tutorialspoint.com/python/string_startswith.htm) might help. The function should read the lines of the fasta file and if it starts with a '>' define the text that comes afterwards as the sequence ID. The other lines are part of the sequence. After reading through the lines, you can easily define the GC content by counting the bases and taking the average. \n",
    "\n",
    "---\n"
   ]
  },
  {
   "cell_type": "code",
   "execution_count": null,
   "metadata": {},
   "outputs": [],
   "source": []
  },
  {
   "cell_type": "code",
   "execution_count": null,
   "metadata": {},
   "outputs": [],
   "source": []
  },
  {
   "cell_type": "markdown",
   "metadata": {},
   "source": [
    "## 10.3 Flexibility in functions\n",
    "\n",
    "In the functions we've been using so far, arguments that are passed in and are required for the function to work.\n",
    "If you're not sure how many arguments the user will give, you can use the _unpacking operator_ (`*`). However, make sure that your code is flexible to access the number of arguments that the user is giving as input. In the example below we use the unpacking operator to define a flexible number of arguments, and we use a for-each loop to access each argument:\n"
   ]
  },
  {
   "cell_type": "code",
   "execution_count": null,
   "metadata": {},
   "outputs": [],
   "source": [
    "def MeanValue(*valueList):\n",
    "    \"\"\"\n",
    "    Calculate the mean (average) value from a list of values.\n",
    "    Input: list of integers/floats\n",
    "    Output: mean value\n",
    "    \"\"\"\n",
    "    meanValues = []\n",
    "    \n",
    "    for eachList in valueList:\n",
    "        meanOfList = sum(eachList)/len(eachList)\n",
    "        meanValues.append(meanOfList)\n",
    "        \n",
    "    return meanValues"
   ]
  },
  {
   "cell_type": "code",
   "execution_count": null,
   "metadata": {},
   "outputs": [],
   "source": [
    "MeanValue([1, 2, 3], [4,5,6])"
   ]
  },
  {
   "cell_type": "code",
   "execution_count": null,
   "metadata": {
    "scrolled": true
   },
   "outputs": [],
   "source": [
    "MeanValue([1, 2, 3], [4,5,6], [7, 8, 9])\n"
   ]
  },
  {
   "cell_type": "markdown",
   "metadata": {},
   "source": [
    "A second way of making flexible functions is by using *keywords* in a function; these are not required for the function to work because they are given a default value in the function definition. You can then set these keywords if necessary; consider the following example.\n",
    "\n",
    "\n",
    "By default the parameter sortedList is `False` which means that Python will not make a sorted list in the function below, unless you explicitly ask it by setting the parameter to `True`. "
   ]
  },
  {
   "cell_type": "code",
   "execution_count": 4,
   "metadata": {},
   "outputs": [],
   "source": [
    "def MeanValue(*valueList, sortedList = False):\n",
    "    \"\"\"\n",
    "    Calculate the mean (average) value from a list of values.\n",
    "    Input: list of integers/floats\n",
    "    Output: mean value\n",
    "    \"\"\"\n",
    "    meanValues = []\n",
    "\n",
    "    for eachList in valueList:\n",
    "        meanOfList = sum(eachList)/len(eachList)\n",
    "        meanValues.append(meanOfList)\n",
    "        \n",
    "    if sortedList == False:\n",
    "        print('I calculated all the mean values of your lists, however did not sort them')\n",
    "    else:\n",
    "        meanValues.sort()\n",
    "        print('I calculated the mean values and also sorted them')\n",
    "    return meanValues"
   ]
  },
  {
   "cell_type": "code",
   "execution_count": 5,
   "metadata": {},
   "outputs": [],
   "source": [
    "valueList1 = [4,6,77,3,67,54,6,5]\n",
    "valueList2 = [5,5,76,5,65,56,4,5]\n",
    "valueList3 = [5,9,75,8,65,34,4,4]"
   ]
  },
  {
   "cell_type": "code",
   "execution_count": null,
   "metadata": {},
   "outputs": [],
   "source": [
    "MeanValue(valueList1, valueList2, valueList3)"
   ]
  },
  {
   "cell_type": "code",
   "execution_count": null,
   "metadata": {},
   "outputs": [],
   "source": [
    "MeanValue(valueList1, valueList2, valueList3, sortedList = True)"
   ]
  },
  {
   "cell_type": "markdown",
   "metadata": {},
   "source": [
    "Using _keyword arguments_ makes usage of the function more obvious. For example, consider the following equally valid applications of the function to create complex numbers, `complex()`. Which one is clearer?"
   ]
  },
  {
   "cell_type": "code",
   "execution_count": null,
   "metadata": {},
   "outputs": [],
   "source": [
    "a = complex(5, 6)\n",
    "b = complex(real=5, imag=6)\n",
    "\n",
    "print(f\"{a=}, {b=}\")"
   ]
  },
  {
   "cell_type": "markdown",
   "metadata": {},
   "source": [
    "### 10.4 When and how to write functions\n",
    "\n",
    "When? Always! Don't wait until you need to re-use a block of code to extract it to a function. Any logical grouping of\n",
    "code could be made into a function with an informative name.\n",
    "\n",
    "How? Well you've already done so above. But it will save you headache in the future if you write functions that\n",
    "only depend on their inputs: they don't modify variables outside of their scope, they dont open and read/write\n",
    "files, and they don't modify their inputs. This, of course, won't always be possible. But you should try to\n",
    "adhere to this advice where it is reasonable."
   ]
  },
  {
   "cell_type": "markdown",
   "metadata": {},
   "source": [
    "## 10.4 Next session\n",
    "\n",
    "Go to our [next chapter](11_Modules.ipynb). "
   ]
  }
 ],
 "metadata": {
  "kernelspec": {
   "display_name": "Python 3",
   "language": "python",
   "name": "python3"
  },
  "language_info": {
   "codemirror_mode": {
    "name": "ipython",
    "version": 3
   },
   "file_extension": ".py",
   "mimetype": "text/x-python",
   "name": "python",
   "nbconvert_exporter": "python",
   "pygments_lexer": "ipython3",
   "version": "3.8.3"
  }
 },
 "nbformat": 4,
 "nbformat_minor": 2
}
