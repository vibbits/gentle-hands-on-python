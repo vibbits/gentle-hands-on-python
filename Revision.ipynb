{
 "cells": [
  {
   "cell_type": "markdown",
   "id": "2973fb92-301c-4d58-929b-0e6fdeeee7fd",
   "metadata": {},
   "source": [
    "# Revision exercise for day 3!\n",
    "\n",
    "Write a function that takes a list of numbers and returns that list without any of the even numbers.\n",
    "\n",
    "e.g. `filter_odd([2, 3, 5, 6, 9, 4, 10, 13])` should return `[3, 5, 9, 13]`"
   ]
  },
  {
   "cell_type": "code",
   "execution_count": null,
   "id": "5329a6e8-a1f9-4f51-ad28-843aedb9b1f8",
   "metadata": {},
   "outputs": [],
   "source": []
  }
 ],
 "metadata": {
  "kernelspec": {
   "display_name": "Python 3",
   "language": "python",
   "name": "python3"
  },
  "language_info": {
   "codemirror_mode": {
    "name": "ipython",
    "version": 3
   },
   "file_extension": ".py",
   "mimetype": "text/x-python",
   "name": "python",
   "nbconvert_exporter": "python",
   "pygments_lexer": "ipython3",
   "version": "3.9.2"
  }
 },
 "nbformat": 4,
 "nbformat_minor": 5
}
