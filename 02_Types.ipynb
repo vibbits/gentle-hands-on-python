{
 "cells": [
  {
   "cell_type": "markdown",
   "metadata": {},
   "source": [
    "# Data Types\n",
    "\n",
    "Using [Hedy](https://hedy.org), you were able to `print` text to the\n",
    "program output area. You even discovered a special syntax for writing\n",
    "literal text in your programs: you surrounded the text with quotation\n",
    "marks (`\"`). Programmers refer to text between quotation marks as\n",
    "*strings*. In fact, Python shortens this name to simply `str`. `str` is\n",
    "a *data type*, all strings are the type, `str`. As you will discover\n",
    "throughout this course, Python has a rich set of *data types* that are\n",
    "useful when writing programs. But first, let us try to understand why\n",
    "thinking about data types is useful.\n",
    "\n",
    "------------------------------------------------------------------------\n",
    "\n",
    "### Exercise 2-1: Why?\n",
    "\n",
    "What is the result of an operation like this?"
   ],
   "id": "6a8f42d7-f405-4b85-ab74-d2e8787c65fb"
  },
  {
   "cell_type": "code",
   "execution_count": null,
   "metadata": {},
   "outputs": [],
   "source": [
    "\"hello\" + 5"
   ],
   "id": "101726fd-210a-4823-a2b7-730f06b91745"
  },
  {
   "cell_type": "markdown",
   "metadata": {},
   "source": [
    "------------------------------------------------------------------------\n",
    "\n",
    "Indeed it is nonsense. `\"hello\"` is a string (in Python we say it is a\n",
    "`str`) and `5` is an integer number (in Python we say `int`). They are\n",
    "different *data types*. You can think of data types as the *shape* of\n",
    "some data. The `+` operator expects its operands to be compatible shapes\n",
    "(data types).\n",
    "\n",
    "------------------------------------------------------------------------\n",
    "\n",
    "### Exercise 2-2: Type errors\n",
    "\n",
    "Run the following 2 code blocks. Read the error messages. Notice the\n",
    "difference in error messages. Why are the error messages different?"
   ],
   "id": "3427c25f-01cb-4339-9c45-559d26a39cf7"
  },
  {
   "cell_type": "code",
   "execution_count": null,
   "metadata": {},
   "outputs": [],
   "source": [
    "\"hello\" + 5"
   ],
   "id": "cb4e74ac-7e5e-4ff1-a91a-2e45fb398149"
  },
  {
   "cell_type": "markdown",
   "metadata": {},
   "source": [
    "or,"
   ],
   "id": "8ebd04f2-49e5-4472-8791-0180799e7246"
  },
  {
   "cell_type": "code",
   "execution_count": null,
   "metadata": {},
   "outputs": [],
   "source": [
    "5 + \"hello\""
   ],
   "id": "dec25874-2832-4d58-83f8-373a891ec1fd"
  },
  {
   "cell_type": "markdown",
   "metadata": {},
   "source": [
    "------------------------------------------------------------------------\n",
    "\n",
    "Python allows us programmers the *option* to explicitly *annotate* the\n",
    "data types of values in our programs. This can be very helpful as we\n",
    "will see later on. For now, let’s just look at the syntax for data type\n",
    "annotations in Python."
   ],
   "id": "673e03d6-4217-4571-93ca-524a7391fe37"
  },
  {
   "cell_type": "code",
   "execution_count": null,
   "metadata": {},
   "outputs": [],
   "source": [
    "name: str = \"James\""
   ],
   "id": "20df9112-19ee-42f9-b5df-0dcbdd74883e"
  },
  {
   "cell_type": "markdown",
   "metadata": {},
   "source": [
    "In Python, we use the `=` operator for variable assignment. This is the\n",
    "same as in Hedy:\n",
    "\n",
    "``` python\n",
    "name is \"James\"\n",
    "```\n",
    "\n",
    "But now we use the `:` operator to remind ourselves, or other people\n",
    "reading our code, that the variable `name` contains a `str`.\n",
    "\n",
    "## What is the type of a value?\n",
    "\n",
    "Python provides a function that we can use to discover the data type of\n",
    "a value: `type()`. Let’s use it on some values:"
   ],
   "id": "165d4522-92e5-4db7-bfdf-a532ea1055a9"
  },
  {
   "cell_type": "code",
   "execution_count": null,
   "metadata": {},
   "outputs": [],
   "source": [
    "type(\"James\")"
   ],
   "id": "044625bd-a07d-47a5-a739-62c84c77af04"
  },
  {
   "cell_type": "code",
   "execution_count": null,
   "metadata": {},
   "outputs": [],
   "source": [
    "type(5)"
   ],
   "id": "9e67e1b6-0fad-4bea-857b-8b3c8b1b96a5"
  },
  {
   "cell_type": "code",
   "execution_count": null,
   "metadata": {},
   "outputs": [],
   "source": [
    "type(len(\"James\"))"
   ],
   "id": "e965a950-ad92-4c75-8fc1-a6108c7f5617"
  },
  {
   "cell_type": "code",
   "execution_count": null,
   "metadata": {},
   "outputs": [],
   "source": [
    "x = input(\"What is your name?\")\n",
    "print(\"Your name is: \", x)\n",
    "type(x)"
   ],
   "id": "a72fe7a6-b47b-417f-a5e6-7b936938468e"
  },
  {
   "cell_type": "markdown",
   "metadata": {},
   "source": [
    "------------------------------------------------------------------------\n",
    "\n",
    "### Exercise 2-3: What’s that type?\n",
    "\n",
    "What is the type of this expression?\n",
    "\n",
    "``` python\n",
    "\"Hello \" + \"world\"\n",
    "```\n",
    "\n",
    "try to guess first, then use the `type()` function to check your guess."
   ],
   "id": "7bf33d62-1627-4d56-be8a-21ced6cad9f9"
  },
  {
   "cell_type": "code",
   "execution_count": null,
   "metadata": {},
   "outputs": [],
   "source": [],
   "id": "f07efd42-351f-4e90-84b6-e0425a8221c0"
  },
  {
   "cell_type": "markdown",
   "metadata": {},
   "source": [
    "------------------------------------------------------------------------\n",
    "\n",
    "## Some other types\n",
    "\n",
    "Before we finish this chapter, there are 2 further data types that will\n",
    "be important during this course: `float` and `bool`.\n",
    "\n",
    "`float`, short for *floating point number*, is a decimal numeric data\n",
    "type that represents continuous numbers to within some finite accuracy.\n",
    "\n",
    "`bool`, short for *boolean* values represent the logical states of\n",
    "`True` or `False`.\n",
    "\n",
    "Each of these data types come with their own conversion functions.\n",
    "Experiment with them below.\n",
    "\n",
    "------------------------------------------------------------------------\n",
    "\n",
    "### Exercise 2-4: converting between types\n",
    "\n",
    "What `int` values are converted to `True`, which are converted to\n",
    "`False`?"
   ],
   "id": "073f05b7-1ba6-4f4b-b864-fe306fc00dd9"
  },
  {
   "cell_type": "code",
   "execution_count": null,
   "metadata": {},
   "outputs": [],
   "source": [
    "bool(0)"
   ],
   "id": "4d77fa5d-c6db-4838-9aa9-eb7f8c4a46a0"
  },
  {
   "cell_type": "markdown",
   "metadata": {},
   "source": [
    "------------------------------------------------------------------------\n",
    "\n",
    "## Chapter Review\n",
    "\n",
    "In this chapter you learned that all values in Python have a *data\n",
    "type*. You learned that operations on data expect compatible data types,\n",
    "and you learned how to annotate your programs with their types. Finally\n",
    "you learned about 3 new data types: `int`, `float`, and `bool`.\n",
    "\n",
    "## Review Questions\n",
    "\n",
    "1.  What is a `str`?\n",
    "    <details>\n",
    "    <summary>\n",
    "    Answer\n",
    "    </summary>\n",
    "    A <code>str</code> is the <em>data type</em> of all text.\n",
    "    </details>\n",
    "2.  Is it possible to use the `+` operator when the operands are both\n",
    "    `int` data types?\n",
    "    <details>\n",
    "    <summary>\n",
    "    Answer\n",
    "    </summary>\n",
    "    Yes. This would be addition of numbers.\n",
    "    </details>\n",
    "3.  Does Python check my type annotations?\n",
    "    <details>\n",
    "    <summary>\n",
    "    Answer\n",
    "    </summary>\n",
    "    No. Like comments, they are for people reading your code. There are\n",
    "    separate programs that will check your types but these are out of\n",
    "    scope for this course.\n",
    "    </details>\n",
    "\n",
    "Click [here](03_Functions.ipynb) to go to the next chapter."
   ],
   "id": "46e4ad39-ce7f-4645-8540-26976c407c7a"
  }
 ],
 "nbformat": 4,
 "nbformat_minor": 5,
 "metadata": {
  "kernelspec": {
   "name": "python3",
   "display_name": "Python 3 (ipykernel)",
   "language": "python"
  },
  "language_info": {
   "name": "python",
   "codemirror_mode": {
    "name": "ipython",
    "version": "3"
   },
   "file_extension": ".py",
   "mimetype": "text/x-python",
   "nbconvert_exporter": "python",
   "pygments_lexer": "ipython3",
   "version": "3.11.0"
  }
 }
}
