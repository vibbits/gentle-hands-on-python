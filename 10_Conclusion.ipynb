{
 "cells": [
  {
   "cell_type": "markdown",
   "metadata": {},
   "source": [
    "# What next? Or, how to apply what you’ve learned.\n",
    "\n",
    "> *“We’ve only just begun”*\n",
    ">\n",
    "> – The Carpenters\n",
    "\n",
    "Hopefully at this point (the end of the course) you’re feeling quite\n",
    "confident since you’ve learned everything necessary to start programming\n",
    "in Python: you’re now a Pythonista! We’ve completed 2 projects together\n",
    "during the course: a program to play FizzBuzz and another to plot\n",
    "climate data. You’ve also completed a major project on your own! That’s\n",
    "a huge achievement, one you should not underestimate!\n",
    "\n",
    "If you’re not feeling confident, that’s ok. Other the past 2 weeks\n",
    "you’ve had to take in, understand, and apply an enormous amount of new\n",
    "knowledge. The best thing you can do now is try to practice, try to use\n",
    "what you’ve learned wherever you get an opportunity.\n",
    "\n",
    "## Step 1: Just Do It! Or, fake it ’til you make it!\n",
    "\n",
    "The most important thing you can do is just start using Python. Make\n",
    "opportunities to use Python: automate tasks that you (or other people)\n",
    "usually do manually, perform calculations, or do some data analysis.\n",
    "Ignore the fear and uncertainty, believe in yourself. Yes, you will\n",
    "stumble, you will have troubles achieving what you want to do - but you\n",
    "will also succeed and learn how to solve the problems you face. Before\n",
    "you realise, the things you initially feared won’t scare you any more.\n",
    "\n",
    "When you do face a problem you can’t solve, there are **many** resources\n",
    "available to help you including, 1. Us! Send us an email and we can try\n",
    "to help you solve the problem. 2. Stack Overflow. This is a community of\n",
    "programmers dedicated to helping each other. There’s a good chance\n",
    "someone else has had the problem you have and someone else has solved\n",
    "it. 3. The Python documentation (`help()!`).\n",
    "[docs.python.org](https://docs.python.org/3/) is organised to guide you\n",
    "to the right place. Look here for reference material.\n",
    "\n",
    "## Step 2: Practise, practise, practise!\n",
    "\n",
    "This is actually just step 1. There’s no step 2!\n",
    "\n",
    "## Where to go next\n",
    "\n",
    "-   [The Hitchikers Guide to Python](https://docs.python-guide.org/)\n",
    "-   [VIB Advanced Python Course]()\n",
    "-   [VIB Data Analysis with Python\n",
    "    course](https://training.vib.be/all-trainings/python-downstream-data-analysis)\n",
    "-   [VIB Introduction to Machine Learning\n",
    "    course](https://training.vib.be/all-trainings/tour-machine-learning-classification-1)\n",
    "-   [VIB Deep Learning in Biology\n",
    "    course](https://training.vib.be/all-trainings/deep-learning-biology-0)"
   ],
   "id": "1c843c2a-9694-456b-b23d-f2918171c87d"
  }
 ],
 "nbformat": 4,
 "nbformat_minor": 5,
 "metadata": {
  "kernelspec": {
   "name": "python3",
   "display_name": "Python 3 (ipykernel)",
   "language": "python"
  },
  "language_info": {
   "name": "python",
   "codemirror_mode": {
    "name": "ipython",
    "version": "3"
   },
   "file_extension": ".py",
   "mimetype": "text/x-python",
   "nbconvert_exporter": "python",
   "pygments_lexer": "ipython3",
   "version": "3.11.0"
  }
 }
}
