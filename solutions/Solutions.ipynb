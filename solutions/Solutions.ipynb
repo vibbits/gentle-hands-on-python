{
 "cells": [
  {
   "cell_type": "markdown",
   "metadata": {},
   "source": [
    "# Solutions"
   ]
  },
  {
   "cell_type": "markdown",
   "metadata": {},
   "source": [
    "---\n",
    "\n",
    "### 2.1.1 Exercise\n",
    "What happens when you try to divide by zero?\n",
    "\n",
    "---"
   ]
  },
  {
   "cell_type": "code",
   "execution_count": 1,
   "metadata": {},
   "outputs": [
    {
     "ename": "ZeroDivisionError",
     "evalue": "division by zero",
     "output_type": "error",
     "traceback": [
      "\u001b[0;31m---------------------------------------------------------------------------\u001b[0m",
      "\u001b[0;31mZeroDivisionError\u001b[0m                         Traceback (most recent call last)",
      "\u001b[0;32m<ipython-input-1-adafc2937013>\u001b[0m in \u001b[0;36m<module>\u001b[0;34m\u001b[0m\n\u001b[0;32m----> 1\u001b[0;31m \u001b[0;36m5\u001b[0m \u001b[0;34m/\u001b[0m \u001b[0;36m0\u001b[0m\u001b[0;34m\u001b[0m\u001b[0;34m\u001b[0m\u001b[0m\n\u001b[0m",
      "\u001b[0;31mZeroDivisionError\u001b[0m: division by zero"
     ]
    }
   ],
   "source": [
    "5 / 0"
   ]
  },
  {
   "cell_type": "markdown",
   "metadata": {},
   "source": [
    "---\n",
    "\n",
    "### 2.1.2 Exercise\n",
    "Introduce brackets into this expression to make it evaluate to 5.\n",
    "\n",
    "---"
   ]
  },
  {
   "cell_type": "code",
   "execution_count": 2,
   "metadata": {},
   "outputs": [
    {
     "data": {
      "text/plain": [
       "5.0"
      ]
     },
     "execution_count": 2,
     "metadata": {},
     "output_type": "execute_result"
    }
   ],
   "source": [
    "(8 * 6 / 4 - 2) * 0.5"
   ]
  },
  {
   "cell_type": "markdown",
   "metadata": {},
   "source": [
    "---\n",
    "\n",
    "### 2.1.3 Exercise\n",
    "What happens if you convert a string that is not a number into a number?\n",
    "\n",
    "---"
   ]
  },
  {
   "cell_type": "code",
   "execution_count": 1,
   "metadata": {},
   "outputs": [
    {
     "ename": "ValueError",
     "evalue": "invalid literal for int() with base 10: 'five'",
     "output_type": "error",
     "traceback": [
      "\u001b[0;31m---------------------------------------------------------------------------\u001b[0m",
      "\u001b[0;31mValueError\u001b[0m                                Traceback (most recent call last)",
      "\u001b[0;32m<ipython-input-1-3e382ef51cdd>\u001b[0m in \u001b[0;36m<module>\u001b[0;34m\u001b[0m\n\u001b[0;32m----> 1\u001b[0;31m \u001b[0mint\u001b[0m\u001b[0;34m(\u001b[0m\u001b[0;34m'five'\u001b[0m\u001b[0;34m)\u001b[0m\u001b[0;34m\u001b[0m\u001b[0;34m\u001b[0m\u001b[0m\n\u001b[0m",
      "\u001b[0;31mValueError\u001b[0m: invalid literal for int() with base 10: 'five'"
     ]
    }
   ],
   "source": [
    "int('five')"
   ]
  },
  {
   "cell_type": "markdown",
   "metadata": {},
   "source": [
    "You will receive an error from the Python interpreter. Something like: `ValueError: invalid literal for int() with base 10: 'five'`. When this happens it is important to **read the error message**. It will help you to diagnose and fix the mistake you made."
   ]
  },
  {
   "cell_type": "markdown",
   "metadata": {},
   "source": [
    "---\n",
    "\n",
    "### 2.1.4 Exercise\n",
    "Can you guess what `not False` will be?\n",
    "\n",
    "---"
   ]
  },
  {
   "cell_type": "code",
   "execution_count": 2,
   "metadata": {},
   "outputs": [
    {
     "data": {
      "text/plain": [
       "True"
      ]
     },
     "execution_count": 2,
     "metadata": {},
     "output_type": "execute_result"
    }
   ],
   "source": [
    "not False == True"
   ]
  },
  {
   "cell_type": "markdown",
   "metadata": {},
   "source": [
    "---\n",
    "\n",
    "### 2.1.5 Exercise\n",
    "Make the expression in the following code cell evaluate to `True`. What is the `!=` operator doing?\n",
    "\n",
    "---"
   ]
  },
  {
   "cell_type": "markdown",
   "metadata": {},
   "source": [
    "The `!=` operator can be read as \"not equal\". So modifying the expression to what is below should evaluate to `True`."
   ]
  },
  {
   "cell_type": "code",
   "execution_count": 3,
   "metadata": {},
   "outputs": [
    {
     "data": {
      "text/plain": [
       "True"
      ]
     },
     "execution_count": 3,
     "metadata": {},
     "output_type": "execute_result"
    }
   ],
   "source": [
    "\"hello\" != \"world\""
   ]
  },
  {
   "cell_type": "markdown",
   "metadata": {},
   "source": [
    "---\n",
    "\n",
    "### 2.1.6 Exercise\n",
    "Predict the outcome of each of these operations before evaluating the cells to see if you're correct.\n",
    "\n",
    "---"
   ]
  },
  {
   "cell_type": "code",
   "execution_count": 3,
   "metadata": {},
   "outputs": [
    {
     "data": {
      "text/plain": [
       "True"
      ]
     },
     "execution_count": 3,
     "metadata": {},
     "output_type": "execute_result"
    }
   ],
   "source": [
    "10 >= (5 + 5)"
   ]
  },
  {
   "cell_type": "code",
   "execution_count": 4,
   "metadata": {},
   "outputs": [
    {
     "data": {
      "text/plain": [
       "True"
      ]
     },
     "execution_count": 4,
     "metadata": {},
     "output_type": "execute_result"
    }
   ],
   "source": [
    "(1 + 2 + 3 + 4) == 10"
   ]
  },
  {
   "cell_type": "code",
   "execution_count": 5,
   "metadata": {},
   "outputs": [
    {
     "data": {
      "text/plain": [
       "True"
      ]
     },
     "execution_count": 5,
     "metadata": {},
     "output_type": "execute_result"
    }
   ],
   "source": [
    "abs(-22) != 1"
   ]
  },
  {
   "cell_type": "code",
   "execution_count": 6,
   "metadata": {},
   "outputs": [
    {
     "data": {
      "text/plain": [
       "False"
      ]
     },
     "execution_count": 6,
     "metadata": {},
     "output_type": "execute_result"
    }
   ],
   "source": [
    "\"HELLO\" == \"hello\""
   ]
  },
  {
   "cell_type": "code",
   "execution_count": 7,
   "metadata": {},
   "outputs": [
    {
     "data": {
      "text/plain": [
       "False"
      ]
     },
     "execution_count": 7,
     "metadata": {},
     "output_type": "execute_result"
    }
   ],
   "source": [
    "len(\"hello\") <= 4"
   ]
  },
  {
   "cell_type": "markdown",
   "metadata": {},
   "source": [
    "---\n",
    "### 2.7.1 Exercises\n",
    "\n",
    "Write a program where you ask for a number, convert it to an integer, and print out what your number is.\n",
    "\n",
    "---"
   ]
  },
  {
   "cell_type": "code",
   "execution_count": 4,
   "metadata": {},
   "outputs": [
    {
     "name": "stdin",
     "output_type": "stream",
     "text": [
      "Give me a number: 5.5\n"
     ]
    },
    {
     "data": {
      "text/plain": [
       "5"
      ]
     },
     "execution_count": 4,
     "metadata": {},
     "output_type": "execute_result"
    }
   ],
   "source": [
    "myFloatString = input(\"Give me a number:\")\n",
    "int(float(myFloatString))"
   ]
  },
  {
   "cell_type": "markdown",
   "metadata": {},
   "source": [
    "---\n",
    "\n",
    "### Extra exercise 2.7.1-1\n",
    "Write a program that prints fractional part (numbers after the decimal point) of an input number\n",
    "\n",
    "---"
   ]
  },
  {
   "cell_type": "code",
   "execution_count": 5,
   "metadata": {},
   "outputs": [
    {
     "name": "stdin",
     "output_type": "stream",
     "text": [
      "Give me a number: 5.5\n"
     ]
    },
    {
     "data": {
      "text/plain": [
       "0.5"
      ]
     },
     "execution_count": 5,
     "metadata": {},
     "output_type": "execute_result"
    }
   ],
   "source": [
    "myNumber = float(input(\"Give me a number:\"))\n",
    "intPart = int(myNumber)\n",
    "myNumber - intPart"
   ]
  },
  {
   "cell_type": "markdown",
   "metadata": {},
   "source": [
    "---\n",
    "\n",
    "### Extra exercise 2.7.1-2\n",
    "Write a program that computes the area of a circle with radius given by the user.\n",
    "\n",
    "---"
   ]
  },
  {
   "cell_type": "code",
   "execution_count": 6,
   "metadata": {},
   "outputs": [
    {
     "name": "stdin",
     "output_type": "stream",
     "text": [
      "Radius of a circle: 3.14159\n"
     ]
    },
    {
     "data": {
      "text/plain": [
       "31.006224300558934"
      ]
     },
     "execution_count": 6,
     "metadata": {},
     "output_type": "execute_result"
    }
   ],
   "source": [
    "from math import pi\n",
    "radius = float(input(\"Radius of a circle:\"))\n",
    "pi * (radius ** 2)"
   ]
  },
  {
   "cell_type": "markdown",
   "metadata": {},
   "source": [
    "---\n",
    "### 2.7.2 Exercises\n",
    "\n",
    "See what happens if you try to convert a float to an integer, and an integer to a string. \n",
    "\n",
    "---"
   ]
  },
  {
   "cell_type": "code",
   "execution_count": 8,
   "metadata": {},
   "outputs": [
    {
     "data": {
      "text/plain": [
       "11"
      ]
     },
     "execution_count": 8,
     "metadata": {},
     "output_type": "execute_result"
    }
   ],
   "source": [
    "#This works\n",
    "myFloat = float(11.4)\n",
    "int(myFloat)"
   ]
  },
  {
   "cell_type": "code",
   "execution_count": 9,
   "metadata": {},
   "outputs": [
    {
     "data": {
      "text/plain": [
       "'12'"
      ]
     },
     "execution_count": 9,
     "metadata": {},
     "output_type": "execute_result"
    }
   ],
   "source": [
    "#This works as well\n",
    "myInt = int(12)\n",
    "str(myInt)"
   ]
  },
  {
   "cell_type": "code",
   "execution_count": 10,
   "metadata": {},
   "outputs": [
    {
     "ename": "ValueError",
     "evalue": "could not convert string to float: 'aa'",
     "output_type": "error",
     "traceback": [
      "\u001b[0;31m---------------------------------------------------------------------------\u001b[0m",
      "\u001b[0;31mValueError\u001b[0m                                Traceback (most recent call last)",
      "\u001b[0;32m<ipython-input-10-2d6272b50809>\u001b[0m in \u001b[0;36m<module>\u001b[0;34m\u001b[0m\n\u001b[1;32m      1\u001b[0m \u001b[0;31m# This fails and gives a TypeError - Python cannot convert \"aa\" into a float.\u001b[0m\u001b[0;34m\u001b[0m\u001b[0;34m\u001b[0m\u001b[0;34m\u001b[0m\u001b[0m\n\u001b[1;32m      2\u001b[0m \u001b[0mmyString\u001b[0m \u001b[0;34m=\u001b[0m \u001b[0mstr\u001b[0m\u001b[0;34m(\u001b[0m\u001b[0;34m\"aa\"\u001b[0m\u001b[0;34m)\u001b[0m\u001b[0;34m\u001b[0m\u001b[0;34m\u001b[0m\u001b[0m\n\u001b[0;32m----> 3\u001b[0;31m \u001b[0mfloat\u001b[0m\u001b[0;34m(\u001b[0m\u001b[0mmyString\u001b[0m\u001b[0;34m)\u001b[0m\u001b[0;34m\u001b[0m\u001b[0;34m\u001b[0m\u001b[0m\n\u001b[0m",
      "\u001b[0;31mValueError\u001b[0m: could not convert string to float: 'aa'"
     ]
    }
   ],
   "source": [
    "# This fails and gives a TypeError - Python cannot convert \"aa\" into a float.\n",
    "myString = str(\"aa\")\n",
    "float(myString)"
   ]
  },
  {
   "cell_type": "markdown",
   "metadata": {},
   "source": [
    "---\n",
    "\n",
    "### 2.7.3 Exercise\n",
    "Can you compare strings? What does it mean for one string to be less than another string? What does the following expression evaluate to and why?"
   ]
  },
  {
   "cell_type": "code",
   "execution_count": null,
   "metadata": {},
   "outputs": [],
   "source": [
    "\"three\" > \"six\""
   ]
  },
  {
   "cell_type": "markdown",
   "metadata": {},
   "source": [
    "Strings **can** be compared. It is clear you might want to check if 2 strings are the same, e.g.\n",
    "```python\n",
    "\"ATGC\" == \"ATTC\"\n",
    "```\n",
    "Strings are compared **alphabetically**, `'t'` is later in the alphabet than `'s'` so `'t' > 's'`."
   ]
  },
  {
   "cell_type": "markdown",
   "metadata": {},
   "source": [
    "---\n",
    "\n",
    "## 3.2.1 Exercise\n",
    "Write a function called `distance` that accepts 2 numbers called `x` and `y` as arguments and computes the euclidean distance of the coordinate $(x,y)$ from the origin $(0,0)$ $$d(x, y) = \\sqrt{x^2 + y^2}$$\n"
   ]
  },
  {
   "cell_type": "code",
   "execution_count": 11,
   "metadata": {},
   "outputs": [],
   "source": [
    "from math import sqrt\n",
    "\n",
    "# Write your function here\n",
    "def distance(x, y):\n",
    "    \"Distance between coordinate (x,y) and origin.\"\n",
    "    return sqrt(x**2 + y**2)\n",
    "\n",
    "assert 5 == distance(3, 4), f\"The coordinate (3,4) is 5 units from the origin, not {distance(3,4)} units.\"\n",
    "assert 13 == distance(5, 12), f\"The coordinate (4,12) is 13 units from the origin, not {distance(5,12)} units.\"\n",
    "assert 17 == distance(8, 15), f\"The coordinate (8,15) is 17 units from the origin, not {distance(8,15)} units.\"\n",
    "assert distance.__doc__ is not None, \"You should write a docstring to help other use your function.\""
   ]
  },
  {
   "cell_type": "markdown",
   "metadata": {},
   "source": [
    "---\n",
    "\n",
    "## 3.2.2 Exercise\n",
    "Since programs are just functions composed of functions and values, it is time for you to write a non-trivial program.\n",
    "\n",
    "Write a program called `ball_height` that accepts coordinates relative to a thrower (e.g. 5 metres east, and 7.5 metres south) and compute the height of a ball, thrown in their direction, when it reaches them. Hint: use the `ball_trajectory()` and distance functions we've defined above."
   ]
  },
  {
   "cell_type": "code",
   "execution_count": 24,
   "metadata": {},
   "outputs": [],
   "source": [
    "def ball_height(x, y):\n",
    "    \"Ball height at coordinate (x,y) after being thrown from the origin.\"\n",
    "    return ball_trajectory(distance(x, y))\n",
    "\n",
    "assert abs(ball_height(0.2, 0.9) - 7.5195) < 0.0001, f\"Got:{ball_height(0.2, 0.9)}; Expected: 7.5195\"\n",
    "assert abs(ball_height(0.1, 0.75) - 6.4213) < 0.0001, f\"Got:{ball_height(0.1, 0.75)}; Expected: 6.4213\"\n",
    "assert abs(ball_height(1, 2.5) - 12.4258) < 0.0001, f\"Got:{ball_height(1, 2.5)}; Expected: 12.4258\"\n",
    "assert ball_height.__doc__ is not None, \"You should write a docstring to help other use your function.\""
   ]
  },
  {
   "cell_type": "markdown",
   "metadata": {},
   "source": [
    "\n",
    "---\n",
    "### 4.3.1 Exercise\n",
    "\n",
    "Write a program where you ask the user for x and y, make sure that y is not zero, and print out x/y. \n",
    "\n",
    "---"
   ]
  },
  {
   "cell_type": "code",
   "execution_count": null,
   "metadata": {},
   "outputs": [],
   "source": [
    "# Write a program where you ask the user for x and y, make sure that y is not zero, and print out x/y. \n",
    "\n",
    "xString = input(\"Give a number: \")\n",
    "yString = input(\"Give another number that is not zero: \")\n",
    "\n",
    "x = float(xString)\n",
    "y = float(yString)\n",
    "\n",
    "if y == 0:\n",
    "    print(\"Error, you're y-number is 0\")\n",
    "if y != 0:\n",
    "    result = x/y\n",
    "    print(\"x divided by y = \", result)"
   ]
  },
  {
   "cell_type": "markdown",
   "metadata": {},
   "source": [
    "---\n",
    "\n",
    "### Extra exercise 4.3.1-1\n",
    "Write a program that asks the user for a number, then prints whether the number is even or odd.\n",
    "\n",
    "---"
   ]
  },
  {
   "cell_type": "code",
   "execution_count": null,
   "metadata": {},
   "outputs": [],
   "source": [
    "num = int(input(\"Number?\"))\n",
    "if (num % 2) == 0: #Even\n",
    "    print(\"Even\")\n",
    "else:\n",
    "    print(\"Odd\")"
   ]
  },
  {
   "cell_type": "markdown",
   "metadata": {},
   "source": [
    "---\n",
    "\n",
    "### Extra exercise 4.3.1-1\n",
    "Write a program that checks if a string is longer than a certain length, if it is, the string should be\n",
    "truncated and display ellipses (\"...\") as the last 3 characters. The truncated string + the ellipses should\n",
    "fit within the given length.\n",
    "    \n",
    "---"
   ]
  },
  {
   "cell_type": "code",
   "execution_count": null,
   "metadata": {},
   "outputs": [],
   "source": [
    "max_len = 10\n",
    "string = input(\"?\")\n",
    "\n",
    "if len(string) > max_len:\n",
    "    print(string[:max_len-3])\n",
    "else:\n",
    "    print(string)"
   ]
  },
  {
   "cell_type": "markdown",
   "metadata": {},
   "source": [
    "\n",
    "---\n",
    "### 4.4.1 Exercise\n",
    "\n",
    "Write a function that compares two words. Compare the words; \n",
    "- if they are the same, print the message `'Both words are the same'`, \n",
    "- if the first or second word is 'Stop', then print the message `'First word is stop, so we stopped'` or `'Second word is stop, so we stopped'`,\n",
    "- finally, if they are not the same, just print the words. \n",
    "\n",
    "Try to experiment and write some code that works first, before transforming it into a function. Note that Python is case sensitive, hence the words `hello` and `Hello` are not the same for Python.\n",
    "\n"
   ]
  },
  {
   "cell_type": "code",
   "execution_count": null,
   "metadata": {},
   "outputs": [],
   "source": [
    "# Input \n",
    "firstWord = \"Hello\"\n",
    "secondWord = \"Folks\"\n",
    "\n",
    "if firstWord.lower() == secondWord.lower():\n",
    "    message = 'Both words are the same'\n",
    "elif firstWord.lower() == 'stop':\n",
    "    message = 'First word is stop, so we stopped'\n",
    "elif secondWord.lower() == 'stop':\n",
    "    message = 'Second word is stop, so we stopped'\n",
    "else:\n",
    "    message = firstWord + \" \" + secondWord\n",
    "\n",
    "message"
   ]
  },
  {
   "cell_type": "code",
   "execution_count": null,
   "metadata": {},
   "outputs": [],
   "source": [
    "def compareWords(firstWord, secondWord):\n",
    "    if firstWord.lower() == secondWord.lower():\n",
    "        message = 'Both words are the same'\n",
    "    elif firstWord.lower() == 'stop':\n",
    "        message = 'First word is stop, so we stopped'\n",
    "    elif secondWord.lower() == 'stop':\n",
    "        message = 'Second word is stop, so we stopped'\n",
    "    else:\n",
    "        message = firstWord + \" \" + secondWord\n",
    "\n",
    "    return message"
   ]
  },
  {
   "cell_type": "code",
   "execution_count": null,
   "metadata": {},
   "outputs": [],
   "source": [
    "assert 'Hello world' == compareWords('Hello', 'world')\n",
    "assert 'Both words are the same' == compareWords('Hello', 'Hello')\n",
    "assert 'Second word is stop, so we stopped' == compareWords('Hello', 'stop')"
   ]
  },
  {
   "cell_type": "markdown",
   "metadata": {},
   "source": [
    "---\n",
    "### 4.4.2 Exercise\n",
    "\n",
    "Modify the code above so it prints that it is divisible by two and three when this is the case.\n",
    "\n",
    "---"
   ]
  },
  {
   "cell_type": "code",
   "execution_count": null,
   "metadata": {},
   "outputs": [],
   "source": [
    "# Solution with if-elif-else structure. \n",
    "x = 13\n",
    "\n",
    "if (x % 2) == 0 and (x % 3) == 0:\n",
    "    print(\"x is divisible by two and three!\")\n",
    "elif (x % 2) == 0:\n",
    "    print(\"x is divisible by two!\")\n",
    "elif (x % 3) == 0:\n",
    "    print(\"x is divisible by three!\")\n",
    "else:\n",
    "    print(\"x is not divisible by two, nor by three...\")\n",
    "\n",
    "print (\"x=\", x)"
   ]
  },
  {
   "cell_type": "code",
   "execution_count": null,
   "metadata": {},
   "outputs": [],
   "source": [
    "# Solution with nested if structures\n",
    "x = 12\n",
    " \n",
    "if (x % 2) == 0:\n",
    "    print(\"x is divisible by two!\")\n",
    "    if (x % 3) == 0:\n",
    "        print(\"x is divisible by three!\")\n",
    "elif (x % 3) == 0:\n",
    "    print(\"x is divisible by three!\")\n",
    "else:\n",
    "    print(\"x is not divisible by two or three...\")\n",
    "\n",
    "print (\"x=\", x)"
   ]
  },
  {
   "cell_type": "markdown",
   "metadata": {},
   "source": [
    "---\n",
    "### 5.2.2 Exercise - A\n",
    "\n",
    "Take the list [54,56,2,1,5223,6,23,57,3,7,3344], sort it in reverse order (largest value first) and print out the third value.\n"
   ]
  },
  {
   "cell_type": "code",
   "execution_count": null,
   "metadata": {},
   "outputs": [],
   "source": [
    "# Take the list [54,56,2,1,5223,6,23,57,3,7,3344], sort it in reverse order (largest value first) and print out the third value.\n",
    "myList = [54,56,2,1,5223,6,23,57,3,7,3344]\n",
    "\n",
    "myList.sort()\n",
    "myList.reverse()\n",
    "\n",
    "print(myList[2])\n",
    "#The first element is at index 0, the third at index 3!"
   ]
  },
  {
   "cell_type": "markdown",
   "metadata": {},
   "source": [
    "---\n",
    "### 5.2.2 Exercise - B\n",
    "\n",
    "Write a function that accepts a list, sorts it in reverse order and extracts the first value"
   ]
  },
  {
   "cell_type": "code",
   "execution_count": null,
   "metadata": {},
   "outputs": [],
   "source": [
    "def firstInList(myList):\n",
    "    myList.sort()\n",
    "    myList.reverse()\n",
    "    return myList[0]"
   ]
  },
  {
   "cell_type": "code",
   "execution_count": null,
   "metadata": {},
   "outputs": [],
   "source": [
    "assert 5223 == firstInList([54,56,2,1,5223,6,23,57,3,7,3344])\n",
    "assert 57 == firstInList([54,2,6,23,57,3,7])"
   ]
  },
  {
   "cell_type": "markdown",
   "metadata": {},
   "source": [
    "---\n",
    "\n",
    "### Extra Exercise 5.2.2-1\n",
    "\n",
    "You're given a list containing some names and a corresponding list containing their rank by popularity.\n",
    "Print your name in capital letters if your name is in the list **and** in the top 20 most popular names,\n",
    "otherwise if your name is in the list and **not** in the 20 most popular names, print your name backwards.\n",
    "Otherwise, just print your name followed by the string, `\"is great at Python!\"`. \n",
    "\n",
    "---"
   ]
  },
  {
   "cell_type": "code",
   "execution_count": null,
   "metadata": {},
   "outputs": [],
   "source": [
    "names = [\"Marie\", \"Lucas\", \"Viktor\", \"Elise\", \"Lotte\", \"Hugo\", \"Emma\", \"Elena\", \"Julia\", \"Maxime\", \"Alexander\", \"Tuur\"]\n",
    "rank =  [7,       6,       65,       14,      46,      15,     1,      7,       26,      37,       36,          73]\n",
    "\n",
    "my_name = \"Tuur\"\n",
    "\n",
    "if my_name in names:\n",
    "    name_index = names.index(my_name)\n",
    "    my_name_rank = rank[name_index]\n",
    "    if my_name_rank <= 20:\n",
    "        print(my_name.upper())\n",
    "    else:\n",
    "        print(my_name[::-1])\n",
    "else:\n",
    "    print(f\"{my_name} is great at Python!\")"
   ]
  },
  {
   "cell_type": "code",
   "execution_count": null,
   "metadata": {},
   "outputs": [],
   "source": [
    "names = [\"Marie\", \"Lucas\", \"Viktor\", \"Elise\", \"Lotte\", \"Hugo\", \"Emma\", \"Elena\", \"Julia\", \"Maxime\", \"Alexander\", \"Tuur\"]\n",
    "rank =  [7,       6,       65,       14,      46,      15,     1,      7,       26,      37,       36,          73]\n",
    "\n",
    "my_name = \"Halleluja\" # Edit this\n",
    "\n",
    "if not(my_name in names):\n",
    "    print(f\"{my_name} is great at Python!\")\n",
    "else:\n",
    "    my_name_rank = rank[names.index(my_name)]\n",
    "    if my_name_rank < 20: \n",
    "        print(my_name.upper())\n",
    "    else:\n",
    "        print(my_name[::-1])"
   ]
  },
  {
   "cell_type": "markdown",
   "metadata": {},
   "source": [
    "---\n",
    "\n",
    "### Extra Exercise 5.2.2-2\n",
    "You're given a list containing some data. Each element of the list is another list containing 2 values:\n",
    "the name of a country, and the average number of citations per citable document produced within that country.\n",
    "Print the name of the country with the second highest number of average citations.\n",
    "\n",
    "---"
   ]
  },
  {
   "cell_type": "code",
   "execution_count": null,
   "metadata": {},
   "outputs": [],
   "source": [
    "data = [['Netherlands Antilles', 34.59],\n",
    "        ['Tokelau', 48.11],\n",
    "        ['Seychelles', 31.62],\n",
    "        ['Anguilla', 90.99],\n",
    "        ['Saint Lucia', 35.43],\n",
    "        ['Panama', 35.92],\n",
    "        ['Bermuda', 42.25],\n",
    "        ['Federated States of Micronesia', 59.29],\n",
    "        ['Gambia', 40.96],\n",
    "        ['Belize', 39.62]]\n",
    "from operator import itemgetter\n",
    "data.sort(key=itemgetter(1), reverse=True)\n",
    "print(data[1][0])"
   ]
  },
  {
   "cell_type": "markdown",
   "metadata": {},
   "source": [
    "---\n",
    "### 5.3.1 Exercise\n",
    "\n",
    "Start with the tuple ('a','B','c','D','e','F'), sort it, take the fourth value out, and print the result.\n",
    "\n",
    "---"
   ]
  },
  {
   "cell_type": "code",
   "execution_count": null,
   "metadata": {},
   "outputs": [],
   "source": [
    "# Start with the tuple ('a','B','c','D','e','F'), sort it, take the fourth value out, and print the result.\n",
    "myTuple = ('a','B','c','D','e','F')\n",
    "myList = list(myTuple)\n",
    "myList.sort()\n",
    "#print(myList)\n",
    "\n",
    "print (f\"Removing {myList.pop(3)}\")\n",
    "print (f\"Result is {tuple(myList)}\")\n",
    "print (f\"Result is {myList}\")"
   ]
  },
  {
   "cell_type": "markdown",
   "metadata": {},
   "source": [
    "---\n",
    "\n",
    "### Extra Exercise 5.3.1-1\n",
    "Again, starting with the tuple, `('a','B','c','D','e','F')` sort only the values excluding the first and last elements\n",
    "(so sort 'B', 'c', 'D', 'e') then print the result including the first and last elements.\n",
    "This should look like: `('a', ...sorted middle.., 'F')`.\n",
    "\n",
    "---"
   ]
  },
  {
   "cell_type": "code",
   "execution_count": null,
   "metadata": {},
   "outputs": [],
   "source": [
    "myTuple = ('a','B','c','D','e','F')\n",
    "sortThis = list(myTuple[1:-2])\n",
    "sortThis.sort()\n",
    "tuple([myTuple[0]] + sortThis + [myTuple[-1]])"
   ]
  },
  {
   "cell_type": "markdown",
   "metadata": {},
   "source": [
    "---\n",
    "### 5.4.1 Exercise\n",
    "\n",
    "Ask the user for two words, then check whether they are the same (upper or lower case should not matter),if not check whether they have the same first letter (again case should not matter). If not, then print their length. \n",
    "\n",
    "---"
   ]
  },
  {
   "cell_type": "code",
   "execution_count": null,
   "metadata": {},
   "outputs": [],
   "source": [
    "# Ask the user for two words, then check whether they are the same (upper or lower case should not matter),if not check whether they have the same first letter (again case should not matter). If not, then print their length. \n",
    "firstWord = input(\"Give first word:\")\n",
    "secondWord = input(\"Give second word:\")\n",
    "\n",
    "if firstWord.upper() == secondWord.upper():\n",
    "    print(\"Words are the same (ignoring case).\")\n",
    "elif firstWord[0].upper() == secondWord[0].upper():\n",
    "    print(\"Words share the same first letter (ignoring case).\")\n",
    "else:\n",
    "    print(f\"Word lengths are {len(firstWord)} and {len(secondWord)}\")"
   ]
  },
  {
   "cell_type": "markdown",
   "metadata": {},
   "source": [
    "---\n",
    "### 5.5.1 Exercise\n",
    "\n",
    "Which letters are shared between the words \"perspicacious\" and \"circumlocution\"?\n",
    "\n",
    "---"
   ]
  },
  {
   "cell_type": "code",
   "execution_count": null,
   "metadata": {},
   "outputs": [],
   "source": []
  },
  {
   "cell_type": "markdown",
   "metadata": {},
   "source": [
    "---\n",
    "### 6.2.3 Exercise\n",
    "\n",
    "Write a program where you print out all positive numbers up to 1000 that can be divided by 13, or 17, or both. \n",
    "Print an output similar to this: `Number 13 is divisible by 13`, or `Number 884 is divisible by 13 and 17`. \n",
    "Iterate through the list of numbers and the dividers by using (two) for-loops; one for the numbers and one for the dividers.\n",
    "\n",
    "\n",
    "**Extra**: Can you generalize this program into a function that accepts any two numbers? Instead of printing a message, store the numbers in a list and return this list as a function output. \n",
    "\n",
    "---"
   ]
  },
  {
   "cell_type": "code",
   "execution_count": null,
   "metadata": {},
   "outputs": [],
   "source": [
    "numbers = range(1,1001)\n",
    "dividers = [13,17]\n",
    "\n",
    "for number in numbers:\n",
    "    validDividers = []\n",
    "    for divider in dividers:\n",
    "        if number % divider == 0:\n",
    "            validDividers.append(divider)\n",
    "\n",
    "    if len(validDividers) == 1:\n",
    "        print(f\"Number {number} is divisible by {validDividers[0]}\")\n",
    "    elif len(validDividers) == 2:\n",
    "        print(f\"Number {number} is divisible by {validDividers[0]} and {validDividers[1]}\") "
   ]
  },
  {
   "cell_type": "code",
   "execution_count": null,
   "metadata": {},
   "outputs": [],
   "source": [
    "def checkDividers(dividers):\n",
    "    numbers = range(1,1001)\n",
    "    validNumbers = []\n",
    "    \n",
    "    for number in numbers:\n",
    "        for divider in dividers:\n",
    "            if number % divider == 0:\n",
    "                validNumbers.append(number)\n",
    "    return validNumbers  "
   ]
  },
  {
   "cell_type": "markdown",
   "metadata": {},
   "source": [
    "---\n",
    "### 6.2.4 Exercise\n",
    "\n",
    "Write a program where you find, for each positive number up to 50, all numbers that can divide each number. E.g. 16 can be divided by 1, 2, 4, 8 and 16. 17 can be divided by... \n",
    "\n",
    "It's fine if you print the output like this: \n",
    "```\n",
    "Number 1 can be divided by 1!\n",
    "Number 2 can be divided by 1!\n",
    "Number 2 can be divided by 2!\n",
    "Number 3 can be divided by 1!\n",
    "```\n",
    "However, you can also try to print the output like this:\n",
    "```\n",
    "Number 4 can be divided by 1, 2, 4!\n",
    "```\n",
    "\n",
    "---"
   ]
  },
  {
   "cell_type": "code",
   "execution_count": null,
   "metadata": {},
   "outputs": [],
   "source": [
    "# Write a program where you find, for each positive number up to 50, all numbers that can divide each number. E.g. 16 can be divided by 1, 2, 4, 8 and 16. 17 can be divided by...\n",
    "myNumbers = range(1,51) \n",
    " \n",
    "for x in myNumbers:\n",
    "    dividers = []\n",
    "    for y in range(1, x+1):\n",
    "        if (x % y) == 0:\n",
    "            dividers.append(y)\n",
    " \n",
    "    for divider in dividers:\n",
    "        print (f\"Number {x} can be divided by {divider}!\")"
   ]
  },
  {
   "cell_type": "code",
   "execution_count": null,
   "metadata": {
    "scrolled": true
   },
   "outputs": [],
   "source": [
    "# The output is again not very nice here, you can replace the last two lines by this for nicer output:\n",
    "myNumbers = range(1,51)\n",
    " \n",
    "for x in myNumbers:\n",
    "    dividers = []\n",
    "    for y in range(1, x+1):\n",
    "        if (x % y) == 0:\n",
    "            dividers.append(str(y))\n",
    " \n",
    "    print (f\"Number {x} can be divided by {', '.join(dividers)}!\")"
   ]
  },
  {
   "cell_type": "markdown",
   "metadata": {},
   "source": [
    "---\n",
    "\n",
    "### 6.3.1 Exercise\n",
    "Can you think of a clearer way to write either (or both) of the above snippets with what you've learned so far?\n",
    "\n",
    "---"
   ]
  },
  {
   "cell_type": "code",
   "execution_count": null,
   "metadata": {},
   "outputs": [],
   "source": [
    "# Join strings in a list with commas\n",
    "i = 0\n",
    "myList = [\"Hello\", \"world\"]\n",
    "appended = \"\"\n",
    "while i < len(myList):\n",
    "    appended += myList[i] + \",\"\n",
    "    i += 1\n",
    "\n",
    "print(f\"got: {appended}\")\n",
    "print(\"expected: 'Hello,world,'\")"
   ]
  },
  {
   "cell_type": "code",
   "execution_count": null,
   "metadata": {},
   "outputs": [],
   "source": [
    "sum(range(1, 11))"
   ]
  },
  {
   "cell_type": "code",
   "execution_count": null,
   "metadata": {},
   "outputs": [],
   "source": [
    "','.join(myList) + ','"
   ]
  },
  {
   "cell_type": "markdown",
   "metadata": {},
   "source": [
    "---\n",
    "### 6.3.2 Exercise\n",
    "\n",
    "Try to reproduce a for-loop (the example of numbers divisible by 17) by using a while-loop.\n",
    "\n",
    "---"
   ]
  },
  {
   "cell_type": "code",
   "execution_count": null,
   "metadata": {},
   "outputs": [],
   "source": [
    "# Try to reproduce a for-loop (the example of numbers divisible by 17) by using a while-loop.\n",
    "myNumber = 1\n",
    "myDivider = 17\n",
    "\n",
    "while myNumber <= 50:\n",
    "    if (myNumber % myDivider) == 0: # Nothing left after division, so number is divisible.\n",
    "        print(f\"{myNumber} is divisible by {myDivider}\")\n",
    "    myNumber += 1"
   ]
  },
  {
   "cell_type": "markdown",
   "metadata": {},
   "source": [
    "---\n",
    "### 6.3.3 Exercise\n",
    "\n",
    "Write a function that accepts a list of numbers as input, and removes every number from this list that can be divided by 3 or by 5. Store the new list into a new variable and return this as an output of the function.\n",
    "\n",
    "Tip: you have to make a copy of the original list here, otherwise Python will get 'confused' when you remove values from the list while it's looping over it.   \n"
   ]
  },
  {
   "cell_type": "code",
   "execution_count": null,
   "metadata": {},
   "outputs": [],
   "source": [
    "# Define the function\n",
    "def removeDivs(numberList):\n",
    "    # Iterate over each number in the list (copy of list)\n",
    "    for number in numberList[:]:  \n",
    "        # If the remainder after division by 3 and 5 is zero\n",
    "        if (number % 3) == 0 or (number % 5) == 0:\n",
    "            # Extract index of the number from the original list, then pop out that number\n",
    "            numberList.pop(numberList.index(number))\n",
    "\n",
    "    return numberList"
   ]
  },
  {
   "cell_type": "code",
   "execution_count": null,
   "metadata": {},
   "outputs": [],
   "source": [
    "assert [1, 2, 4, 7, 8, 11, 13, 14] == removeDivs(list(range(1,15)))\n",
    "assert [56, 2, 1, 23, 7, 3344]     == removeDivs([54,56,2,1,5223,6,23,57,3,7,3344])"
   ]
  },
  {
   "cell_type": "markdown",
   "metadata": {},
   "source": [
    "---\n",
    "### 6.3.4 Exercise\n",
    "\n",
    "Write a program where you ask the user for an integer (whole number), and keep on asking if they give the wrong input. Check whether the number can be divided by 7, and print the result.\n",
    "\n",
    "---"
   ]
  },
  {
   "cell_type": "code",
   "execution_count": null,
   "metadata": {},
   "outputs": [],
   "source": [
    "# Write a program where you ask the user for an integer (whole number), and keep on asking if they give the wrong input. Check whether the number can be divided by 7, and print the result.\n",
    "myNumberList = range(1,101)\n",
    " \n",
    "# Keep on checking until you have a number, prime the while loop as well\n",
    "isNumber = False\n",
    "while isNumber == False:\n",
    "    inputString = input(\"Give a number:\")\n",
    "    if inputString.isdigit():\n",
    "        isNumber = True\n",
    "        number = int(inputString)\n",
    "    else:\n",
    "        print(\"Incorrect, not a whole number, try again.\")\n",
    "    if not (number % 7):\n",
    "        print(f\"{number} can be divided by 7!\")\n",
    "    else: \n",
    "        print(\"Number not divisible by 7\")"
   ]
  },
  {
   "cell_type": "markdown",
   "metadata": {},
   "source": [
    "---\n",
    "### 6.4.1 Exercise\n",
    "\n",
    "The Hamming distance between two strings of equal length is the number of positions at which the corresponding character are different. In a more general context, the Hamming distance is one of several string metrics for measuring the edit distance between two sequences. \n",
    "\n",
    "The Hamming distance between:\n",
    "\n",
    "\"karolin\" and \"kathrin\" is 3.\n",
    "\n",
    "Write a function called \"hamming_distance\" which accepts two strings and returns the calculated hamming distance. If the lengths of the two strings is unequal, return the value None. \n",
    "\n",
    "---"
   ]
  },
  {
   "cell_type": "code",
   "execution_count": null,
   "metadata": {},
   "outputs": [],
   "source": [
    "def hamming_distance(string1, string2): \n",
    "    \"\"\"Return the Hamming distance between equal-length sequences.\"\"\"\n",
    "    # Start with a distance of zero, and count up\n",
    "    distance = 0\n",
    "    for s1,s2 in zip(string1,string2):\n",
    "        if s1 != s2:\n",
    "            distance +=1\n",
    "    return distance\n",
    "\n",
    "seq1 = \"GATCATAGA\"\n",
    "seq2 = \"CATCATACA\"\n",
    "print(hamming_distance(seq1,seq2))"
   ]
  },
  {
   "cell_type": "markdown",
   "metadata": {},
   "source": [
    "---\n",
    "### 7.2.1 Exercise\n",
    "\n",
    "Use a dictionary to track how many times each amino acid code appears in the following sequence:\n",
    "```\n",
    "SFTMHGTPVVNQVKVLTESNRISHHKILAIVGTAESNSEHPLGTAITKYCKQELDTETLGTCIDFQVVPGCGISCKVTNIEGLLHKNNWNIED  \n",
    "NNIKNASLVQIDASNEQSSTSSSMIIDAQISNALNAQQYKVLIGNREWMIRNGLVINNDVNDFMTEHERKGRTAVLVAVDDELCGLIAIADT\n",
    "```\n",
    "Tip: use the one-letter code as key in the dictionary, and the count as value.\n",
    "\n",
    "---"
   ]
  },
  {
   "cell_type": "code",
   "execution_count": null,
   "metadata": {},
   "outputs": [],
   "source": [
    "# Another solution where we make a new dictionary with all the counted occurences of each value. \n",
    "mySequence = \"SFTMHGTPVVNQVKVLTESNRISHHKILAIVGTAESNSEHPLGTAITKYCKQELDTETLGTCIDFQVVPGCGISCKVTNIEGLLHKNNWNIEDNNIKNASLVQIDASNEQSSTSSSMIIDAQISNALNAQQYKVLIGNREWMIRNGLVINNDVNDFMTEHERKGRTAVLVAVDDELCGLIAIADT\"\n",
    "\n",
    "myDictionary = {\n",
    "     'A': 'Ala',\n",
    "     'C': 'Cys',\n",
    "     'D': 'Asp',\n",
    "     'E': 'Glu',\n",
    "     'F': 'Phe',\n",
    "     'G': 'Gly',\n",
    "     'H': 'His',\n",
    "     'I': 'Ile',\n",
    "     'K': 'Lys',\n",
    "     'L': 'Leu',\n",
    "     'M': 'Met',\n",
    "     'N': 'Asn',\n",
    "     'P': 'Pro',\n",
    "     'Q': 'Gln',\n",
    "     'R': 'Arg',\n",
    "     'S': 'Ser',\n",
    "     'T': 'Thr',\n",
    "     'V': 'Val',\n",
    "     'W': 'Trp',\n",
    "     'Y': 'Tyr'}\n",
    "\n",
    "\n",
    "for letter in list(myDictionary.keys()):\n",
    "    countLetter = mySequence.count(letter)\n",
    "    print(letter, countLetter)"
   ]
  },
  {
   "cell_type": "code",
   "execution_count": null,
   "metadata": {},
   "outputs": [],
   "source": [
    "# Another solution where we make a new dictionary with all the counted occurences of each value. \n",
    "sequence = \"SFTMHGTPVVNQVKVLTESNRISHHKILAIVGTAESNSEHPLGTAITKYCKQELDTETLGTCIDFQVVPGCGISCKVTNIEGLLHKNNWNIEDNNIKNASLVQIDASNEQSSTSSSMIIDAQISNALNAQQYKVLIGNREWMIRNGLVINNDVNDFMTEHERKGRTAVLVAVDDELCGLIAIADT\"\n",
    "\n",
    "newDict = dict()\n",
    "for letter in list(myDictionary.keys()):\n",
    "    countLetter = sequence.count(letter)\n",
    "    newDict[letter] = countLetter\n",
    "newDict  "
   ]
  },
  {
   "cell_type": "markdown",
   "metadata": {},
   "source": [
    "---\n",
    "\n",
    "### Extra Exercise 7.2.1-1\n",
    "Use the dictionary you created in the previous exercise (8.2.1). Modify the dictionary so that its values are a \n",
    "dictionary containing 2 keys: the count as before, and also a fraction of the length of the sequence. e.g. if the\n",
    "letter 'S' appears 50% of the time it's value in the new dictionary will be `{\"count\":92, \"fraction\":0.5}`.\n",
    "\n",
    "---"
   ]
  },
  {
   "cell_type": "code",
   "execution_count": null,
   "metadata": {},
   "outputs": [],
   "source": [
    "seq_len = len(sequence)\n",
    "dict_frac = {}\n",
    "for letter, num in newDict.items():\n",
    "    dict_frac[letter] = {\"count\":num, \"fraction\":num / seq_len}\n",
    "    \n",
    "dict_frac"
   ]
  },
  {
   "cell_type": "markdown",
   "metadata": {},
   "source": [
    "---\n",
    "\n",
    "### Exercise 8.2.1\n",
    "\n",
    "Read in the file `gene.fa` which also resides in the `data/` folder. Make a variable with the title and a variable with the sequence.   \n",
    "Note: make sure there are no `\\n` in your sequence\n",
    "\n",
    "**Extra**: can you generalize this into a function that accepts a file as input, and returns the title and the sequence as two output variables? "
   ]
  },
  {
   "cell_type": "code",
   "execution_count": null,
   "metadata": {},
   "outputs": [],
   "source": [
    "with open(\"data/gene.fa\") as fileHandle:\n",
    "    lines = fileHandle.readlines()\n",
    "    \n",
    "    sequence = \"\"\n",
    "    for line in lines:\n",
    "        if line.startswith('>'):\n",
    "            seq_id = line.rstrip()[1:]\n",
    "        else:\n",
    "            sequence += line.rstrip()\n",
    "\n",
    "print(seq_id)\n",
    "print(sequence)"
   ]
  },
  {
   "cell_type": "code",
   "execution_count": null,
   "metadata": {},
   "outputs": [],
   "source": [
    "def splitFasta(filename):\n",
    "    with open(filename) as fileHandle:\n",
    "        lines = fileHandle.readlines()\n",
    "\n",
    "        sequence = \"\"\n",
    "        for line in lines:\n",
    "            if line.startswith('>'):\n",
    "                seq_id = line.rstrip()[1:]\n",
    "            else:\n",
    "                sequence += line.rstrip()\n",
    "    return seq_id, sequence "
   ]
  },
  {
   "cell_type": "markdown",
   "metadata": {},
   "source": [
    "---\n",
    "\n",
    "### Exercise 8.2.1\n",
    "\n",
    "Read in the file `gene.fa` which also resides in the `data/` folder. Make a variable with the title and a variable with the sequence.   \n",
    "Note: make sure there are no `\\n` in your sequence\n",
    "\n",
    "---"
   ]
  },
  {
   "cell_type": "code",
   "execution_count": null,
   "metadata": {},
   "outputs": [],
   "source": [
    "with open(\"data/gene.fa\") as fileHandle:\n",
    "    lines = fileHandle.readlines()\n",
    "    \n",
    "    sequence = \"\"\n",
    "    for line in lines:\n",
    "        if line.startswith('>'):\n",
    "            seq_id = line.rstrip()[1:]\n",
    "        else:\n",
    "            sequence += line.rstrip()\n",
    "\n",
    "print(seq_id)\n",
    "print(sequence)"
   ]
  },
  {
   "cell_type": "markdown",
   "metadata": {},
   "source": [
    "---\n",
    "\n",
    "### Exercise 8.2.2 (Extra)\n",
    "\n",
    "Count the number of times a carbon element appears in the file by using the following method. You can copy-paste most of the lines from the example above. \n",
    "\n",
    "---"
   ]
  },
  {
   "cell_type": "code",
   "execution_count": null,
   "metadata": {},
   "outputs": [],
   "source": [
    "# Open the file\n",
    "with open(\"data/TestFile.pdb\") as fileHandle:\n",
    "\n",
    "    # Initialise the line counter\n",
    "    lineCount = 0\n",
    "    \n",
    "    # Read in the file line by line simultaneously\n",
    "    for line in fileHandle: \n",
    "        # Extract columns from each line \n",
    "        columns = line.strip().split()\n",
    "        if columns[-1] == 'C':      # Alternatively, use \"if ' C ' in line:\"\n",
    "            lineCount += 1\n",
    "\n",
    "print(f\"Number of lines with ' C ': {lineCount}\")"
   ]
  },
  {
   "cell_type": "markdown",
   "metadata": {},
   "source": [
    "---\n",
    "### 8.2.3 Exercise\n",
    "\n",
    "Write a function that calculates the GC content of the sequence in a fasta file. For this example you can use [this fasta file](data/gene.fa) which contains the genetic sequence of a bone gla protein. The function must accept a fasta file as input file and will print _approximately_ the following:\n",
    "\n",
    "```\n",
    "The GC content of HSBGPG Human gene for bone gla protein (BGP) is\t 63.53%\n",
    "```\n",
    "\n",
    "The method [.startswith()](https://www.tutorialspoint.com/python/string_startswith.html) might help. The function should read the lines of the fasta file and if it starts with a '>' define the text that comes afterwards as the sequence ID. The other lines are part of the sequence. After reading through the lines, you can easily define the GC content by counting the bases and taking the average. \n",
    "\n",
    "---"
   ]
  },
  {
   "cell_type": "code",
   "execution_count": null,
   "metadata": {},
   "outputs": [],
   "source": [
    "def gc_content(file):\n",
    "    \"\"\"Calculate GC content of a fasta file (with one sequence)\"\"\"\n",
    "    sequence=\"\"\n",
    "    with open(file, 'r') as f:\n",
    "        for line in f:\n",
    "            if line.startswith('>'):\n",
    "                seq_id = line.rstrip()[1:]\n",
    "            else:\n",
    "                sequence += line.rstrip()\n",
    "    GC_content = (sequence.count('G') + sequence.count('C')) / len(sequence) * 100\n",
    "    return {seq_id: GC_content}\n",
    "    \n",
    "for seqid, gc in gc_content('data/gene.fa').items():\n",
    "    print('The GC content of', seqid, 'is', gc, '%')"
   ]
  },
  {
   "cell_type": "markdown",
   "metadata": {},
   "source": [
    "----\n",
    "### 8.3.1 Exercise\n",
    "Read in the file `data/TestFile.pdb`, and write out all lines that contain 'VAL' to a new file.\n",
    "\n",
    "----"
   ]
  },
  {
   "cell_type": "code",
   "execution_count": null,
   "metadata": {},
   "outputs": [],
   "source": [
    "# Read the file\n",
    "with open(\"data/TestFile.pdb\",\"r\") as f, open(\"data/fileWithVAL.pdb\",'w') as g:\n",
    "    # Loop over the lines\n",
    "    for line in f.readlines():\n",
    "        if line.startswith(\"ATOM\"):\n",
    "            if \"VAL\" in line:\n",
    "                g.write(line)\n",
    "\n",
    "with open(\"data/fileWithVAL.pdb\",'r') as h:\n",
    "    text = h.read()\n",
    "\n",
    "print(text)"
   ]
  },
  {
   "cell_type": "markdown",
   "metadata": {},
   "source": [
    "---\n",
    "\n",
    "### Extra Exercise 8.3.1-1\n",
    "Read in the file `\"data/TestFile.pdb\"`. Count the number of each residue (e.g. `VAL`, `ALA`, etc.).\n",
    "Write the results to a file in Comma Seperated Values (CSV) format. e.g.\n",
    "```\n",
    "Residue, Count\n",
    "VAL,3\n",
    "GLN,6\n",
    "```\n",
    "\n",
    "---"
   ]
  },
  {
   "cell_type": "code",
   "execution_count": null,
   "metadata": {},
   "outputs": [],
   "source": [
    "import csv\n",
    "\n",
    "with open(\"../data/TestFile.pdb\") as pdb:\n",
    "    pdbdata = pdb.readlines()\n",
    "\n",
    "# Seperate out individual residues\n",
    "residues = []\n",
    "for record in pdbdata:\n",
    "    if record.startswith(\"ATOM \"):\n",
    "        residue = record[17:20]\n",
    "        seqnum = int(record[22:26].strip())\n",
    "\n",
    "        if len(residues) > 0:\n",
    "            if residues[-1][1] != seqnum:\n",
    "                residues.append((residue, seqnum))\n",
    "        else:\n",
    "            residues.append((residue, seqnum))\n",
    "\n",
    "# Count residues\n",
    "res_count = {}\n",
    "for residue, _ in residues:\n",
    "    if residue in res_count:\n",
    "        res_count[residue] += 1\n",
    "    else:\n",
    "        res_count[residue] = 1\n",
    "\n",
    "# Write CSV\n",
    "with open(\"residue_counts.csv\", 'w') as csvfile:\n",
    "    writer = csv.writer(csvfile)\n",
    "    writer.writerow([\"Residue\", \"Count\"])\n",
    "    for count in res_count.items():\n",
    "        writer.writerow(list(count))"
   ]
  },
  {
   "cell_type": "markdown",
   "metadata": {},
   "source": [
    "## Exercise 8.E \n",
    "\n",
    "**Advanced file reading and interpretation exercise** \n",
    "\n",
    "Read in the TestFile.pdb atom coordinate file, print out the title of the file, and find all atoms that have coordinates closer than 2 angstrom to the (x,y,z) coordinate (-8.7,-7.7,4.7). Print out the model number, residue number, atom name and atom serial for each; the model is indicated by:\n",
    "```\n",
    "MODEL     1\n",
    "```\n",
    "lines, the atom coordinate information is in:\n",
    "```\n",
    "ATOM      1  N   ASP A   1     -10.341  -9.922   9.398  1.00  0.00           N\n",
    "```\n",
    "lines, where column 1 is always ATOM, column 2 is the atom serial,  column 3 the atom name, column 4 the residue name, column 5 the chain code, column 6 the residue number, followed by the x, y and z coordinates in angstrom in columns 7, 8 and 9.\n",
    "\n",
    "Note that the distance between two coordinates is calculated as the square root of (x1-x2)²+(y1-y2)²+(z1-z2)²."
   ]
  },
  {
   "cell_type": "code",
   "execution_count": null,
   "metadata": {},
   "outputs": [],
   "source": [
    "# Open the file\n",
    "with open(\"data/TestFile.pdb\") as fileHandle:\n",
    "    # Read all the lines in the file (as separated by a newline character), and store them in the lines list\n",
    "    # Each element in this list corresponds to one line of the file!\n",
    "    lines = fileHandle.readlines()\n",
    "\n",
    "# Initialise some information\n",
    "searchCoordinate = (-8.7,-7.7,4.7)\n",
    "modelNumber = None\n",
    " \n",
    "# Loop over the lines, and do some basic string manipulations\n",
    "for line in lines:\n",
    "    line = line.strip()  # Remove starting and trailing spaces/tabs/newlines\n",
    "    \n",
    "    # Only do something if it's not an empty line\n",
    "    if line:\n",
    "        cols = line.split()   # Split the line by white spaces; depending on the format this could be commas, ...\n",
    " \n",
    "    # Print the title\n",
    "    if cols[0] == 'TITLE':\n",
    "        title = line.replace(cols[0],'')\n",
    "        title = title.strip()\n",
    "        print(f\"The title is '{title}'\")\n",
    " \n",
    "    # Track the model number\n",
    "    elif cols[0] == 'MODEL':\n",
    "        modelNumber = int(cols[1])\n",
    " \n",
    "    # For atom lines, calculate the distance\n",
    "    elif cols[0] == 'ATOM':\n",
    " \n",
    "        # Set some clear variable names and convert to the right type\n",
    "        atomSerial = int(cols[1])\n",
    "        atomName = cols[2]\n",
    "        residueNumber = int(cols[5])\n",
    "        x = float(cols[6])\n",
    "        y = float(cols[7])\n",
    "        z = float(cols[8])\n",
    " \n",
    "        # Calculate the distance\n",
    "        distance = ((x - searchCoordinate[0]) ** 2 + (y - searchCoordinate[1]) ** 2 + (z - searchCoordinate[2]) ** 2 ) ** 0.5\n",
    "        if distance < 2.0:\n",
    "            print(f\"Model {modelNumber}, residue {residueNumber}, atom {atomName} (serial {atomSerial}) is {distance:.2f} away from reference.\")\n"
   ]
  },
  {
   "cell_type": "markdown",
   "metadata": {},
   "source": [
    "---\n",
    "### 9.2.1 Exercises\n",
    "\n",
    "Download [this matrix file](data/Matrix.txt) (`Matrix.txt`) and save it in your directory. Then write a function to read a matrix file in this format, reorder the rows by the values in the given column, and printing out the result. The function should take as argument a file name and a column number. \n",
    "\n",
    "---"
   ]
  },
  {
   "cell_type": "code",
   "execution_count": null,
   "metadata": {},
   "outputs": [],
   "source": [
    "def sortMatrixByColumn(fileName,columnNumber):\n",
    "    #\n",
    "    # Read the tab-delimited file and store the values\n",
    "    #\n",
    " \n",
    "    with open(fileName) as fin:\n",
    "        lines = fin.readlines()\n",
    " \n",
    "    #\n",
    "    # Convert the data from the file into a Python list\n",
    "    #\n",
    " \n",
    "    matrix = []\n",
    "\n",
    "    for matrixRow in lines:\n",
    "        # Tab-delimited, so split line by \\t - this will give a list of strings\n",
    "        matrixColumns = matrixRow.rstrip().split(\"\\t\") \n",
    " \n",
    "        # Add a row to the matrix\n",
    "        matrix.append([])\n",
    " \n",
    "        # Add the columns, but convert the strings from the file into a float\n",
    "        for matrixValue in matrixColumns:\n",
    "            matrix[-1].append(float(matrixValue))\n",
    " \n",
    "    #\n",
    "    # Now sort by column - but have to track the row number as well!\n",
    "    #\n",
    " \n",
    "    selectedColumnValues = []\n",
    " \n",
    "    for rowNumber in range(len(matrix)):\n",
    " \n",
    "        selectedColumnValues.append((matrix[rowNumber][columnNumber],rowNumber))\n",
    " \n",
    "        selectedColumnValues.sort()\n",
    " \n",
    "    #\n",
    "    # Now print out the new matrix - the column value is now not interesting\n",
    "    # we want the row number!!\n",
    "    #\n",
    " \n",
    "    for (columnValue,rowNumber) in selectedColumnValues:  \n",
    "        columnValueStrings = []\n",
    "        for value in matrix[rowNumber]:\n",
    "            columnValueStrings.append(f\"{value:.3f}\")\n",
    "        print(\"\\t\".join(columnValueStrings))\n",
    " \n",
    " \n",
    "sortMatrixByColumn(\"data/matrix.txt\",3)"
   ]
  },
  {
   "cell_type": "markdown",
   "metadata": {},
   "source": [
    "---\n",
    "### 9.2.2 Exercises\n",
    "\n",
    "Modify the program to read in the TestFile.pdb file by using separate functions to \n",
    "1. get the title, \n",
    "2. dissect the information from the ATOM line and \n",
    "3. to calculate the distance to the reference distance\n",
    "\n",
    "---"
   ]
  },
  {
   "cell_type": "code",
   "execution_count": null,
   "metadata": {},
   "outputs": [],
   "source": [
    "def getTitle(line,cols):\n",
    " \n",
    "    # Gets the title\n",
    " \n",
    "    title = line.replace(cols[0],'')\n",
    "    title = title.strip()\n",
    " \n",
    "    return (\"The title is '%s'\" % title)\n",
    " \n",
    "def getAtomInfo(cols):\n",
    " \n",
    "    # Get relevant information from an ATOM line and convert to the right type\n",
    " \n",
    "    atomSerial = int(cols[1])\n",
    "    atomName = cols[2]\n",
    "    residueNumber = int(cols[5])\n",
    "    x = float(cols[6])\n",
    "    y = float(cols[7])\n",
    "    z = float(cols[8])\n",
    " \n",
    "    return (atomSerial,atomName,residueNumber,x,y,z)\n",
    " \n",
    "def calculateDistance(coordinate1,coordinate2):\n",
    " \n",
    "    # Calculate the distance between two 3 dimensional coordinates\n",
    " \n",
    "    return ((coordinate1[0] - coordinate2[0]) ** 2 + (coordinate1[1] - coordinate2[1]) ** 2 + (coordinate1[2] - coordinate2[2]) ** 2 ) ** 0.5\n",
    " \n",
    "\n",
    "# Open the file\n",
    "with open(\"data/TestFile.pdb\") as fileHandle:\n",
    "    # Read all the lines in the file (as separated by a newline character), and store them in the lines list\n",
    "    # Each element in this list corresponds to one line of the file!\n",
    "    lines = fileHandle.readlines()\n",
    "\n",
    "# Initialise some information\n",
    "searchCoordinate = (-8.7,-7.7,4.7)\n",
    "modelNumber = None\n",
    " \n",
    "# Loop over the lines, and do some basic string manipulations\n",
    "for line in lines:\n",
    " \n",
    "    line = line.strip()  # Remove starting and trailing spaces/tabs/newlines\n",
    " \n",
    "    # Only do something if it's not an empty line\n",
    "    if line:\n",
    "        cols = line.split()   # Split the line by white spaces; depending on the format this could be commas, ...\n",
    " \n",
    "        # Print off the title\n",
    "        if cols[0] == 'TITLE':\n",
    "            print(getTitle(line,cols))\n",
    " \n",
    "        # Track the model number\n",
    "        elif cols[0] == 'MODEL':\n",
    "            modelNumber = int(cols[1])\n",
    " \n",
    "        # For atom lines, calculate the distance\n",
    "        elif cols[0] == 'ATOM':\n",
    "            (atomSerial,atomName,residueNumber,x,y,z) = getAtomInfo(cols)\n",
    " \n",
    "            # Calculate the distance\n",
    "            distance = calculateDistance((x,y,z),searchCoordinate)\n",
    " \n",
    "            if distance < 2.0:\n",
    "                print(f\"Model {modelNumber}, residue {residueNumber}, atom {atomName} (serial {atomSerial}) is {distance:.2f} away from reference.\")"
   ]
  },
  {
   "cell_type": "markdown",
   "metadata": {},
   "source": [
    "Compared to the original program it is much easier to see what is going on here. Also, the calculateDistance() function is relevant for any other piece of code where you want to calculate distances between two 3D coordinates - it's not embedded in this bit of code any more and is useful anywhere that you need to do this."
   ]
  },
  {
   "cell_type": "markdown",
   "metadata": {},
   "source": [
    "---\n",
    "### 9.2.1 Exercise\n",
    "\n",
    "In the module `readFasta` there is a function that reads in a FASTA file with an RNA sequence and return the id, description and RNA sequence (in 3 base unit chunks). Import this module in a cell and call the function on the file `gene.fa`\n",
    "\n",
    "---"
   ]
  },
  {
   "cell_type": "code",
   "execution_count": null,
   "metadata": {},
   "outputs": [],
   "source": [
    "from modules.readFasta import readRnaFastaFile\n",
    "\n",
    "readRnaFastaFile(\"data/gene.fa\")"
   ]
  },
  {
   "cell_type": "code",
   "execution_count": null,
   "metadata": {},
   "outputs": [],
   "source": []
  },
  {
   "cell_type": "markdown",
   "metadata": {},
   "source": [
    "\n",
    "---\n",
    "### 9.4.1 Exercises\n",
    "\n",
    "Make a new directory in which you write out 5 files with a 2 second delay. Each file should contain the date and time when it was originally written out.\n",
    "\n",
    "---\n"
   ]
  },
  {
   "cell_type": "code",
   "execution_count": null,
   "metadata": {},
   "outputs": [],
   "source": [
    "# 1\n",
    "import time, os\n",
    " \n",
    "\n",
    "# Create a variable for the directory name\n",
    "myDir = \"timeTest\"\n",
    "\n",
    "# Check whether the directory exists, if not create it\n",
    "if not os.path.exists(myDir):\n",
    "    os.mkdir(myDir)\n",
    "\n",
    "# Loop from 1 to 5\n",
    "for i in range(1,6):\n",
    "\n",
    "    # Get the current time\n",
    "    currentTime = time.ctime()\n",
    "\n",
    "    # Write out the file - use i to give a different name to each\n",
    "    filePath = os.path.join(myDir,f\"myFile{i}.txt\")\n",
    "\n",
    "    with open(filePath,'w') as outFileHandle:\n",
    "        outFileHandle.write(f\"{currentTime}\\n\")\n",
    "\n",
    "    print(f\"Written file {filePath}...\")\n",
    "\n",
    "    # Sleep for 2 seconds\n",
    "    time.sleep(2)"
   ]
  },
  {
   "cell_type": "markdown",
   "metadata": {},
   "source": [
    "---\n",
    "### 9.4.2 Exercises\n",
    "\n",
    "Write a program where you ask the user for a one-letter amino acid sequence, and print out the three-letter amino acid codes. Have a look at the `SequenceDicts.py` module and see how it can help you. \n",
    "\n",
    "---"
   ]
  },
  {
   "cell_type": "code",
   "execution_count": null,
   "metadata": {},
   "outputs": [],
   "source": [
    "# 3\n",
    "# Note how you can import a function (or variable) with a different name for your program!\n",
    "\n",
    "from modules.SequenceDicts import proteinOneToThree as oneToThreeLetterCodes\n",
    "\n",
    "oneLetterSeq = input('Give one letter sequence:')\n",
    " \n",
    "if oneLetterSeq:\n",
    "    for oneLetterCode in oneLetterSeq:\n",
    "        if oneLetterCode in oneToThreeLetterCodes.keys():\n",
    "            print(oneToThreeLetterCodes[oneLetterCode])\n",
    "        else:\n",
    "            print(f\"One letter code '{oneLetterCode}' is not a valid amino acid code!\")\n",
    "else:\n",
    "    print(\"You didn't give me any information!\")"
   ]
  },
  {
   "cell_type": "markdown",
   "metadata": {},
   "source": [
    "\n",
    "---\n",
    "### 9.4.3 Exercises\n",
    "\n",
    "Write a program where you translate the RNA sequence `data/rnaSeq.txt` into 3 letter amino acid codes. You can use the `readFasta.py` and `SequenceDicts.py` modules which contain valuable functions and a dictionary. \n",
    "\n",
    "---\n"
   ]
  },
  {
   "cell_type": "code",
   "execution_count": null,
   "metadata": {},
   "outputs": [],
   "source": [
    "from modules.SequenceDicts import standardRnaToProtein, proteinOneToThree\n",
    "\n",
    "from modules.readFasta import readRnaFastaFile\n",
    "\n",
    "(molName,description,sequenceInfo) = readRnaFastaFile(\"data/rnaSeq.txt\")\n",
    "proteinThreeLetterSeq = []\n",
    "\n",
    "for rnaCodon in sequenceInfo:\n",
    "\n",
    "    aaOneLetterCode = standardRnaToProtein[rnaCodon]\n",
    "    aaThreeLetterCode = proteinOneToThree[aaOneLetterCode]\n",
    "    proteinThreeLetterSeq.append(aaThreeLetterCode)\n",
    "\n",
    "print(proteinThreeLetterSeq)"
   ]
  },
  {
   "cell_type": "markdown",
   "metadata": {},
   "source": [
    "---\n",
    "### 9.4.4 Exercises\n",
    "\n",
    "Write a program that:\n",
    "- Has a function `readSampleInformationFile()` to read the information from this sample data file into a dictionary. Also check whether the file exists.\n",
    "- Has a function `getSampleIdsForValueRange()` that can extract sample IDs from this dictionary. Print the sample IDs for pH 6.0-7.0, temperature 280-290 and volume 200-220 using this function.\n",
    "\n",
    "---"
   ]
  }
 ],
 "metadata": {
  "kernelspec": {
   "display_name": "Python 3",
   "language": "python",
   "name": "python3"
  },
  "language_info": {
   "codemirror_mode": {
    "name": "ipython",
    "version": 3
   },
   "file_extension": ".py",
   "mimetype": "text/x-python",
   "name": "python",
   "nbconvert_exporter": "python",
   "pygments_lexer": "ipython3",
   "version": "3.9.2"
  }
 },
 "nbformat": 4,
 "nbformat_minor": 4
}
