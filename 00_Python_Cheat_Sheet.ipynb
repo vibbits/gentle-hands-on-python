{
 "cells": [
  {
   "cell_type": "markdown",
   "metadata": {},
   "source": [
    "# Python Cheat Sheet"
   ]
  },
  {
   "cell_type": "markdown",
   "metadata": {},
   "source": [
    "## Arithmetic Operators"
   ]
  },
  {
   "cell_type": "markdown",
   "metadata": {},
   "source": [
    "| Operator | What it does        | Example           |\n",
    "|:--------:|:-------------------:|:-----------------:|\n",
    "| `+`      | Addition            | `1 + 2` => `3`    |\n",
    "| `-`      | Subtraction         | `1 - 2` => `-1`   |\n",
    "| `*`      | Multiplication      | `2 * 5` => `10`   |\n",
    "| `/`      | Division            | `9 / 2` => `4.5`  |\n",
    "| `//`     | Integer division    | `9 // 2` => `4`   |\n",
    "| `%`      | Modulo or remainder | `5 % 2` => `1`    |\n",
    "| `**`     | Power               | `2 ** 3` => `8`   |"
   ]
  },
  {
   "cell_type": "markdown",
   "metadata": {},
   "source": [
    "## Assignment operators\n",
    "\n",
    "| Operator | Example             | Same as           |\n",
    "|:--------:|:-------------------:|:-----------------:|\n",
    "| `=`      | `a = 5`             | `a = 5`           |\n",
    "| `+=`     | `a += 5`            | `a = a + 5`       |\n",
    "| `-=`     | `a -= 5`            | `a = a - 5`       |\n",
    "| `*=`     | `a *= 5`            | `a = a * 5`       |\n",
    "| `/=`     | `a /= 5`            | `a = a / 5`       |"
   ]
  },
  {
   "cell_type": "markdown",
   "metadata": {},
   "source": [
    "## Comparison operators\n",
    "| Operator | Description              | Example             |\n",
    "|:--------:|:-------------------------|--------------------:|\n",
    "| `==`     | Is equal to              | `1 == 1` => `True`  |\n",
    "| `!=`     | Is not equal to          | `1 != 2` => `True`  |\n",
    "| `<`      | Less than                | `2 < 5` => `True`   |\n",
    "| `>`      | Greater than             | `5 > 2` => `True`   |\n",
    "| `<=`     | Less than or equal to    | `3 <= 3` => `True`  |\n",
    "| `>=`     | Greater than or equal to | `4 >= 4` => `True`  |\n",
    "| `in`     | Membership (does x exist in y) | `5 in [0, 5, 10]` => `True` |"
   ]
  },
  {
   "cell_type": "markdown",
   "metadata": {},
   "source": [
    "## Logical operators\n",
    "| Operator | Description         | Example                   |\n",
    "|:--------:|:-------------------:|:-------------------------:|\n",
    "| `and`    | Logical conjunction | `True and True` => `True` |\n",
    "| `or`     | Logical disjunction | `True or False` => `True` |\n",
    "| `not`    | Logical negation    | `not True` => `False`     |"
   ]
  },
  {
   "cell_type": "markdown",
   "metadata": {},
   "source": [
    "## Conversion functions\n",
    "| Function | What it does                     |\n",
    "|:---------|:---------------------------------|\n",
    "| `int()`  | Convert to integer               |\n",
    "| `float()`| Convert to floating point number |\n",
    "| `str()`  | Convert to string                |\n",
    "| `list()` | Convert to list                  |\n",
    "| `tuple()`| Convert to tuple                 |"
   ]
  },
  {
   "cell_type": "markdown",
   "metadata": {},
   "source": [
    "## Input / Output\n",
    "| Function     | What it does                                  |\n",
    "|:-------------|:----------------------------------------------|\n",
    "|`print()`     | Print text to the console                     |\n",
    "|`input()`     | Get text typed by the user at the console     |\n",
    "| `open()`     | Opens (connects to) a file                    |\n",
    "| `read()`     | Read the entire contents of an open file      |\n",
    "| `readline()` | Read a single line from an open file          |\n",
    "| `readlines()`| Read an entire open file into a list of lines |\n",
    "| `write()`      | Write a string to an open file                |"
   ]
  },
  {
   "cell_type": "markdown",
   "metadata": {},
   "source": [
    "## Other useful functions\n",
    "| Function     | What it does                                  |\n",
    "|:-------------|:----------------------------------------------|\n",
    "|`range()`     | Generates an iterable over a range of numbers |\n",
    "|`enumerate()` | Generates an iterable of `index, value` pairs based on an input iterable. |\n",
    "| `zip()`      | Generates an iterable that combines multiple iterables together |\n",
    "|`help()`      | Get documentation      |\n",
    "|`dir()`       | List available methods on an object         |\n",
    "| `sorted()`   | Sort an iterable argument, returning the sorted version |\n",
    "| `reversed()` | Reverse an interable argument, returning the reversed version |\n",
    "| `sum()`      | Sum all numbers in an iterable argument |"
   ]
  },
  {
   "cell_type": "markdown",
   "metadata": {},
   "source": [
    "## Data structures\n",
    "| Python Collection | Representation | Example | Ordered? | Mutable? | Duplicate members? |\n",
    "|:------------|:---------------|:----------|:--------:|:--------:|:------------------:|\n",
    "| `List` | `[]` | `[1, \"two\", [3]]` | ✔ | ✔ | ✔ |\n",
    "| `String` | `\"\"` | `\"Hello world!\"` | ✔ | ❌ | ✔ |\n",
    "| `Tuple` | `()` | `(1, \"two\", [3])` | ✔ | ❌ | ✔ |\n",
    "| `Set` | `set()` | `{1, 2, 3}` | ❌ | ✔ | ❌ |\n",
    "| `Dict`| `{}` | `{'a': [1], 'b': \"two\"}`  | ❌ | ✔ | ❌ |"
   ]
  },
  {
   "cell_type": "markdown",
   "metadata": {},
   "source": [
    "## List methods\n",
    "- Add elements\n",
    "    - `append()` to append an item to the end of the list\n",
    "    - `insert()` to add an item at the specified index\n",
    "    - `extend()` to extend an item\n",
    "- Delete elements\n",
    "    - `remove()` to remove the specified item\n",
    "    - `pop()` to remove the specified index (or the last item if index is not specified)\n",
    "    - `del` keyword removes the specified index\n",
    "    - `clear()` method empties the list\n",
    "- Sorting:\n",
    "    - `sort()` will sort the list in an ordered way\n",
    "    - `reverse()` will reverse the order of the list\n",
    "- Copy of a list with the `copy()` method\n",
    "- Find the index of an element (if it exists): `index()`\n",
    "- `count()` to count the occurences of its argument in the list"
   ]
  },
  {
   "cell_type": "markdown",
   "metadata": {},
   "source": [
    "## Dictionary methods\n",
    "- `keys()`\tto list the dictionary's keys\n",
    "- `values()` to list the values in the dictionary\n",
    "- `get()`\tcall the value of a specified key\n",
    "- `pop()`\tto remove the specified key and its values\n",
    "- `items()` to get a list of key/value pairs"
   ]
  },
  {
   "cell_type": "markdown",
   "metadata": {},
   "source": [
    "## String methods\n",
    "* `upper()` to convert the whole string to upper-case\n",
    "* `lower()` to convert the whole string to lower-case\n",
    "* `find()` to look for a sub-string\n",
    "* `index()` to get the index of the argument, if the argument exists\n",
    "* `strip()` to remove whitespace characters from both ends of a string"
   ]
  },
  {
   "cell_type": "markdown",
   "metadata": {},
   "source": [
    "## `f`-string layout options\n",
    "| Option | Meaning | Example |\n",
    "|:-------|:--------|:--------|\n",
    "| `>` | Field is right aligned | `f\"{'padded':>8}\" => '  padded'` |\n",
    "| `.2f` | Format numbers to a specific number of digits | `f\"{60_000.12345:.2f}\" => '60000.12'` |\n",
    "| `10` | Format a value to a specific (minimum) width | `f\"{42:10}\" => '        42'` |"
   ]
  },
  {
   "cell_type": "markdown",
   "metadata": {},
   "source": [
    "## File IO\n",
    "Read files:\n",
    "```python\n",
    "# Open the file\n",
    "with open(\"data/readfile.txt\") as fileHandle:\n",
    "    \n",
    "    # work with the file handle in this code block with one of the following:\n",
    "    file = fileHandle.read()\n",
    "    line = fileHandle.readline()\n",
    "    lines = fileHandle.readlines()\n",
    "\n",
    "    # Or iterate over lines in file immediately:\n",
    "    for line in fileHandle:\n",
    "    \n",
    "# Outside the with block, the fileHandle doesn't exist\n",
    "    \n",
    "```\n",
    "\n",
    "Write files:\n",
    "\n",
    "```python\n",
    "# Open the file\n",
    "with open(\"data/writefile.txt\", \"w\") as fileHandle:\n",
    "    \n",
    "    # work with the file handle in this code block with one of the following:\n",
    "    file = fileHandle.write()\n",
    "```"
   ]
  },
  {
   "cell_type": "markdown",
   "metadata": {},
   "source": [
    "## Functions\n",
    "Create a function:\n",
    "```python\n",
    "def name_of_my_function(some, function, arguments):\n",
    "    \"\"\"Some information about the function\"\"\"\n",
    "    \n",
    "    analysis = some + function + arguments\n",
    "    \n",
    "    return analysis\n",
    "```"
   ]
  },
  {
   "cell_type": "markdown",
   "metadata": {},
   "source": [
    "## Modules\n",
    "Modules are either part of Python's built-in library or can be imported as an external library.  \n",
    "First make sure that the library is available:\n",
    "```python\n",
    "pip install pandas\n",
    "```\n",
    "Then, import the library using the `import` module and rename it to the conventionally used name:\n",
    "```python\n",
    "import pandas as pd\n",
    "```"
   ]
  }
 ],
 "metadata": {
  "kernelspec": {
   "display_name": "Python 3",
   "language": "python",
   "name": "python3"
  },
  "language_info": {
   "codemirror_mode": {
    "name": "ipython",
    "version": 3
   },
   "file_extension": ".py",
   "mimetype": "text/x-python",
   "name": "python",
   "nbconvert_exporter": "python",
   "pygments_lexer": "ipython3",
   "version": "3.7.3"
  }
 },
 "nbformat": 4,
 "nbformat_minor": 4
}
