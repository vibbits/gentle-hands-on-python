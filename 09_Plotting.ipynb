{
 "cells": [
  {
   "cell_type": "markdown",
   "metadata": {},
   "source": [
    "# Visualising data\n",
    "\n",
    "> *“\\[…\\] the most important part of \\[…\\] research \\[is\\] being able to\n",
    "> successfully communicate \\[…\\] results to clinicians”*\n",
    ">\n",
    "> – Dr. Matthias Stahl<sup><a href=\"#References\">1</a></sup>\n",
    "\n",
    "This chapter will be your first taste of the enormous “ecosystem” of\n",
    "Python third-party libraries outside of the standard library that comes\n",
    "packaged with Python itself. We will start out introducing how to plot\n",
    "in general then move on to creating the plots for the climate data.\n",
    "\n",
    "`matplotlib` is a one of several Python plotting libraries but is\n",
    "possibly the most commonly used. When you began thid course you\n",
    "installed the library already so you don’t need to worry about\n",
    "installing it.\n",
    "\n",
    "`matplotlib.pyplot` is a collection of command style functions that make\n",
    "matplotlib work like MATLAB. Each pyplot function makes some change to a\n",
    "figure: e.g., creates a figure, creates a plotting area in a figure,\n",
    "plots some lines in a plotting area, decorates the plot with labels,\n",
    "etc. In `matplotlib.pyplot` various states are preserved across function\n",
    "calls, so that it keeps track of things like the current figure and\n",
    "plotting area, and the plotting functions are directed to the current\n",
    "subplot.\n",
    "\n",
    "What we first have to do is importing the library of course."
   ],
   "id": "3148c3f3-f629-475c-b538-3bcc6cc19ec6"
  },
  {
   "cell_type": "code",
   "execution_count": null,
   "metadata": {},
   "outputs": [],
   "source": [
    "import matplotlib.pyplot as plt"
   ],
   "id": "2e550298-6673-499a-b414-4f461564082d"
  },
  {
   "cell_type": "markdown",
   "metadata": {},
   "source": [
    "## Loading the cleaned data\n",
    "\n",
    "At this point we can load the data we saved in the previous chapter and\n",
    "explore various ways of plotting it."
   ],
   "id": "afcdf6fd-a0ce-4827-8e85-fdace1a101a6"
  },
  {
   "cell_type": "code",
   "execution_count": null,
   "metadata": {},
   "outputs": [],
   "source": [
    "import csv\n",
    "from datetime import datetime\n",
    "\n",
    "def load_data(filename):\n",
    "    with open(filename) as file_resource:\n",
    "        reader = csv.DictReader(file_resource)\n",
    "    \n",
    "        data = []\n",
    "        for reading in reader:\n",
    "            data = data + [{'Time': datetime.fromisoformat(reading['Time']), 'Temperature': float(reading['Temperature'])}]\n",
    "    \n",
    "    return data\n",
    "\n",
    "global_data = load_data(\"data/global_data.csv\")\n",
    "bel_data = load_data(\"data/bel_data.csv\")\n",
    "rus_data = load_data(\"data/rus_data.csv\")\n",
    "aus_data = load_data(\"data/aus_data.csv\")"
   ],
   "id": "6ac038c9-c814-4f60-bc06-5cf8c9729fef"
  },
  {
   "cell_type": "markdown",
   "metadata": {},
   "source": [
    "A simple plotting function provided by `matplotlib` is called `bar()`.\n",
    "It has a lot of options but you can start simply by passing it a list of\n",
    "x-values and a list of height-values (e.g. some global temperature\n",
    "anomaly numbers)."
   ],
   "id": "1a36427a-0bdd-4804-bb44-47cfa80d36ef"
  },
  {
   "cell_type": "code",
   "execution_count": null,
   "metadata": {},
   "outputs": [],
   "source": [
    "temperatures = []\n",
    "for observation in global_data:\n",
    "    temperatures = temperatures + [observation['Temperature']]"
   ],
   "id": "327c8cfa-b71e-4275-ba16-a2ef3c446e1f"
  },
  {
   "cell_type": "code",
   "execution_count": null,
   "metadata": {},
   "outputs": [],
   "source": [
    "plt.bar(x=range(len(temperatures)), height=temperatures)"
   ],
   "id": "508abb10-4ce7-42ed-95cd-3e9341e1a5ac"
  },
  {
   "cell_type": "markdown",
   "metadata": {},
   "source": [
    "We could also pass the list of dates to get useful x-axis markings."
   ],
   "id": "22fe1dfc-e85c-4a4e-bb96-4b6bf3e0ae99"
  },
  {
   "cell_type": "code",
   "execution_count": null,
   "metadata": {},
   "outputs": [],
   "source": [
    "dates = []\n",
    "for observation in global_data:\n",
    "    dates = dates + [observation['Time']]"
   ],
   "id": "26190ad7-e524-4303-8e42-fd65ca97cf83"
  },
  {
   "cell_type": "code",
   "execution_count": null,
   "metadata": {},
   "outputs": [],
   "source": [
    "plt.bar(x=dates, height=temperatures)"
   ],
   "id": "3a338457-e189-41b4-8d46-7af67e69198d"
  },
  {
   "cell_type": "markdown",
   "metadata": {},
   "source": [
    "This is not very satisfying though, and it’s not the correct type of\n",
    "plot. An alternative might be a `scatter()`.\n",
    "\n",
    "------------------------------------------------------------------------\n",
    "\n",
    "### Exercise 9-1: Scatter plot\n",
    "\n",
    "Plot the global climate data using a scatter plot."
   ],
   "id": "ab93ab8e-20d4-4e79-bf69-f9e89a358dde"
  },
  {
   "cell_type": "code",
   "execution_count": null,
   "metadata": {},
   "outputs": [],
   "source": [],
   "id": "23eba08f-23b4-4d20-9771-aceb4dbfd820"
  },
  {
   "cell_type": "markdown",
   "metadata": {},
   "source": [
    "------------------------------------------------------------------------\n",
    "\n",
    "### Exercise 9-2: Add axis labels and a title\n",
    "\n",
    "Plot the global climate data using a scatter plot and add axis labels\n",
    "with `xlabel()`, `ylabel()` and `title()`."
   ],
   "id": "ac2c48fe-0fe0-42dc-9aee-d3bb65a404eb"
  },
  {
   "cell_type": "code",
   "execution_count": null,
   "metadata": {},
   "outputs": [],
   "source": [],
   "id": "120a5147-2e5a-4d02-ae0b-f7f2c07240f9"
  },
  {
   "cell_type": "markdown",
   "metadata": {},
   "source": [
    "------------------------------------------------------------------------\n",
    "\n",
    "This is getting closer to the result we want. But it’s still not the\n",
    "right kind of plot. We need a line plot.\n",
    "\n",
    "------------------------------------------------------------------------\n",
    "\n",
    "### Exercise 9-3: A line plot\n",
    "\n",
    "Use the documentation\n",
    "[here](https://matplotlib.org/3.5.3/api/_as_gen/matplotlib.pyplot.html),\n",
    "and the plot gallery [here](https://matplotlib.org/stable/gallery/), to\n",
    "draw a line plot of the global temperature anomaly data. Make sure you\n",
    "add axis labels and a title. Experiment with adding and changing line\n",
    "colours with the `color` parameter."
   ],
   "id": "dbda4119-3995-4e21-9b1f-9895980731b9"
  },
  {
   "cell_type": "code",
   "execution_count": null,
   "metadata": {},
   "outputs": [],
   "source": [],
   "id": "2cad1492-eb3b-45f8-b135-7f837daca34a"
  },
  {
   "cell_type": "markdown",
   "metadata": {},
   "source": [
    "------------------------------------------------------------------------\n",
    "\n",
    "Beautiful! However there is a lot of noise, it might be useful to\n",
    "display smoothed data<sup>2</sup>. One way of smoothing these data is by\n",
    "taking a moving average over a window of, say, 2 years (24 months). So\n",
    "let’s do that now. The first function we need is something you’ve done\n",
    "before: compute an average observation."
   ],
   "id": "df992841-0da0-40b0-a260-389731d6af8b"
  },
  {
   "cell_type": "code",
   "execution_count": null,
   "metadata": {},
   "outputs": [],
   "source": [
    "def average_observation(observations):\n",
    "    temp_sum = 0\n",
    "    for observation in observations:\n",
    "        temp_sum = temp_sum + observation['Temperature']\n",
    "    \n",
    "    return {\n",
    "        'Temperature': temp_sum / len(observations),\n",
    "        'Time': observations[len(observations) // 2]['Time']\n",
    "    }\n",
    "\n",
    "assert { 'Temperature': 1.1, 'Time': datetime(2022, 12, 1) } == average_observation([{ 'Temperature': 1.1, 'Time': datetime(2022, 12, 1) }])\n",
    "assert { 'Temperature': 0, 'Time': datetime(2000, 1, 1) } == average_observation([\n",
    "    { 'Temperature': -5, 'Time': datetime(1990, 5, 1) },\n",
    "    { 'Temperature': 5, 'Time': datetime(2000, 1, 1) }\n",
    "])"
   ],
   "id": "64b1242d-8724-49b9-a517-2a545ff3bbd8"
  },
  {
   "cell_type": "markdown",
   "metadata": {},
   "source": [
    "Since our `average_observation()` function computes the average for an\n",
    "entire list of observations we need a way to *select* all overlapping\n",
    "sub-lists and pass them along to our function. This is a *moving\n",
    "window*."
   ],
   "id": "31935dd6-e8df-4306-a415-e549fdb8d1f9"
  },
  {
   "cell_type": "code",
   "execution_count": null,
   "metadata": {},
   "outputs": [],
   "source": [
    "def moving_window(data, window_size: int):\n",
    "    windows = []\n",
    "    for window_begin in range(len(data) - window_size + 1):\n",
    "        windows = windows + [data[window_begin:(window_begin + window_size)]]\n",
    "    \n",
    "    return windows\n",
    "\n",
    "assert moving_window([], 5) == []\n",
    "assert moving_window(\"ABCDEFG\", 4) == [\"ABCD\", \"BCDE\", \"CDEF\", \"DEFG\"]"
   ],
   "id": "db484fd5-3d36-4832-855f-b74f923ef05c"
  },
  {
   "cell_type": "markdown",
   "metadata": {},
   "source": [
    "Finally we need to apply `average_observation()` to each of the windows\n",
    "we get from `moving_window()`."
   ],
   "id": "21891cf4-db5c-4a81-8667-c116dea6cd8b"
  },
  {
   "cell_type": "code",
   "execution_count": null,
   "metadata": {},
   "outputs": [],
   "source": [
    "def smoothed(data, window_size: int):\n",
    "    smooth = []\n",
    "    windows = moving_window(data, window_size)\n",
    "    for window in windows:\n",
    "        smooth = smooth + [average_observation(window)]\n",
    "    \n",
    "    return smooth"
   ],
   "id": "2d8bb60b-4bc2-4818-9d44-219dcaaf450d"
  },
  {
   "cell_type": "markdown",
   "metadata": {},
   "source": [
    "Now we can use this function to plot the original data and a smoothed\n",
    "line on top of it. But first, splitting the data is a little awkward and\n",
    "repetitive so lets write a little function to do that."
   ],
   "id": "3e7005a5-691c-45bc-ab2c-91d0fe180fd0"
  },
  {
   "cell_type": "code",
   "execution_count": null,
   "metadata": {},
   "outputs": [],
   "source": [
    "def split_data(data):\n",
    "    temps = []\n",
    "    dates = []\n",
    "    for observation in data:\n",
    "        temps = temps + [observation['Temperature']]\n",
    "        dates = dates + [observation['Time']]\n",
    "    \n",
    "    return { 'Temperatures': temps, 'Dates': dates}"
   ],
   "id": "2e755112-8976-4a4d-9e9e-2b9a1527b10e"
  },
  {
   "cell_type": "markdown",
   "metadata": {},
   "source": [
    "Now we’re finally ready to create a plot for the global temperature\n",
    "data.\n",
    "\n",
    "------------------------------------------------------------------------\n",
    "\n",
    "### Exercise 9-4: Plot global temperature anomaly\n",
    "\n",
    "Create a plot of the global temperature anomaly. Include the un-smoothed\n",
    "and smoothed data in a line plot. Label axes and include a plot title."
   ],
   "id": "780c35fe-650a-4934-838d-0a2568d1bb95"
  },
  {
   "cell_type": "code",
   "execution_count": null,
   "metadata": {},
   "outputs": [],
   "source": [],
   "id": "16eac5d6-bbd0-4f41-a576-8e1b6f7a955b"
  },
  {
   "cell_type": "markdown",
   "metadata": {},
   "source": [
    "------------------------------------------------------------------------\n",
    "\n",
    "### Exercise 9-5: Plot per-region data\n",
    "\n",
    "Create plots for each region (Belgium, Russia, and Australia) in the\n",
    "same way as you did for the global data. Once you do this, you will see\n",
    "that it is difficult to see any trend in these plots due to the noise.\n",
    "So limit the range of the y-axis around the smoothed plot, do you see a\n",
    "pattern now?"
   ],
   "id": "e060e5bb-1a5a-4051-94a7-3eea1196d28f"
  },
  {
   "cell_type": "code",
   "execution_count": null,
   "metadata": {},
   "outputs": [],
   "source": [],
   "id": "061f3a33-7e36-410d-955c-3c11e2d7f0c9"
  },
  {
   "cell_type": "code",
   "execution_count": null,
   "metadata": {},
   "outputs": [],
   "source": [],
   "id": "c3c73585-5aaa-4d13-b15b-f13fe346f602"
  },
  {
   "cell_type": "code",
   "execution_count": null,
   "metadata": {},
   "outputs": [],
   "source": [],
   "id": "7aa5524c-8d68-42ef-9a64-c33e65f52742"
  },
  {
   "cell_type": "markdown",
   "metadata": {},
   "source": [
    "------------------------------------------------------------------------\n",
    "\n",
    "## Chapter Review\n",
    "\n",
    "In this chapter you learned how to use you first third-party library in\n",
    "Python: `matplotlib`. You used it to create bar and scatter plots with\n",
    "axes labeled and plot titles. Finally you created line plots of global\n",
    "and selected regional climate data.\n",
    "\n",
    "### Review Questions\n",
    "\n",
    "1.  What is the name of the function used to create line plots?\n",
    "    <details>\n",
    "    <summary>\n",
    "    Answer\n",
    "    </summary>\n",
    "    <code>plot()</code>\n",
    "    </details>\n",
    "2.  Is it possible to change the plot colour?\n",
    "    <details>\n",
    "    <summary>\n",
    "    Answer\n",
    "    </summary>\n",
    "    Yes, using the <code>color</code> argument to <code>plot()</code>\n",
    "    </details>\n",
    "3.  Can you use <code>matplotlib</code> to plot a histogram?\n",
    "    <details>\n",
    "    <summary>\n",
    "    Answer\n",
    "    </summary>\n",
    "    <a href=\"https://matplotlib.org/stable/gallery/statistics/hist.html\">Yes.</a>\n",
    "    </details>\n",
    "\n",
    "## References\n",
    "\n",
    "1.  [Matthias Stahl’s personal website](https://www.higsch.com/about/)\n",
    "2.  [Data smoothing](https://www.climate4you.com/DataSmoothing.htm)\n",
    "\n",
    "## Supporting material\n",
    "\n",
    "-   [Become a Python Data\n",
    "    Analyst](https://www.packtpub.com/eu/big-data-and-business-intelligence/become-python-data-analyst)\n",
    "-   [Add confidence interval on\n",
    "    barplot](https://python-graph-gallery.com/8-add-confidence-interval-on-barplot/)\n",
    "-   [Matplotlib\n",
    "    Cheatsheets](https://github.com/matplotlib/cheatsheets#cheatsheets)\n",
    "\n",
    "## Next session\n",
    "\n",
    "Go to our [next chapter](10_Conclusion.ipynb)."
   ],
   "id": "3ab79030-d568-4bfc-9342-ad55d49b6d03"
  }
 ],
 "nbformat": 4,
 "nbformat_minor": 5,
 "metadata": {
  "kernelspec": {
   "name": "python3",
   "display_name": "Python 3 (ipykernel)",
   "language": "python"
  },
  "language_info": {
   "name": "python",
   "codemirror_mode": {
    "name": "ipython",
    "version": "3"
   },
   "file_extension": ".py",
   "mimetype": "text/x-python",
   "nbconvert_exporter": "python",
   "pygments_lexer": "ipython3",
   "version": "3.11.0"
  }
 }
}
