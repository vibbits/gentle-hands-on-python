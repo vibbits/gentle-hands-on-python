{
 "cells": [
  {
   "cell_type": "markdown",
   "metadata": {},
   "source": [
    "# Building Programs\n",
    "\n",
    "> *“Programs must be written for people to read, and only incidentally\n",
    "> for machines to execute.”*<sup><a href=\"#References\">1</a></sup>\n",
    "\n",
    "## Functions\n",
    "\n",
    "So far, we explored some of the *“building blocks”* (the fundamental\n",
    "parts) of programming, this chapter introduces the *“combining parts”*\n",
    "of programming. In order to build up the solution to a problem the\n",
    "building blocks are combined together into larger and larger forms\n",
    "until, finally, a useful whole is produced.\n",
    "\n",
    "The “combining parts” of programs are called “functions”. These are\n",
    "equivalent to mathematical functions but we will not use any more\n",
    "mathematical analogies here. Functions can be *defined*, *applied* (or\n",
    "*used*, *called*), or *composed*.\n",
    "\n",
    "## Function Application\n",
    "\n",
    "You can think of a function as a mystery box. At the top is an opening\n",
    "for you to put things into it. The mystery box transforms anything you\n",
    "put into it and out the bottom it produces the transformed object.\n",
    "\n",
    "![Function](https://upload.wikimedia.org/wikipedia/commons/thumb/3/3b/Function_machine2.svg/191px-Function_machine2.svg.png)\n",
    "\n",
    "The inputs to a function can be a variety of things (some of which we’ve\n",
    "seen already): a string, a number, even another function, a mouse press,\n",
    "a video stream, signals from a sensor, a file containing sequence data,\n",
    "…\n",
    "\n",
    "Two built-in Python functions are **abs()** and **len()**. In Python,\n",
    "you *apply* a function by typing its name followed by an open\n",
    "parenthesis ‘(’, a comma seperated list of arguments, and finally a\n",
    "closing parenthesis ‘)’."
   ],
   "id": "b9cbff15-4d6c-4224-bb24-061ce5fb13e3"
  },
  {
   "cell_type": "code",
   "execution_count": null,
   "metadata": {},
   "outputs": [],
   "source": [
    "abs(-56)"
   ],
   "id": "dcfb8890-8bc7-4e0d-89a6-5b98d6e0f938"
  },
  {
   "cell_type": "code",
   "execution_count": null,
   "metadata": {},
   "outputs": [],
   "source": [
    "len(\"hello\")"
   ],
   "id": "ca518b76-c8ca-4b38-86ca-9f00c1e74050"
  },
  {
   "cell_type": "markdown",
   "metadata": {},
   "source": [
    "These functions take a single argument. Here is one that takes a list of\n",
    "several arguments."
   ],
   "id": "7902b9ef-6521-4a1b-be45-3c31c95341b0"
  },
  {
   "cell_type": "code",
   "execution_count": null,
   "metadata": {},
   "outputs": [],
   "source": [
    "print(True, \"A string\", 55)"
   ],
   "id": "729476d7-dbd4-4e7d-bc24-f025e15007a9"
  },
  {
   "cell_type": "markdown",
   "metadata": {},
   "source": [
    "## Function Definition\n",
    "\n",
    "We can also build (or *define*) our own functions. When you’re writing\n",
    "your own function, start with the *keyword* `def` like so:\n",
    "\n",
    "> ``` python\n",
    "> def name_of_my_function(some, function, arguments):\n",
    ">     # Some operations\n",
    ">     \n",
    ">     return result\n",
    "> ```\n",
    ">\n",
    "> The final part of a function is `return` which *specifies what the\n",
    "> function evaluates to* when you apply it. This function has `3`\n",
    "> arguments called `some`, `function`, and `arguments`.\n",
    "\n",
    "Let’s write our own function to compute the square of a number. This\n",
    "function takes a single integer argument and returns that number\n",
    "squared. Notice that I have included a type annotation on the argument."
   ],
   "id": "6a91c024-452f-4487-aca8-a559b0141e6a"
  },
  {
   "cell_type": "code",
   "execution_count": null,
   "metadata": {},
   "outputs": [],
   "source": [
    "def my_square(number: int):\n",
    "    return number ** 2"
   ],
   "id": "3d49984d-b15a-405c-94d3-d154d3aeba52"
  },
  {
   "cell_type": "markdown",
   "metadata": {},
   "source": [
    "Notice that, when you run this cell, nothing seems to happen. This only\n",
    "*defines* the function. It has not yet been run or applied. Think of\n",
    "this as telling Python about your function like you would do with a\n",
    "variable. It might be helpful to imagine Python has a notebook where it\n",
    "writes down the names of all the definitions it knows about. When you\n",
    "`def` a new function, Python writes that name down in its notebook.\n",
    "\n",
    "This new function can now be applied (using matching opening- and\n",
    "closing parenthesis) as you have already seen:"
   ],
   "id": "5252ccc1-30d4-4dfb-8067-1950319e9a2f"
  },
  {
   "cell_type": "code",
   "execution_count": null,
   "metadata": {},
   "outputs": [],
   "source": [
    "my_square()"
   ],
   "id": "b3aa27b0-4742-489a-a568-e3a2b467b437"
  },
  {
   "cell_type": "markdown",
   "metadata": {},
   "source": [
    "😱\n",
    "`TypeError: my_square() missing 1 required positional argument: 'number'`\n",
    "\n",
    "What does that mean? It means `my_square()` expects `1` argument, but we\n",
    "gave it `0` arguments. Let’s fix that:"
   ],
   "id": "830ed1a6-a565-484e-ad5e-8d4c5a5e46cf"
  },
  {
   "cell_type": "code",
   "execution_count": null,
   "metadata": {},
   "outputs": [],
   "source": [
    "my_square(-5)"
   ],
   "id": "d23e958c-c445-466b-bb3c-0e12c23ac2d7"
  },
  {
   "cell_type": "markdown",
   "metadata": {},
   "source": [
    "Because this is a `TypeError` we know that functions also have a type!\n",
    "You caneven annotate the *type* of the return value like so:"
   ],
   "id": "3cd2de0c-1a5f-49c6-ab31-01fcc168ab38"
  },
  {
   "cell_type": "code",
   "execution_count": null,
   "metadata": {},
   "outputs": [],
   "source": [
    "def my_square(number: int) -> int:\n",
    "    return number ** 2"
   ],
   "id": "e396ce37-9267-48aa-982a-e5242ddcea57"
  },
  {
   "cell_type": "markdown",
   "metadata": {},
   "source": [
    "The *type* of `my_square` is a *function* that accepts a single integer\n",
    "parameter and returns an integer.\n",
    "\n",
    "## Function Arguments\n",
    "\n",
    "When you apply a function to some arguments you can also say that the\n",
    "arguments are “*passed*” to the function. You can think of this as\n",
    "dropping the number `7` into the mystery box labaled `my_square`. So\n",
    "what happens to arguments when they’re “passed” to a function? Where do\n",
    "they come from? And where do they go? Let us try to build an intuition."
   ],
   "id": "f690b4ed-7ae9-4cc8-ae46-2e539df41b37"
  },
  {
   "cell_type": "code",
   "execution_count": null,
   "metadata": {},
   "outputs": [],
   "source": [
    "# We apply the my_square() function to some argument\n",
    "my_square(7) # Python then goes off to find the my_square() function\n",
    "# Found it! It looks like this: my_square(number: int) -> int:\n",
    "# Python then places the value 7 that we passed into a variable or box called number\n",
    "# that only the body of my_square can see"
   ],
   "id": "3fc58527-6cac-48f0-8d32-a089be2f62bc"
  },
  {
   "cell_type": "markdown",
   "metadata": {},
   "source": [
    "You can think of function arguments as variables that are assigned on\n",
    "function application. In order to understand what happens, we can now\n",
    "*substitute* the name “my_square” with the function body in the\n",
    "definition of `my_square`:"
   ],
   "id": "55a2614f-62e4-4823-9955-a0ee46c36d5c"
  },
  {
   "cell_type": "code",
   "execution_count": null,
   "metadata": {},
   "outputs": [],
   "source": [
    "number = 7 # Argument passed to the my_square function\n",
    "number ** 2 # Body of the my_square function"
   ],
   "id": "e15320da-b7a1-4a45-a10f-a762552323db"
  },
  {
   "cell_type": "markdown",
   "metadata": {},
   "source": [
    "Since we know that `number` is defined to be `7`, we can *substitute*\n",
    "the name “number” with the definition: `7`:"
   ],
   "id": "ec62fc6f-eb7d-48f4-9e72-745de55bbe67"
  },
  {
   "cell_type": "code",
   "execution_count": null,
   "metadata": {},
   "outputs": [],
   "source": [
    "7 ** 2"
   ],
   "id": "e42431d5-c1c9-4ece-a4ee-2e5dc79a8eae"
  },
  {
   "cell_type": "markdown",
   "metadata": {},
   "source": [
    "Finally, we’re left with a mathematical expression that Python can\n",
    "trivially evaluate.\n",
    "\n",
    "What we just did together is use a *metal model* of how Python evaluates\n",
    "programs which is known as the “substitution model of\n",
    "execution”<sup><a href=\"#References\">2</a></sup>, though it is an\n",
    "imprecise model in this case it will get you a long way."
   ],
   "id": "6b94f058-f739-405e-b478-b1ee71616969"
  },
  {
   "cell_type": "code",
   "execution_count": null,
   "metadata": {},
   "outputs": [],
   "source": [
    "# This mental model also works for passing variables as arguments:\n",
    "my_var = 7\n",
    "my_square(my_var)\n",
    "# Once again, Python places the value in the \"my_var\" box into the variable or box called nnumber."
   ],
   "id": "e12a9862-bb54-444f-932f-b62225110152"
  },
  {
   "cell_type": "markdown",
   "metadata": {},
   "source": [
    "The next substitution step is to replace everywhere we see the name\n",
    "“my_var” with its definition: `7`."
   ],
   "id": "ef04f0c0-2e9b-45bd-9580-de54deb125f4"
  },
  {
   "cell_type": "code",
   "execution_count": null,
   "metadata": {},
   "outputs": [],
   "source": [
    "# 7 = 7  Initial variable assignment\n",
    "my_square(7)"
   ],
   "id": "423f7008-134f-40b2-b417-29975c0a58a4"
  },
  {
   "cell_type": "markdown",
   "metadata": {},
   "source": [
    "Next, replace the name “my_square” with its definition."
   ],
   "id": "17788127-03e2-4760-a316-889e3de5f5e4"
  },
  {
   "cell_type": "code",
   "execution_count": null,
   "metadata": {},
   "outputs": [],
   "source": [
    "number = 7 # Argument passed to the my_square function\n",
    "number ** 2 # Body of the my_square function"
   ],
   "id": "980c02da-b60b-4dbf-8761-32cb5985437f"
  },
  {
   "cell_type": "markdown",
   "metadata": {},
   "source": [
    "And proceed as above.\n",
    "\n",
    "------------------------------------------------------------------------\n",
    "\n",
    "### Exercise 3-1: Function arguments\n",
    "\n",
    "Try to guess what will be printed before executing the cell."
   ],
   "id": "37dd855e-1e51-499b-9f35-7a88779011d9"
  },
  {
   "cell_type": "code",
   "execution_count": null,
   "metadata": {},
   "outputs": [],
   "source": [
    "a = len(\"hello\")\n",
    "b = \"blob\"\n",
    "c = len(b)\n",
    "d = my_square(c)\n",
    "\n",
    "print(a, b, c, d)"
   ],
   "id": "6de135a0-86a6-4ec0-88bc-928b828954aa"
  },
  {
   "cell_type": "markdown",
   "metadata": {},
   "source": [
    "[Advanced question](Advanced%20Exercises.ipynb)\n",
    "\n",
    "------------------------------------------------------------------------\n",
    "\n",
    "## Help\n",
    "\n",
    "Python comes with an in-built documentation system that you can access\n",
    "using a function called `help()`."
   ],
   "id": "bca4a46b-67f0-4b05-a476-ffb83d2796ab"
  },
  {
   "cell_type": "code",
   "execution_count": null,
   "metadata": {},
   "outputs": [],
   "source": [
    "help(abs)"
   ],
   "id": "6f881b55-64b2-4a6e-9175-925bad45cf44"
  },
  {
   "cell_type": "markdown",
   "metadata": {},
   "source": [
    "The message for our own `my_square` function is not very useful though:"
   ],
   "id": "c5c4d03f-9447-4346-8e3e-66774209c03b"
  },
  {
   "cell_type": "code",
   "execution_count": null,
   "metadata": {},
   "outputs": [],
   "source": [
    "help(my_square)"
   ],
   "id": "2cf225cf-df90-48e3-870a-e4706c5cdf93"
  },
  {
   "cell_type": "markdown",
   "metadata": {},
   "source": [
    "In order to make the help message for our function more useful we have\n",
    "to slightly *change the definition* of `my_square` to include a\n",
    "*docstring*. If you put a string on the line immediately after the name\n",
    "of your function, this string will be included in the help message for\n",
    "you."
   ],
   "id": "bc598eae-b165-465f-b2ea-8cfd19ced8c8"
  },
  {
   "cell_type": "code",
   "execution_count": null,
   "metadata": {},
   "outputs": [],
   "source": [
    "def my_square(number: int) -> int:\n",
    "    \"\"\"Compute the square of the input number.\"\"\"\n",
    "    return number ** 2"
   ],
   "id": "92f299df-9701-4738-bbdb-cd7817b003a8"
  },
  {
   "cell_type": "markdown",
   "metadata": {},
   "source": [
    "Now check the help message."
   ],
   "id": "e8890afa-2bd3-41ea-83a0-229308107e74"
  },
  {
   "cell_type": "code",
   "execution_count": null,
   "metadata": {},
   "outputs": [],
   "source": [
    "help(my_square)"
   ],
   "id": "67ecbc11-e5d8-4843-98a0-5a0e9ac62fda"
  },
  {
   "cell_type": "markdown",
   "metadata": {},
   "source": [
    "------------------------------------------------------------------------\n",
    "\n",
    "## Indentation\n",
    "\n",
    "Python relies on indentation (whitespace at the beginning of a line) to\n",
    "group code into *blocks*. Though this is not a unique characteristic of\n",
    "Python, although other programming languages you may’ve used often use\n",
    "curly *braces* (`{}`) for this purpose.\n",
    "\n",
    "There are 2 things to keep in mind about indentation:\n",
    "\n",
    "1.  The *indentation level* (which “sub-block”) you are in. You have to\n",
    "    be careful how you indent the code so that your code is correctly\n",
    "    grouped into blocks.\n",
    "2.  Consistently indenting code *within* a block.\n",
    "\n",
    "See what happens if indentation is inconsistent:"
   ],
   "id": "7d42f2b4-11d1-475f-8ad8-865441568744"
  },
  {
   "cell_type": "code",
   "execution_count": null,
   "metadata": {},
   "outputs": [],
   "source": [
    "# This is the \"top-level\"\n",
    "\n",
    "def start_of_a_block():\n",
    "    # This is the beginning of an indented block of code. Note the space at the beginning of the line\n",
    "   a_variable = 0\n",
    "    another = 6"
   ],
   "id": "38cafe33-6d2b-4f20-b567-0ac887329e50"
  },
  {
   "cell_type": "markdown",
   "metadata": {},
   "source": [
    "------------------------------------------------------------------------\n",
    "\n",
    "### Exercise 3-2: To return or not to return?\n",
    "\n",
    "In general your function should evaluate to some value using the\n",
    "`return` keyword. What happens if you forget to use a `return`? What\n",
    "happens if you `return` with no value?"
   ],
   "id": "149798d3-b7e9-4c75-8b38-34f5cbe4eb3e"
  },
  {
   "cell_type": "code",
   "execution_count": null,
   "metadata": {},
   "outputs": [],
   "source": [
    "def a_function():\n",
    "    6\n",
    "    # Solve the exercise here\n",
    "\n",
    "print(a_function())"
   ],
   "id": "aa3bdba5-0ca0-429f-aca2-133811cad558"
  },
  {
   "cell_type": "markdown",
   "metadata": {},
   "source": [
    "[Advanced question](Advanced%20Exercises.ipynb)\n",
    "\n",
    "------------------------------------------------------------------------\n",
    "\n",
    "## Testing\n",
    "\n",
    "You are probably very confident that the code you’ve written so far is\n",
    "“correct”. But as you write more complicated programs you will probably\n",
    "begin to feel less confident. Testing, among other virtues, allows you\n",
    "to keep this early confidence in the correctness of your programs. One\n",
    "(rather naïve) way of testing is to assert an expectation about the\n",
    "state of your program. With Python, this can be achieved using the\n",
    "keyword **`assert`**. For example, I could test the `my_square` function\n",
    "like so:"
   ],
   "id": "c5819585-608f-4599-abbe-4d5cfed75baf"
  },
  {
   "cell_type": "code",
   "execution_count": null,
   "metadata": {},
   "outputs": [],
   "source": [
    "assert 0 == my_square(0)\n",
    "assert 1 == my_square(1)\n",
    "assert 4 == my_square(2)"
   ],
   "id": "aaf0b2eb-baff-4579-9009-75d01cae1fc3"
  },
  {
   "cell_type": "markdown",
   "metadata": {},
   "source": [
    "Successfully passing these tests will result in no output at all.\n",
    "Failing will result in **`AssertionError`** with no description of what\n",
    "went wrong.\n",
    "\n",
    "![Testing](images/testing.png)\n",
    "\n",
    "Your tests become more useful when they check both expected values and\n",
    "unexpected (edge-case) values. If your function expects numbers, does it\n",
    "cope well with very large numbers? What about very small numbers? What\n",
    "about negative numbers? What about zero?\n",
    "\n",
    "### Testing example\n",
    "\n",
    "Here I will demonstrate solving an exercise and ensuring the test cases\n",
    "pass"
   ],
   "attachments": {
    "images/testing.png": {
     "image/png": "[encoded data removed]"
    }
   },
   "id": "abd20696-e08e-4f17-8da1-46aee324ea78"
  },
  {
   "cell_type": "code",
   "execution_count": null,
   "metadata": {},
   "outputs": [],
   "source": [
    "# Write a function definition here\n",
    "\n",
    "# These are _test cases_\n",
    "assert 3 == my_example_function(1, 2), \"I expected 3, but got \" + str(my_example_function(1, 2))\n",
    "assert 0 == my_example_function(-51, 51), \"I expected 0, but got \" + str(my_example_function(-51, 51))\n",
    "assert my_example_function.__doc__ is not None, \"You should write a docstring for your function\""
   ],
   "id": "3fd22fc3-faa7-43ef-a981-53be09096ccc"
  },
  {
   "cell_type": "markdown",
   "metadata": {},
   "source": [
    "------------------------------------------------------------------------\n",
    "\n",
    "### Exercise 3-3: Testing\n",
    "\n",
    "How would you test the following function. Write some tests, try to\n",
    "discover a bug. You’re seeing the syntax for annotating the *return data\n",
    "type* of a function here for the first time. It’s the arrow between the\n",
    "closing parenthesis and the colon. So this function accepts a `float`\n",
    "parameter and returns a `float`."
   ],
   "id": "f0d959a0-97f8-4adf-a1c2-f74f18689bdf"
  },
  {
   "cell_type": "code",
   "execution_count": null,
   "metadata": {},
   "outputs": [],
   "source": [
    "def fractional_part(number: float) -> float:\n",
    "    \"\"\"Find the fractional part of an input floating point number.\"\"\"\n",
    "    int_part = int(number) + 1\n",
    "    frac_part = int_part + number\n",
    "    return int_part\n",
    "\n",
    "# Write your tests here"
   ],
   "id": "01084d5f-786d-4dc5-9f20-288dab9d35cf"
  },
  {
   "cell_type": "markdown",
   "metadata": {},
   "source": [
    "[Advanced question](Advanced%20Exercises.ipynb)\n",
    "\n",
    "------------------------------------------------------------------------\n",
    "\n",
    "## Chapter Review\n",
    "\n",
    "In this chapter you learned how to write code that simplifies the task\n",
    "of understanding a program by *abstracting away* details. Functions are\n",
    "a fundamentally important part of programming, indeed they’re the other\n",
    "half of programming. Functions even correspond to mathematical\n",
    "proofs<sup><a href=\"#References\">3</a></sup>! You have now covered *all*\n",
    "of the very fundamentals of programming. You’ve understood the building\n",
    "blocks. And now you’ve understood the combining of things together using\n",
    "function definition and application.\n",
    "\n",
    "If you are new to programming then it is very likely this will seem\n",
    "overwhelming. Learning to program requires you to understand many new\n",
    "concepts. It is ok if you feel overwhelmed, the remaining chapters are\n",
    "here to help you practise. In some sense they are just more details of\n",
    "what we have already covered<sup><a href=\"#References\">4</a></sup>.\n",
    "\n",
    "### Review Questions\n",
    "\n",
    "1.  What is a function?\n",
    "    <details>\n",
    "    <summary>\n",
    "    Answer\n",
    "    </summary>\n",
    "    A <em>function</em> is a block of re-usable code with a name, that\n",
    "    can be called using that name.\n",
    "    </details>\n",
    "2.  What is the result of evaluating a function called?\n",
    "    <details>\n",
    "    <summary>\n",
    "    Answer\n",
    "    </summary>\n",
    "    The <em>return value</em>. Or the value <em>returned by the\n",
    "    function</em>.\n",
    "    </details>\n",
    "3.  What are docstrings? How do you access them?\n",
    "    <details>\n",
    "    <summary>\n",
    "    Answer\n",
    "    </summary>\n",
    "    Docstrings are documentation that can be accessed using the\n",
    "    <code>help()</code> function.\n",
    "    </details>\n",
    "4.  What is meant by “function application”?\n",
    "    <details>\n",
    "    <summary>\n",
    "    Answer\n",
    "    </summary>\n",
    "    Function application is synonymous with function “call” or “use”. A\n",
    "    function is applied to its arguments (or arguments are “passed” to\n",
    "    the function) and evaluated to produce results. In Python, the\n",
    "    function application operator is <code>()</code>.\n",
    "    </details>\n",
    "\n",
    "## References\n",
    "\n",
    "1.  Abelson, H., Sussman, G.J., Sussman, J. (1996) *[Structure and\n",
    "    Interpretation of Computer\n",
    "    Programs](https://mitpress.mit.edu/sites/default/files/sicp/full-text/book/book.html)\n",
    "    (2 ed.)*. The MIT Press.\n",
    "2.  Chiusano, P., Bjarnason, R. (2015) [Referential transparency,\n",
    "    purity, and the substitution\n",
    "    model](https://livebook.manning.com/book/functional-programming-in-scala/chapter-1/52).\n",
    "    In *Functional Programming in Scala* (pp.10-12). Manning.\n",
    "3.  [The Curry-Howard\n",
    "    correspondence](https://en.wikipedia.org/wiki/Curry%E2%80%93Howard_correspondence)\n",
    "4.  Hoare, C.A.R. (1969) *[An Axiomatic Basis for Computer\n",
    "    Programming](https://www.cs.cmu.edu/~crary/819-f09/Hoare69.pdf)*.\n",
    "    Communications of the ACM, 12(10):576-580 and 583.\n",
    "\n",
    "## 8. Supporting material\n",
    "\n",
    "-   [A Data Centric Introduction to Computing, Chapter\n",
    "    5](https://dcic-world.org/2021-08-21/From_Repeated_Expressions_to_Functions.html)\n",
    "-   [Automate the Boring Stuff with Python, Chapter\n",
    "    3](http://automatetheboringstuff.com/2e/chapter3/)\n",
    "-   [Automate the Boring Stuff with Python video course, Lesson\n",
    "    9](https://youtu.be/WB4hJJkfhLU)\n",
    "\n",
    "Click [here](04_Decisions.ipynb) to go to the next chapter."
   ],
   "id": "ecf36c81-bbd7-455f-a5be-b0cf27c6d56a"
  }
 ],
 "nbformat": 4,
 "nbformat_minor": 5,
 "metadata": {
  "kernelspec": {
   "name": "python3",
   "display_name": "Python 3 (ipykernel)",
   "language": "python"
  },
  "language_info": {
   "name": "python",
   "codemirror_mode": {
    "name": "ipython",
    "version": "3"
   },
   "file_extension": ".py",
   "mimetype": "text/x-python",
   "nbconvert_exporter": "python",
   "pygments_lexer": "ipython3",
   "version": "3.11.0"
  }
 }
}
