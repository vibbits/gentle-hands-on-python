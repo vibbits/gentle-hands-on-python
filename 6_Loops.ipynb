{
 "cells": [
  {
   "cell_type": "markdown",
   "metadata": {},
   "source": [
    "# 6. Loops\n",
    "\n",
    "> _\"Flat is better than nested.\"_\n",
    "\n",
    "## 6.1 Introduction\n",
    "\n",
    "A very useful feature of computers is that they can do the same thing over and over again, never getting bored.\n",
    "In Python this ability is expressed using a _loop_. Essentially, a loop is a block of code that is repeatedly executed.\n",
    "There are **2** ways to express a loop in Python: `for`-each and `while`.\n",
    "\n",
    "\n",
    "\n",
    "## 6.2 The `for`-each loop\n",
    "Now that we understand _collections_ of values (from the previous chapter), you may wish to perform some computation on\n",
    "each value in a collection. This can be achieved by _looping_ over each value one-by-one so that your computation is\n",
    "executed _for each_ value in the collection.\n",
    "\n",
    "Here is an example of how it essentially works:"
   ]
  },
  {
   "cell_type": "code",
   "execution_count": null,
   "metadata": {},
   "outputs": [],
   "source": [
    "myList = [\"a\",\"b\",\"c\",\"d\"]\n",
    "\n",
    "for i in myList: # Read as \"for each value (called i) in myList...\"\n",
    "    print(i)\n",
    "print(\"Loop has ended\")"
   ]
  },
  {
   "cell_type": "markdown",
   "metadata": {},
   "source": [
    "This can be understood by _unrolling_ the loop. The _unrolled_ version of the above loop would look like this:"
   ]
  },
  {
   "cell_type": "code",
   "execution_count": null,
   "metadata": {},
   "outputs": [],
   "source": [
    "myList = [\"a\",\"b\",\"c\",\"d\"]\n",
    "\n",
    "i = myList[0] # Set i to the first value in myList\n",
    "print(i)\n",
    "\n",
    "i = myList[1] # Set i to the second value in myList\n",
    "print(i)\n",
    "\n",
    "i = myList[2] # Set i to the third value in myList\n",
    "print(i)\n",
    "\n",
    "i = myList[3] # Set i to the fourth value in myList\n",
    "print(i)\n",
    "\n",
    "print(\"Loop has ended\")"
   ]
  },
  {
   "cell_type": "markdown",
   "metadata": {},
   "source": [
    "Not only is a loop more concise, but it's easier to read and less error prone. Imagine having to type out all the indexes\n",
    "in a list that contains 100 elements! Then imagine if you had to change the size of the list... that's a LOT OF WORK!!!\n",
    "\n",
    "Another example of a `for`-each loop:"
   ]
  },
  {
   "cell_type": "code",
   "execution_count": null,
   "metadata": {},
   "outputs": [],
   "source": [
    "myRange = range(10) # Make a range of integers from 0 to 9 with steps of 1 (0, 1, 2, ..., 9)\n",
    " \n",
    "for myElement in myRange: # for each value (called myElement) in this myRange; do the following:\n",
    "    print(f\"Counting {myElement}\")  # Print that value"
   ]
  },
  {
   "cell_type": "markdown",
   "metadata": {},
   "source": [
    "Note that, again, we have to use indentation as there is a block of code that is only relevant within the for loop. \n",
    "\n",
    "Python will always need _some thing_ to loop through. The _thing_ being looped over is called an _iterable_ which is a conceptual grouping of python types that includes lists, tuples, and sets.\n",
    "\n",
    "For example, we can rewrite the example above but substitute a tuple for the list and we'll observe the same output."
   ]
  },
  {
   "cell_type": "code",
   "execution_count": null,
   "metadata": {},
   "outputs": [],
   "source": [
    "myTuple = (\"A\",\"B\",\"C\",\"D\",\"E\",\"F\")\n",
    " \n",
    "for myElement in myTuple:\n",
    "    print(f\"Letter {myElement}\")"
   ]
  },
  {
   "cell_type": "markdown",
   "metadata": {},
   "source": [
    "---\n",
    "\n",
    "#### Example problem\n",
    "Let's wolk through exploring the solution to a simple problem together.\n",
    "\n",
    "We want to know _where_ in the _iterable_ we're currently working?"
   ]
  },
  {
   "cell_type": "code",
   "execution_count": null,
   "metadata": {},
   "outputs": [],
   "source": [
    "myTuple = (\"E\", \"I\", \"E\", \"I\", \"O\")\n",
    "\n",
    "for myElement in myTuple:\n",
    "    # Where am I? Am I working on the first \"I\" or the second one?"
   ]
  },
  {
   "cell_type": "markdown",
   "metadata": {},
   "source": [
    "`enumerate()` to the rescue! `enumerate()`, surprise, surprise, _enumerates_ the elements of the _iterable_ you're\n",
    "looping over. It gives you a _tuple_ containing the index of the element you're working on and the value of the element itself: `(index, value)`. How you can write the above loop like so: "
   ]
  },
  {
   "cell_type": "code",
   "execution_count": null,
   "metadata": {},
   "outputs": [],
   "source": [
    "myTuple = (\"E\", \"I\", \"E\", \"I\", \"O\")\n",
    "\n",
    "for myElement in enumerate(myTuple):\n",
    "    # Where am I? emumerate[0]\n",
    "    # What am I working on? enumerate[1]\n",
    "    print(myElement)"
   ]
  },
  {
   "cell_type": "markdown",
   "metadata": {},
   "source": [
    "This can be made even more convenient by _unpacking_ the tuple as we saw at the end of the previous chapter:"
   ]
  },
  {
   "cell_type": "code",
   "execution_count": null,
   "metadata": {},
   "outputs": [],
   "source": [
    "myTuple = (\"E\", \"I\", \"E\", \"I\", \"O\")\n",
    "\n",
    "for index, myElement in enumerate(myTuple):\n",
    "    # Where am I? index\n",
    "    # What am I working on? myElement\n",
    "    print(f\"I'm at {index=} and working on {myElement=}\")"
   ]
  },
  {
   "cell_type": "markdown",
   "metadata": {},
   "source": [
    "Alternatively you can manually iterate over _just_ the indexes. You'll first have to find the length of the list and\n",
    "then use range to generate the list of indexes: "
   ]
  },
  {
   "cell_type": "code",
   "execution_count": null,
   "metadata": {},
   "outputs": [],
   "source": [
    "myTuple = (\"E\", \"I\", \"E\", \"I\", \"O\")\n",
    "myTupleLength = len(myTuple)\n",
    " \n",
    "for tupleIndex in range(myTupleLength):\n",
    "    myElement = myTuple[tupleIndex]\n",
    "    print(f\"Letter {myElement} is at position {tupleIndex + 1}\")  # We have to add 1 to the index here because Python starts at zero..."
   ]
  },
  {
   "cell_type": "markdown",
   "metadata": {},
   "source": [
    "You might think this is a little awkward. Instead, could you iterate over _just_ the indexes using the `enumerate()` function? The output of `enumerate()` could be summarised in a table as follows:\n",
    "\n",
    "| index | value |\n",
    "|---|---|\n",
    "| 0 | E |\n",
    "| 1 | I |\n",
    "| 2 | E |\n",
    "| 3 | I |\n",
    "| 4 | O |\n",
    "\n",
    "If you just want the indexes, ignore the second column. How can we achieve that?"
   ]
  },
  {
   "cell_type": "code",
   "execution_count": null,
   "metadata": {},
   "outputs": [],
   "source": [
    "myTuple = (\"E\", \"I\", \"E\", \"I\", \"O\")\n",
    "for (line,) in enumerate(myTuple):\n",
    "    print(line)"
   ]
  },
  {
   "cell_type": "markdown",
   "metadata": {},
   "source": [
    "`ValueError: too many values to unpack (expected 1)`! Indeed, we're asking for 1 value but the tuples produced by\n",
    "`enumerate()` contain **2** values. Instead, we can unpack the value element to a variable name Python programers\n",
    "reserve for anything meaning _ignore this_: `_`."
   ]
  },
  {
   "cell_type": "code",
   "execution_count": null,
   "metadata": {},
   "outputs": [],
   "source": [
    "myTuple = (\"E\", \"I\", \"E\", \"I\", \"O\")\n",
    "for line, _ in enumerate(myTuple):\n",
    "    print(line)"
   ]
  },
  {
   "cell_type": "markdown",
   "metadata": {},
   "source": [
    "#### End of example problem\n",
    "\n",
    "----\n",
    "\n",
    "What if we want to find out if a number is divisible by another number? In the code below, we will iterate over each value in the list of numbers. If the remainder after division is 0 (comparison is True), we print the number out. "
   ]
  },
  {
   "cell_type": "code",
   "execution_count": null,
   "metadata": {},
   "outputs": [],
   "source": [
    "myNumbers = range(1,50)\n",
    "myDivider = 17\n",
    " \n",
    "for myNumber in myNumbers:\n",
    "    if (myNumber % myDivider) == 0:  # Nothing left after division, so number is divisible.\n",
    "        print(f\"{myNumber=} cannot be divided by {myDivider=}!\")"
   ]
  },
  {
   "cell_type": "markdown",
   "metadata": {},
   "source": [
    "In this example, we have two levels of indentation besides the main one; the `if` condition is checked for every\n",
    "value, but the print is only executed for numbers divisible by myDivider."
   ]
  },
  {
   "cell_type": "markdown",
   "metadata": {},
   "source": [
    "---\n",
    "### 6.2.1 Exercise\n",
    "\n",
    "Write a program where you print out all positive numbers up to 1000 that can be divided by 13, or 17, or both. \n",
    "The output should be printed as : `Number 13 is divisible by 13`, or `Number 884 is divisible by 13 and 17`. \n",
    "Iterate through the list of numbers and the dividers by using (two) for-loops; one for the numbers and one for the dividers.\n",
    "\n",
    "---"
   ]
  },
  {
   "cell_type": "code",
   "execution_count": null,
   "metadata": {
    "scrolled": false
   },
   "outputs": [],
   "source": []
  },
  {
   "cell_type": "markdown",
   "metadata": {},
   "source": [
    "---\n",
    "### 6.2.2 Exercise\n",
    "\n",
    "Write a program where you find, for each positive number up to 50, all numbers that can divide each number. E.g. 16 can be divided by 1, 2, 4, 8 and 16. 17 can be divided by... \n",
    "\n",
    "It's fine if you print the output like this: \n",
    "```\n",
    "Number 1 can be divided by 1!\n",
    "Number 2 can be divided by 1!\n",
    "Number 2 can be divided by 2!\n",
    "Number 3 can be divided by 1!\n",
    "```\n",
    "However, you can also try to print the output like this:\n",
    "```\n",
    "Number 4 can be divided by 1, 2, 4!\n",
    "```\n",
    "\n",
    "---"
   ]
  },
  {
   "cell_type": "code",
   "execution_count": null,
   "metadata": {},
   "outputs": [],
   "source": []
  },
  {
   "cell_type": "code",
   "execution_count": null,
   "metadata": {},
   "outputs": [],
   "source": []
  },
  {
   "cell_type": "markdown",
   "metadata": {},
   "source": [
    "## 6.3 The `while` loop\n",
    "A **while** loop executes its block of code _while_ a condition holds `True`. As long as this condition is evaluated as `True` the loop will continue to execute its block of code. Its structure is very similar to the `for`-each loop we saw above. "
   ]
  },
  {
   "cell_type": "code",
   "execution_count": null,
   "metadata": {},
   "outputs": [],
   "source": [
    "result = 0\n",
    "while result < 10:\n",
    "    # add 1 to the result\n",
    "    result += 1\n",
    "    print(result)"
   ]
  },
  {
   "cell_type": "markdown",
   "metadata": {},
   "source": [
    "This next example is an endless (infinite) loop:\n",
    "FYI, this cell will _never_ terminate by itself. To break the loop, press stop (⏹) button in the toolbar."
   ]
  },
  {
   "cell_type": "code",
   "execution_count": null,
   "metadata": {},
   "outputs": [],
   "source": [
    "i = 0\n",
    "while True:\n",
    "    i += 1"
   ]
  },
  {
   "cell_type": "code",
   "execution_count": null,
   "metadata": {},
   "outputs": [],
   "source": [
    "# How many times did the loop execute before we interrupted it?\n",
    "i"
   ]
  },
  {
   "cell_type": "markdown",
   "metadata": {},
   "source": [
    "`while` loops are more \"powerful\" than for loops, as you can make them end whenever necessary: the loop termination\n",
    "condition is up to you. However, _with great power comes great responsibility_! Use `while` loops carefully!!\n",
    "\n",
    "Can you spot the bugs in the snippets below?"
   ]
  },
  {
   "cell_type": "code",
   "execution_count": null,
   "metadata": {},
   "outputs": [],
   "source": [
    "# Sum numbers 1-10\n",
    "i = 1\n",
    "mysum = 0\n",
    "while i < 10:\n",
    "    mysum += i\n",
    "\n",
    "print(f\"sum of numbers 1-10 is {mysum}\")\n",
    "print(f\"expected sum is 55\")"
   ]
  },
  {
   "cell_type": "code",
   "execution_count": null,
   "metadata": {},
   "outputs": [],
   "source": [
    "# Join strings in a list with commas\n",
    "i = 0\n",
    "myList = [\"Hello\", \"world\"]\n",
    "appended = \"\"\n",
    "while i <= 2:\n",
    "    appended += myList[i] + \",\"\n",
    "    i += 1\n",
    "\n",
    "print(f\"{appended=}\")\n",
    "print(\"expected: \\\"hello,world,\\\"\")"
   ]
  },
  {
   "cell_type": "markdown",
   "metadata": {},
   "source": [
    "### Exercise 6.3.1\n",
    "Can you think of a clearer way to write either (or both) of the above snippets with what you've learned so far?"
   ]
  },
  {
   "cell_type": "code",
   "execution_count": null,
   "metadata": {},
   "outputs": [],
   "source": []
  },
  {
   "cell_type": "code",
   "execution_count": null,
   "metadata": {},
   "outputs": [],
   "source": []
  },
  {
   "cell_type": "markdown",
   "metadata": {},
   "source": [
    "---"
   ]
  },
  {
   "cell_type": "markdown",
   "metadata": {},
   "source": [
    "Here's another example of a pitfall when using `while` loops:"
   ]
  },
  {
   "cell_type": "code",
   "execution_count": null,
   "metadata": {},
   "outputs": [],
   "source": [
    "baseValue = 2\n",
    "powerValue = 1\n",
    "powerResult = 0\n",
    "while powerResult < 1000:\n",
    "    powerResult = baseValue ** powerValue\n",
    "    print(f\"{baseValue} to the power {powerValue} is {powerResult}\")\n",
    "    powerValue += 1 # Add one to itself - this kind of step is crucial in a while loop, or it will be endless!"
   ]
  },
  {
   "cell_type": "markdown",
   "metadata": {},
   "source": [
    "Note that the last value printed is greater than 1000, the while condition is only checked at the start of the loop. You should check where the first result is calculated as this may impact the result!\n",
    "\n",
    "In the corrected version below, the calculations were re-ordered so that the loop condition is evaluated on\n",
    "_the most up-to-date_ computation result. We *initialized* the loop and put the calculation at the very end:\n"
   ]
  },
  {
   "cell_type": "code",
   "execution_count": null,
   "metadata": {},
   "outputs": [],
   "source": [
    "baseValue = 2\n",
    "powerValue = 1\n",
    "powerResult = 0\n",
    "powerResult = baseValue ** powerValue\n",
    "\n",
    "while powerResult < 1000:\n",
    "    print(f\"{baseValue} to the power {powerValue} is {powerResult}\")\n",
    "    powerValue += 1 # Add one to itself - this kind of step is crucial in a while loop, or it will be endless!\n",
    "    powerResult = baseValue ** powerValue"
   ]
  },
  {
   "cell_type": "markdown",
   "metadata": {},
   "source": [
    "---\n",
    "### 6.3.2 Exercise\n",
    "\n",
    "Try to reproduce the for-each loop example of numbers divisible by 17, by using a while-loop.\n",
    "\n",
    "---"
   ]
  },
  {
   "cell_type": "code",
   "execution_count": null,
   "metadata": {},
   "outputs": [],
   "source": []
  },
  {
   "cell_type": "markdown",
   "metadata": {},
   "source": [
    "---\n",
    "### 6.3.3 Exercise\n",
    "\n",
    "Write a program where you start with a list of numbers from 1 to 100, and you then remove every number from this list that can be divided by 3 or by 5. Print the result.  \n",
    "Tip: you have to make a copy of the original list here, otherwise Python will get 'confused' when you remove values from the list while it's looping over it.   \n",
    "\n",
    "---"
   ]
  },
  {
   "cell_type": "code",
   "execution_count": null,
   "metadata": {},
   "outputs": [],
   "source": []
  },
  {
   "cell_type": "markdown",
   "metadata": {},
   "source": [
    "---\n",
    "### 6.3.4 Exercise\n",
    "\n",
    "Write a program where you ask the user for an integer (whole number), and keep on asking if they give the wrong input. Check whether the number can be divided by 7, and print the result.\n",
    "\n",
    "---"
   ]
  },
  {
   "cell_type": "code",
   "execution_count": null,
   "metadata": {},
   "outputs": [],
   "source": []
  },
  {
   "cell_type": "markdown",
   "metadata": {},
   "source": [
    "## 6.4 Zip! The great and powerful!\n",
    "Python has a function which allows you to iterate through multiple _iterables_ at the same time.\n",
    "\n",
    "E.g. for two strings, it would look like this:"
   ]
  },
  {
   "cell_type": "code",
   "execution_count": null,
   "metadata": {},
   "outputs": [],
   "source": [
    "x = 'abcde'\n",
    "y = 'fghij'\n",
    "\n",
    "count = 0\n",
    "for i,j in zip(x,y):\n",
    "    count += 1\n",
    "    print(f\"Iteration: {count}. The value i is {i}, and the value j is {j}\")"
   ]
  },
  {
   "cell_type": "markdown",
   "metadata": {},
   "source": [
    "And the principle is practically the same for three (or more) strings. "
   ]
  },
  {
   "cell_type": "code",
   "execution_count": null,
   "metadata": {},
   "outputs": [],
   "source": [
    "x = 'abcde'\n",
    "y = 'fghij'\n",
    "z = 'klmno'\n",
    "\n",
    "count = 0\n",
    "for i,j,k in zip(x,y,z):\n",
    "    count += 1\n",
    "    print(f\"Iteration: {count}. The value i is {i}, the value j is {j} and the value k is {k}\")"
   ]
  },
  {
   "cell_type": "markdown",
   "metadata": {},
   "source": [
    "## 6.5 Next session\n",
    "\n",
    "Go to our [next chapter](7_Wrap_up_exercise.ipynb). "
   ]
  }
 ],
 "metadata": {
  "kernelspec": {
   "display_name": "Python 3",
   "language": "python",
   "name": "python3"
  },
  "language_info": {
   "codemirror_mode": {
    "name": "ipython",
    "version": 3
   },
   "file_extension": ".py",
   "mimetype": "text/x-python",
   "name": "python",
   "nbconvert_exporter": "python",
   "pygments_lexer": "ipython3",
   "version": "3.8.3"
  }
 },
 "nbformat": 4,
 "nbformat_minor": 2
}
