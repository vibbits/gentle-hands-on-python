{
 "cells": [
  {
   "cell_type": "markdown",
   "metadata": {},
   "source": [
    "# 2. Python Basics\n",
    "> _\"Everyone can be a programmer.\"_\n",
    ">\n",
    "> -- Chef Gusteau (paraphrased; Ratatouille)\n",
    "\n",
    "## 2.1 Introduction\n",
    "\n",
    "> When you were a small child, your parents taught you to count and perform simple calculation with your fingers [..].\n",
    "> They would ask \"what's 3 + 2?\" and you would count off the fingers on one hand. They programmed and you computed.\n",
    "> And in some way, that's really all there is to programming and computing.<sup>1</sup>\n",
    "\n",
    "Lets now do some simple computations using Python:"
   ]
  },
  {
   "cell_type": "code",
   "execution_count": null,
   "metadata": {},
   "outputs": [],
   "source": [
    "1"
   ]
  },
  {
   "cell_type": "code",
   "execution_count": null,
   "metadata": {},
   "outputs": [],
   "source": [
    "3 + 2"
   ]
  },
  {
   "cell_type": "code",
   "execution_count": null,
   "metadata": {},
   "outputs": [],
   "source": [
    "5 * 3"
   ]
  },
  {
   "cell_type": "code",
   "execution_count": null,
   "metadata": {},
   "outputs": [],
   "source": [
    "6 / 2"
   ]
  },
  {
   "cell_type": "code",
   "execution_count": null,
   "metadata": {},
   "outputs": [],
   "source": [
    "2 - 8"
   ]
  },
  {
   "cell_type": "code",
   "execution_count": null,
   "metadata": {},
   "outputs": [],
   "source": [
    "2 ** 7"
   ]
  },
  {
   "cell_type": "code",
   "execution_count": null,
   "metadata": {},
   "outputs": [],
   "source": [
    "37 % 5"
   ]
  },
  {
   "cell_type": "code",
   "execution_count": null,
   "metadata": {},
   "outputs": [],
   "source": [
    "abs(-8)"
   ]
  },
  {
   "cell_type": "markdown",
   "metadata": {},
   "source": [
    "---\n",
    "\n",
    "### 2.1.1 Exercise\n",
    "What happens when you try to divide by zero?\n",
    "\n",
    "---"
   ]
  },
  {
   "cell_type": "code",
   "execution_count": null,
   "metadata": {},
   "outputs": [],
   "source": []
  },
  {
   "cell_type": "markdown",
   "metadata": {},
   "source": [
    "Remember the mathematical order of operations; `()` take precedence over * and / take precedence over + and -."
   ]
  },
  {
   "cell_type": "code",
   "execution_count": null,
   "metadata": {},
   "outputs": [],
   "source": [
    "2 * 8 + 3"
   ]
  },
  {
   "cell_type": "code",
   "execution_count": null,
   "metadata": {},
   "outputs": [],
   "source": [
    "41 / (2 - 7)"
   ]
  },
  {
   "cell_type": "markdown",
   "metadata": {},
   "source": [
    "---\n",
    "\n",
    "### 2.1.2 Exercise\n",
    "Introduce brackets into this expression to make it evaluate to 5.\n",
    "\n",
    "---"
   ]
  },
  {
   "cell_type": "code",
   "execution_count": null,
   "metadata": {},
   "outputs": [],
   "source": [
    "8 * 6 / 4 - 2 * 0.5"
   ]
  },
  {
   "cell_type": "markdown",
   "metadata": {},
   "source": [
    "Right now you might be wondering if programming is just about mathematics. Fortunately no, there is much more to programming: text, logic, images, and much much more. Let's play with some text (called _strings_ because they're characters strung together."
   ]
  },
  {
   "cell_type": "code",
   "execution_count": null,
   "metadata": {},
   "outputs": [],
   "source": [
    "\"hello world\""
   ]
  },
  {
   "cell_type": "code",
   "execution_count": null,
   "metadata": {},
   "outputs": [],
   "source": [
    "\"hello\" + \"world\""
   ]
  },
  {
   "cell_type": "code",
   "execution_count": null,
   "metadata": {},
   "outputs": [],
   "source": [
    "'hello ' + \"world\""
   ]
  },
  {
   "cell_type": "code",
   "execution_count": null,
   "metadata": {},
   "outputs": [],
   "source": [
    "'hello' + ' ' + \"world\""
   ]
  },
  {
   "cell_type": "code",
   "execution_count": null,
   "metadata": {},
   "outputs": [],
   "source": [
    "'python' * 5"
   ]
  },
  {
   "cell_type": "markdown",
   "metadata": {},
   "source": [
    "You can do many more things with strings, like extract parts, convert all characters to upper case, strip blanks spaces from each end, count the number of characters in the string, or convert the string to a number:"
   ]
  },
  {
   "cell_type": "code",
   "execution_count": null,
   "metadata": {},
   "outputs": [],
   "source": [
    "len('hello world')"
   ]
  },
  {
   "cell_type": "code",
   "execution_count": null,
   "metadata": {},
   "outputs": [],
   "source": [
    "int('42')"
   ]
  },
  {
   "cell_type": "markdown",
   "metadata": {},
   "source": [
    "---\n",
    "\n",
    "### 2.1.3 Exercise\n",
    "What happens if you convert a string that is not a number into a number?\n",
    "\n",
    "---"
   ]
  },
  {
   "cell_type": "code",
   "execution_count": null,
   "metadata": {},
   "outputs": [],
   "source": [
    "int('five')"
   ]
  },
  {
   "cell_type": "markdown",
   "metadata": {},
   "source": [
    "Let's now play with another area of programming: logic. There are 2 logical (known as _Boolean_) values:"
   ]
  },
  {
   "cell_type": "code",
   "execution_count": null,
   "metadata": {},
   "outputs": [],
   "source": [
    "True"
   ]
  },
  {
   "cell_type": "code",
   "execution_count": null,
   "metadata": {},
   "outputs": [],
   "source": [
    "False"
   ]
  },
  {
   "cell_type": "markdown",
   "metadata": {},
   "source": [
    "These can be combined in several ways<sup>2</sup>:"
   ]
  },
  {
   "cell_type": "code",
   "execution_count": null,
   "metadata": {},
   "outputs": [],
   "source": [
    "# Are True *and* False both True?\n",
    "True and False"
   ]
  },
  {
   "cell_type": "code",
   "execution_count": null,
   "metadata": {},
   "outputs": [],
   "source": [
    "# Are either or True or False, True?\n",
    "True or False"
   ]
  },
  {
   "cell_type": "code",
   "execution_count": null,
   "metadata": {},
   "outputs": [],
   "source": [
    "not True"
   ]
  },
  {
   "cell_type": "markdown",
   "metadata": {},
   "source": [
    "---\n",
    "\n",
    "### 2.1.4 Exercise\n",
    "Can you guess what `not False` will be?\n",
    "\n",
    "---"
   ]
  },
  {
   "cell_type": "code",
   "execution_count": null,
   "metadata": {},
   "outputs": [],
   "source": []
  },
  {
   "cell_type": "markdown",
   "metadata": {},
   "source": [
    "Python also provides several ways to compare values:"
   ]
  },
  {
   "cell_type": "code",
   "execution_count": null,
   "metadata": {},
   "outputs": [],
   "source": [
    "# Is the string \"hello\" the same as the string \"world\"?\n",
    "\"hello\" == \"world\""
   ]
  },
  {
   "cell_type": "code",
   "execution_count": null,
   "metadata": {},
   "outputs": [],
   "source": [
    "5 < 10"
   ]
  },
  {
   "cell_type": "code",
   "execution_count": null,
   "metadata": {},
   "outputs": [],
   "source": [
    "10 > 5"
   ]
  },
  {
   "cell_type": "code",
   "execution_count": null,
   "metadata": {},
   "outputs": [],
   "source": [
    "1 <= 1"
   ]
  },
  {
   "cell_type": "markdown",
   "metadata": {},
   "source": [
    "---\n",
    "\n",
    "### 2.1.5 Exercise\n",
    "Make the expression in the following code cell evaluate to `True`. What is the `!=` operator doing?\n",
    "\n",
    "---"
   ]
  },
  {
   "cell_type": "code",
   "execution_count": null,
   "metadata": {},
   "outputs": [],
   "source": [
    "\"hello\" != \"hello\""
   ]
  },
  {
   "cell_type": "markdown",
   "metadata": {},
   "source": [
    "---\n",
    "\n",
    "### 2.1.6 Exercise\n",
    "Predict the outcome of each of these operations before evaluating the cells to see if you're correct.\n",
    "\n",
    "---"
   ]
  },
  {
   "cell_type": "code",
   "execution_count": null,
   "metadata": {},
   "outputs": [],
   "source": [
    "10 >= (5 + 5)"
   ]
  },
  {
   "cell_type": "code",
   "execution_count": null,
   "metadata": {},
   "outputs": [],
   "source": [
    "(1 + 2 + 3 + 4) == 10"
   ]
  },
  {
   "cell_type": "code",
   "execution_count": null,
   "metadata": {},
   "outputs": [],
   "source": [
    "abs(-22) != 1"
   ]
  },
  {
   "cell_type": "code",
   "execution_count": null,
   "metadata": {},
   "outputs": [],
   "source": [
    "\"HELLO\" == \"hello\""
   ]
  },
  {
   "cell_type": "code",
   "execution_count": null,
   "metadata": {},
   "outputs": [],
   "source": [
    "len(\"hello\") <= 4"
   ]
  },
  {
   "cell_type": "markdown",
   "metadata": {},
   "source": [
    "## 2.2 Variables\n",
    "We saw in the previous section that programming consists essentially of values and operations on those values. _Variables_ give you a way to _store the result_ of an operation for later use.\n",
    "Python provides a special operator which you might think of as the \"store a value in a variable\" operator. It's called the _assignment_ operator. Here are some examples:"
   ]
  },
  {
   "cell_type": "code",
   "execution_count": null,
   "metadata": {},
   "outputs": [],
   "source": [
    "myVar = 5\n",
    "myVar + myVar"
   ]
  },
  {
   "cell_type": "code",
   "execution_count": null,
   "metadata": {},
   "outputs": [],
   "source": [
    "# Assign the string AGAATCGATACGA to a variable and print the variable.  \n",
    "mySequence = \"AGAATCGATACGA\"\n",
    "mySequence"
   ]
  },
  {
   "cell_type": "markdown",
   "metadata": {},
   "source": [
    "What happens here is that you assign a **value**: \"*AGAATCGATACGA*\" to a **variable**: `mySequence`. You can now keep on using `mySequence` throughout your program. Note that `mySequence` is not quoted because it is now part of the program, try this for example:"
   ]
  },
  {
   "cell_type": "code",
   "execution_count": null,
   "metadata": {},
   "outputs": [],
   "source": [
    "# Repeat the above, but this time put the variable in quotation marks when you put in the print statement and see what happens\n",
    "mySequence = \"AGAATCGATACGA\"\n",
    "\"mySequence\""
   ]
  },
  {
   "cell_type": "markdown",
   "metadata": {},
   "source": [
    "You will now still assign the value \"*AGAATCGATACGA*\" to the variable `mySequence`, but because of the quotes, this cell evaluates to the string \"mySequence\", not the value \"\" that is stored in the `mySequence` variable."
   ]
  },
  {
   "cell_type": "markdown",
   "metadata": {},
   "source": [
    "## 2.4 Operations using variables\n",
    "You can perform operation using variables in exactly the same way as you did with values in Section 2.1. Python simply replaces the name of the variable with is value then evaluates the expression."
   ]
  },
  {
   "cell_type": "code",
   "execution_count": null,
   "metadata": {},
   "outputs": [],
   "source": [
    "x = 5\n",
    "y = 2"
   ]
  },
  {
   "cell_type": "code",
   "execution_count": null,
   "metadata": {},
   "outputs": [],
   "source": [
    "x + 5  # Addition"
   ]
  },
  {
   "cell_type": "code",
   "execution_count": null,
   "metadata": {},
   "outputs": [],
   "source": [
    "x - 8  # Subtraction"
   ]
  },
  {
   "cell_type": "code",
   "execution_count": null,
   "metadata": {},
   "outputs": [],
   "source": [
    "y * x  # Multiplication"
   ]
  },
  {
   "cell_type": "code",
   "execution_count": null,
   "metadata": {},
   "outputs": [],
   "source": [
    "4 / y  # Division"
   ]
  },
  {
   "cell_type": "code",
   "execution_count": null,
   "metadata": {},
   "outputs": [],
   "source": [
    "5 % y  # Modulus, remainder of division"
   ]
  },
  {
   "cell_type": "code",
   "execution_count": null,
   "metadata": {},
   "outputs": [],
   "source": [
    "y ** 3 # Power"
   ]
  },
  {
   "cell_type": "markdown",
   "metadata": {},
   "source": [
    "There are some shortcut operators for performing an arithmetic operation and storing the result in a variable:"
   ]
  },
  {
   "cell_type": "code",
   "execution_count": null,
   "metadata": {},
   "outputs": [],
   "source": [
    "myNumber = 6\n",
    " \n",
    "myNumber += 5   # Same as myNumber = myNumber + 5\n",
    "myNumber"
   ]
  },
  {
   "cell_type": "code",
   "execution_count": null,
   "metadata": {},
   "outputs": [],
   "source": [
    "myNumber -= 5   # Same as myNumber = myNumber - 5\n",
    "myNumber"
   ]
  },
  {
   "cell_type": "code",
   "execution_count": null,
   "metadata": {},
   "outputs": [],
   "source": [
    "myNumber /= 2   # Same as myNumber = myNumber / 2\n",
    "myNumber"
   ]
  },
  {
   "cell_type": "code",
   "execution_count": null,
   "metadata": {},
   "outputs": [],
   "source": [
    "myNumber *= 2   # Same as myNumber = myNumber * 2\n",
    "myNumber"
   ]
  },
  {
   "cell_type": "markdown",
   "metadata": {},
   "source": [
    "## 2.5 Floats\n",
    "\n",
    "So far we have used _Integers_ (whole numbers) for mathematical operations. Floats, short for _floating point numbers_ are an approximation<sup>3, 4</sup> of (continuous) real numbers. For example, `3.14159` or `2.71828`."
   ]
  },
  {
   "cell_type": "code",
   "execution_count": null,
   "metadata": {},
   "outputs": [],
   "source": [
    "# Assign float 5.5 to the myFloat variable\n",
    "x = 5.5 \n",
    "x"
   ]
  },
  {
   "cell_type": "code",
   "execution_count": null,
   "metadata": {},
   "outputs": [],
   "source": [
    "type(x)"
   ]
  },
  {
   "cell_type": "markdown",
   "metadata": {},
   "source": [
    "Mathematical operations are the same:"
   ]
  },
  {
   "cell_type": "code",
   "execution_count": null,
   "metadata": {},
   "outputs": [],
   "source": [
    "x + 4.8  # Addition"
   ]
  },
  {
   "cell_type": "code",
   "execution_count": null,
   "metadata": {},
   "outputs": [],
   "source": [
    "5.2 - x  # Subtraction"
   ]
  },
  {
   "cell_type": "code",
   "execution_count": null,
   "metadata": {},
   "outputs": [],
   "source": [
    "2.0 * 5.11212  # Multiplication"
   ]
  },
  {
   "cell_type": "code",
   "execution_count": null,
   "metadata": {},
   "outputs": [],
   "source": [
    "4.2 / 2.7  # Division"
   ]
  },
  {
   "cell_type": "code",
   "execution_count": null,
   "metadata": {},
   "outputs": [],
   "source": [
    "5.4 % 2.0  # Modulus, remainder of division"
   ]
  },
  {
   "cell_type": "code",
   "execution_count": null,
   "metadata": {},
   "outputs": [],
   "source": [
    "4 ** 0.5 # Power"
   ]
  },
  {
   "cell_type": "markdown",
   "metadata": {},
   "source": [
    "## 2.6 Intermezzo: Simple Input and Output\n",
    "Programming would not be very useful if there were no way of interacting with the outside world: displaying things on the screen, reacting to user input from the keyboard or mouse, responding to network requests, etc.\n",
    "\n",
    "\"The console\" is a term you will often hear being used to describe a _thing_, a standard piece of hardware that your program can interact with. You can read input from the console, and you can write output to the console. So what is the console? It's really an abstract idea made concrete by your programming environemnt. In Jupyter Notebooks the console is this web page displaying the notebook. In other environments it might be a terminal window or even a printer!\n",
    "\n",
    "Suffice it to say that Python, and most other programming languages, provide you a mechanism to interact with whatever the console happens to be. In Python this mechanism is a pair of functions, `print()` and `input()`.\n",
    "\n",
    "The output you have seen below code cells has been the result of evaluating the _last_ expression in that code cell. The `print()` function gives you another mechanism to display output that is not necessarily the result of evaluating a cell. All arguments you supply to the `print()` function will be printed to the screen."
   ]
  },
  {
   "cell_type": "code",
   "execution_count": null,
   "metadata": {},
   "outputs": [],
   "source": [
    "a = 5\n",
    "print(a)\n",
    "6 + 5"
   ]
  },
  {
   "cell_type": "markdown",
   "metadata": {},
   "source": [
    "The value of the variable `a` was printed, and `11` was also displayed as the result of evaluating the _last_ expression in the cell.\n",
    "\n",
    "The `print()` function can accept any number of arguments of any data type. Try below and see what happens."
   ]
  },
  {
   "cell_type": "code",
   "execution_count": null,
   "metadata": {},
   "outputs": [],
   "source": [
    "print(\"hello\", 5, 3.14, True)"
   ]
  },
  {
   "cell_type": "code",
   "execution_count": null,
   "metadata": {},
   "outputs": [],
   "source": [
    "# Use input to ask for a sequence string, then print the input sequence\n",
    "mySequence = input(\"Give me a sequence:\")\n",
    "mySequence"
   ]
  },
  {
   "cell_type": "markdown",
   "metadata": {},
   "source": [
    "You can experiment with these in the next set of exercises"
   ]
  },
  {
   "cell_type": "markdown",
   "metadata": {},
   "source": [
    "## 2.7 Converting between floats, integers and strings  \n",
    "You can also force a conversion between the different types: float, integer, and strings with the `str()`, `int()` and `float()` functions. These functions are said to _return_ the values they're converting to. `int()` **returns** an integer, `float()` **returns** a floating point number, and `str()` **returns** a string."
   ]
  },
  {
   "cell_type": "code",
   "execution_count": null,
   "metadata": {},
   "outputs": [],
   "source": [
    "# Use the int() and float() statements to switch the value types and print out the values. Do you notice any differences?\n",
    "myFloat = 4.5\n",
    "myFloat"
   ]
  },
  {
   "cell_type": "code",
   "execution_count": null,
   "metadata": {},
   "outputs": [],
   "source": [
    "int(myFloat) # Note that it will print the result of the operation; myFloat remains a float!"
   ]
  },
  {
   "cell_type": "code",
   "execution_count": null,
   "metadata": {},
   "outputs": [],
   "source": [
    "myInteger = 5\n",
    "myInteger"
   ]
  },
  {
   "cell_type": "code",
   "execution_count": null,
   "metadata": {},
   "outputs": [],
   "source": [
    "myOtherFloat = float(myInteger)\n",
    "myOtherFloat"
   ]
  },
  {
   "cell_type": "markdown",
   "metadata": {},
   "source": [
    "The same is possible to convert numerical values to strings with `str()`, you can also convert strings to\n",
    "numerical values but only if the content of the string is an integer or float:"
   ]
  },
  {
   "cell_type": "code",
   "execution_count": null,
   "metadata": {},
   "outputs": [],
   "source": [
    "# Convert a float to a string with the str() function \n",
    "myFloat = 4.5\n",
    "myFloatString = str(myFloat)\n",
    "str(myFloat)"
   ]
  },
  {
   "cell_type": "code",
   "execution_count": null,
   "metadata": {},
   "outputs": [],
   "source": [
    "float(myFloatString)"
   ]
  },
  {
   "cell_type": "code",
   "execution_count": null,
   "metadata": {},
   "outputs": [],
   "source": [
    "# Convert an integer to a string with the str() function\n",
    "myInteger = 5\n",
    "myIntegerString = str(myInteger)\n",
    "str(myInteger)"
   ]
  },
  {
   "cell_type": "code",
   "execution_count": null,
   "metadata": {},
   "outputs": [],
   "source": [
    "int(myIntegerString)"
   ]
  },
  {
   "cell_type": "markdown",
   "metadata": {},
   "source": [
    "---\n",
    "\n",
    "### 2.7.1 Exercises\n",
    "\n",
    "Write a program where you ask for a number, convert it to an integer, and print out what your number is."
   ]
  },
  {
   "cell_type": "code",
   "execution_count": null,
   "metadata": {},
   "outputs": [],
   "source": []
  },
  {
   "cell_type": "markdown",
   "metadata": {},
   "source": [
    "<details>\n",
    "    <summary>Extra exercise 2.7.1-1</summary>\n",
    "    Write a program that prints fractional part (numbers after the decimal point) of an input number. e.g. input of\n",
    "    <code>5.5</code> should print <code>0.5</code>\n",
    "</details>"
   ]
  },
  {
   "cell_type": "code",
   "execution_count": null,
   "metadata": {},
   "outputs": [],
   "source": []
  },
  {
   "cell_type": "markdown",
   "metadata": {},
   "source": [
    "<details>\n",
    "    <summary>Extra exercise 2.7.1-2</summary>\n",
    "    Write a program that computes the area of a circle with radius given by the user. Reminder: $$A_{circle} = \\pi r^2$$\n",
    "</details>"
   ]
  },
  {
   "cell_type": "code",
   "execution_count": null,
   "metadata": {},
   "outputs": [],
   "source": []
  },
  {
   "cell_type": "markdown",
   "metadata": {},
   "source": [
    "Finally, you can check what data type a variable is by using `type()`:"
   ]
  },
  {
   "cell_type": "code",
   "execution_count": null,
   "metadata": {},
   "outputs": [],
   "source": [
    "type(-6)"
   ]
  },
  {
   "cell_type": "code",
   "execution_count": null,
   "metadata": {},
   "outputs": [],
   "source": [
    "type(5.22)"
   ]
  },
  {
   "cell_type": "code",
   "execution_count": null,
   "metadata": {},
   "outputs": [],
   "source": [
    "type(\"Text!\")"
   ]
  },
  {
   "cell_type": "markdown",
   "metadata": {},
   "source": [
    "---\n",
    "### 2.7.2 Exercises\n",
    "\n",
    "See what happens if you try to convert a float to an integer, and an integer to a string. \n",
    "\n",
    "---"
   ]
  },
  {
   "cell_type": "code",
   "execution_count": null,
   "metadata": {},
   "outputs": [],
   "source": [
    "myFloat = float(11.4)\n",
    "int(myFloat)"
   ]
  },
  {
   "cell_type": "code",
   "execution_count": null,
   "metadata": {},
   "outputs": [],
   "source": [
    "myInt = int(12)\n",
    "str(myInt)"
   ]
  },
  {
   "cell_type": "code",
   "execution_count": null,
   "metadata": {},
   "outputs": [],
   "source": [
    "myString = str(\"aa\")\n",
    "float(myString)"
   ]
  },
  {
   "cell_type": "markdown",
   "metadata": {},
   "source": [
    "---\n",
    "\n",
    "### 2.7.3 Exercises\n",
    "Can you compare strings? What does it mean for one string to be _less than_ another string?\n",
    "What does the following expression evaluate to and why?\n",
    "\n",
    "---"
   ]
  },
  {
   "cell_type": "code",
   "execution_count": null,
   "metadata": {},
   "outputs": [],
   "source": [
    "\"three\" > \"six\""
   ]
  },
  {
   "cell_type": "markdown",
   "metadata": {},
   "source": [
    "# 2.8 Nothing"
   ]
  },
  {
   "cell_type": "markdown",
   "metadata": {},
   "source": [
    "The `None` value which is comparable to `null` you may've encountered in other languages.\n",
    "\n",
    "`None` is a so-called \"sentinel\" value<sup>5</sup>. A sentinel value is in-band data with out-of-band semantics. A great example is provided in [this](https://lexi-lambda.github.io/blog/2019/11/05/parse-don-t-validate/)<sup>6</sup> blog post by Alexis King.\n",
    "\n",
    "It is usually meant to denote the termination of a sequence or the absence of a result.\n",
    "In the code below we show that `None`, which you could interpret as nothing, is seperate to a value like `0` or\n",
    "an empty string. "
   ]
  },
  {
   "cell_type": "code",
   "execution_count": null,
   "metadata": {},
   "outputs": [],
   "source": [
    "myNothing = None\n",
    "myNothing"
   ]
  },
  {
   "cell_type": "code",
   "execution_count": null,
   "metadata": {},
   "outputs": [],
   "source": [
    "type(myNothing)"
   ]
  },
  {
   "cell_type": "code",
   "execution_count": null,
   "metadata": {},
   "outputs": [],
   "source": [
    "type(None)"
   ]
  },
  {
   "cell_type": "code",
   "execution_count": null,
   "metadata": {},
   "outputs": [],
   "source": [
    "0 == None"
   ]
  },
  {
   "cell_type": "code",
   "execution_count": null,
   "metadata": {
    "scrolled": true
   },
   "outputs": [],
   "source": [
    "\"\" == None"
   ]
  },
  {
   "cell_type": "markdown",
   "metadata": {},
   "source": [
    "---\n",
    "\n",
    "## 2.9 Chapter Review\n",
    "\n",
    "In this chapter you've learned about the \"building blocks\" of programming<sup>7</sup>. Various data types and operations on these data types, variables, and printing.\n",
    "* Integer (`int`): A whole number\n",
    "* Float (`float`): An approximation of a real number\n",
    "* String (`str`): Text\n",
    "* Boolean (`bool`): True or False\n",
    "* None (`NoneType`): Nothing\n",
    "\n",
    "### Review Questions\n",
    "\n",
    "1. Why is text called \"string\" in programming?\n",
    "<details>\n",
    "    <summary>Answer</summary>\n",
    "    The computer represents text as a series of characters strung together. Each letter, space, and punctuation mark in the string is a character.\n",
    "</details>\n",
    "\n",
    "1. What datatype is this: `\"Hello world\"`?\n",
    "<details>\n",
    "    <summary>Answer</summary>\n",
    "    A string or <code>str</code>\n",
    "</details>\n",
    "\n",
    "1. What operator can you use to combine 2 strings into a single string?\n",
    "<details>\n",
    "    <summary>Answer</summary>\n",
    "    The <code>+</code> operator\n",
    "</details>\n",
    "\n",
    "1. How many boolean values are there? What do they represent?\n",
    "<details>\n",
    "    <summary>Answer</summary>\n",
    "    There are 2 boolean values (<code>True</code> and <code>False</code>). They represent true/false, yes/no, on/off.\n",
    "</details>\n",
    "\n",
    "1. How could you convert an integer (e.g. `5`) into a floating point number?\n",
    "<details>\n",
    "    <summary>Answer</summary>\n",
    "    <code>float(5)</code>\n",
    "</details>\n",
    "\n",
    "1. There are functions for converting to `int()`, `float()` and, `str()`. Is there a function for converting to a boolean value?\n",
    "<details>\n",
    "    <summary>Answer</summary>\n",
    "    Yes! <code>bool()</code><br/>\n",
    "    Play with it below. Which values convert to <code>True</code> and which convert to <code>False</code>?\n",
    "</details>\n",
    "\n",
    "1. What does the `print()` function return?\n",
    "<details>\n",
    "    <summary>Answer</summary>\n",
    "    <code>None == print(\"Hello\")</code>\n",
    "    Check this in the cell below.\n",
    "</details>"
   ]
  },
  {
   "cell_type": "code",
   "execution_count": null,
   "metadata": {
    "scrolled": true
   },
   "outputs": [],
   "source": [
    "value = print(\"Hello, world!\")\n",
    "value"
   ]
  },
  {
   "cell_type": "markdown",
   "metadata": {},
   "source": [
    "7. What does the code below evaluate to? Why?\n",
    "<details>\n",
    "    <summary>&#9654; Answer</summary>\n",
    "    <code>False</code>. Because floating point numbers are represented in computers as finite approximations to continuous real valued numbers.\n",
    "</details>"
   ]
  },
  {
   "cell_type": "code",
   "execution_count": null,
   "metadata": {},
   "outputs": [],
   "source": [
    "0.1 + 0.1 + 0.1 == 0.3"
   ]
  },
  {
   "cell_type": "markdown",
   "metadata": {},
   "source": [
    "## 2.10 Refernces\n",
    "1. Felleisen, M., Findler, R., Flatt, M., Krishnamurthi, S. (2018) _[How to Design Programs](https://htdp.org/) (2 ed.)_. The MIT Press.\n",
    "1. https://philosophy.lander.edu/logic/conjunct.html\n",
    "1. https://en.wikipedia.org/wiki/IEEE_754\n",
    "1. https://en.wikipedia.org/wiki/Floating-point_arithmetic\n",
    "1. https://en.wikipedia.org/wiki/Sentinel_value\n",
    "1. https://lexi-lambda.github.io/blog/2019/11/05/parse-don-t-validate/\n",
    "1. Landin, P.J. (1966) _[The next 700 programming languages](https://www.cs.cmu.edu/~crary/819-f09/Landin66.pdf)_. Communications of the ACM, 9(3):157-166."
   ]
  },
  {
   "cell_type": "markdown",
   "metadata": {},
   "source": [
    "## 2.10 Next session\n",
    "\n",
    "Go to our [next chapter](03_Functions.ipynb). "
   ]
  },
  {
   "cell_type": "code",
   "execution_count": null,
   "metadata": {},
   "outputs": [],
   "source": []
  }
 ],
 "metadata": {
  "kernelspec": {
   "display_name": "Python 3",
   "language": "python",
   "name": "python3"
  },
  "language_info": {
   "codemirror_mode": {
    "name": "ipython",
    "version": 3
   },
   "file_extension": ".py",
   "mimetype": "text/x-python",
   "name": "python",
   "nbconvert_exporter": "python",
   "pygments_lexer": "ipython3",
   "version": "3.9.2"
  }
 },
 "nbformat": 4,
 "nbformat_minor": 4
}
