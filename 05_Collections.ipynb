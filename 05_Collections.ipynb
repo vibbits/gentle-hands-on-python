{
 "cells": [
  {
   "cell_type": "markdown",
   "metadata": {},
   "source": [
    "# Collecting things together\n",
    "\n",
    "> *“Simple is better than\n",
    "> complex.”*<sup><a href=\"#References\">1</a></sup>\n",
    "\n",
    "## Lists\n",
    "\n",
    "So far we’ve seen how to store a single value in a variable that you can\n",
    "use in your program. It is also possible to assign a *collection* of\n",
    "values to a name. In Python, *lists* are a common example of such\n",
    "collections.\n",
    "\n",
    "A list is an *ordered* collection of arbitrary python values. Even other\n",
    "lists! A list inside another list is called a *nested list*. This is\n",
    "similar to a shopping list. My shopping list sometimes looks like this:\n",
    "\n",
    "> -   Apples\n",
    "> -   Milk\n",
    "> -   Dinner:\n",
    ">     -   Chicken\n",
    ">     -   Chips\n",
    ">     -   Salad\n",
    "> -   Snacks\n",
    "\n",
    "You can make a list in Python by seperating each value in a list with\n",
    "commas and placing these between square `[]` brackets."
   ],
   "id": "4353e9bd-3e82-4b37-9fd2-f82cf8aa4833"
  },
  {
   "cell_type": "code",
   "execution_count": null,
   "metadata": {},
   "outputs": [],
   "source": [
    "# My shopping list in Python\n",
    "[\"Apples\", \"Milk\", [\"Chicken\", \"Chips\", \"Salad\"], \"Snacks\"]"
   ],
   "id": "18b1f524-3d03-47a4-b964-d9f02d83fe5f"
  },
  {
   "cell_type": "markdown",
   "metadata": {},
   "source": [
    "The type of values in a list can be heterogeneous."
   ],
   "id": "ed436095-c75e-4516-bd4c-1ce00540486e"
  },
  {
   "cell_type": "code",
   "execution_count": null,
   "metadata": {},
   "outputs": [],
   "source": [
    "[1, 2, \"Fizz\", 4, \"Buzz\"]"
   ],
   "id": "16b086bd-e9cf-433b-a15e-3475f431d8ae"
  },
  {
   "cell_type": "markdown",
   "metadata": {},
   "source": [
    "Lists can be arbitrarily nested."
   ],
   "id": "91d88f42-ae61-465b-8e81-e1e967918afa"
  },
  {
   "cell_type": "code",
   "execution_count": null,
   "metadata": {},
   "outputs": [],
   "source": [
    "[[\"foo\"], \"bar\", [[\"baz\"], \"zoom\"]]"
   ],
   "id": "5c845ba4-962a-4a57-a8b0-a04dc46a2e5d"
  },
  {
   "cell_type": "code",
   "execution_count": null,
   "metadata": {},
   "outputs": [],
   "source": [
    "[1, [2, 2, [3, 3, 3, [4, 4, 4, 4]]]]"
   ],
   "id": "c4c0a4ee-a657-48c7-ada0-d200c6920b84"
  },
  {
   "cell_type": "markdown",
   "metadata": {},
   "source": [
    "You can annotate the type of *homogeneous* lists."
   ],
   "id": "f240b041-9460-4a47-b154-b421269f2666"
  },
  {
   "cell_type": "code",
   "execution_count": null,
   "metadata": {},
   "outputs": [],
   "source": [
    "mylist: list[int] = [2, 4, 6, 8]\n",
    "mylist"
   ],
   "id": "d6c4ab62-18fd-4a08-abe6-36e8f0de84f7"
  },
  {
   "cell_type": "markdown",
   "metadata": {},
   "source": [
    "You can *combine* lists together with the `+` operator."
   ],
   "id": "a6686708-2c70-4d61-a2aa-c76eec78317e"
  },
  {
   "cell_type": "code",
   "execution_count": null,
   "metadata": {},
   "outputs": [],
   "source": [
    "[1, 2] + [3, 4]"
   ],
   "id": "b684331e-e415-454c-8640-57644a5a39f6"
  },
  {
   "cell_type": "markdown",
   "metadata": {},
   "source": [
    "This gives you a way to *append* to a list. We will use this pattern a\n",
    "lot during this course."
   ],
   "id": "0afff4ae-d1c4-456d-944c-1303a78930a6"
  },
  {
   "cell_type": "code",
   "execution_count": null,
   "metadata": {},
   "outputs": [],
   "source": [
    "mylist: list[int] = [1, 2, 3]\n",
    "mylist = mylist + [4, 5]\n",
    "mylist"
   ],
   "id": "ea857af6-cc42-4eed-9b99-0f6773a8408b"
  },
  {
   "cell_type": "markdown",
   "metadata": {},
   "source": [
    "You can even *multiply* a list by an integer."
   ],
   "id": "48b45125-70dd-4f25-b0af-818ebfa84e5e"
  },
  {
   "cell_type": "code",
   "execution_count": null,
   "metadata": {},
   "outputs": [],
   "source": [
    "[1, 2, 3] * 2"
   ],
   "id": "b9659770-be33-4ce4-9edf-9e9b87e615e4"
  },
  {
   "cell_type": "markdown",
   "metadata": {},
   "source": [
    "------------------------------------------------------------------------\n",
    "\n",
    "### Exercise 5-1: More FizzBuzz\n",
    "\n",
    "Write a function called `fizzbuzz3()` that returns a list containing the\n",
    "FizzBuzz game played up to 15."
   ],
   "id": "69969714-7ad2-48d2-a69d-ca732c4034da"
  },
  {
   "cell_type": "code",
   "execution_count": null,
   "metadata": {},
   "outputs": [],
   "source": [
    "def fizzbuzz3():\n",
    "    \"Play the Fizz Buzz game up to 15.\"\n",
    "    return _\n",
    "\n",
    "fizzbuzz3()"
   ],
   "id": "61ebeeee-301f-4e81-a68b-fbb61ba0e1f1"
  },
  {
   "cell_type": "markdown",
   "metadata": {},
   "source": [
    "[Advanced question](Advanced%20Exercises.ipynb#5-1)\n",
    "\n",
    "------------------------------------------------------------------------\n",
    "\n",
    "## What’s the length?\n",
    "\n",
    "What is the length of this list `[1, [2, [3, 4]]]`? If you say `2`,\n",
    "you’re right. If you say `4`, you’re also right! However, Python only\n",
    "agrees with you if you said `2`. This is because Python does not look at\n",
    "the structure of the values in a list. So when you ask Python,\n",
    "`len([1, [2, [3, 4]]])`? Python sees, `len([💩, 💩])`."
   ],
   "id": "095ffbb3-f458-4a03-8dfe-2d016b61f05a"
  },
  {
   "cell_type": "code",
   "execution_count": null,
   "metadata": {},
   "outputs": [],
   "source": [
    "len([1, [2, [3, 4]]])"
   ],
   "id": "aa937318-04f8-4a4f-b5f9-2be4463dbc50"
  },
  {
   "cell_type": "markdown",
   "metadata": {},
   "source": [
    "You may wonder if there is a way to compute the number of nested values\n",
    "(`4` in the above example), this is left as an advanced exercise.\n",
    "\n",
    "## Indexing and Slicing\n",
    "\n",
    "Lists are *ordered* collections of values. It is sometimes necessary to\n",
    "work with a particular value within a list, requiring us to extract that\n",
    "value from the list. This “extract” operation is known as indexing. For\n",
    "example, if you wish to work with the second element of a list you would\n",
    "need to *index* the list at a particular *offset* from the beginning of\n",
    "the list.\n",
    "\n",
    "The beginning of the list is at an offset of *zero* elements from the\n",
    "beginning of the list. So in order to “extract” the first element of a\n",
    "list, we index it at `0` using the *index operator*: `[]`."
   ],
   "id": "7be4f148-e3c7-4b24-bfe1-78f8997d9654"
  },
  {
   "cell_type": "code",
   "execution_count": null,
   "metadata": {},
   "outputs": [],
   "source": [
    "my_list = ['A', 'E', 'I', 'O', 'U', 'Y']\n",
    "my_list[0]"
   ],
   "id": "adc910a0-34c2-4fbb-9997-18d8f8825e78"
  },
  {
   "cell_type": "markdown",
   "metadata": {},
   "source": [
    "The second element the list is at *index* `1` and so on.\n",
    "\n",
    "``` python\n",
    "my_list[1]\n",
    "```\n",
    "\n",
    "You can replace a value in a list by combining the index operator with\n",
    "the assignment operator."
   ],
   "id": "f1553e75-c353-4db0-84d4-14192d34db3c"
  },
  {
   "cell_type": "code",
   "execution_count": null,
   "metadata": {},
   "outputs": [],
   "source": [
    "my_list[0] = 42\n",
    "my_list"
   ],
   "id": "9c8bdaca-afad-4ea7-92a6-be1177bce709"
  },
  {
   "cell_type": "markdown",
   "metadata": {},
   "source": [
    "*Slicing* is a generalisation of *indexing* which allows you to view a\n",
    "*slice* of the list. If you think of the list as a loaf of bread, you\n",
    "can slice out a part of the loaf as small or as large as you like.\n",
    "\n",
    "``` python\n",
    "my_list[start_index : end_index : step]\n",
    "```\n",
    "\n",
    "Here are some examples of indexing and slicing. Try to guess the output\n",
    "before you execute each cell."
   ],
   "id": "7dddbe79-bdf2-42d5-92ee-9a3f59b423ac"
  },
  {
   "cell_type": "code",
   "execution_count": null,
   "metadata": {},
   "outputs": [],
   "source": [
    "my_list[1]"
   ],
   "id": "7253213c-e43f-40ea-b24b-6d507ba2a2a8"
  },
  {
   "cell_type": "code",
   "execution_count": null,
   "metadata": {},
   "outputs": [],
   "source": [
    "my_list[54]"
   ],
   "id": "cfebe355-93d2-457b-afff-8b2affbdb39c"
  },
  {
   "cell_type": "code",
   "execution_count": null,
   "metadata": {},
   "outputs": [],
   "source": [
    "my_list[1:2]"
   ],
   "id": "245bc1cc-0271-4b69-bf91-bc3f5c48a3c1"
  },
  {
   "cell_type": "code",
   "execution_count": null,
   "metadata": {},
   "outputs": [],
   "source": [
    "my_list[1:3]"
   ],
   "id": "dc188342-7234-4d1f-a8fe-dc02ebbbd005"
  },
  {
   "cell_type": "markdown",
   "metadata": {},
   "source": [
    "Notice that the slicing operation always stops just short of the *end\n",
    "index*."
   ],
   "id": "02e2196d-614f-4d00-a643-9febbc0c04af"
  },
  {
   "cell_type": "code",
   "execution_count": null,
   "metadata": {},
   "outputs": [],
   "source": [
    "my_list[-1]"
   ],
   "id": "2ed30892-cff0-4866-994e-48bf95ef9424"
  },
  {
   "cell_type": "code",
   "execution_count": null,
   "metadata": {},
   "outputs": [],
   "source": [
    "my_list[3:-1]"
   ],
   "id": "3eeb20f3-1225-4a67-acd2-6b5e7f4cc50d"
  },
  {
   "cell_type": "markdown",
   "metadata": {},
   "source": [
    "There is a special shortcut for slicing *from the beginning* or *to the\n",
    "end*:"
   ],
   "id": "4f1ece92-9956-417f-87b2-0d66bd1a9309"
  },
  {
   "cell_type": "code",
   "execution_count": null,
   "metadata": {},
   "outputs": [],
   "source": [
    "my_list[:3]"
   ],
   "id": "f54661e0-04aa-4bc0-9781-a7607926b5d6"
  },
  {
   "cell_type": "code",
   "execution_count": null,
   "metadata": {},
   "outputs": [],
   "source": [
    "my_list[3:]"
   ],
   "id": "6ad0fd03-f93a-4a38-974a-4afbb2a42554"
  },
  {
   "cell_type": "code",
   "execution_count": null,
   "metadata": {},
   "outputs": [],
   "source": [
    "my_list[:-4]"
   ],
   "id": "bfc8d659-5c24-4117-af5c-aacecbaaa7c5"
  },
  {
   "cell_type": "code",
   "execution_count": null,
   "metadata": {},
   "outputs": [],
   "source": [
    "my_list[-4:]"
   ],
   "id": "b92ba9b4-b72f-4ee2-a825-a64cf20360a6"
  },
  {
   "cell_type": "markdown",
   "metadata": {},
   "source": [
    "You can copy the whole list using the slicing operator."
   ],
   "id": "949dcf60-1aa2-4751-9535-2a31995d4e8b"
  },
  {
   "cell_type": "code",
   "execution_count": null,
   "metadata": {},
   "outputs": [],
   "source": [
    "a_copy = my_list[:]\n",
    "a_copy"
   ],
   "id": "8c6a55b3-55af-428c-8cd4-05f77ca09609"
  },
  {
   "cell_type": "markdown",
   "metadata": {},
   "source": [
    "Rather than slicing every element in the range, you can slice every\n",
    "step-th element."
   ],
   "id": "89e7bac6-5be0-408b-ae37-82049caa74aa"
  },
  {
   "cell_type": "code",
   "execution_count": null,
   "metadata": {},
   "outputs": [],
   "source": [
    "my_list[::2]"
   ],
   "id": "d3365c12-e037-419c-928d-5c9c925a6141"
  },
  {
   "cell_type": "markdown",
   "metadata": {},
   "source": [
    "What would this do?"
   ],
   "id": "96adf02f-daed-474b-916a-d935fd806f71"
  },
  {
   "cell_type": "code",
   "execution_count": null,
   "metadata": {},
   "outputs": [],
   "source": [
    "my_list[::-1]"
   ],
   "id": "2c4eb6c2-8cbd-4487-9e41-b665eb067068"
  },
  {
   "cell_type": "markdown",
   "metadata": {},
   "source": [
    "You can also assign to slices."
   ],
   "id": "d0826e73-7a1b-4dc7-bea2-3f10a19fe65d"
  },
  {
   "cell_type": "code",
   "execution_count": null,
   "metadata": {},
   "outputs": [],
   "source": [
    "my_list[4:] = [2, 1, 0]\n",
    "my_list"
   ],
   "id": "be236b83-2a17-462d-8515-5d6a815b84bc"
  },
  {
   "cell_type": "markdown",
   "metadata": {},
   "source": [
    "Be careful when assigning to slices when the step is not `1`."
   ],
   "id": "36de738e-4c36-4b7d-818e-8fb5bc14e469"
  },
  {
   "cell_type": "code",
   "execution_count": null,
   "metadata": {},
   "outputs": [],
   "source": [
    "my_list[::2] = ['a', 'e', 'i', 'o', 'u']\n",
    "my_list"
   ],
   "id": "d9a4bba2-b715-4992-8980-3494b28651e4"
  },
  {
   "cell_type": "markdown",
   "metadata": {},
   "source": [
    "------------------------------------------------------------------------\n",
    "\n",
    "### Exercise 5-2: Slicing nested lists\n",
    "\n",
    "Write a function that accepts a nested list as an argument and returns\n",
    "the original list with second element reversed. For example, given input\n",
    "`[[1, 2], [3, 4]]`, return `[[1, 2], [4, 3]]`."
   ],
   "id": "c5eb8df5-2bd0-452a-a8d7-4e7f4b121957"
  },
  {
   "cell_type": "code",
   "execution_count": null,
   "metadata": {},
   "outputs": [],
   "source": [
    "def reverse_second(arg):\n",
    "    \"Reverse the second element of a nested list.\"\n",
    "    if len(arg) >= 2:\n",
    "        return _\n",
    "    else:\n",
    "        return _\n",
    "\n",
    "assert reverse_second([[1]]) == [[1]], \"Expected [[1]], got: \" + str(reverse_second([[1]]))\n",
    "assert reverse_second([[1], [2]]) == [[1], [2]], \"Expected [[1], [2]], got: \" + str(reverse_second([[1], [2]]))\n",
    "assert reverse_second([[1, 5], [10, 9, 8]]) == [[1, 5], [8, 9, 10]], \"Expected [[1, 5], [8, 9, 10]], got: \" + str(reverse_second([[1, 5], [10, 9, 8]]))\n",
    "assert reverse_second([1, ['h', 'e', 'l', 'l', 'o'], 2]) == [1, ['o', 'l', 'l', 'e', 'h'], 2], \"Expected [1, ['o', 'l', 'l', 'e', 'h'], 2], got: \" + str(reverse_second([1, ['h', 'e', 'l', 'l', 'o'], 2]))"
   ],
   "id": "38aee041-7541-423d-9d06-75a391fb193b"
  },
  {
   "cell_type": "markdown",
   "metadata": {},
   "source": [
    "------------------------------------------------------------------------\n",
    "\n",
    "### Exercise 5-3: Sliced FizzBuzz\n",
    "\n",
    "Slicing presents a possible solution to playing the FizzBuzz game: slice\n",
    "starting at the 3$^{rd}$ element of a list with a `step` of 3, assign an\n",
    "appropriately sized list of `[\"Fizz\"]` strings. The same for 5. Write a\n",
    "function, called `fizzbuzz4()` that attempts to play the Fizz Buzz game\n",
    "in this way. The input will be a list containing the counted numbers,\n",
    "you should use slicing to replace the appropriate numbers with `\"Fizz\"`\n",
    "or `\"Buzz\"`."
   ],
   "id": "70bf20b7-78a8-424e-841f-c1b503652ba2"
  },
  {
   "cell_type": "code",
   "execution_count": null,
   "metadata": {},
   "outputs": [],
   "source": [
    "def fizzbuzz4(counted):\n",
    "    counted[_:_:3] = [\"Fizz\"] * (len(counted) // 3)\n",
    "    counted[_:_:5] = [\"Buzz\"] * (len(counted) // 5)\n",
    "    return counted\n",
    "\n",
    "fizzbuzz4([1, 2, 3, 4, 5, 6, 7, 8, 9, 10, 11, 12, 13, 14, 15])"
   ],
   "id": "b4514f19-9f0e-499e-b6e9-d47ec0101659"
  },
  {
   "cell_type": "markdown",
   "metadata": {},
   "source": [
    "Does `fizzbuzz4()` correctly play the Fizz Buzz game? If not, what is\n",
    "wrong with this solution? Can you fix it?\n",
    "\n",
    "[Advanced question](Advanced%20Exercises.ipynb#5-2)\n",
    "\n",
    "------------------------------------------------------------------------\n",
    "\n",
    "## Operating on Lists and using Python utilities\n",
    "\n",
    "In the following section we will use the `operator` library which is\n",
    "part of the Python standard library (if you’re interested, see the\n",
    "documentation [here](https://docs.python.org/3/library/operator.html)).\n",
    "The `operator` library defines functions that are equivalent to the\n",
    "usual operators you’ve seen so far (e.g. `+`, `*`, *indexing*, etc.).\n",
    "Let’s begin by importing the `operator` library."
   ],
   "id": "e4a9b64e-2eb0-41a5-a083-fac82ec91919"
  },
  {
   "cell_type": "code",
   "execution_count": null,
   "metadata": {},
   "outputs": [],
   "source": [
    "import operator"
   ],
   "id": "257f734a-914b-4eaf-9f8a-750457139f24"
  },
  {
   "cell_type": "markdown",
   "metadata": {},
   "source": [
    "As you progress through the course we will use other facilities provided\n",
    "by the Python standard library. It’s very useful to be aware of them so\n",
    "that you don’t need to re-invent what is already available.\n",
    "\n",
    "You might already appreciate the utility of lists, if not the next few\n",
    "exercises aim to demonstrate how they can be useful. In order to\n",
    "complete the next exercises you will need to know how to perform some\n",
    "operations on lists as a whole. Here are 3 new things to become\n",
    "acquainted with:\n",
    "\n",
    "-   The `sorted()` function sorts lists\n",
    "-   The `in` operator checks if a value is contained in a list.\n",
    "-   `operator.itemgetter()` is a function that behaves like the index\n",
    "    (`[]`) operator.\n",
    "\n",
    "The first 2 definitions are available to you without needing to `import`\n",
    "a library. Let us experiment to see what they do."
   ],
   "id": "c50fa56f-8f54-49a5-81cc-9f3c26931ec2"
  },
  {
   "cell_type": "code",
   "execution_count": null,
   "metadata": {},
   "outputs": [],
   "source": [
    "6 in [1, 3, 5, 7, 9]"
   ],
   "id": "15fb1a46-9b1f-419f-aa32-a4eed3830512"
  },
  {
   "cell_type": "code",
   "execution_count": null,
   "metadata": {},
   "outputs": [],
   "source": [
    "8 in [2, 4, 6, 8, 10]"
   ],
   "id": "314b04c8-3681-47c5-b90a-a952d26661c8"
  },
  {
   "cell_type": "code",
   "execution_count": null,
   "metadata": {},
   "outputs": [],
   "source": [
    "sorted([5, 10, 2, 7, 1])"
   ],
   "id": "c622c990-d9d3-4fd7-bf7b-a2d6ff3ff605"
  },
  {
   "cell_type": "code",
   "execution_count": null,
   "metadata": {},
   "outputs": [],
   "source": [
    "sorted([[5], [10], [2], [7], [1]])"
   ],
   "id": "bfb68181-7921-47e4-ad80-efea33a530a6"
  },
  {
   "cell_type": "markdown",
   "metadata": {},
   "source": [
    "We can customise the behaviour of the `sorted()` function because it\n",
    "takes 2 *optional* named arguments: `reverse` to sort in reverse order,\n",
    "and `key` to extract the value to sort from a structure. One structure\n",
    "you may wish to extract a sort key from is another list, say:"
   ],
   "id": "df640cda-3537-4160-8b84-bbd1a51a97b2"
  },
  {
   "cell_type": "code",
   "execution_count": null,
   "metadata": {},
   "outputs": [],
   "source": [
    "song = [[\"french hens\", 3],\n",
    "        [\"ladies dancing\", 9],\n",
    "        [\"pipers piping\", 11],\n",
    "        [\"swans a-swimming\", 7],\n",
    "        [\"geese a-laying\", 6],\n",
    "        [\"turtle doves\", 2],\n",
    "        [\"calling birds\", 4],\n",
    "        [\"maids a-milking\", 8],\n",
    "        [\"drummers drumming\", 12],\n",
    "        [\"lords a-leaping\", 10],\n",
    "        [\"gold rings\", 5],\n",
    "        [\"partridge in a pear tree\", 1]]"
   ],
   "id": "fffff72c-e508-4fc0-b286-bce3799d72fd"
  },
  {
   "cell_type": "markdown",
   "metadata": {},
   "source": [
    "Simply sorting this will not do what we want."
   ],
   "id": "68fc1c1e-ebab-4776-9df0-4f408c7e371b"
  },
  {
   "cell_type": "code",
   "execution_count": null,
   "metadata": {},
   "outputs": [],
   "source": [
    "sorted(song)"
   ],
   "id": "3ebfdec9-2d0b-4bc7-a0f4-81ce9430e42a"
  },
  {
   "cell_type": "markdown",
   "metadata": {},
   "source": [
    "Instead of sorting on the first element of each nested list you need to\n",
    "sort on the second element: the number of each gift. The `key` argument\n",
    "requires a function. This function is given each nested list and it\n",
    "should return the value with which to sort. This is the index operator,\n",
    "`[]`. But the index operator is not a function. This is where the\n",
    "`operator` library is useful."
   ],
   "id": "ab8f8104-d1af-4c82-94eb-299572e050e1"
  },
  {
   "cell_type": "code",
   "execution_count": null,
   "metadata": {},
   "outputs": [],
   "source": [
    "sorted(song, key=operator.itemgetter(1))"
   ],
   "id": "ffa8b796-cbc5-43d8-acc2-f2cded7f577b"
  },
  {
   "cell_type": "markdown",
   "metadata": {},
   "source": [
    "This sorts the song correctly. Finally, sorting in reverse:"
   ],
   "id": "01fd54c5-728b-40a0-b74b-b683a3ed98e4"
  },
  {
   "cell_type": "code",
   "execution_count": null,
   "metadata": {},
   "outputs": [],
   "source": [
    "sorted(song, key=operator.itemgetter(1), reverse=True)"
   ],
   "id": "a95f053c-5b3e-4ac0-be46-5e3fcbd070f3"
  },
  {
   "cell_type": "markdown",
   "metadata": {},
   "source": [
    "------------------------------------------------------------------------\n",
    "\n",
    "### Exercise 5-4: Bronze medal\n",
    "\n",
    "Write a function that accepts a list of scores (highest is better) and\n",
    "return the score of third place (bronze medal)."
   ],
   "id": "f079b21c-77b3-4a06-b9f8-a4d61444e22e"
  },
  {
   "cell_type": "code",
   "execution_count": null,
   "metadata": {},
   "outputs": [],
   "source": [
    "def bronze_medal(scores):\n",
    "    return _\n",
    "\n",
    "assert bronze_medal([0, 2, 1]) == 0, \"Expected: 0, got: \" + str(bronze_medal([0, 2, 1]))\n",
    "assert bronze_medal([54,56,2,1,5223,6,23,57,3,7,3344]) == 57, \"Expected: 57, got: \" + str(bronze_medal([54,56,2,1,5223,6,23,57,3,7,3344]))"
   ],
   "id": "b35fda38-3e70-40e3-8f4c-d7d57d2ec613"
  },
  {
   "cell_type": "markdown",
   "metadata": {},
   "source": [
    "------------------------------------------------------------------------\n",
    "\n",
    "### Exercise 5-5: Citations\n",
    "\n",
    "You’re given a list containing some data. Each element of the list is\n",
    "another list containing 2 values: the name of a country, and the average\n",
    "number of citations per citable document produced within that country.\n",
    "Write a function that takes this list as an argument and returns the\n",
    "name of the country with the second highest number of average citations.\n",
    "<!-- Data are from: https://www.scimagojr.com/countryrank.php?order=cd&ord=desc -->"
   ],
   "id": "4776fe61-f901-40f8-a1a0-c462ebdb1104"
  },
  {
   "cell_type": "code",
   "execution_count": null,
   "metadata": {},
   "outputs": [],
   "source": [
    "assert second_highest([['A', 1.0], ['B', 0.5]]) == \"B\", \"Expected: 'B', got: \" + str(second_highest([['A', 1.0], ['B', 0.5]]))\n",
    "assert second_highest([\n",
    "    ['Netherlands Antilles', 38.46],\n",
    "    ['Tokelau', 51.9],\n",
    "    ['Seychelles', 33.56],\n",
    "    ['Anguilla', 133.98],\n",
    "    ['Saint Lucia', 37.31],\n",
    "    ['Panama', 37.87],\n",
    "    ['Bermuda', 43.33],\n",
    "    ['Federated States of Micronesia', 85.49],\n",
    "    ['Gambia', 42.14],\n",
    "    ['Belize', 41.59]]) == 'Federated States of Micronesia'"
   ],
   "id": "d101a54f-5ff4-4b64-b740-1fa569c2d5f8"
  },
  {
   "cell_type": "markdown",
   "metadata": {},
   "source": [
    "[Advanced question](Advanced%20Exercises.ipynb#5-5)\n",
    "\n",
    "------------------------------------------------------------------------\n",
    "\n",
    "## Chapter Review\n",
    "\n",
    "In this chapter you learned how to store multiple values into an\n",
    "ordered, mutable collection called a `list`. You learned how to access\n",
    "individual values and slices of values. You also learned how to sort\n",
    "lists and check for membership in a list.\n",
    "\n",
    "## Review Questions\n",
    "\n",
    "1.  What are lists used for?\n",
    "    <details>\n",
    "    <summary>\n",
    "    Answer\n",
    "    </summary>\n",
    "    To collect values together.\n",
    "    </details>\n",
    "2.  What does it mean for a list to be mutable?\n",
    "    <details>\n",
    "    <summary>\n",
    "    Answer\n",
    "    </summary>\n",
    "    A value can be changed after creation. The assignment operator (`=`)\n",
    "    works.\n",
    "    </details>\n",
    "3.  Is a string (`str`) like a list?\n",
    "    <details>\n",
    "    <summary>\n",
    "    Answer\n",
    "    </summary>\n",
    "    Yes. In the sense that strings can be indexed and sliced. They’re\n",
    "    collections of only characters though. And strings are immutable.\n",
    "    You cannot assign to a string index.\n",
    "    </details>\n",
    "4.  What is *slicing*?\n",
    "    <details>\n",
    "    <summary>\n",
    "    Answer\n",
    "    </summary>\n",
    "    Slicing is a way to access ranges of elements in a list (or string).\n",
    "    </details>\n",
    "5.  Can you turn a string into a list of characters?\n",
    "    <details>\n",
    "    <summary>\n",
    "    Answer\n",
    "    </summary>\n",
    "    Yes using the `list()` function.\n",
    "    </details>\n",
    "\n",
    "## References\n",
    "\n",
    "1.  Zen of Python: https://www.python.org/dev/peps/pep-0020/\n",
    "\n",
    "## Supporting material\n",
    "\n",
    "-   [Automate the Boring Stuff with Python, Chapter\n",
    "    4](http://automatetheboringstuff.com/2e/chapter4/)\n",
    "-   [Automate the Boring Stuff with Python video course, Lesson\n",
    "    13](https://youtu.be/5n6o1MaXDoE)\n",
    "-   [Real Python: Lists and\n",
    "    Tuples](https://realpython.com/python-lists-tuples/)\n",
    "-   [How to Design Programs, Chapter\n",
    "    6](https://htdp.org/2003-09-26/Book/curriculum-Z-H-9.html#node_chap_6)\n",
    "-   [Programming Python, Chapter\n",
    "    14](https://www.linuxtopia.org/online_books/programming_books/python_programming/python_ch14.html)\n",
    "\n",
    "Click [here](06_Loops.ipynb) to go to the next chapter."
   ],
   "id": "88cc5775-183e-4fdd-8f56-1de517955e17"
  }
 ],
 "nbformat": 4,
 "nbformat_minor": 5,
 "metadata": {
  "kernelspec": {
   "name": "python3",
   "display_name": "Python 3 (ipykernel)",
   "language": "python"
  },
  "language_info": {
   "name": "python",
   "codemirror_mode": {
    "name": "ipython",
    "version": "3"
   },
   "file_extension": ".py",
   "mimetype": "text/x-python",
   "nbconvert_exporter": "python",
   "pygments_lexer": "ipython3",
   "version": "3.11.0"
  }
 }
}
