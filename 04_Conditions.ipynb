{
 "cells": [
  {
   "cell_type": "markdown",
   "metadata": {},
   "source": [
    "# 4. In the beginning...\n",
    "\n",
    "> _\"Now is better than never.\"_\n",
    ">\n",
    "> -- Zen of Python by Tim Peters<sup>1</sup>\n",
    "\n",
    "## 4.1 _FizzBuzz_: A counting game\n",
    "This will be your first non-trivial Python program. \"FizzBuzz\" is a childrens game to help learn multiplication. It can be played with 1 or more people and involves taking turns to count up from `1`. If the number is a multiple of `3`, you don't say the number, instead you say \"Fizz\". If the number is a multiple of `5` you say \"Buzz\". Finally, if the number is a multiple of `3` **and** `5` you say \"Fizz Buzz\".\n",
    "\n",
    "For example:\n",
    "```python\n",
    ">>> fizzbuzz(15)\n",
    "1\n",
    "2\n",
    "Fizz\n",
    "4\n",
    "Buzz\n",
    "Fizz\n",
    "7\n",
    "8\n",
    "Fizz\n",
    "Buzz\n",
    "11\n",
    "Fizz\n",
    "13\n",
    "14\n",
    "Fizz Buzz\n",
    "```\n",
    "\n",
    "<figure>\n",
    "  <img src=\"images/fizzbuzz_flowchart.svg\" style=\"height: 800px\" alt=\"Fizzbuzz flowchart\" />\n",
    "    <figcaption><em style=\"font-weight:bold\">Figure 4-1</em>: A flowchart to tell you how to play Fizzbuzz</figcaption>\n",
    "</figure>\n",
    "\n",
    "In this chapter we're going to begin to implement this `fizzbuzz` function. Although you're already familiar with universally applicable programming concepts, we will introduce some Python specifics that will help us to write a `fizzbuzz` function. This begins with _conditional logic_..."
   ]
  },
  {
   "cell_type": "markdown",
   "metadata": {},
   "source": [
    "## 4.2 The `if` statement\n",
    "\n",
    "The **if** statement allows you to only execute a _block_ of code if a condition is satisfied (if the answer to a question is \"YES\"). You can think of **if** as _guarding_ its block.\n",
    "\n",
    "The _syntax_ for writing an **if** goes like this:\n",
    "\n",
    "```python\n",
    "if condition: # if condition is (evaluates to) True, execute code_block\n",
    "    code_block\n",
    "```\n",
    "\n",
    "Python syntax requires that you put a colon `:` after the condition, and that the block of code guarded by the\n",
    "conditional is **equally indented** (with spaces or tabs) to the same **indentation level**. Python doesn't really care about the number of spaces or tabs, as long as you're consistent. Jupyter notebooks will indent code blocks for you automatically. Now try this:"
   ]
  },
  {
   "cell_type": "code",
   "execution_count": null,
   "metadata": {},
   "outputs": [],
   "source": [
    "x = 5 # Assignment to a variable. We put the number 5 in a box called x\n",
    " \n",
    "if x == 5: # Question: is the value in the variable called 'x' equal to 5?\n",
    "    print(\"x is five!\")\n",
    "\n",
    "if x!=5: # Question: is the value in the variable called 'x' not equal to 5?\n",
    "    print(\"x is not five!\")"
   ]
  },
  {
   "cell_type": "markdown",
   "metadata": {},
   "source": [
    "you will see that only the block of code guarded by the question, \"does `x == 5`?\" is executed. You can of course make the conditions more complex and combine them with logical operations such as `and` and `or`:\n"
   ]
  },
  {
   "cell_type": "code",
   "execution_count": null,
   "metadata": {},
   "outputs": [],
   "source": [
    "x = 5\n",
    "y = 10\n",
    " \n",
    "if (y / x) == 2:\n",
    "    print(\"y divided by x is 2!\")\n",
    "\n",
    "if y == 10 or x == 2:\n",
    "    print(\"x is two or y is ten\")\n",
    "    \n",
    "if y == 10 and x == 2:\n",
    "    print(\"x is two and y is ten\")\n",
    "\n",
    "print(\"The end\")"
   ]
  },
  {
   "cell_type": "markdown",
   "metadata": {},
   "source": [
    "Here you see that the blocks for the first two conditions (which evaluate to `True`) are executed, but not the third. The last line of code is always printed - it's on the same indentation level as the start of the code, and not conditional.\n",
    "\n",
    "---\n",
    "### Exercise 4-1: Beginnings of FizzBuzz\n",
    "\n",
    "Using the template below, write out the 3 conditions we need for the FizzBuzz game. Replace the `_` characters with your conditions."
   ]
  },
  {
   "cell_type": "code",
   "execution_count": null,
   "metadata": {},
   "outputs": [],
   "source": [
    "def fizzbuzz1(number):\n",
    "    if _:\n",
    "        return \"Fizz Buzz\"\n",
    "    if _:\n",
    "        return \"Fizz\"\n",
    "    if _:\n",
    "        return \"Buzz\"\n",
    "    \n",
    "print(fizzbuzz1(33)) # Should print \"Fizz\"\n",
    "print(fizzbuzz1(30)) # Should print \"Fizz Buzz\"\n",
    "print(fizzbuzz1(20)) # Should print \"Buzz\""
   ]
  },
  {
   "cell_type": "markdown",
   "metadata": {},
   "source": [
    "For extra points, why is \"Fizz Buzz\" returned first? What happens if you check the \"Fizz Buzz\" condition last?\n",
    "\n",
    "---"
   ]
  },
  {
   "cell_type": "markdown",
   "metadata": {},
   "source": [
    "## 4.3 Indentation\n",
    "Python relies on indentation (whitespace at the beginning of a line) to group code into _blocks_. Though this is not a unique characteristic of Python, other programming languages often use curly brackets or _braces_ (`{}`) for this purpose. \n",
    "\n",
    "The _indentation level_ is crucial. This means you have to be careful how you indent the code such\n",
    "that your code is correctly grouped into blocks. It also means that if the Python interpreter encounters inconsistent indentation it will immediately throw an error.\n",
    "\n",
    "See what happens if indentation is inconsistent:"
   ]
  },
  {
   "cell_type": "code",
   "execution_count": null,
   "metadata": {},
   "outputs": [],
   "source": [
    "x = 5\n",
    "y = 10\n",
    " \n",
    "if (y / x) == 2:\n",
    "  print(\"y divided by x is 2!\")\n",
    "   print (\"And x is \", x)"
   ]
  },
  {
   "cell_type": "markdown",
   "metadata": {},
   "source": [
    "Note that this can also happen if you start mixing space and tab characters!\n"
   ]
  },
  {
   "cell_type": "markdown",
   "metadata": {},
   "source": [
    "---\n",
    "### Exercise 4-2: Clamping\n",
    "\n",
    "Can you spot (and fix!) the bug caused by incorrect grouping of code in the following snippet?\n",
    "<details>\n",
    "    <summary>What should the <code>clamp_0_10()</code> function do?</summary>\n",
    "    <ul>\n",
    "        <li>if <code>value</code> is lower than 0 (e.g. -2 or -7), it will be overwritten by the value 0</li>\n",
    "        <li>if <code>value</code> is higher than 10 (e.g. 132 or 17), it will be overwritten by the value 10.</li>\n",
    "        <li>otherwise, if <code>value</code> is between 0 and 10 it will be returned unchanged.\n",
    "    </ul>\n",
    "</details>"
   ]
  },
  {
   "cell_type": "code",
   "execution_count": null,
   "metadata": {},
   "outputs": [],
   "source": [
    "def clamp_0_10(value):\n",
    "    \"Bound value between 0 and 10 inclusive\"\n",
    "    minimum_value = 0\n",
    "    maximum_value = 10\n",
    "    \n",
    "    if value < minimum_value:\n",
    "        print(f\"{value} is too small\")\n",
    "    value = minimum_value\n",
    "    \n",
    "    if value > maximum_value:\n",
    "        print(f\"{value} is too big\")\n",
    "    value = maximum_value\n",
    "    return value\n",
    "\n",
    "print(f\"Input: -5, expected:  0, got: {clamp_0_10(-5)}\")\n",
    "print(f\"Input:  0, expected:  0, got: {clamp_0_10(0)}\")\n",
    "print(f\"Input:  5, expected:  5, got: {clamp_0_10(5)}\")\n",
    "print(f\"Input: 10, expected: 10, got: {clamp_0_10(10)}\")\n",
    "print(f\"Input: 11, expected: 10, got: {clamp_0_10(11)}\")"
   ]
  },
  {
   "cell_type": "markdown",
   "metadata": {},
   "source": [
    "---\n",
    "### Exercise 4-3: Division by zero\n",
    "\n",
    "Write a program to compute division that checks for division by zero. Complete your code in the template provided below by replacing the `_` characters."
   ]
  },
  {
   "cell_type": "code",
   "execution_count": null,
   "metadata": {},
   "outputs": [],
   "source": [
    "def division(x, y):\n",
    "    if _:\n",
    "        return \"You cannot divide by zero\"\n",
    "    \n",
    "    return x / y\n",
    "\n",
    "print(division(1, 0)) # Should print \"You cannot divide by zero\"\n",
    "print(division(1, 1)) # Should print 1.0"
   ]
  },
  {
   "cell_type": "markdown",
   "metadata": {},
   "source": [
    "---\n",
    "\n",
    "### Exercise 4-4: Odd and even\n",
    "\n",
    "Write a function that returns \"odd\" when its input is odd, and \"even\" otherwise."
   ]
  },
  {
   "cell_type": "code",
   "execution_count": null,
   "metadata": {},
   "outputs": [],
   "source": [
    "def even_or_odd(num):\n",
    "    ..."
   ]
  },
  {
   "cell_type": "markdown",
   "metadata": {},
   "source": [
    "---\n",
    "\n",
    "### Exercise 4-5: String truncation\n",
    "\n",
    "Write a function that takes 2 parameters: a string to truncate (`text`), and a maximum length (`max_len`) that checks if `text` is longer than `max_len`, if it is, the string should be\n",
    "truncated and display ellipses (\"...\") as the last 3 characters. The truncated string + the ellipses should\n",
    "fit within `max_len`."
   ]
  },
  {
   "cell_type": "code",
   "execution_count": null,
   "metadata": {},
   "outputs": [],
   "source": [
    "def truncate(text, max_len):\n",
    "    ..."
   ]
  },
  {
   "cell_type": "markdown",
   "metadata": {},
   "source": [
    "---\n",
    "\n",
    "## 4.4 `else` and `elif` statements\n",
    "\n",
    "You may wish to perform a computation based on one of several conditions. An example from everyday experience\n",
    "is \"What type of food will I eat?\"\n",
    "\n",
    "---\n",
    "**If** it is breakfast time, then **eat breakfast**\n",
    "\n",
    "**Otherwise, if** it is lunch time, then **eat lunch**\n",
    "\n",
    "**Otherwise, if** it is dinner time, then **eat dinner**\n",
    "\n",
    "**Otherwise**, **eat snacks**.\n",
    "\n",
    "---\n",
    "\n",
    "In this example we select _only one_ of 4 possible actions (eat breakfast, eat lunch, eat dinner, or eat snacks).\n",
    "This can be neatly translated into pseudo-Python using `if`, `elif`, and `else`:\n",
    "\n",
    "```python\n",
    "if 6_00 <= current_time() <= 10_00:\n",
    "    eat_breakfast()\n",
    "elif 12_00 <= current_time() <= 13_00:\n",
    "    eat_lunch()\n",
    "elif 17_00 <= current_time() <= 20_00:\n",
    "    eat_dinner()\n",
    "else:\n",
    "    eat_snacks()\n",
    "```\n",
    "\n",
    "You will notice that `elif` is not the same as another **if**-statement. An **elif** is only executed if the\n",
    "previous `if` (and other preceding elifs) are not executed. In the example below the code from section 4.3 is adapted.\n",
    "Now all if-statements are changed by elifs and only a single indented block of code will be evaluated.\n",
    "\n",
    "The `elif` is a convenient short-hand for `else` followed by `if`. The above example is exactly equivalent to:\n",
    "\n",
    "```python\n",
    "if 6_00 <= current_time() <= 10_00:\n",
    "    eat_breakfast()\n",
    "else:\n",
    "    if 12_00 <= current_time() <= 13_00:\n",
    "        eat_lunch()\n",
    "    else:\n",
    "        if 17_00 <= current_time() <= 20_00:\n",
    "            eat_dinner()\n",
    "        else:\n",
    "            eat_snacks()\n",
    "```"
   ]
  },
  {
   "cell_type": "markdown",
   "metadata": {},
   "source": [
    "Let's try it with some numbers now:"
   ]
  },
  {
   "cell_type": "code",
   "execution_count": null,
   "metadata": {},
   "outputs": [],
   "source": [
    "x = 5\n",
    "y = 10\n",
    " \n",
    "if (y / x) == 2:\n",
    "    print(\"y divided by x is 2!\")\n",
    "elif y == 10 or x == 2:\n",
    "    print(\"x is two or y is ten\")\n",
    "elif y == 10 and x == 2:\n",
    "    print(\"x is two and y is ten\")\n",
    "\n",
    "print(\"The end\")"
   ]
  },
  {
   "cell_type": "markdown",
   "metadata": {},
   "source": [
    "Now only the code under the first condition is executed, not the second (the third condition is not `True` and is in any case irrelevant). If we switch the conditions around a bit:\n",
    "\n"
   ]
  },
  {
   "cell_type": "code",
   "execution_count": null,
   "metadata": {},
   "outputs": [],
   "source": [
    "x = 5\n",
    "y = 10\n",
    " \n",
    "if y == 10 and x == 2:\n",
    "    print(\"x is two and y is ten\")\n",
    "elif y == 10 or x == 2:\n",
    "    print(\"x is two or y is ten\")\n",
    "elif (y / x) == 2:\n",
    "    print(\"y divided by x is 2!\")\n",
    "\n",
    "print(\"The end\")"
   ]
  },
  {
   "cell_type": "markdown",
   "metadata": {},
   "source": [
    "The first condition is not `True`, so the second is evaluated. This one is `True`, so its block is executed, and the\n",
    "text `'x is two or y is ten'` is printed. For clarity it is often useful to leave some space before and after the\n",
    "condition - it makes the code easier to read.\n",
    "\n",
    "You can also end an **if** (with or without **elif**s) with an **else** condition. The block of code following else is only executed if the previous (set of) conditions are all False. Try this:"
   ]
  },
  {
   "cell_type": "code",
   "execution_count": null,
   "metadata": {},
   "outputs": [],
   "source": [
    "x = 7\n",
    " \n",
    "if (x % 2) == 0:\n",
    "    print(\"x is divisible by two!\")\n",
    "elif (x % 3) == 0:\n",
    "    print(\"x is divisible by three!\")\n",
    "else:\n",
    "    print(\"x is not divisible by two nor three...\")\n",
    "\n",
    "print(\"x is \", x)"
   ]
  },
  {
   "cell_type": "markdown",
   "metadata": {},
   "source": [
    "You can modify the value of x a bit to see what else can happen. Can you spot a problem with this example? What will happen if x can be divided by both two and three? What can you do to solve this problem?"
   ]
  },
  {
   "cell_type": "markdown",
   "metadata": {},
   "source": [
    "---\n",
    "### Exercise 4-6: More FizzBuzz\n",
    "\n",
    "Extend the fizzbuzz function you wrote earlier by returning the input number if it doesn't match any of the conditions.\n",
    "\n",
    "A reminder, if `number`\n",
    "* is a multiple of `3`, return `\"Fizz\"`\n",
    "* is a miltiple of `5`, return `\"Buzz\"`\n",
    "* is a multiple of `3` **and** `5`, return `\"Fizz Buzz\"`\n",
    "* otherwise, return number\n",
    "\n",
    "Use the template provided below, replace the `_` characters."
   ]
  },
  {
   "cell_type": "code",
   "execution_count": null,
   "metadata": {},
   "outputs": [],
   "source": [
    "def fizzbuzz2(number):\n",
    "    if _:\n",
    "        return \"Fizz Buzz\"\n",
    "    elif _:\n",
    "        return \"Fizz\"\n",
    "    elif _:\n",
    "        return \"Buzz\"\n",
    "    _:\n",
    "        _\n",
    "    \n",
    "print(fizzbuzz2(33)) # Should print \"Fizz\"\n",
    "print(fizzbuzz2(30)) # Should print \"Fizz Buzz\"\n",
    "print(fizzbuzz2(20)) # Should print \"Buzz\"\n",
    "print(fizzbuzz2(16)) # Should print 16"
   ]
  },
  {
   "cell_type": "markdown",
   "metadata": {},
   "source": [
    "## 4.5 Chapter Review\n",
    "In this chapter you've learned what a _block_ of code is. You've also learned how to _guard_ a block with an `if`\n",
    "condition and also how to conditionally execute blocks of code.\n",
    "\n",
    "\n",
    "### Review Questions\n",
    "\n",
    "1. What is a code block?\n",
    "<details>\n",
    "    <summary>Answer</summary>\n",
    "    A series of Python statements that are equally indented and executed together.\n",
    "</details>\n",
    "\n",
    "\n",
    "2. What does \"equally indented\" mean?\n",
    "<details>\n",
    "    <summary>Answer</summary>\n",
    "    The amount of indentation (whitespace) after the start of a row of characters is the same.\n",
    "</details>\n",
    "\n",
    "\n",
    "3. What can be in an `if` or `elif` condition?\n",
    "<details>\n",
    "    <summary>Answer</summary>\n",
    "    Any boolean expression including function calls.\n",
    "</details>\n",
    "\n",
    "\n",
    "4. What is the difference between `if` and `elif`?\n",
    "<details>\n",
    "    <summary>Answer</summary>\n",
    "    <code>elif</code> is just short for an <code>else</code> followed by an <code>if</code>\n",
    "</details>"
   ]
  },
  {
   "cell_type": "markdown",
   "metadata": {},
   "source": [
    "## 4.6 References\n",
    "\n",
    "1. Zen of Python: https://www.python.org/dev/peps/pep-0020/\n",
    "\n",
    "## 4.7 Next session\n",
    "\n",
    "Go to our [next chapter](05_Lists_Tuples.ipynb). "
   ]
  },
  {
   "cell_type": "code",
   "execution_count": null,
   "metadata": {},
   "outputs": [],
   "source": []
  }
 ],
 "metadata": {
  "kernelspec": {
   "display_name": "Python 3",
   "language": "python",
   "name": "python3"
  },
  "language_info": {
   "codemirror_mode": {
    "name": "ipython",
    "version": 3
   },
   "file_extension": ".py",
   "mimetype": "text/x-python",
   "name": "python",
   "nbconvert_exporter": "python",
   "pygments_lexer": "ipython3",
   "version": "3.9.2"
  }
 },
 "nbformat": 4,
 "nbformat_minor": 4
}
