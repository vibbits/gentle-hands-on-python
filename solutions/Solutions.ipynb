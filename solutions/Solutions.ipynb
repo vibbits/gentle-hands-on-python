{
 "cells": [
  {
   "cell_type": "markdown",
   "metadata": {},
   "source": [
    "# Solutions"
   ]
  },
  {
   "cell_type": "markdown",
   "metadata": {},
   "source": [
    "---\n",
    "### 2.6.1 Exercises\n",
    "\n",
    "Write a program where you ask for a number, convert it to an integer, and print out in a formatted string what your number is.\n",
    "\n",
    "---"
   ]
  },
  {
   "cell_type": "code",
   "execution_count": 3,
   "metadata": {},
   "outputs": [
    {
     "name": "stdout",
     "output_type": "stream",
     "text": [
      "Give me a number:5\n"
     ]
    },
    {
     "data": {
      "text/plain": [
       "'My number in integer form is 5'"
      ]
     },
     "execution_count": 3,
     "metadata": {},
     "output_type": "execute_result"
    }
   ],
   "source": [
    "myFloatString = input(\"Give me a number:\")\n",
    "myInteger = int(float(myFloatString))\n",
    "f\"My number in integer form is {myInteger}\""
   ]
  },
  {
   "cell_type": "markdown",
   "metadata": {},
   "source": [
    "---\n",
    "### 2.6.2 Exercises\n",
    "\n",
    "See what happens if you try to print a float as an integer, and an integer as a string. \n",
    "\n",
    "---"
   ]
  },
  {
   "cell_type": "code",
   "execution_count": 10,
   "metadata": {},
   "outputs": [
    {
     "name": "stdout",
     "output_type": "stream",
     "text": [
      "My float as integer 11\n",
      "My integer as string 12\n"
     ]
    }
   ],
   "source": [
    "myFloat = 11.4\n",
    "print(f\"My float as integer {int(myFloat)}\")\n",
    "#This works\n",
    "\n",
    "myInt  = 12\n",
    "print(f\"My integer as string {str(myInt)}\")\n",
    "#This works as well... but:\n",
    "\n",
    "myString = \"aa\"\n",
    "#print(f\"My string as float {float(myString)}\")\n",
    "#will fail and give a TypeError - Python cannot convert \"aa\" into a float."
   ]
  },
  {
   "cell_type": "markdown",
   "metadata": {},
   "source": [
    "----\n",
    "## 3.2.1 Exercise\n",
    "Try to print the text: *Percent of alignment: 100%* using a formatting character for the number 100. If this worked out succesfully, try to align it explicitly to the right with five whitespaces. \n",
    "\n",
    "----"
   ]
  },
  {
   "cell_type": "code",
   "execution_count": 7,
   "metadata": {},
   "outputs": [
    {
     "name": "stdout",
     "output_type": "stream",
     "text": [
      "Percent of alignment: 100%\n"
     ]
    }
   ],
   "source": [
    "# part 1\n",
    "print(f\"Percent of alignment: {100}%\")"
   ]
  },
  {
   "cell_type": "code",
   "execution_count": 8,
   "metadata": {},
   "outputs": [
    {
     "name": "stdout",
     "output_type": "stream",
     "text": [
      "Percent of alignment:      100%\n"
     ]
    }
   ],
   "source": [
    "# part 2\n",
    "print(f\"Percent of alignment: {100:>8}%\")"
   ]
  },
  {
   "cell_type": "markdown",
   "metadata": {},
   "source": [
    "\n",
    "---\n",
    "### 4.3.1 Exercise\n",
    "\n",
    "Write a program where you ask the user for x and y, make sure that y is not zero, and print out x/y. \n",
    "\n",
    "---"
   ]
  },
  {
   "cell_type": "code",
   "execution_count": 11,
   "metadata": {},
   "outputs": [
    {
     "name": "stdout",
     "output_type": "stream",
     "text": [
      "Give a number: 5\n",
      "Give another number that is not zero: 3\n",
      "x divided by y = 1.67\n"
     ]
    }
   ],
   "source": [
    "# Write a program where you ask the user for x and y, make sure that y is not zero, and print out x/y. \n",
    "\n",
    "xString = input(\"Give a number: \")\n",
    "yString = input(\"Give another number that is not zero: \")\n",
    "\n",
    "x = float(xString)\n",
    "y = float(yString)\n",
    "\n",
    "if y == 0:\n",
    "    print(\"Error, you're y-number is 0\")\n",
    "if y != 0:\n",
    "    result = x/y\n",
    "    print(f\"x divided by y = {result:.2f}\")"
   ]
  },
  {
   "cell_type": "markdown",
   "metadata": {},
   "source": [
    "\n",
    "---\n",
    "### 4.4.1 Exercise\n",
    "\n",
    "Write a program where you ask the user for two words. Compare the words; if they are the same, print a message, if the first or second word is 'Stop', then also print a message. \n",
    "\n",
    "---"
   ]
  },
  {
   "cell_type": "code",
   "execution_count": null,
   "metadata": {},
   "outputs": [],
   "source": [
    "# Write a program where you ask the user for two words. Compare the words; if they are the same, print a message, if the first or second word is 'Stop', then also print a message.\n",
    "print(\"Give two words.\")\n",
    "firstWord = input(\"Write a word: \")\n",
    "secondWord = input(\"Write another word: \")\n",
    "\n",
    "if firstWord.lower() == 'stop':\n",
    "    print('First word is stop, so we stopped')\n",
    "elif secondWord.lower() == 'stop':\n",
    "    print('Second word is stop, so we stopped')\n",
    "elif firstWord.lower() == secondWord.lower():\n",
    "    print('Both words are the same')"
   ]
  },
  {
   "cell_type": "markdown",
   "metadata": {},
   "source": [
    "---\n",
    "### 4.4.2 Exercise\n",
    "\n",
    "Modify the code above so it prints that it is divisible by two and three when this is the case.\n",
    "\n",
    "---"
   ]
  },
  {
   "cell_type": "code",
   "execution_count": 3,
   "metadata": {},
   "outputs": [
    {
     "name": "stdout",
     "output_type": "stream",
     "text": [
      "x is not divisible by two, nor by three...\n",
      "x=13\n"
     ]
    }
   ],
   "source": [
    "# Solution with if-elif-else structure. \n",
    "x = 13\n",
    "\n",
    "if (x % 2) == 0 and (x % 3) == 0:\n",
    "    print(\"x is divisible by two and three!\")\n",
    "elif (x % 2) == 0:\n",
    "    print(\"x is divisible by two!\")\n",
    "elif (x % 3) == 0:\n",
    "    print(\"x is divisible by three!\")\n",
    "else:\n",
    "    print(\"x is not divisible by two, nor by three...\")\n",
    "\n",
    "print (f\"{x=}\")"
   ]
  },
  {
   "cell_type": "code",
   "execution_count": 2,
   "metadata": {},
   "outputs": [
    {
     "name": "stdout",
     "output_type": "stream",
     "text": [
      "x is divisible by two!\n",
      "x is divisible by three!\n",
      "x=12\n"
     ]
    }
   ],
   "source": [
    "# Solution with nested if structures\n",
    "x = 12\n",
    " \n",
    "if (x % 2) == 0:\n",
    "    print(\"x is divisible by two!\")\n",
    "    if (x % 3) == 0:\n",
    "        print(\"x is divisible by three!\")\n",
    "elif (x % 3) == 0:\n",
    "    print(\"x is divisible by three!\")\n",
    "else:\n",
    "    print(\"x is not divisible by two or three...\")\n",
    "\n",
    "print (f\"{x=}\")"
   ]
  },
  {
   "cell_type": "markdown",
   "metadata": {},
   "source": [
    "---\n",
    "### 5.2.1 Exercise\n",
    "\n",
    "Take the list [54,56,2,1,5223,6,23,57,3,7,3344], sort it in reverse order (largest value first) and print out the third value.\n",
    "\n",
    "---"
   ]
  },
  {
   "cell_type": "code",
   "execution_count": null,
   "metadata": {},
   "outputs": [],
   "source": [
    "# Take the list [54,56,2,1,5223,6,23,57,3,7,3344], sort it in reverse order (largest value first) and print out the third value.\n",
    "myList = [54,56,2,1,5223,6,23,57,3,7,3344]\n",
    "\n",
    "myList.sort()\n",
    "myList.reverse()\n",
    "\n",
    "print(myList[2])\n",
    "#The first element is at index 0, the third at index 3!"
   ]
  },
  {
   "cell_type": "markdown",
   "metadata": {},
   "source": [
    "---\n",
    "### 5.3.1 Exercise\n",
    "\n",
    "Start with the tuple ('a','B','c','D','e','F'), sort it, take the fourth value out, and print the result.\n",
    "\n",
    "---"
   ]
  },
  {
   "cell_type": "code",
   "execution_count": 16,
   "metadata": {},
   "outputs": [
    {
     "name": "stdout",
     "output_type": "stream",
     "text": [
      "Removing a\n",
      "Result is ('B', 'D', 'F', 'c', 'e')\n",
      "Result is ['B', 'D', 'F', 'c', 'e']\n"
     ]
    }
   ],
   "source": [
    "# Start with the tuple ('a','B','c','D','e','F'), sort it, take the fourth value out, and print the result.\n",
    "myTuple = ('a','B','c','D','e','F')\n",
    "myList = list(myTuple)\n",
    "myList.sort()\n",
    "#print(myList)\n",
    "\n",
    "print (f\"Removing {myList.pop(3)}\")\n",
    "print (f\"Result is {tuple(myList)}\")\n",
    "print (f\"Result is {myList}\")"
   ]
  },
  {
   "cell_type": "markdown",
   "metadata": {},
   "source": [
    "---\n",
    "### 5.4.1 Exercise\n",
    "\n",
    "Ask the user for two words, then check whether they are the same (upper or lower case should not matter),if not check whether they have the same first letter (again case should not matter). If not, then print their length. \n",
    "\n",
    "---"
   ]
  },
  {
   "cell_type": "code",
   "execution_count": 17,
   "metadata": {},
   "outputs": [
    {
     "name": "stdout",
     "output_type": "stream",
     "text": [
      "Give first word:fjdkmq\n",
      "Give second word:jdqs\n",
      "6\n",
      "Word lengths are 6 and 4\n"
     ]
    }
   ],
   "source": [
    "# Ask the user for two words, then check whether they are the same (upper or lower case should not matter),if not check whether they have the same first letter (again case should not matter). If not, then print their length. \n",
    "firstWord = input(\"Give first word:\")\n",
    "secondWord = input(\"Give second word:\")\n",
    "\n",
    "if firstWord.upper() == secondWord.upper():\n",
    "    print(\"Words are the same (ignoring case).\")\n",
    "elif firstWord[0].upper() == secondWord[0].upper():\n",
    "    print(\"Words share the same first letter (ignoring case).\")\n",
    "else:\n",
    "    print(f\"Word lengths are {len(firstWord)} and {len(secondWord)}\")"
   ]
  },
  {
   "cell_type": "markdown",
   "metadata": {},
   "source": [
    "---\n",
    "### 5.5.1 Exercise\n",
    "\n",
    "Which letters are shared between the words \"perspicacious\" and \"circumlocution\"?\n",
    "\n",
    "---"
   ]
  },
  {
   "cell_type": "code",
   "execution_count": 4,
   "metadata": {},
   "outputs": [
    {
     "data": {
      "text/plain": [
       "{'c', 'i', 'o', 'r', 'u'}"
      ]
     },
     "execution_count": 4,
     "metadata": {},
     "output_type": "execute_result"
    }
   ],
   "source": [
    "set(\"perspicacious\").intersection(set(\"circumlocution\"))"
   ]
  },
  {
   "cell_type": "markdown",
   "metadata": {},
   "source": [
    "---\n",
    "### 6.2.1 Exercise\n",
    "\n",
    "Write a program where you print out all positive numbers up to 1000 that can be divided by 13, or 17, or both. \n",
    "The output should be printed as : `Number 13 is divisible by 13`, or `Number 884 is divisible by 13 and 17`. \n",
    "Iterate through the list of numbers and the dividers by using (two) for-loops; one for the numbers and one for the dividers.\n",
    "\n",
    "---"
   ]
  },
  {
   "cell_type": "code",
   "execution_count": 18,
   "metadata": {},
   "outputs": [
    {
     "name": "stdout",
     "output_type": "stream",
     "text": [
      "Number 13 is divisible by 13\n",
      "Number 17 is divisible by 17\n",
      "Number 26 is divisible by 13\n",
      "Number 34 is divisible by 17\n",
      "Number 39 is divisible by 13\n",
      "Number 51 is divisible by 17\n",
      "Number 52 is divisible by 13\n",
      "Number 65 is divisible by 13\n",
      "Number 68 is divisible by 17\n",
      "Number 78 is divisible by 13\n",
      "Number 85 is divisible by 17\n",
      "Number 91 is divisible by 13\n",
      "Number 102 is divisible by 17\n",
      "Number 104 is divisible by 13\n",
      "Number 117 is divisible by 13\n",
      "Number 119 is divisible by 17\n",
      "Number 130 is divisible by 13\n",
      "Number 136 is divisible by 17\n",
      "Number 143 is divisible by 13\n",
      "Number 153 is divisible by 17\n",
      "Number 156 is divisible by 13\n",
      "Number 169 is divisible by 13\n",
      "Number 170 is divisible by 17\n",
      "Number 182 is divisible by 13\n",
      "Number 187 is divisible by 17\n",
      "Number 195 is divisible by 13\n",
      "Number 204 is divisible by 17\n",
      "Number 208 is divisible by 13\n",
      "Number 221 is divisible by 13 and 17\n",
      "Number 234 is divisible by 13\n",
      "Number 238 is divisible by 17\n",
      "Number 247 is divisible by 13\n",
      "Number 255 is divisible by 17\n",
      "Number 260 is divisible by 13\n",
      "Number 272 is divisible by 17\n",
      "Number 273 is divisible by 13\n",
      "Number 286 is divisible by 13\n",
      "Number 289 is divisible by 17\n",
      "Number 299 is divisible by 13\n",
      "Number 306 is divisible by 17\n",
      "Number 312 is divisible by 13\n",
      "Number 323 is divisible by 17\n",
      "Number 325 is divisible by 13\n",
      "Number 338 is divisible by 13\n",
      "Number 340 is divisible by 17\n",
      "Number 351 is divisible by 13\n",
      "Number 357 is divisible by 17\n",
      "Number 364 is divisible by 13\n",
      "Number 374 is divisible by 17\n",
      "Number 377 is divisible by 13\n",
      "Number 390 is divisible by 13\n",
      "Number 391 is divisible by 17\n",
      "Number 403 is divisible by 13\n",
      "Number 408 is divisible by 17\n",
      "Number 416 is divisible by 13\n",
      "Number 425 is divisible by 17\n",
      "Number 429 is divisible by 13\n",
      "Number 442 is divisible by 13 and 17\n",
      "Number 455 is divisible by 13\n",
      "Number 459 is divisible by 17\n",
      "Number 468 is divisible by 13\n",
      "Number 476 is divisible by 17\n",
      "Number 481 is divisible by 13\n",
      "Number 493 is divisible by 17\n",
      "Number 494 is divisible by 13\n",
      "Number 507 is divisible by 13\n",
      "Number 510 is divisible by 17\n",
      "Number 520 is divisible by 13\n",
      "Number 527 is divisible by 17\n",
      "Number 533 is divisible by 13\n",
      "Number 544 is divisible by 17\n",
      "Number 546 is divisible by 13\n",
      "Number 559 is divisible by 13\n",
      "Number 561 is divisible by 17\n",
      "Number 572 is divisible by 13\n",
      "Number 578 is divisible by 17\n",
      "Number 585 is divisible by 13\n",
      "Number 595 is divisible by 17\n",
      "Number 598 is divisible by 13\n",
      "Number 611 is divisible by 13\n",
      "Number 612 is divisible by 17\n",
      "Number 624 is divisible by 13\n",
      "Number 629 is divisible by 17\n",
      "Number 637 is divisible by 13\n",
      "Number 646 is divisible by 17\n",
      "Number 650 is divisible by 13\n",
      "Number 663 is divisible by 13 and 17\n",
      "Number 676 is divisible by 13\n",
      "Number 680 is divisible by 17\n",
      "Number 689 is divisible by 13\n",
      "Number 697 is divisible by 17\n",
      "Number 702 is divisible by 13\n",
      "Number 714 is divisible by 17\n",
      "Number 715 is divisible by 13\n",
      "Number 728 is divisible by 13\n",
      "Number 731 is divisible by 17\n",
      "Number 741 is divisible by 13\n",
      "Number 748 is divisible by 17\n",
      "Number 754 is divisible by 13\n",
      "Number 765 is divisible by 17\n",
      "Number 767 is divisible by 13\n",
      "Number 780 is divisible by 13\n",
      "Number 782 is divisible by 17\n",
      "Number 793 is divisible by 13\n",
      "Number 799 is divisible by 17\n",
      "Number 806 is divisible by 13\n",
      "Number 816 is divisible by 17\n",
      "Number 819 is divisible by 13\n",
      "Number 832 is divisible by 13\n",
      "Number 833 is divisible by 17\n",
      "Number 845 is divisible by 13\n",
      "Number 850 is divisible by 17\n",
      "Number 858 is divisible by 13\n",
      "Number 867 is divisible by 17\n",
      "Number 871 is divisible by 13\n",
      "Number 884 is divisible by 13 and 17\n",
      "Number 897 is divisible by 13\n",
      "Number 901 is divisible by 17\n",
      "Number 910 is divisible by 13\n",
      "Number 918 is divisible by 17\n",
      "Number 923 is divisible by 13\n",
      "Number 935 is divisible by 17\n",
      "Number 936 is divisible by 13\n",
      "Number 949 is divisible by 13\n",
      "Number 952 is divisible by 17\n",
      "Number 962 is divisible by 13\n",
      "Number 969 is divisible by 17\n",
      "Number 975 is divisible by 13\n",
      "Number 986 is divisible by 17\n",
      "Number 988 is divisible by 13\n"
     ]
    }
   ],
   "source": [
    "numbers = range(1,1001)\n",
    "dividers = [13,17]\n",
    "\n",
    "for number in numbers:\n",
    "    validDividers = []\n",
    "    for divider in dividers:\n",
    "        if number % divider == 0:\n",
    "            validDividers.append(divider)\n",
    "\n",
    "    if len(validDividers) == 1:\n",
    "        print(f\"Number {number} is divisible by {validDividers[0]}\")\n",
    "    elif len(validDividers) == 2:\n",
    "        print(f\"Number {number} is divisible by {validDividers[0]} and {validDividers[1]}\") "
   ]
  },
  {
   "cell_type": "markdown",
   "metadata": {},
   "source": [
    "---\n",
    "### 6.2.2 Exercise\n",
    "\n",
    "Write a program where you find, for each positive number up to 50, all numbers that can divide each number. E.g. 16 can be divided by 1, 2, 4, 8 and 16. 17 can be divided by... \n",
    "\n",
    "It's fine if you print the output like this: \n",
    "```\n",
    "Number 1 can be divided by 1!\n",
    "Number 2 can be divided by 1!\n",
    "Number 2 can be divided by 2!\n",
    "Number 3 can be divided by 1!\n",
    "```\n",
    "However, you can also try to print the output like this:\n",
    "```\n",
    "Number 4 can be divided by 1, 2, 4!\n",
    "```\n",
    "\n",
    "---"
   ]
  },
  {
   "cell_type": "code",
   "execution_count": null,
   "metadata": {},
   "outputs": [],
   "source": [
    "# Write a program where you find, for each positive number up to 50, all numbers that can divide each number. E.g. 16 can be divided by 1, 2, 4, 8 and 16. 17 can be divided by...\n",
    "myNumbers = range(1,51) \n",
    " \n",
    "for x in myNumbers:\n",
    "    dividers = []\n",
    "    for y in range(1, x+1):\n",
    "        if (x % y) == 0:\n",
    "            dividers.append(y)\n",
    " \n",
    "    for divider in dividers:\n",
    "        print (f\"Number {x} can be divided by {divider}!\")"
   ]
  },
  {
   "cell_type": "code",
   "execution_count": 19,
   "metadata": {},
   "outputs": [
    {
     "name": "stdout",
     "output_type": "stream",
     "text": [
      "Number 1 can be divided by 1!\n",
      "Number 2 can be divided by 1, 2!\n",
      "Number 3 can be divided by 1, 3!\n",
      "Number 4 can be divided by 1, 2, 4!\n",
      "Number 5 can be divided by 1, 5!\n",
      "Number 6 can be divided by 1, 2, 3, 6!\n",
      "Number 7 can be divided by 1, 7!\n",
      "Number 8 can be divided by 1, 2, 4, 8!\n",
      "Number 9 can be divided by 1, 3, 9!\n",
      "Number 10 can be divided by 1, 2, 5, 10!\n",
      "Number 11 can be divided by 1, 11!\n",
      "Number 12 can be divided by 1, 2, 3, 4, 6, 12!\n",
      "Number 13 can be divided by 1, 13!\n",
      "Number 14 can be divided by 1, 2, 7, 14!\n",
      "Number 15 can be divided by 1, 3, 5, 15!\n",
      "Number 16 can be divided by 1, 2, 4, 8, 16!\n",
      "Number 17 can be divided by 1, 17!\n",
      "Number 18 can be divided by 1, 2, 3, 6, 9, 18!\n",
      "Number 19 can be divided by 1, 19!\n",
      "Number 20 can be divided by 1, 2, 4, 5, 10, 20!\n",
      "Number 21 can be divided by 1, 3, 7, 21!\n",
      "Number 22 can be divided by 1, 2, 11, 22!\n",
      "Number 23 can be divided by 1, 23!\n",
      "Number 24 can be divided by 1, 2, 3, 4, 6, 8, 12, 24!\n",
      "Number 25 can be divided by 1, 5, 25!\n",
      "Number 26 can be divided by 1, 2, 13, 26!\n",
      "Number 27 can be divided by 1, 3, 9, 27!\n",
      "Number 28 can be divided by 1, 2, 4, 7, 14, 28!\n",
      "Number 29 can be divided by 1, 29!\n",
      "Number 30 can be divided by 1, 2, 3, 5, 6, 10, 15, 30!\n",
      "Number 31 can be divided by 1, 31!\n",
      "Number 32 can be divided by 1, 2, 4, 8, 16, 32!\n",
      "Number 33 can be divided by 1, 3, 11, 33!\n",
      "Number 34 can be divided by 1, 2, 17, 34!\n",
      "Number 35 can be divided by 1, 5, 7, 35!\n",
      "Number 36 can be divided by 1, 2, 3, 4, 6, 9, 12, 18, 36!\n",
      "Number 37 can be divided by 1, 37!\n",
      "Number 38 can be divided by 1, 2, 19, 38!\n",
      "Number 39 can be divided by 1, 3, 13, 39!\n",
      "Number 40 can be divided by 1, 2, 4, 5, 8, 10, 20, 40!\n",
      "Number 41 can be divided by 1, 41!\n",
      "Number 42 can be divided by 1, 2, 3, 6, 7, 14, 21, 42!\n",
      "Number 43 can be divided by 1, 43!\n",
      "Number 44 can be divided by 1, 2, 4, 11, 22, 44!\n",
      "Number 45 can be divided by 1, 3, 5, 9, 15, 45!\n",
      "Number 46 can be divided by 1, 2, 23, 46!\n",
      "Number 47 can be divided by 1, 47!\n",
      "Number 48 can be divided by 1, 2, 3, 4, 6, 8, 12, 16, 24, 48!\n",
      "Number 49 can be divided by 1, 7, 49!\n",
      "Number 50 can be divided by 1, 2, 5, 10, 25, 50!\n"
     ]
    }
   ],
   "source": [
    "# The output is again not very nice here, you can replace the last two lines by this for nicer output:\n",
    "myNumbers = range(1,51)\n",
    " \n",
    "for x in myNumbers:\n",
    "    dividers = []\n",
    "    for y in range(1, x+1):\n",
    "        if (x % y) == 0:\n",
    "            dividers.append(y)\n",
    " \n",
    "    #for divider in dividers:\n",
    "    dividerList = \", \".join([str(divider) for divider in dividers])\n",
    "        \n",
    "    print (f\"Number {x} can be divided by {dividerList}!\")"
   ]
  },
  {
   "cell_type": "markdown",
   "metadata": {},
   "source": [
    "---\n",
    "\n",
    "### 6.3.1 Exercise\n",
    "Can you think of a clearer way to write either (or both) of the above snippets with what you've learned so far?\n",
    "\n",
    "---"
   ]
  },
  {
   "cell_type": "code",
   "execution_count": 1,
   "metadata": {},
   "outputs": [
    {
     "data": {
      "text/plain": [
       "55"
      ]
     },
     "execution_count": 1,
     "metadata": {},
     "output_type": "execute_result"
    }
   ],
   "source": [
    "sum(range(1, 11))"
   ]
  },
  {
   "cell_type": "code",
   "execution_count": 2,
   "metadata": {},
   "outputs": [
    {
     "data": {
      "text/plain": [
       "'Hello,world,'"
      ]
     },
     "execution_count": 2,
     "metadata": {},
     "output_type": "execute_result"
    }
   ],
   "source": [
    "','.join(myList) + ','"
   ]
  },
  {
   "cell_type": "markdown",
   "metadata": {},
   "source": [
    "---\n",
    "### 6.3.2 Exercise\n",
    "\n",
    "Try to reproduce a for-loop (the example of numbers divisible by 17) by using a while-loop.\n",
    "\n",
    "---"
   ]
  },
  {
   "cell_type": "code",
   "execution_count": 20,
   "metadata": {},
   "outputs": [
    {
     "name": "stdout",
     "output_type": "stream",
     "text": [
      "17 is divisible by 17\n",
      "34 is divisible by 17\n"
     ]
    }
   ],
   "source": [
    "# Try to reproduce a for-loop (the example of numbers divisible by 17) by using a while-loop.\n",
    "myNumber = 1\n",
    "myDivider = 17\n",
    "\n",
    "while myNumber <= 50:\n",
    "    if (myNumber % myDivider) == 0: # Nothing left after division, so number is divisible.\n",
    "        print(f\"{myNumber} is divisible by {myDivider}\")\n",
    "    myNumber += 1"
   ]
  },
  {
   "cell_type": "markdown",
   "metadata": {},
   "source": [
    "---\n",
    "### 6.3.3 Exercise\n",
    "\n",
    "Write a program where you start with a list of numbers from 1 to 100, and you then remove every number from this list that can be divided by 3 or by 5. Print the result.  \n",
    "Tip: you have to make a copy of the original list here, otherwise Python will get 'confused' when you remove values from the list while it's looping over it. Use `[:]` for this purpose.  \n",
    "\n",
    "---"
   ]
  },
  {
   "cell_type": "code",
   "execution_count": null,
   "metadata": {},
   "outputs": [],
   "source": [
    "myNumberList = list(range(1,101))\n",
    "\n",
    "for number in myNumberList[:]:  \n",
    "    if (number % 3) == 0 or (number % 5) == 0:\n",
    "        myNumberList.pop(myNumberList.index(number))\n",
    "\n",
    "print(myNumberList)"
   ]
  },
  {
   "cell_type": "markdown",
   "metadata": {},
   "source": [
    "---\n",
    "### 6.3.4 Exercise\n",
    "\n",
    "Write a program where you ask the user for an integer (whole number), and keep on asking if they give the wrong input. Check whether the number can be divided by 7, and print the result.\n",
    "\n",
    "---"
   ]
  },
  {
   "cell_type": "code",
   "execution_count": null,
   "metadata": {},
   "outputs": [],
   "source": [
    "# Write a program where you ask the user for an integer (whole number), and keep on asking if they give the wrong input. Check whether the number can be divided by 7, and print the result.\n",
    "myNumberList = range(1,101)\n",
    " \n",
    "# Keep on checking until you have a number, prime the while loop as well\n",
    "isNumber = False\n",
    "while isNumber == False:\n",
    "    inputString = input(\"Give a number:\")\n",
    "    if inputString.isdigit():\n",
    "        isNumber = True\n",
    "        number = int(inputString)\n",
    "    else:\n",
    "        print(\"Incorrect, not a whole number, try again.\")\n",
    "    if not (number % 7):\n",
    "        print(f\"{number} can be divided by 7!\")\n",
    "    else: \n",
    "        print(\"Number not divisible by 7\")"
   ]
  },
  {
   "cell_type": "markdown",
   "metadata": {},
   "source": [
    "### 7. Homework exercise\n",
    "Write a program that does the following:\n",
    "\n",
    "1. Ask the user for a full DNA sequence\n",
    "    - Make sure the sequence contains only GACT\n",
    "2. Once you have a valid sequence\n",
    "    - For each DNA fragment the user enters:\n",
    "        - Check if it occurs in the full sequence\n",
    "        - Print out the sequence position if so\n",
    "        - Track each fragment\n",
    "    - Keep on asking the user for DNA fragments, stop if they just press return\n",
    "3. As a summary, print out all fragments with their position that you tracked\n",
    "\n",
    "Tips to complete this exercise in case you get stuck.\n",
    "- Use while loops: you can use the condition to decide when to end the loop depending on the user input\n",
    "- Track the sequence fragment and position data using a list\n",
    "- Use string methods!\n",
    "- To check the full DNA sequence, you can count how many times each GACT letter occurs, add up these counts, and compare this value to the total length of the full DNA sequence"
   ]
  },
  {
   "cell_type": "code",
   "execution_count": null,
   "metadata": {},
   "outputs": [],
   "source": [
    "# This variable will be used for the while loop\n",
    "validSequence = False\n",
    " \n",
    "# Keep on going as long as the DNA sequence is not valid\n",
    "while not validSequence:\n",
    "    # Get a string from the user\n",
    "    fullDnaSequence = input(\"Please enter your full DNA sequence:\")\n",
    "    fullDnaSequence = fullDnaSequence.upper()\n",
    "    \n",
    "    # Count the GACT characters in the sequence\n",
    "    gactCount = 0\n",
    "    for code in 'GACT':\n",
    "        gactCount += fullDnaSequence.count(code)\n",
    " \n",
    "    # Check if the number of GACT characters matches the full length of the sequence\n",
    "    # and set validSequence to True if so - this will stop the while: loop\n",
    "    if gactCount == len(fullDnaSequence):\n",
    "        validSequence = True\n",
    "    else:\n",
    "        print(\"\\nInvalid sequence, only GACT allowed, try again!.\\n\")\n",
    "\n",
    "# Print some line breaks\n",
    "print(\"\\n\\n\")\n",
    " \n",
    "# Prime the list to track the DNA fragments and the variable for the while loop\n",
    "dnaFragmentInfo = []\n",
    "dnaFragment = input(\"Please give a DNA fragment to check:\")\n",
    " \n",
    "while dnaFragment:\n",
    "    \n",
    "    # Check if present at all\n",
    "    dnaFragmentCount = fullDnaSequence.count(dnaFragment)\n",
    "    if dnaFragmentCount:\n",
    "        currentDnaSequenceIndex = 0\n",
    "        for i in range(dnaFragmentCount):        \n",
    "            # Equivalent to currentDnaSequenceIndex = currentDnaSequenceIndex + fullDna...\n",
    "            currentDnaSequenceIndex += fullDnaSequence[currentDnaSequenceIndex:].index(dnaFragment)\n",
    " \n",
    "            print(f\"\\n  Fragment {dnaFragment} present at position {currentDnaSequenceIndex + 1}.\\n\")\n",
    "            dnaFragmentInfo.append((currentDnaSequenceIndex + 1,dnaFragment))\n",
    "            currentDnaSequenceIndex += 1\n",
    "    else:\n",
    "        print(f\"\\n  Fragment {dnaFragment} not present!\\n\")\n",
    " \n",
    "    dnaFragment = input(\"Please give a DNA fragment to check:\")\n",
    "\n",
    "# Print some line breaks\n",
    "print(\"\\n\\n\")\n",
    "\n",
    "# Print out the fragment information again, first sort it\n",
    "dnaFragmentInfo.sort()\n",
    "for (dnaFragmentPosition,dnaFragment) in dnaFragmentInfo:\n",
    "    print(f\"Found {dnaFragment} at position {dnaFragmentPosition}\")"
   ]
  },
  {
   "cell_type": "markdown",
   "metadata": {},
   "source": [
    "---\n",
    "### 8.2.1 Exercise\n",
    "\n",
    "Use a dictionary to track how many times each amino acid code appears in the following sequence:\n",
    "```\n",
    "SFTMHGTPVVNQVKVLTESNRISHHKILAIVGTAESNSEHPLGTAITKYCKQELDTETLGTCIDFQVVPGCGISCKVTNIEGLLHKNNWNIED  \n",
    "NNIKNASLVQIDASNEQSSTSSSMIIDAQISNALNAQQYKVLIGNREWMIRNGLVINNDVNDFMTEHERKGRTAVLVAVDDELCGLIAIADT\n",
    "```\n",
    "Tip: use the one-letter code as key in the dictionary, and the count as value.\n",
    "\n",
    "---"
   ]
  },
  {
   "cell_type": "code",
   "execution_count": null,
   "metadata": {},
   "outputs": [],
   "source": [
    "# Another solution where we make a new dictionary with all the counted occurences of each value. \n",
    "mySequence = \"SFTMHGTPVVNQVKVLTESNRISHHKILAIVGTAESNSEHPLGTAITKYCKQELDTETLGTCIDFQVVPGCGISCKVTNIEGLLHKNNWNIEDNNIKNASLVQIDASNEQSSTSSSMIIDAQISNALNAQQYKVLIGNREWMIRNGLVINNDVNDFMTEHERKGRTAVLVAVDDELCGLIAIADT\"\n",
    "\n",
    "myDictionary = {\n",
    "     'A': 'Ala',\n",
    "     'C': 'Cys',\n",
    "     'D': 'Asp',\n",
    "     'E': 'Glu',\n",
    "     'F': 'Phe',\n",
    "     'G': 'Gly',\n",
    "     'H': 'His',\n",
    "     'I': 'Ile',\n",
    "     'K': 'Lys',\n",
    "     'L': 'Leu',\n",
    "     'M': 'Met',\n",
    "     'N': 'Asn',\n",
    "     'P': 'Pro',\n",
    "     'Q': 'Gln',\n",
    "     'R': 'Arg',\n",
    "     'S': 'Ser',\n",
    "     'T': 'Thr',\n",
    "     'V': 'Val',\n",
    "     'W': 'Trp',\n",
    "     'Y': 'Tyr'}\n",
    "\n",
    "\n",
    "for letter in list(myDictionary.keys()):\n",
    "    countLetter = mySequence.count(letter)\n",
    "    print(letter, countLetter)"
   ]
  },
  {
   "cell_type": "code",
   "execution_count": null,
   "metadata": {},
   "outputs": [],
   "source": [
    "# Another solution where we make a new dictionary with all the counted occurences of each value. \n",
    "newDict = dict()\n",
    "for letter in list(myDictionary.keys()):\n",
    "    countLetter = sequence.count(letter)\n",
    "    newDict[letter] = countLetter\n",
    "newDict  "
   ]
  },
  {
   "cell_type": "markdown",
   "metadata": {},
   "source": [
    "----\n",
    "### 9.3.1 Exercise\n",
    "Read in the file `data/TestFile.pdb`, and write out all lines that contain 'VAL' to a new file.\n",
    "\n",
    "----"
   ]
  },
  {
   "cell_type": "code",
   "execution_count": null,
   "metadata": {},
   "outputs": [],
   "source": [
    "# Read the file\n",
    "with open(\"data/TestFile.pdb\",\"r\") as f, open(\"data/fileWithVAL.pdb\",'w') as g:\n",
    "    # Loop over the lines\n",
    "    for line in f.readlines():\n",
    "        if line.startswith(\"ATOM\"):\n",
    "            if \"VAL\" in line:\n",
    "                g.write(line)\n",
    "\n",
    "with open(\"data/fileWithVAL.pdb\",'r') as h:\n",
    "    text = h.read()\n",
    "\n",
    "print(text)"
   ]
  },
  {
   "cell_type": "markdown",
   "metadata": {},
   "source": [
    "## 9.4 Advanced file reading and interpretation exercise \n",
    "Read in the TestFile.pdb atom coordinate file, print out the title of the file, and find all atoms that have coordinates closer than 2 angstrom to the (x,y,z) coordinate (-8.7,-7.7,4.7). Print out the model number, residue number, atom name and atom serial for each; the model is indicated by:\n",
    "```\n",
    "MODEL     1\n",
    "```\n",
    "lines, the atom coordinate information is in:\n",
    "```\n",
    "ATOM      1  N   ASP A   1     -10.341  -9.922   9.398  1.00  0.00           N\n",
    "```\n",
    "lines, where column 1 is always ATOM, column 2 is the atom serial,  column 3 the atom name, column 4 the residue name, column 5 the chain code, column 6 the residue number, followed by the x, y and z coordinates in angstrom in columns 7, 8 and 9.\n",
    "\n",
    "Note that the distance between two coordinates is calculated as the square root of (x1-x2)²+(y1-y2)²+(z1-z2)²."
   ]
  },
  {
   "cell_type": "code",
   "execution_count": 6,
   "metadata": {},
   "outputs": [
    {
     "name": "stdout",
     "output_type": "stream",
     "text": [
      "The title is 'SOLUTION STRUCTURE OF A NON-EXISTENT PEPTIDE'\n",
      "Model 1, residue 2, atom CA (serial 16) is 1.51 away from reference.\n",
      "Model 1, residue 2, atom CB (serial 19) is 0.06 away from reference.\n",
      "Model 1, residue 2, atom CG1 (serial 20) is 1.49 away from reference.\n",
      "Model 1, residue 2, atom CG2 (serial 21) is 1.57 away from reference.\n",
      "Model 1, residue 2, atom HB (serial 24) is 1.10 away from reference.\n",
      "Model 2, residue 2, atom CA (serial 16) is 1.92 away from reference.\n",
      "Model 2, residue 2, atom CB (serial 19) is 1.46 away from reference.\n",
      "Model 2, residue 2, atom CG1 (serial 20) is 0.89 away from reference.\n",
      "Model 2, residue 2, atom HG11 (serial 25) is 0.78 away from reference.\n",
      "Model 2, residue 2, atom HG12 (serial 26) is 1.57 away from reference.\n",
      "Model 2, residue 2, atom HG13 (serial 27) is 1.87 away from reference.\n",
      "Model 3, residue 2, atom CB (serial 19) is 1.56 away from reference.\n",
      "Model 3, residue 2, atom CG1 (serial 20) is 1.72 away from reference.\n",
      "Model 3, residue 2, atom CG2 (serial 21) is 1.40 away from reference.\n",
      "Model 3, residue 2, atom HG11 (serial 25) is 1.44 away from reference.\n",
      "Model 3, residue 2, atom HG21 (serial 28) is 1.55 away from reference.\n",
      "Model 3, residue 2, atom HG23 (serial 30) is 1.48 away from reference.\n"
     ]
    }
   ],
   "source": [
    "# Open the file\n",
    "with open(\"data/TestFile.pdb\") as fileHandle:\n",
    "    # Read all the lines in the file (as separated by a newline character), and store them in the lines list\n",
    "    # Each element in this list corresponds to one line of the file!\n",
    "    lines = fileHandle.readlines()\n",
    "\n",
    "# Initialise some information\n",
    "searchCoordinate = (-8.7,-7.7,4.7)\n",
    "modelNumber = None\n",
    " \n",
    "# Loop over the lines, and do some basic string manipulations\n",
    "for line in lines:\n",
    "    line = line.strip()  # Remove starting and trailing spaces/tabs/newlines\n",
    "    \n",
    "    # Only do something if it's not an empty line\n",
    "    if line:\n",
    "        cols = line.split()   # Split the line by white spaces; depending on the format this could be commas, ...\n",
    " \n",
    "    # Print the title\n",
    "    if cols[0] == 'TITLE':\n",
    "        title = line.replace(cols[0],'')\n",
    "        title = title.strip()\n",
    "        print(f\"The title is '{title}'\")\n",
    " \n",
    "    # Track the model number\n",
    "    elif cols[0] == 'MODEL':\n",
    "        modelNumber = int(cols[1])\n",
    " \n",
    "    # For atom lines, calculate the distance\n",
    "    elif cols[0] == 'ATOM':\n",
    " \n",
    "        # Set some clear variable names and convert to the right type\n",
    "        atomSerial = int(cols[1])\n",
    "        atomName = cols[2]\n",
    "        residueNumber = int(cols[5])\n",
    "        x = float(cols[6])\n",
    "        y = float(cols[7])\n",
    "        z = float(cols[8])\n",
    " \n",
    "        # Calculate the distance\n",
    "        distance = ((x - searchCoordinate[0]) ** 2 + (y - searchCoordinate[1]) ** 2 + (z - searchCoordinate[2]) ** 2 ) ** 0.5\n",
    "        if distance < 2.0:\n",
    "            print(f\"Model {modelNumber}, residue {residueNumber}, atom {atomName} (serial {atomSerial}) is {distance:.2f} away from reference.\")\n"
   ]
  },
  {
   "cell_type": "markdown",
   "metadata": {},
   "source": [
    "---\n",
    "### 10.2.1 Exercise\n",
    "\n",
    "The Hamming distance between two strings of equal length is the number of positions at which the corresponding character are different. In a more general context, the Hamming distance is one of several string metrics for measuring the edit distance between two sequences. \n",
    "\n",
    "The Hamming distance between:\n",
    "\n",
    "\"karolin\" and \"kathrin\" is 3.\n",
    "\n",
    "Write a function called \"hamming_distance\" which accepts two strings and raises an error if the lengths are unequal. Furthermore the function will return an integer that represents the number of mismatches between the two sequences. \n",
    "\n",
    "---"
   ]
  },
  {
   "cell_type": "code",
   "execution_count": null,
   "metadata": {},
   "outputs": [],
   "source": [
    "# string1 and string2 should be the same length.\n",
    "def hamming_distance(string1, string2): \n",
    "    \"\"\"Return the Hamming distance between equal-length sequences.\"\"\"\n",
    "    \n",
    "    if len(string1) != len(string2):\n",
    "        raise ValueError(\"Undefined for sequences of unequal length.\")\n",
    "    \n",
    "    # Start with a distance of zero, and count up\n",
    "    distance = 0\n",
    "    # Loop over the indices of the string\n",
    "    L = len(string1)\n",
    "    for i in range(L):\n",
    "        # Add 1 to the distance if these two characters are not equal\n",
    "        if string1[i] != string2[i]:\n",
    "            distance += 1\n",
    "    # Return the final count of differences\n",
    "    return distance\n",
    "\n",
    "seq1 = \"GATCATAGA\"\n",
    "seq2 = \"CATCATACA\"\n",
    "print(hamming_distance(seq1,seq2))"
   ]
  },
  {
   "cell_type": "code",
   "execution_count": null,
   "metadata": {},
   "outputs": [],
   "source": [
    "# with zip!\n",
    "def hamming_distance(string1, string2): \n",
    "    \"\"\"Return the Hamming distance between equal-length sequences.\"\"\"\n",
    "    \n",
    "    if len(string1) != len(string2):\n",
    "        raise ValueError(\"Undefined for sequences of unequal length.\")\n",
    "    \n",
    "    # Start with a distance of zero, and count up\n",
    "    distance = 0\n",
    "    for s1,s2 in zip(string1,string2):\n",
    "        if s1 != s2:\n",
    "            distance +=1\n",
    "    return distance\n",
    "\n",
    "seq1 = \"GATCATAGA\"\n",
    "seq2 = \"CATCATACA\"\n",
    "print(hamming_distance(seq1,seq2))"
   ]
  },
  {
   "cell_type": "markdown",
   "metadata": {},
   "source": [
    "---\n",
    "### 10.2.2 Exercise\n",
    "\n",
    "Write a function that calculates the GC content of the sequence in a fasta file. For this example you can use [this fasta file](data/gene.fa) which contains the genetic sequence of a bone gla protein. The function must accept a fasta file as input file and will print the following:\n",
    "\n",
    "```\n",
    "The GC content of HSBGPG Human gene for bone gla protein (BGP) is\t 63.53%\n",
    "```\n",
    "\n",
    "The method [.startswith()](https://www.tutorialspoint.com/python/string_startswith.html) might help. The function should read the lines of the fasta file and if it starts with a '>' define the text that comes afterwards as the sequence ID. The other lines are part of the sequence. After reading through the lines, you can easily define the GC content by counting the bases and taking the average. \n",
    "\n",
    "---"
   ]
  },
  {
   "cell_type": "code",
   "execution_count": null,
   "metadata": {},
   "outputs": [],
   "source": [
    "# solution one\n",
    "def gc_content(file):\n",
    "    \"\"\"Calculate GC content of a fasta file (with one sequence)\"\"\"\n",
    "    sequence=\"\"\n",
    "    with open(file, 'r') as f:\n",
    "        for line in f:\n",
    "            if line.startswith('>'):\n",
    "                seq_id = line.rstrip()[1:]\n",
    "            else:\n",
    "                sequence += line.rstrip()\n",
    "    GC_content = (sequence.count('G') + sequence.count('C')) / len(sequence) * 100\n",
    "    print(f\"The GC content of {seq_id} is\\t {GC_content:.2f}%\")    \n",
    "    return GC_content\n",
    "    \n",
    "gc_content('data/gene.fa')"
   ]
  },
  {
   "cell_type": "code",
   "execution_count": null,
   "metadata": {},
   "outputs": [],
   "source": [
    "# solution two - very similar to one. \n",
    "def gc_content(file):\n",
    "    f = open(file, 'r')\n",
    "    sequence=\"\"\n",
    "    for line in f.readlines():  \n",
    "        if line.startswith('>'):\n",
    "            seq_id = line.rstrip()[1:]\n",
    "        else:\n",
    "            sequence += line.rstrip()\n",
    "    GC_content = (sequence.count('G') + sequence.count('C')) / len(sequence) * 100\n",
    "    print(f\"The GC content of {seq_id} is\\t {GC_content:.2f}%\")    \n",
    "    return GC_content\n",
    "    \n",
    "gc_content('data/gene.fa')"
   ]
  },
  {
   "cell_type": "code",
   "execution_count": 25,
   "metadata": {},
   "outputs": [
    {
     "name": "stdout",
     "output_type": "stream",
     "text": [
      "The GC content of HSBGPG Human gene for bone gla protein (BGP) is     63.53%\n"
     ]
    }
   ],
   "source": [
    "# solution three: seperate concerns\n",
    "def fastaEntry(entry):\n",
    "    id, *data = entry.split('\\n')\n",
    "    return (id.split()[0], ''.join(data))\n",
    "\n",
    "def fastaFormat(data):\n",
    "    return (fastaEntry(entry) for entry in data.split('>') if len(entry) > 0)\n",
    "\n",
    "def computeRatio(select, target):\n",
    "    return sum((target.count(selector) for selector in select)) / len(target)\n",
    "\n",
    "with open('../data/gene.fa') as f:\n",
    "    fasta = f.read()\n",
    "\n",
    "for id, sequence in fastaFormat(fasta):\n",
    "    print(f\"The GC content of {id} Human gene for bone gla protein (BGP) is     {computeRatio('GC', sequence) * 100:.2f}%\")"
   ]
  },
  {
   "cell_type": "markdown",
   "metadata": {},
   "source": [
    "---\n",
    "### 10.2.1 Exercises\n",
    "\n",
    "Download [this matrix file](data/Matrix.txt) (`Matrix.txt`) and save it in your directory. Then write a function to read a matrix file in this format, reorder the rows by the values in the given column, and printing out the result. The function should take as argument a file name and a column number. \n",
    "\n",
    "---"
   ]
  },
  {
   "cell_type": "code",
   "execution_count": null,
   "metadata": {},
   "outputs": [],
   "source": [
    "def sortMatrixByColumn(fileName,columnNumber):\n",
    "    #\n",
    "    # Read the tab-delimited file and store the values\n",
    "    #\n",
    " \n",
    "    with open(fileName) as fin:\n",
    "        lines = fin.readlines()\n",
    " \n",
    "    #\n",
    "    # Convert the data from the file into a Python list\n",
    "    #\n",
    " \n",
    "    matrix = []\n",
    "\n",
    "    for matrixRow in lines:\n",
    "        # Tab-delimited, so split line by \\t - this will give a list of strings\n",
    "        matrixColumns = matrixRow.rstrip().split(\"\\t\") \n",
    " \n",
    "        # Add a row to the matrix\n",
    "        matrix.append([])\n",
    " \n",
    "        # Add the columns, but convert the strings from the file into a float\n",
    "        for matrixValue in matrixColumns:\n",
    "            matrix[-1].append(float(matrixValue))\n",
    " \n",
    "    #\n",
    "    # Now sort by column - but have to track the row number as well!\n",
    "    #\n",
    " \n",
    "    selectedColumnValues = []\n",
    " \n",
    "    for rowNumber in range(len(matrix)):\n",
    " \n",
    "        selectedColumnValues.append((matrix[rowNumber][columnNumber],rowNumber))\n",
    " \n",
    "        selectedColumnValues.sort()\n",
    " \n",
    "    #\n",
    "    # Now print out the new matrix - the column value is now not interesting\n",
    "    # we want the row number!!\n",
    "    #\n",
    " \n",
    "    for (columnValue,rowNumber) in selectedColumnValues:  \n",
    "        columnValueStrings = []\n",
    "        for value in matrix[rowNumber]:\n",
    "            columnValueStrings.append(f\"{value:.3f}\")\n",
    "        print(\"\\t\".join(columnValueStrings))\n",
    " \n",
    " \n",
    "sortMatrixByColumn(\"data/matrix.txt\",3)"
   ]
  },
  {
   "cell_type": "markdown",
   "metadata": {},
   "source": [
    "---\n",
    "### 10.2.2 Exercises\n",
    "\n",
    "Modify the program to read in the TestFile.pdb file by using separate functions to \n",
    "1. get the title, \n",
    "2. dissect the information from the ATOM line and \n",
    "3. to calculate the distance to the reference distance\n",
    "\n",
    "---"
   ]
  },
  {
   "cell_type": "code",
   "execution_count": null,
   "metadata": {},
   "outputs": [],
   "source": [
    "def getTitle(line,cols):\n",
    " \n",
    "    # Gets the title\n",
    " \n",
    "    title = line.replace(cols[0],'')\n",
    "    title = title.strip()\n",
    " \n",
    "    return (\"The title is '%s'\" % title)\n",
    " \n",
    "def getAtomInfo(cols):\n",
    " \n",
    "    # Get relevant information from an ATOM line and convert to the right type\n",
    " \n",
    "    atomSerial = int(cols[1])\n",
    "    atomName = cols[2]\n",
    "    residueNumber = int(cols[5])\n",
    "    x = float(cols[6])\n",
    "    y = float(cols[7])\n",
    "    z = float(cols[8])\n",
    " \n",
    "    return (atomSerial,atomName,residueNumber,x,y,z)\n",
    " \n",
    "def calculateDistance(coordinate1,coordinate2):\n",
    " \n",
    "    # Calculate the distance between two 3 dimensional coordinates\n",
    " \n",
    "    return ((coordinate1[0] - coordinate2[0]) ** 2 + (coordinate1[1] - coordinate2[1]) ** 2 + (coordinate1[2] - coordinate2[2]) ** 2 ) ** 0.5\n",
    " \n",
    "\n",
    "# Open the file\n",
    "with open(\"data/TestFile.pdb\") as fileHandle:\n",
    "    # Read all the lines in the file (as separated by a newline character), and store them in the lines list\n",
    "    # Each element in this list corresponds to one line of the file!\n",
    "    lines = fileHandle.readlines()\n",
    "\n",
    "# Initialise some information\n",
    "searchCoordinate = (-8.7,-7.7,4.7)\n",
    "modelNumber = None\n",
    " \n",
    "# Loop over the lines, and do some basic string manipulations\n",
    "for line in lines:\n",
    " \n",
    "    line = line.strip()  # Remove starting and trailing spaces/tabs/newlines\n",
    " \n",
    "    # Only do something if it's not an empty line\n",
    "    if line:\n",
    "        cols = line.split()   # Split the line by white spaces; depending on the format this could be commas, ...\n",
    " \n",
    "        # Print off the title\n",
    "        if cols[0] == 'TITLE':\n",
    "            print(getTitle(line,cols))\n",
    " \n",
    "        # Track the model number\n",
    "        elif cols[0] == 'MODEL':\n",
    "            modelNumber = int(cols[1])\n",
    " \n",
    "        # For atom lines, calculate the distance\n",
    "        elif cols[0] == 'ATOM':\n",
    "            (atomSerial,atomName,residueNumber,x,y,z) = getAtomInfo(cols)\n",
    " \n",
    "            # Calculate the distance\n",
    "            distance = calculateDistance((x,y,z),searchCoordinate)\n",
    " \n",
    "            if distance < 2.0:\n",
    "                print(f\"Model {modelNumber}, residue {residueNumber}, atom {atomName} (serial {atomSerial}) is {distance:.2f} away from reference.\")"
   ]
  },
  {
   "cell_type": "markdown",
   "metadata": {},
   "source": [
    "Compared to the original program it is much easier to see what is going on here. Also, the calculateDistance() function is relevant for any other piece of code where you want to calculate distances between two 3D coordinates - it's not embedded in this bit of code any more and is useful anywhere that you need to do this."
   ]
  },
  {
   "cell_type": "markdown",
   "metadata": {},
   "source": [
    "\n",
    "---\n",
    "### 11.4.1 Exercises\n",
    "\n",
    "Make a new directory in which you write out 5 files with a 2 second delay. Each file should contain the date and time when it was originally written out.\n",
    "\n",
    "---\n"
   ]
  },
  {
   "cell_type": "code",
   "execution_count": 27,
   "metadata": {},
   "outputs": [
    {
     "name": "stdout",
     "output_type": "stream",
     "text": [
      "Written file timeTest\\myFile1.txt...\n",
      "Written file timeTest\\myFile2.txt...\n",
      "Written file timeTest\\myFile3.txt...\n",
      "Written file timeTest\\myFile4.txt...\n",
      "Written file timeTest\\myFile5.txt...\n"
     ]
    }
   ],
   "source": [
    "# 1\n",
    "import time, os\n",
    " \n",
    "\n",
    "# Create a variable for the directory name\n",
    "myDir = \"timeTest\"\n",
    "\n",
    "# Check whether the directory exists, if not create it\n",
    "if not os.path.exists(myDir):\n",
    "    os.mkdir(myDir)\n",
    "\n",
    "\n",
    "# Loop from 1 to 5\n",
    "for i in range(1,6):\n",
    "\n",
    "    # Get the current time\n",
    "    currentTime = time.ctime()\n",
    "\n",
    "    # Write out the file - use i to give a different name to each\n",
    "    filePath = os.path.join(myDir,f\"myFile{i}.txt\")\n",
    "\n",
    "    with open(filePath,'w') as outFileHandle:\n",
    "        outFileHandle.write(f\"{currentTime}\\n\")\n",
    "\n",
    "    print(f\"Written file {filePath}...\")\n",
    "\n",
    "    # Sleep for 2 seconds\n",
    "    time.sleep(2)"
   ]
  },
  {
   "cell_type": "markdown",
   "metadata": {},
   "source": [
    "---\n",
    "### 11.4.2 Exercises\n",
    "\n",
    "Write a function to read in a FASTA file with an RNA sequence and return the RNA sequence (in 3 base unit chunks).\n",
    "\n",
    "---"
   ]
  },
  {
   "cell_type": "code",
   "execution_count": 7,
   "metadata": {},
   "outputs": [
    {
     "name": "stdout",
     "output_type": "stream",
     "text": [
      "('myRNAname', 'Here is a description of my sequence.', ['CAA', 'CCU', 'ACU', 'AGA', 'AGU', 'GUC', 'CUU', 'AUU', 'ACA', 'UUU', 'CAG', 'GAA', 'CCA', 'UGC', 'CAA', 'AUA', 'GGG', 'UGG', 'CUG', 'CCC', 'AAU', 'ACA', 'ACC', 'AGG', 'UUU', 'GUC', 'UUC', 'AGA', 'UCC', 'AAU', 'UGU', 'ACU', 'GCU', 'GUC', 'UGU', 'CCG', 'GUU', 'CAU', 'UUG', 'UAU', 'ACU', 'ACA', 'UUU', 'UCU', 'ACU'])\n"
     ]
    }
   ],
   "source": [
    "# 2 \n",
    "import os\n",
    " \n",
    "def readRnaFastaFile(fileName):\n",
    " \n",
    "    if not os.path.exists(fileName):\n",
    "        print(f\"Error: File {fileName} not available!\")\n",
    "        return (None,None,None)\n",
    "\n",
    "    with open(fileName) as fconnect:\n",
    "        lines = fconnect.readlines()\n",
    "\n",
    "    sequenceInfo = []\n",
    "    moleculeName = None\n",
    "    description = None\n",
    "\n",
    "    # Get information from the first line - ignore the >\n",
    "    firstLine = lines[0]\n",
    "    firstLineCols = firstLine[1:].split()\n",
    "    moleculeName = firstLineCols[0]\n",
    "    description = firstLine[1:].replace(moleculeName,'').strip()\n",
    "\n",
    "    # Now get the full sequence out\n",
    "    fullSequence = \"\"\n",
    "    for line in lines[1:]:\n",
    "\n",
    "        line = line.strip()\n",
    "        fullSequence += line\n",
    "\n",
    "    # Divide up the sequence depending on type (amino acid or nucleic acid)\n",
    "    for seqIndex in range(0,len(fullSequence),3):\n",
    "        sequenceInfo.append(fullSequence[seqIndex:seqIndex+3])\n",
    "\n",
    "    return (moleculeName,description,sequenceInfo)\n",
    "\n",
    "\n",
    "print(readRnaFastaFile(\"data/rnaSeq.txt\"))"
   ]
  },
  {
   "cell_type": "markdown",
   "metadata": {},
   "source": [
    "---\n",
    "### 11.4.3 Exercises\n",
    "\n",
    "Write a program where you ask the user for a one-letter amino acid sequence, and print out the three-letter amino acid codes. Download the dictionary from section 8.2 and save it as a module named SequenceDicts.py first.\n",
    "\n",
    "---"
   ]
  },
  {
   "cell_type": "code",
   "execution_count": 28,
   "metadata": {},
   "outputs": [
    {
     "ename": "ModuleNotFoundError",
     "evalue": "No module named 'modules'",
     "output_type": "error",
     "traceback": [
      "\u001b[1;31m---------------------------------------------------------------------------\u001b[0m",
      "\u001b[1;31mModuleNotFoundError\u001b[0m                       Traceback (most recent call last)",
      "\u001b[1;32m<ipython-input-28-83bcc157b5e5>\u001b[0m in \u001b[0;36m<module>\u001b[1;34m\u001b[0m\n\u001b[0;32m      2\u001b[0m \u001b[1;31m# Note how you can import a function (or variable) with a different name for your program!\u001b[0m\u001b[1;33m\u001b[0m\u001b[1;33m\u001b[0m\u001b[1;33m\u001b[0m\u001b[0m\n\u001b[0;32m      3\u001b[0m \u001b[1;33m\u001b[0m\u001b[0m\n\u001b[1;32m----> 4\u001b[1;33m \u001b[1;32mfrom\u001b[0m \u001b[0mmodules\u001b[0m\u001b[1;33m.\u001b[0m\u001b[0mSequenceDicts\u001b[0m \u001b[1;32mimport\u001b[0m \u001b[0mproteinOneToThree\u001b[0m \u001b[1;32mas\u001b[0m \u001b[0moneToThreeLetterCodes\u001b[0m\u001b[1;33m\u001b[0m\u001b[1;33m\u001b[0m\u001b[0m\n\u001b[0m\u001b[0;32m      5\u001b[0m \u001b[1;33m\u001b[0m\u001b[0m\n\u001b[0;32m      6\u001b[0m \u001b[0moneLetterSeq\u001b[0m \u001b[1;33m=\u001b[0m \u001b[0minput\u001b[0m\u001b[1;33m(\u001b[0m\u001b[1;34m'Give one letter sequence:'\u001b[0m\u001b[1;33m)\u001b[0m\u001b[1;33m\u001b[0m\u001b[1;33m\u001b[0m\u001b[0m\n",
      "\u001b[1;31mModuleNotFoundError\u001b[0m: No module named 'modules'"
     ]
    }
   ],
   "source": [
    "# 3\n",
    "# Note how you can import a function (or variable) with a different name for your program!\n",
    "\n",
    "from modules.SequenceDicts import proteinOneToThree as oneToThreeLetterCodes\n",
    "\n",
    "oneLetterSeq = input('Give one letter sequence:')\n",
    " \n",
    "if oneLetterSeq:\n",
    "    for oneLetterCode in oneLetterSeq:\n",
    "        if oneLetterCode in oneToThreeLetterCodes.keys():\n",
    "            print(oneToThreeLetterCodes[oneLetterCode])\n",
    "        else:\n",
    "            print(f\"One letter code '{oneLetterCode}' is not a valid amino acid code!\")\n",
    "else:\n",
    "    print(\"You didn't give me any information!\")"
   ]
  },
  {
   "cell_type": "markdown",
   "metadata": {},
   "source": [
    "---\n",
    "### 11.4.4 Exercises\n",
    "\n",
    "Write a program where you translate the RNA sequence `data/rnaSeq.txt` into 3 letter amino acid codes. Use the dictionary from section 8.2 (called myDictionary) and save it as a module named SequenceDicts.py first. You can use the `readFasta.py` module from the modules folder. \n",
    "\n",
    "---"
   ]
  },
  {
   "cell_type": "code",
   "execution_count": null,
   "metadata": {},
   "outputs": [],
   "source": [
    "from modules.SequenceDicts import standardRnaToProtein, proteinOneToThree\n",
    "\n",
    "from modules.readFasta import readRnaFastaFile\n",
    "\n",
    "(molName,description,sequenceInfo) = readRnaFastaFile(\"data/rnaSeq.txt\")\n",
    "proteinThreeLetterSeq = []\n",
    "\n",
    "for rnaCodon in sequenceInfo:\n",
    "\n",
    "    aaOneLetterCode = standardRnaToProtein[rnaCodon]\n",
    "    aaThreeLetterCode = proteinOneToThree[aaOneLetterCode]\n",
    "    proteinThreeLetterSeq.append(aaThreeLetterCode)\n",
    "\n",
    "print(proteinThreeLetterSeq)"
   ]
  },
  {
   "cell_type": "markdown",
   "metadata": {},
   "source": [
    "---\n",
    "### 11.4.5 Exercises\n",
    "\n",
    "Write a program that:\n",
    "- Has a function `readSampleInformationFile()` to read the information from this sample data file into a dictionary. Also check whether the file exists.\n",
    "- Has a function `getSampleIdsForValueRange()` that can extract sample IDs from this dictionary. Print the sample IDs for pH 6.0-7.0, temperature 280-290 and volume 200-220 using this function.\n",
    "\n",
    "---"
   ]
  },
  {
   "cell_type": "code",
   "execution_count": null,
   "metadata": {},
   "outputs": [],
   "source": [
    "import os\n",
    " \n",
    "def readSampleInformationFile(fileName):\n",
    " \n",
    "    # Read in the sample information file in .csv (comma-delimited) format\n",
    "\n",
    "    # Doublecheck if file exists\n",
    "    if not os.path.exists(fileName):\n",
    "        print(f\"File {fileName} does not exist!\")\n",
    "        return None\n",
    " \n",
    "    # Open the file and read the information\n",
    "    with open(fileName) as fileHandle:\n",
    "        lines = fileHandle.readlines()\n",
    "\n",
    "    # Now read the information. The first line has the header information which\n",
    "    # we are going to use to create the dictionary!\n",
    "\n",
    "    fileInfoDict = {}\n",
    "\n",
    "    headerCols = lines[0].strip().split(',')\n",
    "\n",
    "    # Now read in the information, use the first column as the key for the dictionary\n",
    "    # Note that you could organise this differently by creating a dictionary with\n",
    "    # the header names as keys, then a list of the values for each of the columns.\n",
    "\n",
    "    for line in lines[1:]:\n",
    " \n",
    "        line = line.strip()  # Remove newline characters\n",
    "        cols = line.split(',')\n",
    "\n",
    "        sampleId = int(cols[0])\n",
    "\n",
    "        fileInfoDict[sampleId] = {}\n",
    "\n",
    "        # Don't use the first column, is already the key!\n",
    "        for i in range(1,len(headerCols)):\n",
    "            valueName = headerCols[i]\n",
    " \n",
    "            value = cols[i]\n",
    "            if valueName in ('pH','temperature','volume'):\n",
    "                value = float(value)\n",
    "\n",
    "            fileInfoDict[sampleId][valueName] = value\n",
    "\n",
    "    # Return the dictionary with the file information\n",
    "    return fileInfoDict\n",
    "\n",
    "def getSampleIdsForValueRange(fileInfoDict,valueName,lowValue,highValue):\n",
    " \n",
    "    # Return the sample IDs that fit within the given value range for a kind of value\n",
    " \n",
    "    #sampleIdList = fileInfoDict.keys()\n",
    "    #sampleIdList.sort()\n",
    "    sampleIdList = sorted(fileInfoDict.keys())\n",
    "    sampleIdsFound = []\n",
    "\n",
    "    for sampleId in sampleIdList:\n",
    "\n",
    "        currentValue = fileInfoDict[sampleId][valueName]\n",
    " \n",
    "        if lowValue <= currentValue <= highValue:\n",
    "            sampleIdsFound.append(sampleId)\n",
    " \n",
    "    return sampleIdsFound\n",
    " \n",
    "if __name__ == '__main__':\n",
    " \n",
    "    fileInfoDict = readSampleInformationFile(\"../data/SampleInfo.txt\")\n",
    "\n",
    "    print(getSampleIdsForValueRange(fileInfoDict,'pH',6.0,7.0))\n",
    "    print(getSampleIdsForValueRange(fileInfoDict,'temperature',280,290))\n",
    "    print(getSampleIdsForValueRange(fileInfoDict,'volume',200,220))"
   ]
  }
 ],
 "metadata": {
  "kernelspec": {
   "display_name": "Python 3",
   "language": "python",
   "name": "python3"
  },
  "language_info": {
   "codemirror_mode": {
    "name": "ipython",
    "version": 3
   },
   "file_extension": ".py",
   "mimetype": "text/x-python",
   "name": "python",
   "nbconvert_exporter": "python",
   "pygments_lexer": "ipython3",
   "version": "3.8.3"
  }
 },
 "nbformat": 4,
 "nbformat_minor": 2
}
